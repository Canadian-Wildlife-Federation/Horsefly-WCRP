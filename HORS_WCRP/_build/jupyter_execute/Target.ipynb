{
 "cells": [
  {
   "cell_type": "markdown",
   "metadata": {},
   "source": [
    "# Target species"
   ]
  },
  {
   "cell_type": "markdown",
   "metadata": {},
   "source": [
    "Target species represent the ecologically and culturally important species for which habitat connectivity is being conserved and/or restored in the watershed. In the Horsefly River watershed, the planning team selected Anadromous Salmon as the target species group, which comprises Chinook Salmon, Coho Salmon, and Sockeye Salmon. The selection of these target species was driven primarily by the targets species of the primary fund supporting this planning work. "
   ]
  },
  {
   "cell_type": "markdown",
   "metadata": {},
   "source": [
    "### Anadromous Salmonids"
   ]
  },
  {
   "cell_type": "markdown",
   "metadata": {},
   "source": [
    "Anadromous salmon are cultural and ecological keystone species that contribute to productive ecosystems by contributing marine-derived nutrients to the watershed and forming an important food source for other species. Salmon species are sacred to the NStQ, having sustained life, trading economies, and culture since time immemorial (Williams Lake First Nation 2021, Xatśūll First Nation 2021, N. Singi pers. comm.). The stewardship of the resources and fisheries in their traditional territories are imbued in the spirit of the NStQ through a symbiotic relationship based on respect – the NStQ never take more salmon than is needed and there is no waste. The entirety of the salmon is used - smoked and dried to sustain the NStQ through the winter months, the roe harvested for consumption, salmon oil rendered to be stored and traded, and the skin used to store the oil (Wilson et al. 1998, Xatśūll First Nation 2021, N. Singi pers. comm.). The salmon runs begin to return to the Horsefly River watershed in early August, and the NStQ traditionally celebrate and feast at this time. The harvest of the salmon strengthens the cultural connection to the land and the waters, providing an important food source for communities and the opportunity to pass knowledge and ceremony to future generations through fishing and fish processing (Xatśūll First Nation 2021, Williams Lake First Nation 2021). \n",
    "\n",
    "Anadromous salmon populations in the Horsefly River watershed have declined significantly in the past few decades, with the populations of all three focal species being listed as Threatened or Endangered by the Committee On the Status of Endangered Wildlife In Canada (COSEWIC). This has been exacerbated by the Big Bar landslide on the Fraser River in 2019, leading the four NStQ communities to voluntarily close the salmon fishery from 2019-2022. The stewardship of their waters continues through the work of the NStQ member communities and the Northern Shuswap Tribal Council. See Appendix A for maps of modelled anadromous salmon habitat in the Horsefly River Watershed. "
   ]
  },
  {
   "cell_type": "markdown",
   "metadata": {},
   "source": [
    "### Chinook Salmon | Kekèsu | Oncorhynchus tshawytscha "
   ]
  },
  {
   "cell_type": "markdown",
   "metadata": {},
   "source": [
    "Table 4. Chinook Salmon population assessments in the Horsefly River watershed. Conservation Unit assessments were undertaken by the [Pacific Salmon Foundation](https://www.salmonexplorer.ca/#!/fraser/chinook/middle-fraser-river-spring-5-2) ([2020](https://salmonwatersheds.ca/libraryfiles/lib_459.pdf)). Designated Unit assessments were undertaken by [COSEWIC](https://www.canada.ca/en/environment-climate-change/services/species-risk-public-registry/cosewic-assessments-status-reports/chinook-salmon-2018.html) (2018)."
   ]
  },
  {
   "cell_type": "code",
   "execution_count": 1,
   "metadata": {
    "tags": [
     "remove-input"
    ]
   },
   "outputs": [
    {
     "data": {
      "text/html": [
       "<style  type=\"text/css\" >\n",
       "</style><table id=\"T_e8084c62_4a3f_11ed_a04c_d4548bb590b3\" ><thead>    <tr>        <th class=\"col_heading level0 col0\" >Conservation Unit</th>        <th class=\"col_heading level0 col1\" >Biological Status</th>        <th class=\"col_heading level0 col2\" >Run timing</th>        <th class=\"col_heading level0 col3\" >Trend in spawner abundance (all available data)</th>        <th class=\"col_heading level0 col4\" >Trend in spawner abundance (last 3 generations)</th>    </tr></thead><tbody>\n",
       "                <tr>\n",
       "                                <td id=\"T_e8084c62_4a3f_11ed_a04c_d4548bb590b3row0_col0\" class=\"data row0 col0\" >Middle Fraser River (Spring 5-2, 1.3)</td>\n",
       "                        <td id=\"T_e8084c62_4a3f_11ed_a04c_d4548bb590b3row0_col1\" class=\"data row0 col1\" >Data Deficient/Poor</td>\n",
       "                        <td id=\"T_e8084c62_4a3f_11ed_a04c_d4548bb590b3row0_col2\" class=\"data row0 col2\" >Data Deficient</td>\n",
       "                        <td id=\"T_e8084c62_4a3f_11ed_a04c_d4548bb590b3row0_col3\" class=\"data row0 col3\" >Data Deficient</td>\n",
       "                        <td id=\"T_e8084c62_4a3f_11ed_a04c_d4548bb590b3row0_col4\" class=\"data row0 col4\" >Data Deficient</td>\n",
       "            </tr>\n",
       "    </tbody></table>"
      ],
      "text/plain": [
       "<pandas.io.formats.style.Styler at 0x29a5fb64d48>"
      ]
     },
     "metadata": {},
     "output_type": "display_data"
    }
   ],
   "source": [
    "\n",
    "\n",
    "from IPython.display import display, HTML\n",
    "import pandas as pd\n",
    "\n",
    "data = pd.read_csv('tables\\Chinook1.csv', index_col=False).style.hide_index()\n",
    "\n",
    "display(data)\n"
   ]
  },
  {
   "cell_type": "code",
   "execution_count": 2,
   "metadata": {
    "tags": [
     "remove-input"
    ]
   },
   "outputs": [
    {
     "data": {
      "text/html": [
       "<style  type=\"text/css\" >\n",
       "</style><table id=\"T_e80e3ed8_4a3f_11ed_b586_d4548bb590b3\" ><thead>    <tr>        <th class=\"col_heading level0 col0\" >COSEWIC Designated Unit</th>        <th class=\"col_heading level0 col1\" >Status</th>        <th class=\"col_heading level0 col2\" >Trend</th>        <th class=\"col_heading level0 col3\" >Median percent change (last 3 generations)</th>        <th class=\"col_heading level0 col4\" >Median percent change (historic)</th>        <th class=\"col_heading level0 col5\" >Generation length</th>    </tr></thead><tbody>\n",
       "                <tr>\n",
       "                                <td id=\"T_e80e3ed8_4a3f_11ed_b586_d4548bb590b3row0_col0\" class=\"data row0 col0\" >9- Middle Fraser, Stream, Spring (MFR+GStr) population</td>\n",
       "                        <td id=\"T_e80e3ed8_4a3f_11ed_b586_d4548bb590b3row0_col1\" class=\"data row0 col1\" >Threatened</td>\n",
       "                        <td id=\"T_e80e3ed8_4a3f_11ed_b586_d4548bb590b3row0_col2\" class=\"data row0 col2\" >Declining</td>\n",
       "                        <td id=\"T_e80e3ed8_4a3f_11ed_b586_d4548bb590b3row0_col3\" class=\"data row0 col3\" >-28%</td>\n",
       "                        <td id=\"T_e80e3ed8_4a3f_11ed_b586_d4548bb590b3row0_col4\" class=\"data row0 col4\" >-49%</td>\n",
       "                        <td id=\"T_e80e3ed8_4a3f_11ed_b586_d4548bb590b3row0_col5\" class=\"data row0 col5\" >4.5 years</td>\n",
       "            </tr>\n",
       "    </tbody></table>"
      ],
      "text/plain": [
       "<pandas.io.formats.style.Styler at 0x29a5fb77608>"
      ]
     },
     "metadata": {},
     "output_type": "display_data"
    }
   ],
   "source": [
    "data = pd.read_csv('tables\\Chinook2.csv', index_col=False).style.hide_index()\n",
    "\n",
    "display(data)"
   ]
  },
  {
   "cell_type": "markdown",
   "metadata": {},
   "source": [
    "Chinook Salmon are the first to return each year, usually in early August (DFO 1991), and have the most limited distribution within the watershed. Known spawning occurs in parts of the Horsefly River mainstem above the confluence with the Little Horsefly River and throughout McKinley Creek as far as Elbow Lake (DFO 1991, S. Hocquard, pers. comm.). Important rearing systems include Patenaude Creek, Kroener Creek, Black Creek, Woodjam Creek, Deerhorn Creek, and Wilmot Creek (S. Hocquard, pers. comm.)."
   ]
  },
  {
   "cell_type": "markdown",
   "metadata": {},
   "source": [
    "# Coho Salmon | Sxeyqs | Oncorhynchus kisutch\n",
    "\n",
    "Table 5. Coho Salmon population assessments in the Horsefly River watershed. Conservation Unit assessments were undertaken by the [Pacific Salmon Foundation](https://www.salmonexplorer.ca/#!/fraser/chinook/middle-fraser-river-spring-5-2) ([2020](https://salmonwatersheds.ca/libraryfiles/lib_459.pdf)). Designated Unit assessments were undertaken by [COSEWIC](https://www.canada.ca/en/environment-climate-change/services/species-risk-public-registry/cosewic-assessments-status-reports/chinook-salmon-2018.html) (2016).\n"
   ]
  },
  {
   "cell_type": "code",
   "execution_count": 3,
   "metadata": {
    "tags": [
     "remove-input"
    ]
   },
   "outputs": [
    {
     "data": {
      "text/html": [
       "<style  type=\"text/css\" >\n",
       "</style><table id=\"T_e81202ac_4a3f_11ed_ac1c_d4548bb590b3\" ><thead>    <tr>        <th class=\"col_heading level0 col0\" >Conservation Unit</th>        <th class=\"col_heading level0 col1\" >Biological Status</th>        <th class=\"col_heading level0 col2\" >Run timing</th>        <th class=\"col_heading level0 col3\" >Trend in spawner abundance (all available data)</th>        <th class=\"col_heading level0 col4\" >Trend in spawner abundance (last 3 generations)</th>    </tr></thead><tbody>\n",
       "                <tr>\n",
       "                                <td id=\"T_e81202ac_4a3f_11ed_ac1c_d4548bb590b3row0_col0\" class=\"data row0 col0\" >Interior Fraser</td>\n",
       "                        <td id=\"T_e81202ac_4a3f_11ed_ac1c_d4548bb590b3row0_col1\" class=\"data row0 col1\" >Data Deficient/Fair</td>\n",
       "                        <td id=\"T_e81202ac_4a3f_11ed_ac1c_d4548bb590b3row0_col2\" class=\"data row0 col2\" >Data Deficient</td>\n",
       "                        <td id=\"T_e81202ac_4a3f_11ed_ac1c_d4548bb590b3row0_col3\" class=\"data row0 col3\" >Data Deficient</td>\n",
       "                        <td id=\"T_e81202ac_4a3f_11ed_ac1c_d4548bb590b3row0_col4\" class=\"data row0 col4\" >Data Deficient</td>\n",
       "            </tr>\n",
       "    </tbody></table>"
      ],
      "text/plain": [
       "<pandas.io.formats.style.Styler at 0x29a631a5d88>"
      ]
     },
     "metadata": {},
     "output_type": "display_data"
    }
   ],
   "source": [
    "data = pd.read_csv('tables\\coho1.csv', index_col=False).style.hide_index()\n",
    "\n",
    "display(data)\n"
   ]
  },
  {
   "cell_type": "code",
   "execution_count": 4,
   "metadata": {
    "tags": [
     "remove-input"
    ]
   },
   "outputs": [
    {
     "data": {
      "text/html": [
       "<style  type=\"text/css\" >\n",
       "</style><table id=\"T_e8184500_4a3f_11ed_92ce_d4548bb590b3\" ><thead>    <tr>        <th class=\"col_heading level0 col0\" >COSEWIC Designated Unit</th>        <th class=\"col_heading level0 col1\" >Status</th>        <th class=\"col_heading level0 col2\" >Trend</th>        <th class=\"col_heading level0 col3\" >Median percent change (last 3 generations)</th>        <th class=\"col_heading level0 col4\" >Median percent change (historic)</th>        <th class=\"col_heading level0 col5\" >Generation length</th>    </tr></thead><tbody>\n",
       "                <tr>\n",
       "                                <td id=\"T_e8184500_4a3f_11ed_92ce_d4548bb590b3row0_col0\" class=\"data row0 col0\" >Interior Fraser – Mid/Upper Fraser population</td>\n",
       "                        <td id=\"T_e8184500_4a3f_11ed_92ce_d4548bb590b3row0_col1\" class=\"data row0 col1\" >Threatened</td>\n",
       "                        <td id=\"T_e8184500_4a3f_11ed_92ce_d4548bb590b3row0_col2\" class=\"data row0 col2\" >Declining</td>\n",
       "                        <td id=\"T_e8184500_4a3f_11ed_92ce_d4548bb590b3row0_col3\" class=\"data row0 col3\" >Not estimated</td>\n",
       "                        <td id=\"T_e8184500_4a3f_11ed_92ce_d4548bb590b3row0_col4\" class=\"data row0 col4\" >+119% estimated based on last 10 years of escapement data-21% estimated based on entire escapement time series</td>\n",
       "                        <td id=\"T_e8184500_4a3f_11ed_92ce_d4548bb590b3row0_col5\" class=\"data row0 col5\" >3 years</td>\n",
       "            </tr>\n",
       "    </tbody></table>"
      ],
      "text/plain": [
       "<pandas.io.formats.style.Styler at 0x29a631c28c8>"
      ]
     },
     "metadata": {},
     "output_type": "display_data"
    }
   ],
   "source": [
    "data = pd.read_csv('tables\\coho2.csv', index_col=False).style.hide_index()\n",
    "\n",
    "display(data)\n"
   ]
  },
  {
   "cell_type": "markdown",
   "metadata": {},
   "source": [
    "Coho Salmon are the most widely distributed of the three focal species in the watershed, with the ability to migrate into smaller, upper tributary systems (DFO 1991). Spawning occurs in the Little Horsefly River between Gruhs Lake and Horsefly Lake, McKinley Creek below McKinley Lake, Woodjam Creek, Patenaude Creek, Tisdall Creek, and Black Creek. Rearing fry and juveniles have been observed in the Little Horsefly River, Patenaude Creek, and McKinley Creek up to Bosk Lake (DFO 1991, S. Hocquard pers. comm.).\n",
    "\n",
    "# Sockeye Salmon | Sqlelten7ùwi | Oncorhynchus nerka\n",
    "\n",
    "Table 6. Sockeye Salmon population assessments in the Horsefly River watershed. Conservation Unit assessments were undertaken by the [Pacific Salmon Foundation](https://www.salmonexplorer.ca/#!/fraser/chinook/middle-fraser-river-spring-5-2) ([2020](https://salmonwatersheds.ca/libraryfiles/lib_459.pdf)). Designated Unit assessments were undertaken by [COSEWIC](https://www.canada.ca/en/environment-climate-change/services/species-risk-public-registry/cosewic-assessments-status-reports/chinook-salmon-2018.html) (2017)."
   ]
  },
  {
   "cell_type": "code",
   "execution_count": 5,
   "metadata": {
    "tags": [
     "remove-input"
    ]
   },
   "outputs": [
    {
     "data": {
      "text/html": [
       "<style  type=\"text/css\" >\n",
       "</style><table id=\"T_e81d97a2_4a3f_11ed_93f4_d4548bb590b3\" ><thead>    <tr>        <th class=\"col_heading level0 col0\" >Conservation Unit</th>        <th class=\"col_heading level0 col1\" >Biological Status</th>        <th class=\"col_heading level0 col2\" >Run timing</th>        <th class=\"col_heading level0 col3\" >Trend in spawner abundance (all generations)</th>        <th class=\"col_heading level0 col4\" >Trend in spawner abundance (last 3 generations)</th>    </tr></thead><tbody>\n",
       "                <tr>\n",
       "                                <td id=\"T_e81d97a2_4a3f_11ed_93f4_d4548bb590b3row0_col0\" class=\"data row0 col0\" >Quesnel-Summer (cyclic)</td>\n",
       "                        <td id=\"T_e81d97a2_4a3f_11ed_93f4_d4548bb590b3row0_col1\" class=\"data row0 col1\" >Data Deficient/Fair-Poor</td>\n",
       "                        <td id=\"T_e81d97a2_4a3f_11ed_93f4_d4548bb590b3row0_col2\" class=\"data row0 col2\" >July-September</td>\n",
       "                        <td id=\"T_e81d97a2_4a3f_11ed_93f4_d4548bb590b3row0_col3\" class=\"data row0 col3\" >Data Deficient</td>\n",
       "                        <td id=\"T_e81d97a2_4a3f_11ed_93f4_d4548bb590b3row0_col4\" class=\"data row0 col4\" >Data Deficient</td>\n",
       "            </tr>\n",
       "    </tbody></table>"
      ],
      "text/plain": [
       "<pandas.io.formats.style.Styler at 0x29a630d2d48>"
      ]
     },
     "metadata": {},
     "output_type": "display_data"
    }
   ],
   "source": [
    "data = pd.read_csv('tables\\Sockeye1.csv', index_col=False).style.hide_index()\n",
    "\n",
    "display(data)"
   ]
  },
  {
   "cell_type": "code",
   "execution_count": 6,
   "metadata": {
    "tags": [
     "remove-input"
    ]
   },
   "outputs": [
    {
     "data": {
      "text/html": [
       "<style  type=\"text/css\" >\n",
       "</style><table id=\"T_e8215a98_4a3f_11ed_a5a4_d4548bb590b3\" ><thead>    <tr>        <th class=\"col_heading level0 col0\" >COSEWIC Designated Unit</th>        <th class=\"col_heading level0 col1\" >Status</th>        <th class=\"col_heading level0 col2\" >Trend</th>        <th class=\"col_heading level0 col3\" >Median percent change (last 3 generations)</th>        <th class=\"col_heading level0 col4\" >Median percent change (historic)</th>        <th class=\"col_heading level0 col5\" >Generation length</th>    </tr></thead><tbody>\n",
       "                <tr>\n",
       "                                <td id=\"T_e8215a98_4a3f_11ed_a5a4_d4548bb590b3row0_col0\" class=\"data row0 col0\" >16 -Quesnel-S population</td>\n",
       "                        <td id=\"T_e8215a98_4a3f_11ed_a5a4_d4548bb590b3row0_col1\" class=\"data row0 col1\" >Endangered</td>\n",
       "                        <td id=\"T_e8215a98_4a3f_11ed_a5a4_d4548bb590b3row0_col2\" class=\"data row0 col2\" >Declining</td>\n",
       "                        <td id=\"T_e8215a98_4a3f_11ed_a5a4_d4548bb590b3row0_col3\" class=\"data row0 col3\" >260,974</td>\n",
       "                        <td id=\"T_e8215a98_4a3f_11ed_a5a4_d4548bb590b3row0_col4\" class=\"data row0 col4\" >-97%</td>\n",
       "                        <td id=\"T_e8215a98_4a3f_11ed_a5a4_d4548bb590b3row0_col5\" class=\"data row0 col5\" >272%</td>\n",
       "            </tr>\n",
       "    </tbody></table>"
      ],
      "text/plain": [
       "<pandas.io.formats.style.Styler at 0x29a63151dc8>"
      ]
     },
     "metadata": {},
     "output_type": "display_data"
    }
   ],
   "source": [
    "data = pd.read_csv('tables\\Sockeye2.csv', index_col=False).style.hide_index()\n",
    "\n",
    "display(data)"
   ]
  },
  {
   "cell_type": "markdown",
   "metadata": {},
   "source": [
    "Sockeye Salmon have historically been the most abundant of the three focal species in the watershed, though the population has seen significant declines in recent years (DFO 1991, S. Hocquard pers. comm.). Sockeye Salmon spawning is known to occur throughout the Horsefly River (up to the impassable falls), in the Little Horsefly River between Gruhs Lake and Horsefly Lake, Moffat Creek (up to the impassible falls), and McKinley Creek up to Elbow Lake (PSF 2018, DFO 1991, S. Hocquard pers. comm.). Additionally, a spawning channel aimed at enhancing the Sockeye Salmon population was constructed by Fisheries and Oceans Canada in 1989 (DFO 1991). Currently, there are no Sockeye Salmon rearing in the Horsefly River watershed – all emergent fry migrate down to Quesnel Lake."
   ]
  }
 ],
 "metadata": {
  "kernelspec": {
   "display_name": "Python 3.9.12 ('base')",
   "language": "python",
   "name": "python3"
  },
  "language_info": {
   "codemirror_mode": {
    "name": "ipython",
    "version": 3
   },
   "file_extension": ".py",
   "mimetype": "text/x-python",
   "name": "python",
   "nbconvert_exporter": "python",
   "pygments_lexer": "ipython3",
   "version": "3.7.12"
  },
  "vscode": {
   "interpreter": {
    "hash": "1a691173e7a62553180679e561c07fad99f81da18576315296ff93022e033d3e"
   }
  }
 },
 "nbformat": 4,
 "nbformat_minor": 2
}