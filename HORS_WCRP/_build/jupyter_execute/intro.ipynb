{
 "cells": [
  {
   "cell_type": "code",
   "execution_count": 1,
   "metadata": {
    "tags": [
     "remove-input"
    ]
   },
   "outputs": [],
   "source": [
    "from docx import Document\n",
    "from myst_nb import glue\n",
    "from IPython.display import display, Markdown, display_markdown\n",
    "from functions import head2txt\n",
    "import pandas as pd\n",
    "import markdown\n",
    "\n",
    "# def pasteMD(filename):\n",
    "#     def breakFun(x):\n",
    "#         if len(x) == 0:\n",
    "#             return(\"\\n\\n\")\n",
    "#         else:\n",
    "#             return(x)\n",
    "\n",
    "#     storeLines = filename.readlines()\n",
    "\n",
    "#     print(storeLines)   \n",
    "    \n",
    "#     #str.cat(print(map(storeLines, FUN=function(x) breakFun(x))))\n",
    "\n",
    "# pasteMD(\"markdown-file.md\")\n",
    "\n",
    "\n",
    "#display_markdown(Markdown(\"markdown-file.md\"))\n"
   ]
  },
  {
   "attachments": {},
   "cell_type": "markdown",
   "metadata": {},
   "source": [
    "```{include} /markdown-file.md\n",
    "```"
   ]
  }
 ],
 "metadata": {
  "kernelspec": {
   "display_name": "Python 3.7.12 ('test')",
   "language": "python",
   "name": "python3"
  },
  "language_info": {
   "codemirror_mode": {
    "name": "ipython",
    "version": 3
   },
   "file_extension": ".py",
   "mimetype": "text/x-python",
   "name": "python",
   "nbconvert_exporter": "python",
   "pygments_lexer": "ipython3",
   "version": "3.7.12"
  },
  "vscode": {
   "interpreter": {
    "hash": "4d32f471e4c787df35246a436d6b5da50fcc80632abe0dd119be69a8b3537624"
   }
  }
 },
 "nbformat": 4,
 "nbformat_minor": 2
}