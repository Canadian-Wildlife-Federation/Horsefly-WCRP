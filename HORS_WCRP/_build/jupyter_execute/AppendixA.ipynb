{
 "cells": [
  {
   "cell_type": "markdown",
   "metadata": {},
   "source": [
    "# Appendix A"
   ]
  },
  {
   "attachments": {},
   "cell_type": "markdown",
   "metadata": {},
   "source": [
    "```{include} /content/AppendixA-md.md\n",
    ":start-after: \"# Appendix A\"\n",
    ":end-before: \"## Connectivity Status Assessment Methods\"\n",
    "```"
   ]
  },
  {
   "attachments": {},
   "cell_type": "markdown",
   "metadata": {},
   "source": [
    "```{figure} figures/figure8.png\n",
    "---\n",
    "height: 400px\n",
    "width: 1000px\n",
    "name: fig8\n",
    "---\n",
    "*Horsefly River watershed overview map identifying the portions of the watershed covered by each map sheet (grey squares) and the prioritized barriers on the intermediate barrier list (orange points; see Appendix B).*\n",
    "```"
   ]
  },
  {
   "attachments": {},
   "cell_type": "markdown",
   "metadata": {},
   "source": [
    "## Connectivity Status Assessment Methods\n",
    "\n",
    "```{include} /content/AppendixA-md.md\n",
    ":start-after: \"## Connectivity Status Assessment Methods\"\n",
    "```"
   ]
  },
  {
   "cell_type": "code",
   "execution_count": 1,
   "metadata": {
    "tags": [
     "remove-input",
     "remove-output"
    ]
   },
   "outputs": [
    {
     "data": {
      "text/html": [
       "<style  type=\"text/css\" >\n",
       "    #T_695c66c2_8dda_11ed_afe2_b445066bfd9b th {\n",
       "          text-align: left;\n",
       "    }#T_695c66c2_8dda_11ed_afe2_b445066bfd9brow0_col0,#T_695c66c2_8dda_11ed_afe2_b445066bfd9brow0_col1,#T_695c66c2_8dda_11ed_afe2_b445066bfd9brow0_col2,#T_695c66c2_8dda_11ed_afe2_b445066bfd9brow0_col3,#T_695c66c2_8dda_11ed_afe2_b445066bfd9brow0_col4,#T_695c66c2_8dda_11ed_afe2_b445066bfd9brow0_col5,#T_695c66c2_8dda_11ed_afe2_b445066bfd9brow0_col6,#T_695c66c2_8dda_11ed_afe2_b445066bfd9brow1_col0,#T_695c66c2_8dda_11ed_afe2_b445066bfd9brow1_col1,#T_695c66c2_8dda_11ed_afe2_b445066bfd9brow1_col2,#T_695c66c2_8dda_11ed_afe2_b445066bfd9brow1_col3,#T_695c66c2_8dda_11ed_afe2_b445066bfd9brow1_col4,#T_695c66c2_8dda_11ed_afe2_b445066bfd9brow1_col5,#T_695c66c2_8dda_11ed_afe2_b445066bfd9brow1_col6,#T_695c66c2_8dda_11ed_afe2_b445066bfd9brow2_col0,#T_695c66c2_8dda_11ed_afe2_b445066bfd9brow2_col1,#T_695c66c2_8dda_11ed_afe2_b445066bfd9brow2_col2,#T_695c66c2_8dda_11ed_afe2_b445066bfd9brow2_col3,#T_695c66c2_8dda_11ed_afe2_b445066bfd9brow2_col4,#T_695c66c2_8dda_11ed_afe2_b445066bfd9brow2_col5,#T_695c66c2_8dda_11ed_afe2_b445066bfd9brow2_col6,#T_695c66c2_8dda_11ed_afe2_b445066bfd9brow3_col0,#T_695c66c2_8dda_11ed_afe2_b445066bfd9brow3_col1,#T_695c66c2_8dda_11ed_afe2_b445066bfd9brow3_col2,#T_695c66c2_8dda_11ed_afe2_b445066bfd9brow3_col3,#T_695c66c2_8dda_11ed_afe2_b445066bfd9brow3_col4,#T_695c66c2_8dda_11ed_afe2_b445066bfd9brow3_col5,#T_695c66c2_8dda_11ed_afe2_b445066bfd9brow3_col6,#T_695c66c2_8dda_11ed_afe2_b445066bfd9brow4_col0,#T_695c66c2_8dda_11ed_afe2_b445066bfd9brow4_col1,#T_695c66c2_8dda_11ed_afe2_b445066bfd9brow4_col2,#T_695c66c2_8dda_11ed_afe2_b445066bfd9brow4_col3,#T_695c66c2_8dda_11ed_afe2_b445066bfd9brow4_col4,#T_695c66c2_8dda_11ed_afe2_b445066bfd9brow4_col5,#T_695c66c2_8dda_11ed_afe2_b445066bfd9brow4_col6,#T_695c66c2_8dda_11ed_afe2_b445066bfd9brow5_col0,#T_695c66c2_8dda_11ed_afe2_b445066bfd9brow5_col1,#T_695c66c2_8dda_11ed_afe2_b445066bfd9brow5_col2,#T_695c66c2_8dda_11ed_afe2_b445066bfd9brow5_col3,#T_695c66c2_8dda_11ed_afe2_b445066bfd9brow5_col4,#T_695c66c2_8dda_11ed_afe2_b445066bfd9brow5_col5,#T_695c66c2_8dda_11ed_afe2_b445066bfd9brow5_col6{\n",
       "            text-align:  left;\n",
       "        }</style><table id=\"T_695c66c2_8dda_11ed_afe2_b445066bfd9b\" ><thead>    <tr>        <th class=\"col_heading level0 col0\" >Species</th>        <th class=\"col_heading level0 col1\" >Channel Gradient (%)</th>        <th class=\"col_heading level0 col2\" >Mean annual discharge (m3/s)</th>        <th class=\"col_heading level0 col3\" >Channel Gradient (%).1</th>        <th class=\"col_heading level0 col4\" >Mean annual discharge (m3/s).1</th>        <th class=\"col_heading level0 col5\" >Minimum Lake area (ha)</th>        <th class=\"col_heading level0 col6\" >Multiplier (1.5x)</th>    </tr></thead><tbody>\n",
       "                <tr>\n",
       "                                <td id=\"T_695c66c2_8dda_11ed_afe2_b445066bfd9brow0_col0\" class=\"data row0 col0\" >Chinook Salmon</td>\n",
       "                        <td id=\"T_695c66c2_8dda_11ed_afe2_b445066bfd9brow0_col1\" class=\"data row0 col1\" >0-3</td>\n",
       "                        <td id=\"T_695c66c2_8dda_11ed_afe2_b445066bfd9brow0_col2\" class=\"data row0 col2\" >0.46-322.5</td>\n",
       "                        <td id=\"T_695c66c2_8dda_11ed_afe2_b445066bfd9brow0_col3\" class=\"data row0 col3\" >0-5</td>\n",
       "                        <td id=\"T_695c66c2_8dda_11ed_afe2_b445066bfd9brow0_col4\" class=\"data row0 col4\" >0.28-100</td>\n",
       "                        <td id=\"T_695c66c2_8dda_11ed_afe2_b445066bfd9brow0_col5\" class=\"data row0 col5\" ></td>\n",
       "                        <td id=\"T_695c66c2_8dda_11ed_afe2_b445066bfd9brow0_col6\" class=\"data row0 col6\" ></td>\n",
       "            </tr>\n",
       "            <tr>\n",
       "                                <td id=\"T_695c66c2_8dda_11ed_afe2_b445066bfd9brow1_col0\" class=\"data row1 col0\" ></td>\n",
       "                        <td id=\"T_695c66c2_8dda_11ed_afe2_b445066bfd9brow1_col1\" class=\"data row1 col1\" >(Busch et al. 2011, Cooney and Holzer 2006)</td>\n",
       "                        <td id=\"T_695c66c2_8dda_11ed_afe2_b445066bfd9brow1_col2\" class=\"data row1 col2\" >(Bjornn and Reiser 1991, Neuman and Newcombe 1977, Woll et al. 2017, Roberge et al. 2002, Raleigh and Miller 1986)</td>\n",
       "                        <td id=\"T_695c66c2_8dda_11ed_afe2_b445066bfd9brow1_col3\" class=\"data row1 col3\" >(Woll et al. 2017, Porter et al. 2008)</td>\n",
       "                        <td id=\"T_695c66c2_8dda_11ed_afe2_b445066bfd9brow1_col4\" class=\"data row1 col4\" >(Agrawal et al. 2005)</td>\n",
       "                        <td id=\"T_695c66c2_8dda_11ed_afe2_b445066bfd9brow1_col5\" class=\"data row1 col5\" ></td>\n",
       "                        <td id=\"T_695c66c2_8dda_11ed_afe2_b445066bfd9brow1_col6\" class=\"data row1 col6\" ></td>\n",
       "            </tr>\n",
       "            <tr>\n",
       "                                <td id=\"T_695c66c2_8dda_11ed_afe2_b445066bfd9brow2_col0\" class=\"data row2 col0\" >Coho Salmon</td>\n",
       "                        <td id=\"T_695c66c2_8dda_11ed_afe2_b445066bfd9brow2_col1\" class=\"data row2 col1\" >0-5</td>\n",
       "                        <td id=\"T_695c66c2_8dda_11ed_afe2_b445066bfd9brow2_col2\" class=\"data row2 col2\" >0.164-59.15</td>\n",
       "                        <td id=\"T_695c66c2_8dda_11ed_afe2_b445066bfd9brow2_col3\" class=\"data row2 col3\" >0-5</td>\n",
       "                        <td id=\"T_695c66c2_8dda_11ed_afe2_b445066bfd9brow2_col4\" class=\"data row2 col4\" >0.03-40</td>\n",
       "                        <td id=\"T_695c66c2_8dda_11ed_afe2_b445066bfd9brow2_col5\" class=\"data row2 col5\" ></td>\n",
       "                        <td id=\"T_695c66c2_8dda_11ed_afe2_b445066bfd9brow2_col6\" class=\"data row2 col6\" >Wetland</td>\n",
       "            </tr>\n",
       "            <tr>\n",
       "                                <td id=\"T_695c66c2_8dda_11ed_afe2_b445066bfd9brow3_col0\" class=\"data row3 col0\" ></td>\n",
       "                        <td id=\"T_695c66c2_8dda_11ed_afe2_b445066bfd9brow3_col1\" class=\"data row3 col1\" >(Roberge et al. 2002, Sloat et al. 2017)</td>\n",
       "                        <td id=\"T_695c66c2_8dda_11ed_afe2_b445066bfd9brow3_col2\" class=\"data row3 col2\" >(Bjornn and Reiser 1991, Sloat et al. 2017, Neuman and Newcombe 1977, Woll et al. 2017, McMahon 1983)</td>\n",
       "                        <td id=\"T_695c66c2_8dda_11ed_afe2_b445066bfd9brow3_col3\" class=\"data row3 col3\" >(Porter et al. 2008, Rosenfeld et al. 2000)</td>\n",
       "                        <td id=\"T_695c66c2_8dda_11ed_afe2_b445066bfd9brow3_col4\" class=\"data row3 col4\" >(Agrawal et al. 2005, Burnett et al. 2007)</td>\n",
       "                        <td id=\"T_695c66c2_8dda_11ed_afe2_b445066bfd9brow3_col5\" class=\"data row3 col5\" ></td>\n",
       "                        <td id=\"T_695c66c2_8dda_11ed_afe2_b445066bfd9brow3_col6\" class=\"data row3 col6\" ></td>\n",
       "            </tr>\n",
       "            <tr>\n",
       "                                <td id=\"T_695c66c2_8dda_11ed_afe2_b445066bfd9brow4_col0\" class=\"data row4 col0\" >Sockeye Salmon</td>\n",
       "                        <td id=\"T_695c66c2_8dda_11ed_afe2_b445066bfd9brow4_col1\" class=\"data row4 col1\" >0-2</td>\n",
       "                        <td id=\"T_695c66c2_8dda_11ed_afe2_b445066bfd9brow4_col2\" class=\"data row4 col2\" >0.175-65</td>\n",
       "                        <td id=\"T_695c66c2_8dda_11ed_afe2_b445066bfd9brow4_col3\" class=\"data row4 col3\" ></td>\n",
       "                        <td id=\"T_695c66c2_8dda_11ed_afe2_b445066bfd9brow4_col4\" class=\"data row4 col4\" ></td>\n",
       "                        <td id=\"T_695c66c2_8dda_11ed_afe2_b445066bfd9brow4_col5\" class=\"data row4 col5\" >200</td>\n",
       "                        <td id=\"T_695c66c2_8dda_11ed_afe2_b445066bfd9brow4_col6\" class=\"data row4 col6\" >Lake</td>\n",
       "            </tr>\n",
       "            <tr>\n",
       "                                <td id=\"T_695c66c2_8dda_11ed_afe2_b445066bfd9brow5_col0\" class=\"data row5 col0\" ></td>\n",
       "                        <td id=\"T_695c66c2_8dda_11ed_afe2_b445066bfd9brow5_col1\" class=\"data row5 col1\" >(Lake 1999, Hoopes 1972)</td>\n",
       "                        <td id=\"T_695c66c2_8dda_11ed_afe2_b445066bfd9brow5_col2\" class=\"data row5 col2\" >(Bjornn and Reiser 1991, Woll et al. 2017, Neuman and Newcombe 1977, Roberge et al. 2002)</td>\n",
       "                        <td id=\"T_695c66c2_8dda_11ed_afe2_b445066bfd9brow5_col3\" class=\"data row5 col3\" ></td>\n",
       "                        <td id=\"T_695c66c2_8dda_11ed_afe2_b445066bfd9brow5_col4\" class=\"data row5 col4\" ></td>\n",
       "                        <td id=\"T_695c66c2_8dda_11ed_afe2_b445066bfd9brow5_col5\" class=\"data row5 col5\" >(Woll et al. 2017)</td>\n",
       "                        <td id=\"T_695c66c2_8dda_11ed_afe2_b445066bfd9brow5_col6\" class=\"data row5 col6\" ></td>\n",
       "            </tr>\n",
       "    </tbody></table>"
      ],
      "text/plain": [
       "<pandas.io.formats.style.Styler at 0x1f273e27d48>"
      ]
     },
     "metadata": {
      "scrapbook": {
       "mime_prefix": "",
       "name": "Table15"
      }
     },
     "output_type": "display_data"
    }
   ],
   "source": [
    "\n",
    "from IPython.display import display, HTML\n",
    "import pandas as pd\n",
    "import numpy as np\n",
    "import warnings\n",
    "from myst_nb import glue\n",
    "\n",
    "warnings.filterwarnings('ignore')\n",
    "\n",
    "data = pd.read_csv('tables/Table15.csv', index_col=False)\n",
    "\n",
    "data = data.replace(np.nan, '', regex=True)\n",
    "\n",
    "\n",
    "data = data.style.hide_index().set_properties(**{'text-align': 'left'})\n",
    "\n",
    "data.set_table_styles(\n",
    "[dict(selector = 'th', props=[('text-align', 'left')])])\n",
    "\n",
    "glue(\"Table15\", data)\n"
   ]
  },
  {
   "cell_type": "markdown",
   "metadata": {},
   "source": [
    "```{glue:figure} Table15\n",
    ":name: \"table15\"\n",
    "\n",
    "*Parameters and thresholds used to inform the Intrinsic Potential habitat model for spawning and rearing habitat for each target species in the Horsefly River watershed.*\n",
    "```"
   ]
  }
 ],
 "metadata": {
  "kernelspec": {
   "display_name": "Python 3.7.12 ('test')",
   "language": "python",
   "name": "python3"
  },
  "language_info": {
   "codemirror_mode": {
    "name": "ipython",
    "version": 3
   },
   "file_extension": ".py",
   "mimetype": "text/x-python",
   "name": "python",
   "nbconvert_exporter": "python",
   "pygments_lexer": "ipython3",
   "version": "3.7.12"
  },
  "vscode": {
   "interpreter": {
    "hash": "4d32f471e4c787df35246a436d6b5da50fcc80632abe0dd119be69a8b3537624"
   }
  }
 },
 "nbformat": 4,
 "nbformat_minor": 2
}