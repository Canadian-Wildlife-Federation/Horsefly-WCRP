{
 "cells": [
  {
   "attachments": {},
   "cell_type": "markdown",
   "metadata": {},
   "source": [
    "```{include} /content/planning-md.md\n",
    ":end-before: \"# Key Actors\"\n",
    "```"
   ]
  },
  {
   "cell_type": "code",
   "execution_count": 2,
   "metadata": {
    "tags": [
     "remove-input",
     "remove-output"
    ]
   },
   "outputs": [
    {
     "data": {
      "text/html": [
       "<style  type=\"text/css\" >\n",
       "    #T_fc1d71c2_8dd3_11ed_817a_b445066bfd9b th {\n",
       "          text-align: left;\n",
       "    }#T_fc1d71c2_8dd3_11ed_817a_b445066bfd9brow0_col0,#T_fc1d71c2_8dd3_11ed_817a_b445066bfd9brow0_col1,#T_fc1d71c2_8dd3_11ed_817a_b445066bfd9brow1_col0,#T_fc1d71c2_8dd3_11ed_817a_b445066bfd9brow1_col1,#T_fc1d71c2_8dd3_11ed_817a_b445066bfd9brow2_col0,#T_fc1d71c2_8dd3_11ed_817a_b445066bfd9brow2_col1,#T_fc1d71c2_8dd3_11ed_817a_b445066bfd9brow3_col0,#T_fc1d71c2_8dd3_11ed_817a_b445066bfd9brow3_col1,#T_fc1d71c2_8dd3_11ed_817a_b445066bfd9brow4_col0,#T_fc1d71c2_8dd3_11ed_817a_b445066bfd9brow4_col1,#T_fc1d71c2_8dd3_11ed_817a_b445066bfd9brow5_col0,#T_fc1d71c2_8dd3_11ed_817a_b445066bfd9brow5_col1,#T_fc1d71c2_8dd3_11ed_817a_b445066bfd9brow6_col0,#T_fc1d71c2_8dd3_11ed_817a_b445066bfd9brow6_col1,#T_fc1d71c2_8dd3_11ed_817a_b445066bfd9brow7_col0,#T_fc1d71c2_8dd3_11ed_817a_b445066bfd9brow7_col1,#T_fc1d71c2_8dd3_11ed_817a_b445066bfd9brow8_col0,#T_fc1d71c2_8dd3_11ed_817a_b445066bfd9brow8_col1,#T_fc1d71c2_8dd3_11ed_817a_b445066bfd9brow9_col0,#T_fc1d71c2_8dd3_11ed_817a_b445066bfd9brow9_col1,#T_fc1d71c2_8dd3_11ed_817a_b445066bfd9brow10_col0,#T_fc1d71c2_8dd3_11ed_817a_b445066bfd9brow10_col1,#T_fc1d71c2_8dd3_11ed_817a_b445066bfd9brow11_col0,#T_fc1d71c2_8dd3_11ed_817a_b445066bfd9brow11_col1,#T_fc1d71c2_8dd3_11ed_817a_b445066bfd9brow12_col0,#T_fc1d71c2_8dd3_11ed_817a_b445066bfd9brow12_col1,#T_fc1d71c2_8dd3_11ed_817a_b445066bfd9brow13_col0,#T_fc1d71c2_8dd3_11ed_817a_b445066bfd9brow13_col1,#T_fc1d71c2_8dd3_11ed_817a_b445066bfd9brow14_col0,#T_fc1d71c2_8dd3_11ed_817a_b445066bfd9brow14_col1,#T_fc1d71c2_8dd3_11ed_817a_b445066bfd9brow15_col0,#T_fc1d71c2_8dd3_11ed_817a_b445066bfd9brow15_col1,#T_fc1d71c2_8dd3_11ed_817a_b445066bfd9brow16_col0,#T_fc1d71c2_8dd3_11ed_817a_b445066bfd9brow16_col1,#T_fc1d71c2_8dd3_11ed_817a_b445066bfd9brow17_col0,#T_fc1d71c2_8dd3_11ed_817a_b445066bfd9brow17_col1{\n",
       "            text-align:  left;\n",
       "        }</style><table id=\"T_fc1d71c2_8dd3_11ed_817a_b445066bfd9b\" ><thead>    <tr>        <th class=\"col_heading level0 col0\" >Name</th>        <th class=\"col_heading level0 col1\" >Organization</th>    </tr></thead><tbody>\n",
       "                <tr>\n",
       "                                <td id=\"T_fc1d71c2_8dd3_11ed_817a_b445066bfd9brow0_col0\" class=\"data row0 col0\" >Betty Rebellato</td>\n",
       "                        <td id=\"T_fc1d71c2_8dd3_11ed_817a_b445066bfd9brow0_col1\" class=\"data row0 col1\" >Canadian Wildlife Federation</td>\n",
       "            </tr>\n",
       "            <tr>\n",
       "                                <td id=\"T_fc1d71c2_8dd3_11ed_817a_b445066bfd9brow1_col0\" class=\"data row1 col0\" >Nick Mazany-Wright</td>\n",
       "                        <td id=\"T_fc1d71c2_8dd3_11ed_817a_b445066bfd9brow1_col1\" class=\"data row1 col1\" >Canadian Wildlife Federation</td>\n",
       "            </tr>\n",
       "            <tr>\n",
       "                                <td id=\"T_fc1d71c2_8dd3_11ed_817a_b445066bfd9brow2_col0\" class=\"data row2 col0\" >Nicolas Lapointe</td>\n",
       "                        <td id=\"T_fc1d71c2_8dd3_11ed_817a_b445066bfd9brow2_col1\" class=\"data row2 col1\" >Canadian Wildlife Federation</td>\n",
       "            </tr>\n",
       "            <tr>\n",
       "                                <td id=\"T_fc1d71c2_8dd3_11ed_817a_b445066bfd9brow3_col0\" class=\"data row3 col0\" >Sarah Sra</td>\n",
       "                        <td id=\"T_fc1d71c2_8dd3_11ed_817a_b445066bfd9brow3_col1\" class=\"data row3 col1\" >Canadian Wildlife Federation</td>\n",
       "            </tr>\n",
       "            <tr>\n",
       "                                <td id=\"T_fc1d71c2_8dd3_11ed_817a_b445066bfd9brow4_col0\" class=\"data row4 col0\" >Colin McGregor</td>\n",
       "                        <td id=\"T_fc1d71c2_8dd3_11ed_817a_b445066bfd9brow4_col1\" class=\"data row4 col1\" >Department of Fisheries and Oceans Canada</td>\n",
       "            </tr>\n",
       "            <tr>\n",
       "                                <td id=\"T_fc1d71c2_8dd3_11ed_817a_b445066bfd9brow5_col0\" class=\"data row5 col0\" >Guy Scharf</td>\n",
       "                        <td id=\"T_fc1d71c2_8dd3_11ed_817a_b445066bfd9brow5_col1\" class=\"data row5 col1\" >Department of Fisheries and Oceans Canada</td>\n",
       "            </tr>\n",
       "            <tr>\n",
       "                                <td id=\"T_fc1d71c2_8dd3_11ed_817a_b445066bfd9brow6_col0\" class=\"data row6 col0\" >Thomas Gristey</td>\n",
       "                        <td id=\"T_fc1d71c2_8dd3_11ed_817a_b445066bfd9brow6_col1\" class=\"data row6 col1\" >Department of Fisheries and Oceans Canada</td>\n",
       "            </tr>\n",
       "            <tr>\n",
       "                                <td id=\"T_fc1d71c2_8dd3_11ed_817a_b445066bfd9brow7_col0\" class=\"data row7 col0\" >Simon Norris</td>\n",
       "                        <td id=\"T_fc1d71c2_8dd3_11ed_817a_b445066bfd9brow7_col1\" class=\"data row7 col1\" >Hillcrest Geographics</td>\n",
       "            </tr>\n",
       "            <tr>\n",
       "                                <td id=\"T_fc1d71c2_8dd3_11ed_817a_b445066bfd9brow8_col0\" class=\"data row8 col0\" >Brian Englund</td>\n",
       "                        <td id=\"T_fc1d71c2_8dd3_11ed_817a_b445066bfd9brow8_col1\" class=\"data row8 col1\" >Horsefly River Roundtable</td>\n",
       "            </tr>\n",
       "            <tr>\n",
       "                                <td id=\"T_fc1d71c2_8dd3_11ed_817a_b445066bfd9brow9_col0\" class=\"data row9 col0\" >Helen Englund</td>\n",
       "                        <td id=\"T_fc1d71c2_8dd3_11ed_817a_b445066bfd9brow9_col1\" class=\"data row9 col1\" >Horsefly River Roundtable</td>\n",
       "            </tr>\n",
       "            <tr>\n",
       "                                <td id=\"T_fc1d71c2_8dd3_11ed_817a_b445066bfd9brow10_col0\" class=\"data row10 col0\" >Judy Hillaby</td>\n",
       "                        <td id=\"T_fc1d71c2_8dd3_11ed_817a_b445066bfd9brow10_col1\" class=\"data row10 col1\" >Horsefly River Roundtable</td>\n",
       "            </tr>\n",
       "            <tr>\n",
       "                                <td id=\"T_fc1d71c2_8dd3_11ed_817a_b445066bfd9brow11_col0\" class=\"data row11 col0\" >Mike Ramsay</td>\n",
       "                        <td id=\"T_fc1d71c2_8dd3_11ed_817a_b445066bfd9brow11_col1\" class=\"data row11 col1\" >Ministry of Forests, Lands and Natural Resource Operations</td>\n",
       "            </tr>\n",
       "            <tr>\n",
       "                                <td id=\"T_fc1d71c2_8dd3_11ed_817a_b445066bfd9brow12_col0\" class=\"data row12 col0\" >Kate Hewitt</td>\n",
       "                        <td id=\"T_fc1d71c2_8dd3_11ed_817a_b445066bfd9brow12_col1\" class=\"data row12 col1\" >Northern Shuswap Tribal Council</td>\n",
       "            </tr>\n",
       "            <tr>\n",
       "                                <td id=\"T_fc1d71c2_8dd3_11ed_817a_b445066bfd9brow13_col0\" class=\"data row13 col0\" >Edna Boston</td>\n",
       "                        <td id=\"T_fc1d71c2_8dd3_11ed_817a_b445066bfd9brow13_col1\" class=\"data row13 col1\" >Soda Creek Indian Band</td>\n",
       "            </tr>\n",
       "            <tr>\n",
       "                                <td id=\"T_fc1d71c2_8dd3_11ed_817a_b445066bfd9brow14_col0\" class=\"data row14 col0\" >Mike Stinson</td>\n",
       "                        <td id=\"T_fc1d71c2_8dd3_11ed_817a_b445066bfd9brow14_col1\" class=\"data row14 col1\" >Soda Creek Indian Band</td>\n",
       "            </tr>\n",
       "            <tr>\n",
       "                                <td id=\"T_fc1d71c2_8dd3_11ed_817a_b445066bfd9brow15_col0\" class=\"data row15 col0\" >John Walker</td>\n",
       "                        <td id=\"T_fc1d71c2_8dd3_11ed_817a_b445066bfd9brow15_col1\" class=\"data row15 col1\" >Williams Lake First Nation</td>\n",
       "            </tr>\n",
       "            <tr>\n",
       "                                <td id=\"T_fc1d71c2_8dd3_11ed_817a_b445066bfd9brow16_col0\" class=\"data row16 col0\" >Nishitha Singi</td>\n",
       "                        <td id=\"T_fc1d71c2_8dd3_11ed_817a_b445066bfd9brow16_col1\" class=\"data row16 col1\" >Williams Lake First Nation</td>\n",
       "            </tr>\n",
       "            <tr>\n",
       "                                <td id=\"T_fc1d71c2_8dd3_11ed_817a_b445066bfd9brow17_col0\" class=\"data row17 col0\" >Josh Noseworthy</td>\n",
       "                        <td id=\"T_fc1d71c2_8dd3_11ed_817a_b445066bfd9brow17_col1\" class=\"data row17 col1\" >Global Conservation Solutions</td>\n",
       "            </tr>\n",
       "    </tbody></table>"
      ],
      "text/plain": [
       "<pandas.io.formats.style.Styler at 0x173b30c5608>"
      ]
     },
     "metadata": {
      "scrapbook": {
       "mime_prefix": "",
       "name": "Table1"
      }
     },
     "output_type": "display_data"
    }
   ],
   "source": [
    "import pandas as pd\n",
    "import warnings\n",
    "from myst_nb import glue\n",
    "#from IPython.display import display, HTML\n",
    "\n",
    "warnings.filterwarnings('ignore')\n",
    "\n",
    "\n",
    "data = pd.read_csv('tables/planning_team.csv', index_col=False)\n",
    "\n",
    "data = data.style.hide_index().set_properties(**{'text-align': 'left'})\n",
    "\n",
    "data.set_table_styles(\n",
    "[dict(selector = 'th', props=[('text-align', 'left')])])\n",
    "\n",
    "glue(\"Table1\", data)\n",
    "\n",
    "\n",
    "#newerror\n"
   ]
  },
  {
   "attachments": {},
   "cell_type": "markdown",
   "metadata": {},
   "source": [
    "```{glue:figure} Table1\n",
    ":name: \"table1\"\n",
    "\n",
    "*Horsefly River watershed WCRP planning team members. Planning team members contributed to the development of this plan by participating in a series of workshops and document and data review. The plan was generated based on the input and feedback of the local groups and organizations listed in this table.*\n",
    "```"
   ]
  },
  {
   "cell_type": "code",
   "execution_count": 3,
   "metadata": {
    "tags": [
     "remove-input",
     "remove-output"
    ]
   },
   "outputs": [
    {
     "data": {
      "text/html": [
       "<style  type=\"text/css\" >\n",
       "    #T_07aebba2_8dd4_11ed_b2b1_b445066bfd9b th {\n",
       "          text-align: left;\n",
       "    }#T_07aebba2_8dd4_11ed_b2b1_b445066bfd9brow0_col0,#T_07aebba2_8dd4_11ed_b2b1_b445066bfd9brow0_col1,#T_07aebba2_8dd4_11ed_b2b1_b445066bfd9brow1_col0,#T_07aebba2_8dd4_11ed_b2b1_b445066bfd9brow1_col1,#T_07aebba2_8dd4_11ed_b2b1_b445066bfd9brow2_col0,#T_07aebba2_8dd4_11ed_b2b1_b445066bfd9brow2_col1,#T_07aebba2_8dd4_11ed_b2b1_b445066bfd9brow3_col0,#T_07aebba2_8dd4_11ed_b2b1_b445066bfd9brow3_col1,#T_07aebba2_8dd4_11ed_b2b1_b445066bfd9brow4_col0,#T_07aebba2_8dd4_11ed_b2b1_b445066bfd9brow4_col1,#T_07aebba2_8dd4_11ed_b2b1_b445066bfd9brow5_col0,#T_07aebba2_8dd4_11ed_b2b1_b445066bfd9brow5_col1,#T_07aebba2_8dd4_11ed_b2b1_b445066bfd9brow6_col0,#T_07aebba2_8dd4_11ed_b2b1_b445066bfd9brow6_col1,#T_07aebba2_8dd4_11ed_b2b1_b445066bfd9brow7_col0,#T_07aebba2_8dd4_11ed_b2b1_b445066bfd9brow7_col1,#T_07aebba2_8dd4_11ed_b2b1_b445066bfd9brow8_col0,#T_07aebba2_8dd4_11ed_b2b1_b445066bfd9brow8_col1,#T_07aebba2_8dd4_11ed_b2b1_b445066bfd9brow9_col0,#T_07aebba2_8dd4_11ed_b2b1_b445066bfd9brow9_col1,#T_07aebba2_8dd4_11ed_b2b1_b445066bfd9brow10_col0,#T_07aebba2_8dd4_11ed_b2b1_b445066bfd9brow10_col1,#T_07aebba2_8dd4_11ed_b2b1_b445066bfd9brow11_col0,#T_07aebba2_8dd4_11ed_b2b1_b445066bfd9brow11_col1,#T_07aebba2_8dd4_11ed_b2b1_b445066bfd9brow12_col0,#T_07aebba2_8dd4_11ed_b2b1_b445066bfd9brow12_col1,#T_07aebba2_8dd4_11ed_b2b1_b445066bfd9brow13_col0,#T_07aebba2_8dd4_11ed_b2b1_b445066bfd9brow13_col1,#T_07aebba2_8dd4_11ed_b2b1_b445066bfd9brow14_col0,#T_07aebba2_8dd4_11ed_b2b1_b445066bfd9brow14_col1{\n",
       "            text-align:  left;\n",
       "        }</style><table id=\"T_07aebba2_8dd4_11ed_b2b1_b445066bfd9b\" ><thead>    <tr>        <th class=\"col_heading level0 col0\" >Individual or Organization Name</th>        <th class=\"col_heading level0 col1\" >Role and Primary Interest</th>    </tr></thead><tbody>\n",
       "                <tr>\n",
       "                                <td id=\"T_07aebba2_8dd4_11ed_b2b1_b445066bfd9brow0_col0\" class=\"data row0 col0\" >Cariboo Mining Association </td>\n",
       "                        <td id=\"T_07aebba2_8dd4_11ed_b2b1_b445066bfd9brow0_col1\" class=\"data row0 col1\" >A mining company that has been operating in central BC since the 1950’s and can help provide data and facilitate remediation work. </td>\n",
       "            </tr>\n",
       "            <tr>\n",
       "                                <td id=\"T_07aebba2_8dd4_11ed_b2b1_b445066bfd9brow1_col0\" class=\"data row1 col0\" >Consus Management Ltd.  </td>\n",
       "                        <td id=\"T_07aebba2_8dd4_11ed_b2b1_b445066bfd9brow1_col1\" class=\"data row1 col1\" >Local wildlife consultants in the watershed to consider for future work. </td>\n",
       "            </tr>\n",
       "            <tr>\n",
       "                                <td id=\"T_07aebba2_8dd4_11ed_b2b1_b445066bfd9brow2_col0\" class=\"data row2 col0\" >Dawson Road Maintenance Ltd </td>\n",
       "                        <td id=\"T_07aebba2_8dd4_11ed_b2b1_b445066bfd9brow2_col1\" class=\"data row2 col1\" >A road design and maintenance company at the roadway-watershed interface. </td>\n",
       "            </tr>\n",
       "            <tr>\n",
       "                                <td id=\"T_07aebba2_8dd4_11ed_b2b1_b445066bfd9brow3_col0\" class=\"data row3 col0\" >DWB Consulting Services Ltd.  </td>\n",
       "                        <td id=\"T_07aebba2_8dd4_11ed_b2b1_b445066bfd9brow3_col1\" class=\"data row3 col1\" >Local wildlife consultants in the watershed to consider for future work. </td>\n",
       "            </tr>\n",
       "            <tr>\n",
       "                                <td id=\"T_07aebba2_8dd4_11ed_b2b1_b445066bfd9brow4_col0\" class=\"data row4 col0\" >Freshwater Fisheries Society of British Columbia </td>\n",
       "                        <td id=\"T_07aebba2_8dd4_11ed_b2b1_b445066bfd9brow4_col1\" class=\"data row4 col1\" >This group can provide project assistance with non-anadromous species.  </td>\n",
       "            </tr>\n",
       "            <tr>\n",
       "                                <td id=\"T_07aebba2_8dd4_11ed_b2b1_b445066bfd9brow5_col0\" class=\"data row5 col0\" >Larry Davis  </td>\n",
       "                        <td id=\"T_07aebba2_8dd4_11ed_b2b1_b445066bfd9brow5_col1\" class=\"data row5 col1\" >A biologist and local wildlife consultant in the watershed. </td>\n",
       "            </tr>\n",
       "            <tr>\n",
       "                                <td id=\"T_07aebba2_8dd4_11ed_b2b1_b445066bfd9brow6_col0\" class=\"data row6 col0\" >Local ranchers </td>\n",
       "                        <td id=\"T_07aebba2_8dd4_11ed_b2b1_b445066bfd9brow6_col1\" class=\"data row6 col1\" >These individuals can facilitate construction as well as consent/facilitate complimentary works on private property to improve fish habitat upstream and downstream. </td>\n",
       "            </tr>\n",
       "            <tr>\n",
       "                                <td id=\"T_07aebba2_8dd4_11ed_b2b1_b445066bfd9brow7_col0\" class=\"data row7 col0\" >Ministry of Forests, Lands and Natural Resource Operations (FLNRO)</td>\n",
       "                        <td id=\"T_07aebba2_8dd4_11ed_b2b1_b445066bfd9brow7_col1\" class=\"data row7 col1\" >FLNRO can assist with providing local knowledge, data, expertise and can facilitate remediation work. </td>\n",
       "            </tr>\n",
       "            <tr>\n",
       "                                <td id=\"T_07aebba2_8dd4_11ed_b2b1_b445066bfd9brow8_col0\" class=\"data row8 col0\" >Ministry of Transportation and Infrastructure (MOTI)</td>\n",
       "                        <td id=\"T_07aebba2_8dd4_11ed_b2b1_b445066bfd9brow8_col1\" class=\"data row8 col1\" >MOTI may own barriers and can play a role in improving and replacing barriers at highway crossings. </td>\n",
       "            </tr>\n",
       "            <tr>\n",
       "                                <td id=\"T_07aebba2_8dd4_11ed_b2b1_b445066bfd9brow9_col0\" class=\"data row9 col0\" >Property owners along river and tributaries </td>\n",
       "                        <td id=\"T_07aebba2_8dd4_11ed_b2b1_b445066bfd9brow9_col1\" class=\"data row9 col1\" >These individuals can facilitate construction as well as consent/facilitate complimentary works on private property to improve fish habitat upstream and downstream. </td>\n",
       "            </tr>\n",
       "            <tr>\n",
       "                                <td id=\"T_07aebba2_8dd4_11ed_b2b1_b445066bfd9brow10_col0\" class=\"data row10 col0\" >Quesnel River Research Centre </td>\n",
       "                        <td id=\"T_07aebba2_8dd4_11ed_b2b1_b445066bfd9brow10_col1\" class=\"data row10 col1\" >This group can help with field assessments and project implementation. </td>\n",
       "            </tr>\n",
       "            <tr>\n",
       "                                <td id=\"T_07aebba2_8dd4_11ed_b2b1_b445066bfd9brow11_col0\" class=\"data row11 col0\" >Steve Hocquard </td>\n",
       "                        <td id=\"T_07aebba2_8dd4_11ed_b2b1_b445066bfd9brow11_col1\" class=\"data row11 col1\" >A local consultant (Steve Hocquard Consulting) that provided valuable review of barrier and habitat data to inform the spatial models used in this plan, and can help with field assessments and project implementation. </td>\n",
       "            </tr>\n",
       "            <tr>\n",
       "                                <td id=\"T_07aebba2_8dd4_11ed_b2b1_b445066bfd9brow12_col0\" class=\"data row12 col0\" >Tolko Industries Ltd.  </td>\n",
       "                        <td id=\"T_07aebba2_8dd4_11ed_b2b1_b445066bfd9brow12_col1\" class=\"data row12 col1\" >A privately owned Canadian forest products company that maintains forest service road-stream crossings in the Horsefly River watershed. </td>\n",
       "            </tr>\n",
       "            <tr>\n",
       "                                <td id=\"T_07aebba2_8dd4_11ed_b2b1_b445066bfd9brow13_col0\" class=\"data row13 col0\" >Upper Fraser Fisheries Conservation Alliance </td>\n",
       "                        <td id=\"T_07aebba2_8dd4_11ed_b2b1_b445066bfd9brow13_col1\" class=\"data row13 col1\" >This group can be contacted for advice and assistance. </td>\n",
       "            </tr>\n",
       "            <tr>\n",
       "                                <td id=\"T_07aebba2_8dd4_11ed_b2b1_b445066bfd9brow14_col0\" class=\"data row14 col0\" >West Fraser </td>\n",
       "                        <td id=\"T_07aebba2_8dd4_11ed_b2b1_b445066bfd9brow14_col1\" class=\"data row14 col1\" >A integrated forestry and diversified wood products company that maintains forest service road-stream crossings in the Horsefly River watershed. </td>\n",
       "            </tr>\n",
       "    </tbody></table>"
      ],
      "text/plain": [
       "<pandas.io.formats.style.Styler at 0x173b3c4c4c8>"
      ]
     },
     "metadata": {
      "scrapbook": {
       "mime_prefix": "",
       "name": "Table2"
      }
     },
     "output_type": "display_data"
    }
   ],
   "source": [
    "\n",
    "import pandas as pd\n",
    "import warnings\n",
    "\n",
    "warnings.filterwarnings('ignore')\n",
    "\n",
    "data = pd.read_csv('tables/key_actors_c.csv', index_col=False)\n",
    "\n",
    "data = data.style.hide_index().set_properties(**{'text-align': 'left'})\n",
    "\n",
    "data.set_table_styles(\n",
    "[dict(selector = 'th', props=[('text-align', 'left')])])\n",
    "\n",
    "glue(\"Table2\", data)"
   ]
  },
  {
   "attachments": {},
   "cell_type": "markdown",
   "metadata": {},
   "source": [
    "# Key Actors\n",
    "\n",
    "```{glue:figure} Table2\n",
    ":name: \"table2\"\n",
    "\n",
    "*Additional Key Actors in the Horsefly River watershed. Key Actors are the individuals, groups, and/or organizations, outside of the planning team, with influence and relevant experience in the watershed, whose engagement will be critical for the successful implementation of this WCRP.* \n",
    "```"
   ]
  },
  {
   "attachments": {},
   "cell_type": "markdown",
   "metadata": {},
   "source": [
    "```{include} /content/planning-md.md\n",
    ":start-after: \"# Key Actors\"\n",
    ":end-before: \"The primary geographic scope of this WCRP\"\n",
    "```"
   ]
  },
  {
   "attachments": {},
   "cell_type": "markdown",
   "metadata": {},
   "source": [
    "```{figure} figures/figure1.png\n",
    "---\n",
    "height: 400px\n",
    "width: 1000px\n",
    "name: fig1\n",
    "---\n",
    "*The primary geographic scope — the Horsefly River watershed — located in the Fraser River system.*\n",
    "```"
   ]
  },
  {
   "attachments": {},
   "cell_type": "markdown",
   "metadata": {},
   "source": [
    "```{include} /planning-md.md\n",
    ":start-after: \"overwintering habitat in the watershed.\"\n",
    ":end-before: \"The Horsefly River watershed comprises parts\"\n",
    "```"
   ]
  },
  {
   "cell_type": "code",
   "execution_count": 4,
   "metadata": {
    "tags": [
     "remove-input",
     "remove-output"
    ]
   },
   "outputs": [
    {
     "data": {
      "text/html": [
       "<style  type=\"text/css\" >\n",
       "    #T_d69229e6_6773_11ed_81be_d4548bb590b3 th {\n",
       "          text-align: left;\n",
       "    }#T_d69229e6_6773_11ed_81be_d4548bb590b3row0_col0,#T_d69229e6_6773_11ed_81be_d4548bb590b3row0_col1,#T_d69229e6_6773_11ed_81be_d4548bb590b3row0_col2,#T_d69229e6_6773_11ed_81be_d4548bb590b3row1_col0,#T_d69229e6_6773_11ed_81be_d4548bb590b3row1_col1,#T_d69229e6_6773_11ed_81be_d4548bb590b3row1_col2,#T_d69229e6_6773_11ed_81be_d4548bb590b3row2_col0,#T_d69229e6_6773_11ed_81be_d4548bb590b3row2_col1,#T_d69229e6_6773_11ed_81be_d4548bb590b3row2_col2{\n",
       "            text-align:  left;\n",
       "        }</style><table id=\"T_d69229e6_6773_11ed_81be_d4548bb590b3\" ><thead>    <tr>        <th class=\"col_heading level0 col0\" >Secwepemctsín</th>        <th class=\"col_heading level0 col1\" >Common Name</th>        <th class=\"col_heading level0 col2\" >Scientific Name</th>    </tr></thead><tbody>\n",
       "                <tr>\n",
       "                                <td id=\"T_d69229e6_6773_11ed_81be_d4548bb590b3row0_col0\" class=\"data row0 col0\" >Kekèsu</td>\n",
       "                        <td id=\"T_d69229e6_6773_11ed_81be_d4548bb590b3row0_col1\" class=\"data row0 col1\" >Chinook Salmon</td>\n",
       "                        <td id=\"T_d69229e6_6773_11ed_81be_d4548bb590b3row0_col2\" class=\"data row0 col2\" >Oncorhynchus tshawytscha</td>\n",
       "            </tr>\n",
       "            <tr>\n",
       "                                <td id=\"T_d69229e6_6773_11ed_81be_d4548bb590b3row1_col0\" class=\"data row1 col0\" >Sxeyqs</td>\n",
       "                        <td id=\"T_d69229e6_6773_11ed_81be_d4548bb590b3row1_col1\" class=\"data row1 col1\" >Coho Salmon</td>\n",
       "                        <td id=\"T_d69229e6_6773_11ed_81be_d4548bb590b3row1_col2\" class=\"data row1 col2\" >Oncorhynchus kisutch</td>\n",
       "            </tr>\n",
       "            <tr>\n",
       "                                <td id=\"T_d69229e6_6773_11ed_81be_d4548bb590b3row2_col0\" class=\"data row2 col0\" >Sqlelten7ùwi</td>\n",
       "                        <td id=\"T_d69229e6_6773_11ed_81be_d4548bb590b3row2_col1\" class=\"data row2 col1\" >Sockeye Salmon</td>\n",
       "                        <td id=\"T_d69229e6_6773_11ed_81be_d4548bb590b3row2_col2\" class=\"data row2 col2\" >Oncorhynchus nerka</td>\n",
       "            </tr>\n",
       "    </tbody></table>"
      ],
      "text/plain": [
       "<pandas.io.formats.style.Styler at 0x23418a06c88>"
      ]
     },
     "metadata": {
      "scrapbook": {
       "mime_prefix": "",
       "name": "Table3"
      }
     },
     "output_type": "display_data"
    }
   ],
   "source": [
    "\n",
    "import pandas as pd\n",
    "import warnings\n",
    "\n",
    "warnings.filterwarnings('ignore')\n",
    "\n",
    "data = pd.read_csv('tables/species_names.csv', index_col=False)\n",
    "\n",
    "data = data.style.hide_index().set_properties(**{'text-align': 'left'})\n",
    "\n",
    "data.set_table_styles(\n",
    "[dict(selector = 'th', props=[('text-align', 'left')])])\n",
    "\n",
    "glue(\"Table3\", data)"
   ]
  },
  {
   "attachments": {},
   "cell_type": "markdown",
   "metadata": {},
   "source": [
    "```{glue:figure} Table3\n",
    ":name: \"table3\"\n",
    "\n",
    "*Target fish species in the Horsefly River watershed. The Secwepemctsín and Western common and scientific species names are provided.*\n",
    "```"
   ]
  },
  {
   "attachments": {},
   "cell_type": "markdown",
   "metadata": {},
   "source": [
    "```{include} /content/planning-md.md\n",
    ":start-after: \"{cite}`XFN2021History`).\"\n",
    ":end-before: \"# Target species\"\n",
    "```"
   ]
  },
  {
   "attachments": {},
   "cell_type": "markdown",
   "metadata": {},
   "source": [
    "```{figure} figures/figure2.png\n",
    "---\n",
    "height: 400px\n",
    "width: 1000px\n",
    "name: fig2\n",
    "---\n",
    "*Potentially accessible stream segments within the Horsefly River watershed. These do not represent useable habitat types, but rather identifies the stream segments within which habitat modelling and barrier mapping and prioritization was undertaken.*\n",
    "```"
   ]
  },
  {
   "attachments": {},
   "cell_type": "markdown",
   "metadata": {},
   "source": [
    "```{include} /planning-md.md\n",
    ":start-after: \"goal setting, and action planning {cite}`Mazany-Wright2021-rz`.\"\n",
    ":end-before: \"Chinook Salmon are the first\"\n",
    "```"
   ]
  },
  {
   "cell_type": "code",
   "execution_count": 11,
   "metadata": {
    "tags": [
     "remove-input"
    ]
   },
   "outputs": [
    {
     "data": {
      "text/html": [
       "<style  type=\"text/css\" >\n",
       "    #T_fd19a4ae_6777_11ed_8df4_d4548bb590b3 th {\n",
       "          text-align: left;\n",
       "    }#T_fd19a4ae_6777_11ed_8df4_d4548bb590b3row0_col0,#T_fd19a4ae_6777_11ed_8df4_d4548bb590b3row0_col1,#T_fd19a4ae_6777_11ed_8df4_d4548bb590b3row0_col2,#T_fd19a4ae_6777_11ed_8df4_d4548bb590b3row0_col3,#T_fd19a4ae_6777_11ed_8df4_d4548bb590b3row0_col4{\n",
       "            text-align:  left;\n",
       "        }</style><table id=\"T_fd19a4ae_6777_11ed_8df4_d4548bb590b3\" ><thead>    <tr>        <th class=\"col_heading level0 col0\" >Conservation Unit</th>        <th class=\"col_heading level0 col1\" >Biological Status</th>        <th class=\"col_heading level0 col2\" >Run timing</th>        <th class=\"col_heading level0 col3\" >Trend in spawner abundance (all available data)</th>        <th class=\"col_heading level0 col4\" >Trend in spawner abundance (last 3 generations)</th>    </tr></thead><tbody>\n",
       "                <tr>\n",
       "                                <td id=\"T_fd19a4ae_6777_11ed_8df4_d4548bb590b3row0_col0\" class=\"data row0 col0\" >Middle Fraser River (Spring 5-2, 1.3)</td>\n",
       "                        <td id=\"T_fd19a4ae_6777_11ed_8df4_d4548bb590b3row0_col1\" class=\"data row0 col1\" >Data Deficient/Poor</td>\n",
       "                        <td id=\"T_fd19a4ae_6777_11ed_8df4_d4548bb590b3row0_col2\" class=\"data row0 col2\" >Data Deficient</td>\n",
       "                        <td id=\"T_fd19a4ae_6777_11ed_8df4_d4548bb590b3row0_col3\" class=\"data row0 col3\" >Data Deficient</td>\n",
       "                        <td id=\"T_fd19a4ae_6777_11ed_8df4_d4548bb590b3row0_col4\" class=\"data row0 col4\" >Data Deficient</td>\n",
       "            </tr>\n",
       "    </tbody></table>"
      ],
      "text/plain": [
       "<pandas.io.formats.style.Styler at 0x234189c9508>"
      ]
     },
     "execution_count": 11,
     "metadata": {},
     "output_type": "execute_result"
    }
   ],
   "source": [
    "from IPython.display import display, HTML\n",
    "import pandas as pd\n",
    "import warnings\n",
    "\n",
    "warnings.filterwarnings('ignore')\n",
    "\n",
    "data = pd.read_csv('tables/Chinook1.csv', index_col=False)\n",
    "\n",
    "data = data.style.hide_index().set_properties(**{'text-align': 'left'})\n",
    "\n",
    "data.set_table_styles(\n",
    "[dict(selector = 'th', props=[('text-align', 'left')])])\n"
   ]
  },
  {
   "cell_type": "code",
   "execution_count": 12,
   "metadata": {
    "tags": [
     "remove-input",
     "remove-output"
    ]
   },
   "outputs": [
    {
     "data": {
      "text/html": [
       "<style  type=\"text/css\" >\n",
       "    #T_0048bc50_6778_11ed_b68e_d4548bb590b3 th {\n",
       "          text-align: left;\n",
       "    }#T_0048bc50_6778_11ed_b68e_d4548bb590b3row0_col0,#T_0048bc50_6778_11ed_b68e_d4548bb590b3row0_col1,#T_0048bc50_6778_11ed_b68e_d4548bb590b3row0_col2,#T_0048bc50_6778_11ed_b68e_d4548bb590b3row0_col3,#T_0048bc50_6778_11ed_b68e_d4548bb590b3row0_col4,#T_0048bc50_6778_11ed_b68e_d4548bb590b3row0_col5{\n",
       "            text-align:  left;\n",
       "        }</style><table id=\"T_0048bc50_6778_11ed_b68e_d4548bb590b3\" ><thead>    <tr>        <th class=\"col_heading level0 col0\" >COSEWIC Designated Unit</th>        <th class=\"col_heading level0 col1\" >Status</th>        <th class=\"col_heading level0 col2\" >Trend</th>        <th class=\"col_heading level0 col3\" >Median percent change (last 3 generations)</th>        <th class=\"col_heading level0 col4\" >Median percent change (historic)</th>        <th class=\"col_heading level0 col5\" >Generation length</th>    </tr></thead><tbody>\n",
       "                <tr>\n",
       "                                <td id=\"T_0048bc50_6778_11ed_b68e_d4548bb590b3row0_col0\" class=\"data row0 col0\" >9- Middle Fraser, Stream, Spring (MFR+GStr) population</td>\n",
       "                        <td id=\"T_0048bc50_6778_11ed_b68e_d4548bb590b3row0_col1\" class=\"data row0 col1\" >Threatened</td>\n",
       "                        <td id=\"T_0048bc50_6778_11ed_b68e_d4548bb590b3row0_col2\" class=\"data row0 col2\" >Declining</td>\n",
       "                        <td id=\"T_0048bc50_6778_11ed_b68e_d4548bb590b3row0_col3\" class=\"data row0 col3\" >-28%</td>\n",
       "                        <td id=\"T_0048bc50_6778_11ed_b68e_d4548bb590b3row0_col4\" class=\"data row0 col4\" >-49%</td>\n",
       "                        <td id=\"T_0048bc50_6778_11ed_b68e_d4548bb590b3row0_col5\" class=\"data row0 col5\" >4.5 years</td>\n",
       "            </tr>\n",
       "    </tbody></table>"
      ],
      "text/plain": [
       "<pandas.io.formats.style.Styler at 0x234189c9a48>"
      ]
     },
     "metadata": {
      "scrapbook": {
       "mime_prefix": "",
       "name": "Table4"
      }
     },
     "output_type": "display_data"
    }
   ],
   "source": [
    "\n",
    "\n",
    "from IPython.display import display, HTML\n",
    "import pandas as pd\n",
    "import warnings\n",
    "\n",
    "warnings.filterwarnings('ignore')\n",
    "\n",
    "data1 = pd.read_csv('tables/Chinook2.csv', index_col=False)\n",
    "\n",
    "data1 = data1.style.hide_index().set_properties(**{'text-align': 'left'})\n",
    "\n",
    "data1.set_table_styles(\n",
    "[dict(selector = 'th', props=[('text-align', 'left')])])\n",
    "\n",
    "glue(\"Table4\", data1)\n"
   ]
  },
  {
   "cell_type": "markdown",
   "metadata": {},
   "source": [
    "\n",
    "```{glue:figure} Table4\n",
    ":name: \"table4\"\n",
    "\n",
    "*Chinook Salmon population assessments in the Horsefly River watershed. Conservation Unit assessments were undertaken by the [Pacific Salmon Foundation](https://www.salmonexplorer.ca/#!/fraser/chinook/middle-fraser-river-spring-5-2) ([2020](https://salmonwatersheds.ca/libraryfiles/lib_459.pdf)). Designated Unit assessments were undertaken by [COSEWIC](https://www.canada.ca/en/environment-climate-change/services/species-risk-public-registry/cosewic-assessments-status-reports/chinook-salmon-2018.html) (2018).*\n",
    "```"
   ]
  },
  {
   "attachments": {},
   "cell_type": "markdown",
   "metadata": {},
   "source": [
    "```{include} /content/planning-md.md\n",
    ":start-after: \"### Chinook Salmon | Kekèsu | Oncorhynchus tshawytscha \"\n",
    ":end-before: \"Coho Salmon are the most widely\"\n",
    "```"
   ]
  },
  {
   "cell_type": "code",
   "execution_count": 13,
   "metadata": {
    "tags": [
     "remove-input"
    ]
   },
   "outputs": [
    {
     "data": {
      "text/html": [
       "<style  type=\"text/css\" >\n",
       "    #T_c28a0cd4_6779_11ed_add8_d4548bb590b3 th {\n",
       "          text-align: left;\n",
       "    }#T_c28a0cd4_6779_11ed_add8_d4548bb590b3row0_col0,#T_c28a0cd4_6779_11ed_add8_d4548bb590b3row0_col1,#T_c28a0cd4_6779_11ed_add8_d4548bb590b3row0_col2,#T_c28a0cd4_6779_11ed_add8_d4548bb590b3row0_col3,#T_c28a0cd4_6779_11ed_add8_d4548bb590b3row0_col4{\n",
       "            text-align:  left;\n",
       "        }</style><table id=\"T_c28a0cd4_6779_11ed_add8_d4548bb590b3\" ><thead>    <tr>        <th class=\"col_heading level0 col0\" >Conservation Unit</th>        <th class=\"col_heading level0 col1\" >Biological Status</th>        <th class=\"col_heading level0 col2\" >Run timing</th>        <th class=\"col_heading level0 col3\" >Trend in spawner abundance (all available data)</th>        <th class=\"col_heading level0 col4\" >Trend in spawner abundance (last 3 generations)</th>    </tr></thead><tbody>\n",
       "                <tr>\n",
       "                                <td id=\"T_c28a0cd4_6779_11ed_add8_d4548bb590b3row0_col0\" class=\"data row0 col0\" >Interior Fraser</td>\n",
       "                        <td id=\"T_c28a0cd4_6779_11ed_add8_d4548bb590b3row0_col1\" class=\"data row0 col1\" >Data Deficient/Fair</td>\n",
       "                        <td id=\"T_c28a0cd4_6779_11ed_add8_d4548bb590b3row0_col2\" class=\"data row0 col2\" >Data Deficient</td>\n",
       "                        <td id=\"T_c28a0cd4_6779_11ed_add8_d4548bb590b3row0_col3\" class=\"data row0 col3\" >Data Deficient</td>\n",
       "                        <td id=\"T_c28a0cd4_6779_11ed_add8_d4548bb590b3row0_col4\" class=\"data row0 col4\" >Data Deficient</td>\n",
       "            </tr>\n",
       "    </tbody></table>"
      ],
      "text/plain": [
       "<pandas.io.formats.style.Styler at 0x23417ce65c8>"
      ]
     },
     "execution_count": 13,
     "metadata": {},
     "output_type": "execute_result"
    }
   ],
   "source": [
    "import warnings\n",
    "\n",
    "warnings.filterwarnings('ignore')\n",
    "\n",
    "data = pd.read_csv('tables/coho1.csv', index_col=False)\n",
    "data = data.style.hide_index().set_properties(**{'text-align': 'left'})\n",
    "\n",
    "data.set_table_styles(\n",
    "[dict(selector = 'th', props=[('text-align', 'left')])])\n"
   ]
  },
  {
   "cell_type": "code",
   "execution_count": 14,
   "metadata": {
    "tags": [
     "remove-input",
     "remove-output"
    ]
   },
   "outputs": [
    {
     "data": {
      "text/html": [
       "<style  type=\"text/css\" >\n",
       "    #T_c507ee30_6779_11ed_9026_d4548bb590b3 th {\n",
       "          text-align: left;\n",
       "    }#T_c507ee30_6779_11ed_9026_d4548bb590b3row0_col0,#T_c507ee30_6779_11ed_9026_d4548bb590b3row0_col1,#T_c507ee30_6779_11ed_9026_d4548bb590b3row0_col2,#T_c507ee30_6779_11ed_9026_d4548bb590b3row0_col3,#T_c507ee30_6779_11ed_9026_d4548bb590b3row0_col4,#T_c507ee30_6779_11ed_9026_d4548bb590b3row0_col5{\n",
       "            text-align:  left;\n",
       "        }</style><table id=\"T_c507ee30_6779_11ed_9026_d4548bb590b3\" ><thead>    <tr>        <th class=\"col_heading level0 col0\" >COSEWIC Designated Unit</th>        <th class=\"col_heading level0 col1\" >Status</th>        <th class=\"col_heading level0 col2\" >Trend</th>        <th class=\"col_heading level0 col3\" >Median percent change (last 3 generations)</th>        <th class=\"col_heading level0 col4\" >Median percent change (historic)</th>        <th class=\"col_heading level0 col5\" >Generation length</th>    </tr></thead><tbody>\n",
       "                <tr>\n",
       "                                <td id=\"T_c507ee30_6779_11ed_9026_d4548bb590b3row0_col0\" class=\"data row0 col0\" >Interior Fraser – Mid/Upper Fraser population</td>\n",
       "                        <td id=\"T_c507ee30_6779_11ed_9026_d4548bb590b3row0_col1\" class=\"data row0 col1\" >Threatened</td>\n",
       "                        <td id=\"T_c507ee30_6779_11ed_9026_d4548bb590b3row0_col2\" class=\"data row0 col2\" >Declining</td>\n",
       "                        <td id=\"T_c507ee30_6779_11ed_9026_d4548bb590b3row0_col3\" class=\"data row0 col3\" >Not estimated</td>\n",
       "                        <td id=\"T_c507ee30_6779_11ed_9026_d4548bb590b3row0_col4\" class=\"data row0 col4\" >+119% estimated based on last 10 years of escapement data-21% estimated based on entire escapement time series</td>\n",
       "                        <td id=\"T_c507ee30_6779_11ed_9026_d4548bb590b3row0_col5\" class=\"data row0 col5\" >3 years</td>\n",
       "            </tr>\n",
       "    </tbody></table>"
      ],
      "text/plain": [
       "<pandas.io.formats.style.Styler at 0x234132e7a88>"
      ]
     },
     "metadata": {
      "scrapbook": {
       "mime_prefix": "",
       "name": "Table5"
      }
     },
     "output_type": "display_data"
    }
   ],
   "source": [
    "import warnings\n",
    "\n",
    "warnings.filterwarnings('ignore')\n",
    "\n",
    "data = pd.read_csv('tables/coho2.csv', index_col=False)\n",
    "data = data.style.hide_index().set_properties(**{'text-align': 'left'})\n",
    "\n",
    "data.set_table_styles(\n",
    "[dict(selector = 'th', props=[('text-align', 'left')])])\n",
    "\n",
    "glue(\"Table5\", data)\n"
   ]
  },
  {
   "cell_type": "markdown",
   "metadata": {},
   "source": [
    "\n",
    "\n",
    "```{glue:figure} Table5\n",
    ":name: \"table5\"\n",
    "\n",
    "*Coho Salmon population assessments in the Horsefly River watershed. Conservation Unit assessments were undertaken by the [Pacific Salmon Foundation](https://www.salmonexplorer.ca/#!/fraser/chinook/middle-fraser-river-spring-5-2) ([2020](https://salmonwatersheds.ca/libraryfiles/lib_459.pdf)). Designated Unit assessments were undertaken by [COSEWIC](https://www.canada.ca/en/environment-climate-change/services/species-risk-public-registry/cosewic-assessments-status-reports/chinook-salmon-2018.html) (2016).*\n",
    "```"
   ]
  },
  {
   "attachments": {},
   "cell_type": "markdown",
   "metadata": {},
   "source": [
    "```{include} /content/planning-md.md\n",
    ":start-after: \"Coho Salmon are the most widely\"\n",
    ":end-before: \"Sockeye Salmon have historically\"\n",
    "```"
   ]
  },
  {
   "cell_type": "code",
   "execution_count": 15,
   "metadata": {
    "tags": [
     "remove-input"
    ]
   },
   "outputs": [
    {
     "data": {
      "text/html": [
       "<style  type=\"text/css\" >\n",
       "    #T_7cc23506_677b_11ed_8c7a_d4548bb590b3 th {\n",
       "          text-align: left;\n",
       "    }#T_7cc23506_677b_11ed_8c7a_d4548bb590b3row0_col0,#T_7cc23506_677b_11ed_8c7a_d4548bb590b3row0_col1,#T_7cc23506_677b_11ed_8c7a_d4548bb590b3row0_col2,#T_7cc23506_677b_11ed_8c7a_d4548bb590b3row0_col3,#T_7cc23506_677b_11ed_8c7a_d4548bb590b3row0_col4{\n",
       "            text-align:  left;\n",
       "        }</style><table id=\"T_7cc23506_677b_11ed_8c7a_d4548bb590b3\" ><thead>    <tr>        <th class=\"col_heading level0 col0\" >Conservation Unit</th>        <th class=\"col_heading level0 col1\" >Biological Status</th>        <th class=\"col_heading level0 col2\" >Run timing</th>        <th class=\"col_heading level0 col3\" >Trend in spawner abundance (all generations)</th>        <th class=\"col_heading level0 col4\" >Trend in spawner abundance (last 3 generations)</th>    </tr></thead><tbody>\n",
       "                <tr>\n",
       "                                <td id=\"T_7cc23506_677b_11ed_8c7a_d4548bb590b3row0_col0\" class=\"data row0 col0\" >Quesnel-Summer (cyclic)</td>\n",
       "                        <td id=\"T_7cc23506_677b_11ed_8c7a_d4548bb590b3row0_col1\" class=\"data row0 col1\" >Data Deficient/Fair-Poor</td>\n",
       "                        <td id=\"T_7cc23506_677b_11ed_8c7a_d4548bb590b3row0_col2\" class=\"data row0 col2\" >July-September</td>\n",
       "                        <td id=\"T_7cc23506_677b_11ed_8c7a_d4548bb590b3row0_col3\" class=\"data row0 col3\" >Data Deficient</td>\n",
       "                        <td id=\"T_7cc23506_677b_11ed_8c7a_d4548bb590b3row0_col4\" class=\"data row0 col4\" >Data Deficient</td>\n",
       "            </tr>\n",
       "    </tbody></table>"
      ],
      "text/plain": [
       "<pandas.io.formats.style.Styler at 0x23418a0ec08>"
      ]
     },
     "execution_count": 15,
     "metadata": {},
     "output_type": "execute_result"
    }
   ],
   "source": [
    "import warnings\n",
    "\n",
    "warnings.filterwarnings('ignore')\n",
    "\n",
    "data = pd.read_csv('tables/Sockeye1.csv', index_col=False)\n",
    "data = data.style.hide_index().set_properties(**{'text-align': 'left'})\n",
    "\n",
    "data.set_table_styles(\n",
    "[dict(selector = 'th', props=[('text-align', 'left')])])\n"
   ]
  },
  {
   "cell_type": "code",
   "execution_count": 4,
   "metadata": {
    "tags": [
     "remove-input",
     "remove-output"
    ]
   },
   "outputs": [
    {
     "data": {
      "text/html": [
       "<style  type=\"text/css\" >\n",
       "    #T_1b10cb0c_8dd4_11ed_bda9_b445066bfd9b th {\n",
       "          text-align: left;\n",
       "    }#T_1b10cb0c_8dd4_11ed_bda9_b445066bfd9brow0_col0,#T_1b10cb0c_8dd4_11ed_bda9_b445066bfd9brow0_col1,#T_1b10cb0c_8dd4_11ed_bda9_b445066bfd9brow0_col2,#T_1b10cb0c_8dd4_11ed_bda9_b445066bfd9brow0_col3,#T_1b10cb0c_8dd4_11ed_bda9_b445066bfd9brow0_col4,#T_1b10cb0c_8dd4_11ed_bda9_b445066bfd9brow0_col5{\n",
       "            text-align:  left;\n",
       "        }</style><table id=\"T_1b10cb0c_8dd4_11ed_bda9_b445066bfd9b\" ><thead>    <tr>        <th class=\"col_heading level0 col0\" >COSEWIC Designated Unit</th>        <th class=\"col_heading level0 col1\" >Status</th>        <th class=\"col_heading level0 col2\" >Trend</th>        <th class=\"col_heading level0 col3\" >Median percent change (last 3 generations)</th>        <th class=\"col_heading level0 col4\" >Median percent change (historic)</th>        <th class=\"col_heading level0 col5\" >Generation length</th>    </tr></thead><tbody>\n",
       "                <tr>\n",
       "                                <td id=\"T_1b10cb0c_8dd4_11ed_bda9_b445066bfd9brow0_col0\" class=\"data row0 col0\" >16 -Quesnel-S population</td>\n",
       "                        <td id=\"T_1b10cb0c_8dd4_11ed_bda9_b445066bfd9brow0_col1\" class=\"data row0 col1\" >Endangered</td>\n",
       "                        <td id=\"T_1b10cb0c_8dd4_11ed_bda9_b445066bfd9brow0_col2\" class=\"data row0 col2\" >Declining</td>\n",
       "                        <td id=\"T_1b10cb0c_8dd4_11ed_bda9_b445066bfd9brow0_col3\" class=\"data row0 col3\" >260,974</td>\n",
       "                        <td id=\"T_1b10cb0c_8dd4_11ed_bda9_b445066bfd9brow0_col4\" class=\"data row0 col4\" >-97%</td>\n",
       "                        <td id=\"T_1b10cb0c_8dd4_11ed_bda9_b445066bfd9brow0_col5\" class=\"data row0 col5\" >272%</td>\n",
       "            </tr>\n",
       "    </tbody></table>"
      ],
      "text/plain": [
       "<pandas.io.formats.style.Styler at 0x173b3d6c248>"
      ]
     },
     "metadata": {
      "scrapbook": {
       "mime_prefix": "",
       "name": "Table6"
      }
     },
     "output_type": "display_data"
    }
   ],
   "source": [
    "import warnings\n",
    "\n",
    "warnings.filterwarnings('ignore')\n",
    "\n",
    "\n",
    "data = pd.read_csv('tables/Sockeye2.csv', index_col=False)\n",
    "data = data.style.hide_index().set_properties(**{'text-align': 'left'})\n",
    "\n",
    "data.set_table_styles(\n",
    "[dict(selector = 'th', props=[('text-align', 'left')])])\n",
    "\n",
    "glue(\"Table6\", data)"
   ]
  },
  {
   "cell_type": "markdown",
   "metadata": {},
   "source": [
    "\n",
    "\n",
    "```{glue:figure} Table6\n",
    ":name: \"table6\"\n",
    "\n",
    "*Sockeye Salmon population assessments in the Horsefly River watershed. Conservation Unit assessments were undertaken by the [Pacific Salmon Foundation](https://www.salmonexplorer.ca/#!/fraser/chinook/middle-fraser-river-spring-5-2) ([2020](https://salmonwatersheds.ca/libraryfiles/lib_459.pdf)). Designated Unit assessments were undertaken by [COSEWIC](https://www.canada.ca/en/environment-climate-change/services/species-risk-public-registry/cosewic-assessments-status-reports/chinook-salmon-2018.html) (2017).*\n",
    "```"
   ]
  },
  {
   "attachments": {},
   "cell_type": "markdown",
   "metadata": {},
   "source": [
    "```{include} /content/planning-md.md\n",
    ":start-after: \"### Sockeye Salmon | Sqlelten7ùwi | Oncorhynchus nerka\"\n",
    "```"
   ]
  }
 ],
 "metadata": {
  "kernelspec": {
   "display_name": "Python 3.7.12 ('test')",
   "language": "python",
   "name": "python3"
  },
  "language_info": {
   "codemirror_mode": {
    "name": "ipython",
    "version": 3
   },
   "file_extension": ".py",
   "mimetype": "text/x-python",
   "name": "python",
   "nbconvert_exporter": "python",
   "pygments_lexer": "ipython3",
   "version": "3.7.12"
  },
  "orig_nbformat": 4,
  "vscode": {
   "interpreter": {
    "hash": "4d32f471e4c787df35246a436d6b5da50fcc80632abe0dd119be69a8b3537624"
   }
  }
 },
 "nbformat": 4,
 "nbformat_minor": 2
}
