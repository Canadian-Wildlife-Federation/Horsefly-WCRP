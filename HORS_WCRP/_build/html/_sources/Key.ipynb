{
 "cells": [
  {
   "cell_type": "markdown",
   "metadata": {},
   "source": [
    "# Key Actors"
   ]
  },
  {
   "cell_type": "markdown",
   "metadata": {},
   "source": [
    "Table 2. Additional Key Actors in the Horsefly River watershed. Key Actors are the individuals, groups, and/or organizations, outside of the planning team, with influence and relevant experience in the watershed, whose engagement will be critical for the successful implementation of this WCRP. "
   ]
  },
  {
   "cell_type": "code",
   "execution_count": 1,
   "metadata": {
    "tags": [
     "remove-input"
    ]
   },
   "outputs": [
    {
     "data": {
      "text/html": [
       "<style  type=\"text/css\" >\n",
       "#T_4045b7fa_23b2_11ed_82ca_d4548bb590b3row0_col0,#T_4045b7fa_23b2_11ed_82ca_d4548bb590b3row0_col1,#T_4045b7fa_23b2_11ed_82ca_d4548bb590b3row1_col0,#T_4045b7fa_23b2_11ed_82ca_d4548bb590b3row1_col1,#T_4045b7fa_23b2_11ed_82ca_d4548bb590b3row2_col0,#T_4045b7fa_23b2_11ed_82ca_d4548bb590b3row2_col1,#T_4045b7fa_23b2_11ed_82ca_d4548bb590b3row3_col0,#T_4045b7fa_23b2_11ed_82ca_d4548bb590b3row3_col1,#T_4045b7fa_23b2_11ed_82ca_d4548bb590b3row4_col0,#T_4045b7fa_23b2_11ed_82ca_d4548bb590b3row4_col1,#T_4045b7fa_23b2_11ed_82ca_d4548bb590b3row5_col0,#T_4045b7fa_23b2_11ed_82ca_d4548bb590b3row5_col1,#T_4045b7fa_23b2_11ed_82ca_d4548bb590b3row6_col0,#T_4045b7fa_23b2_11ed_82ca_d4548bb590b3row6_col1,#T_4045b7fa_23b2_11ed_82ca_d4548bb590b3row7_col0,#T_4045b7fa_23b2_11ed_82ca_d4548bb590b3row7_col1,#T_4045b7fa_23b2_11ed_82ca_d4548bb590b3row8_col0,#T_4045b7fa_23b2_11ed_82ca_d4548bb590b3row8_col1,#T_4045b7fa_23b2_11ed_82ca_d4548bb590b3row9_col0,#T_4045b7fa_23b2_11ed_82ca_d4548bb590b3row9_col1,#T_4045b7fa_23b2_11ed_82ca_d4548bb590b3row10_col0,#T_4045b7fa_23b2_11ed_82ca_d4548bb590b3row10_col1,#T_4045b7fa_23b2_11ed_82ca_d4548bb590b3row11_col0,#T_4045b7fa_23b2_11ed_82ca_d4548bb590b3row11_col1,#T_4045b7fa_23b2_11ed_82ca_d4548bb590b3row12_col0,#T_4045b7fa_23b2_11ed_82ca_d4548bb590b3row12_col1,#T_4045b7fa_23b2_11ed_82ca_d4548bb590b3row13_col0,#T_4045b7fa_23b2_11ed_82ca_d4548bb590b3row13_col1,#T_4045b7fa_23b2_11ed_82ca_d4548bb590b3row14_col0,#T_4045b7fa_23b2_11ed_82ca_d4548bb590b3row14_col1{\n",
       "            text-align:  left;\n",
       "        }</style><table id=\"T_4045b7fa_23b2_11ed_82ca_d4548bb590b3\" ><thead>    <tr>        <th class=\"col_heading level0 col0\" >Individual or Organization Name</th>        <th class=\"col_heading level0 col1\" >Role and Primary Interest</th>    </tr></thead><tbody>\n",
       "                <tr>\n",
       "                                <td id=\"T_4045b7fa_23b2_11ed_82ca_d4548bb590b3row0_col0\" class=\"data row0 col0\" >Cariboo Mining Association </td>\n",
       "                        <td id=\"T_4045b7fa_23b2_11ed_82ca_d4548bb590b3row0_col1\" class=\"data row0 col1\" >A mining company that has been operating in central BC since the 1950’s and can help provide data and facilitate remediation work. </td>\n",
       "            </tr>\n",
       "            <tr>\n",
       "                                <td id=\"T_4045b7fa_23b2_11ed_82ca_d4548bb590b3row1_col0\" class=\"data row1 col0\" >Consus Management Ltd.  </td>\n",
       "                        <td id=\"T_4045b7fa_23b2_11ed_82ca_d4548bb590b3row1_col1\" class=\"data row1 col1\" >Local wildlife consultants in the watershed to consider for future work. </td>\n",
       "            </tr>\n",
       "            <tr>\n",
       "                                <td id=\"T_4045b7fa_23b2_11ed_82ca_d4548bb590b3row2_col0\" class=\"data row2 col0\" >Dawson Road Maintenance Ltd </td>\n",
       "                        <td id=\"T_4045b7fa_23b2_11ed_82ca_d4548bb590b3row2_col1\" class=\"data row2 col1\" >A road design and maintenance company at the roadway-watershed interface. </td>\n",
       "            </tr>\n",
       "            <tr>\n",
       "                                <td id=\"T_4045b7fa_23b2_11ed_82ca_d4548bb590b3row3_col0\" class=\"data row3 col0\" >DWB Consulting Services Ltd.  </td>\n",
       "                        <td id=\"T_4045b7fa_23b2_11ed_82ca_d4548bb590b3row3_col1\" class=\"data row3 col1\" >Local wildlife consultants in the watershed to consider for future work. </td>\n",
       "            </tr>\n",
       "            <tr>\n",
       "                                <td id=\"T_4045b7fa_23b2_11ed_82ca_d4548bb590b3row4_col0\" class=\"data row4 col0\" >Freshwater Fisheries Society of British Columbia </td>\n",
       "                        <td id=\"T_4045b7fa_23b2_11ed_82ca_d4548bb590b3row4_col1\" class=\"data row4 col1\" >This group can provide project assistance with non-anadromous species.  </td>\n",
       "            </tr>\n",
       "            <tr>\n",
       "                                <td id=\"T_4045b7fa_23b2_11ed_82ca_d4548bb590b3row5_col0\" class=\"data row5 col0\" >Larry Davis  </td>\n",
       "                        <td id=\"T_4045b7fa_23b2_11ed_82ca_d4548bb590b3row5_col1\" class=\"data row5 col1\" >A biologist and local wildlife consultant in the watershed. </td>\n",
       "            </tr>\n",
       "            <tr>\n",
       "                                <td id=\"T_4045b7fa_23b2_11ed_82ca_d4548bb590b3row6_col0\" class=\"data row6 col0\" >Local ranchers </td>\n",
       "                        <td id=\"T_4045b7fa_23b2_11ed_82ca_d4548bb590b3row6_col1\" class=\"data row6 col1\" >These individuals can facilitate construction as well as consent/facilitate complimentary works on private property to improve fish habitat upstream and downstream. </td>\n",
       "            </tr>\n",
       "            <tr>\n",
       "                                <td id=\"T_4045b7fa_23b2_11ed_82ca_d4548bb590b3row7_col0\" class=\"data row7 col0\" >Ministry of Forests, Lands and Natural Resource Operations (FLNRO)</td>\n",
       "                        <td id=\"T_4045b7fa_23b2_11ed_82ca_d4548bb590b3row7_col1\" class=\"data row7 col1\" >FLNRO can assist with providing local knowledge, data, expertise and can facilitate remediation work. </td>\n",
       "            </tr>\n",
       "            <tr>\n",
       "                                <td id=\"T_4045b7fa_23b2_11ed_82ca_d4548bb590b3row8_col0\" class=\"data row8 col0\" >Ministry of Transportation and Infrastructure (MOTI)</td>\n",
       "                        <td id=\"T_4045b7fa_23b2_11ed_82ca_d4548bb590b3row8_col1\" class=\"data row8 col1\" >MOTI may own barriers and can play a role in improving and replacing barriers at highway crossings. </td>\n",
       "            </tr>\n",
       "            <tr>\n",
       "                                <td id=\"T_4045b7fa_23b2_11ed_82ca_d4548bb590b3row9_col0\" class=\"data row9 col0\" >Property owners along river and tributaries </td>\n",
       "                        <td id=\"T_4045b7fa_23b2_11ed_82ca_d4548bb590b3row9_col1\" class=\"data row9 col1\" >These individuals can facilitate construction as well as consent/facilitate complimentary works on private property to improve fish habitat upstream and downstream. </td>\n",
       "            </tr>\n",
       "            <tr>\n",
       "                                <td id=\"T_4045b7fa_23b2_11ed_82ca_d4548bb590b3row10_col0\" class=\"data row10 col0\" >Quesnel River Research Centre </td>\n",
       "                        <td id=\"T_4045b7fa_23b2_11ed_82ca_d4548bb590b3row10_col1\" class=\"data row10 col1\" >This group can help with field assessments and project implementation. </td>\n",
       "            </tr>\n",
       "            <tr>\n",
       "                                <td id=\"T_4045b7fa_23b2_11ed_82ca_d4548bb590b3row11_col0\" class=\"data row11 col0\" >Steve Hocquard </td>\n",
       "                        <td id=\"T_4045b7fa_23b2_11ed_82ca_d4548bb590b3row11_col1\" class=\"data row11 col1\" >A local consultant (Steve Hocquard Consulting) that provided valuable review of barrier and habitat data to inform the spatial models used in this plan, and can help with field assessments and project implementation. </td>\n",
       "            </tr>\n",
       "            <tr>\n",
       "                                <td id=\"T_4045b7fa_23b2_11ed_82ca_d4548bb590b3row12_col0\" class=\"data row12 col0\" >Tolko Industries Ltd.  </td>\n",
       "                        <td id=\"T_4045b7fa_23b2_11ed_82ca_d4548bb590b3row12_col1\" class=\"data row12 col1\" >A privately owned Canadian forest products company that maintains forest service road-stream crossings in the Horsefly River watershed. </td>\n",
       "            </tr>\n",
       "            <tr>\n",
       "                                <td id=\"T_4045b7fa_23b2_11ed_82ca_d4548bb590b3row13_col0\" class=\"data row13 col0\" >Upper Fraser Fisheries Conservation Alliance </td>\n",
       "                        <td id=\"T_4045b7fa_23b2_11ed_82ca_d4548bb590b3row13_col1\" class=\"data row13 col1\" >This group can be contacted for advice and assistance. </td>\n",
       "            </tr>\n",
       "            <tr>\n",
       "                                <td id=\"T_4045b7fa_23b2_11ed_82ca_d4548bb590b3row14_col0\" class=\"data row14 col0\" >West Fraser </td>\n",
       "                        <td id=\"T_4045b7fa_23b2_11ed_82ca_d4548bb590b3row14_col1\" class=\"data row14 col1\" >A integrated forestry and diversified wood products company that maintains forest service road-stream crossings in the Horsefly River watershed. </td>\n",
       "            </tr>\n",
       "    </tbody></table>"
      ],
      "text/plain": [
       "<pandas.io.formats.style.Styler at 0x259f77f9b70>"
      ]
     },
     "execution_count": 1,
     "metadata": {},
     "output_type": "execute_result"
    }
   ],
   "source": [
    "from IPython.display import display\n",
    "import pandas as pd\n",
    "\n",
    "data = pd.read_csv('tables\\key_actors.csv', index_col=False)\n",
    "\n",
    "data.style.hide_index().set_properties(**{'text-align': 'left'})"
   ]
  }
 ],
 "metadata": {
  "kernelspec": {
   "display_name": "Python 3.7.0 ('test')",
   "language": "python",
   "name": "python3"
  },
  "language_info": {
   "codemirror_mode": {
    "name": "ipython",
    "version": 3
   },
   "file_extension": ".py",
   "mimetype": "text/x-python",
   "name": "python",
   "nbconvert_exporter": "python",
   "pygments_lexer": "ipython3",
   "version": "3.7.0"
  },
  "orig_nbformat": 4,
  "vscode": {
   "interpreter": {
    "hash": "4d32f471e4c787df35246a436d6b5da50fcc80632abe0dd119be69a8b3537624"
   }
  }
 },
 "nbformat": 4,
 "nbformat_minor": 2
}
