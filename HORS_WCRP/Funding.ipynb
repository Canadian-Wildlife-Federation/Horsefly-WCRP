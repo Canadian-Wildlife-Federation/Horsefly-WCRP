{
 "cells": [
  {
   "cell_type": "markdown",
   "metadata": {},
   "source": [
    "# Funding Sources\n",
    "\n",
    "Table 14. Potential funding sources for plan implementation in the Horsefly River watershed. The Canadian Wildlife Federation and the planning team can coordinate proposal submission through these sources. "
   ]
  },
  {
   "cell_type": "code",
   "execution_count": 1,
   "metadata": {
    "tags": [
     "remove-input"
    ]
   },
   "outputs": [
    {
     "name": "stderr",
     "output_type": "stream",
     "text": [
      "C:\\Users\\TMillaKoch\\AppData\\Local\\Temp\\ipykernel_22424\\4272521618.py:6: FutureWarning: this method is deprecated in favour of `Styler.hide(axis='index')`\n",
      "  data.style.hide_index().set_properties(**{'text-align': 'left'})\n"
     ]
    },
    {
     "data": {
      "text/html": [
       "<style type=\"text/css\">\n",
       "#T_dbb65_row0_col0, #T_dbb65_row0_col1, #T_dbb65_row1_col0, #T_dbb65_row1_col1, #T_dbb65_row2_col0, #T_dbb65_row2_col1, #T_dbb65_row3_col0, #T_dbb65_row3_col1, #T_dbb65_row4_col0, #T_dbb65_row4_col1, #T_dbb65_row5_col0, #T_dbb65_row5_col1, #T_dbb65_row6_col0, #T_dbb65_row6_col1, #T_dbb65_row7_col0, #T_dbb65_row7_col1, #T_dbb65_row8_col0, #T_dbb65_row8_col1, #T_dbb65_row9_col0, #T_dbb65_row9_col1, #T_dbb65_row10_col0, #T_dbb65_row10_col1, #T_dbb65_row11_col0, #T_dbb65_row11_col1, #T_dbb65_row12_col0, #T_dbb65_row12_col1, #T_dbb65_row13_col0, #T_dbb65_row13_col1, #T_dbb65_row14_col0, #T_dbb65_row14_col1, #T_dbb65_row15_col0, #T_dbb65_row15_col1, #T_dbb65_row16_col0, #T_dbb65_row16_col1, #T_dbb65_row17_col0, #T_dbb65_row17_col1 {\n",
       "  text-align: left;\n",
       "}\n",
       "</style>\n",
       "<table id=\"T_dbb65\">\n",
       "  <thead>\n",
       "    <tr>\n",
       "      <th id=\"T_dbb65_level0_col0\" class=\"col_heading level0 col0\" >Funding Source</th>\n",
       "      <th id=\"T_dbb65_level0_col1\" class=\"col_heading level0 col1\" >Spending Restrictions and Other Consideration</th>\n",
       "    </tr>\n",
       "  </thead>\n",
       "  <tbody>\n",
       "    <tr>\n",
       "      <td id=\"T_dbb65_row0_col0\" class=\"data row0 col0\" >Land Based Investment Strategy</td>\n",
       "      <td id=\"T_dbb65_row0_col1\" class=\"data row0 col1\" >Assessment and remediation of fish passage using provincial strategic approach. Primarily for remediation of Ministry-owned/orphaned barriers on forest service roads.</td>\n",
       "    </tr>\n",
       "    <tr>\n",
       "      <td id=\"T_dbb65_row1_col0\" class=\"data row1 col0\" >Environmental Enhancement Fund</td>\n",
       "      <td id=\"T_dbb65_row1_col1\" class=\"data row1 col1\" >Fish and wildlife passage improvements and restoration at stream and animal crossings at MOTI roads including culvert retrofits and replacement to restore Pacific salmon and trout access, and wildlife tunnels. Primarily for crossings linked to highway infrastructure.</td>\n",
       "    </tr>\n",
       "    <tr>\n",
       "      <td id=\"T_dbb65_row2_col0\" class=\"data row2 col0\" >Community Salmon Program</td>\n",
       "      <td id=\"T_dbb65_row2_col1\" class=\"data row2 col1\" >For projects supporting the protection, conservation and enhancement or rehabilitation of Pacific salmonids and their habitat. Funding for volunteer and not-for-profit community-based groups. Applicant must have a significant volunteer component to their group and to the project. Requires 50% match for funding (volunteer, in-kind, donation or other grants). </td>\n",
       "    </tr>\n",
       "    <tr>\n",
       "      <td id=\"T_dbb65_row3_col0\" class=\"data row3 col0\" >Southern Boundary Restoration and Enhancement Fund</td>\n",
       "      <td id=\"T_dbb65_row3_col1\" class=\"data row3 col1\" >Supports 3 activities: (1) develop improved information for resource management; (2) Rehabilitate and restore marine and freshwater habitat; and (3) enhance wild stock production through low technology techniques. Emphasis for funding is on stocks of conservation concern, particularly those contributing to a fishery and stocks of bilateral fishery relevance.</td>\n",
       "    </tr>\n",
       "    <tr>\n",
       "      <td id=\"T_dbb65_row4_col0\" class=\"data row4 col0\" >Habitat Conservation Trust Foundation Enhancement and Restoration Grants</td>\n",
       "      <td id=\"T_dbb65_row4_col1\" class=\"data row4 col1\" >Projects that focus on freshwater wild fish, native wildlife species and their habitats, have the potential to achieve a significant conservation outcome, while maintaining or enhancing opportunities for fishing, hunting, trapping, wildlife viewing and associated outdoor recreational activities. Primary focus is on provincially managed fisheries such as Steelhead and Westslope Cutthroat Trout. Requires 50% funding match.</td>\n",
       "    </tr>\n",
       "    <tr>\n",
       "      <td id=\"T_dbb65_row5_col0\" class=\"data row5 col0\" >Environmental Damages Fund</td>\n",
       "      <td id=\"T_dbb65_row5_col1\" class=\"data row5 col1\" >Direct funds received from fines, court orders and voluntary payments to priority projects that will benefit Canada’s natural environment, under 4 categories of improvement (in order of preference): (1) restoration, (2) environmental quality improvement, (3) research and development, and (4) education and awareness.</td>\n",
       "    </tr>\n",
       "    <tr>\n",
       "      <td id=\"T_dbb65_row6_col0\" class=\"data row6 col0\" >Habitat Stewardship Program for Aquatic Species at Risk</td>\n",
       "      <td id=\"T_dbb65_row6_col1\" class=\"data row6 col1\" >Program for non-profits, Indigenous governments, academic institutions for activities that align with recovery actions identified in SARA recovery documents and/or COSEWIC assessment documents. Project must address one or more of 3 broad categories: (1) Important habitat for aquatic species at risk is improved and/or managed to meet their recovery needs; (2) Threats to aquatic species at risk and/or their habitat are stopped, removed, and/or mitigated; (3) Collaboration and partnerships support the conservation and recovery of aquatic species at risk. Limited to at-risk species listed under COSEWIC and/or SARA as threatened, endangered or special concern. </td>\n",
       "    </tr>\n",
       "    <tr>\n",
       "      <td id=\"T_dbb65_row7_col0\" class=\"data row7 col0\" >Canada Nature Fund for Aquatic Species at Risk</td>\n",
       "      <td id=\"T_dbb65_row7_col1\" class=\"data row7 col1\" >Funding program aimed at addressing priority threats for aquatic species at risk listed as endangered, threatened or Special Concern by COSEWIC, as they align with existing federal, provincial or other local recovery plans. Limited to species in the Columbia and Fraser basins in BC, among other priority areas across Canada. Focus on multi-year, multi-partner initiatives that apply an ecosystem or multi-species approach and create a legacy by enabling recovery actions that carry beyond the life of the funding program. Amounts from $100K-$1M available per year.</td>\n",
       "    </tr>\n",
       "    <tr>\n",
       "      <td id=\"T_dbb65_row8_col0\" class=\"data row8 col0\" >BC Salmon Restoration and Innovation Fund</td>\n",
       "      <td id=\"T_dbb65_row8_col1\" class=\"data row8 col1\" >Funding for Indigenous enterprises, academia, industry associations, stewardship groups and commercial groups to support initiatives that support the protection and restoration of wild Pacific salmon and other BC fish stocks or ensure fish and seafood sector in BC is environmentally and economically sustainable. Five main priorities including species of concern rebuilding through habitat restoration with priority for projects that are part of a watershed-scale restoration plan/prioritization effort; build on successful previous restoration efforts; focus on critical habitat and/or the rehabilitation of natural ecosystem processes.</td>\n",
       "    </tr>\n",
       "    <tr>\n",
       "      <td id=\"T_dbb65_row9_col0\" class=\"data row9 col0\" >Aboriginal Fund for Species at Risk</td>\n",
       "      <td id=\"T_dbb65_row9_col1\" class=\"data row9 col1\" >Program for Indigenous groups for activities that align with recovery actions identified in SARA recovery documents and/or COSEWIC assessment documents for species listed as Endangered, Threatened, or Special Concern by SARA or COSEWIC. Project must address one or more of 4 broad categories: (1) Habitat for species at risk is improved and/or managed to meet their recovery needs; (2) Threats to species at risk and/or their habitat are stopped, removed and/or mitigated; (3) Collaboration, information sharing and partnership between Indigenous communities, governments and organizations and other interested parties (e.g. federal/provincial/territorial governments, academia, industry, private sector) is enhanced; and (4) Capacity within Indigenous communities, to lead in the stewardship of species at risk and contribute to broader SARA implementation, is strengthened. </td>\n",
       "    </tr>\n",
       "    <tr>\n",
       "      <td id=\"T_dbb65_row10_col0\" class=\"data row10 col0\" >Federal Gas Tax Fund - Community Works Fund</td>\n",
       "      <td id=\"T_dbb65_row10_col1\" class=\"data row10 col1\" >Funding available to local governments from federal gas tax, with funds to be allocated for a variety of municipal projects/initiatives, including local roads/bridges and disaster mitigation.</td>\n",
       "    </tr>\n",
       "    <tr>\n",
       "      <td id=\"T_dbb65_row11_col0\" class=\"data row11 col0\" >Disaster Mitigation and Adaptation Fund</td>\n",
       "      <td id=\"T_dbb65_row11_col1\" class=\"data row11 col1\" >For those projects where flood risk is high: Funding available to local, regional and provincial governments, private sector, non-profit organizations, and Indigenous groups for projects aimed at reducing the socio-economic, environmental and cultural impacts triggered by natural hazards and extreme weather events and taking into consideration current and future impacts of climate change in communities and infrastructure at high risk. Includes both new construction of public infrastructure and modification/reinforcement of existing infrastructure. Projects must have a minimum of $20 M in eligible expenditures and can be bundled together.</td>\n",
       "    </tr>\n",
       "    <tr>\n",
       "      <td id=\"T_dbb65_row12_col0\" class=\"data row12 col0\" >Community Gaming Grants</td>\n",
       "      <td id=\"T_dbb65_row12_col1\" class=\"data row12 col1\" >Funding for non-profit organizations (check funding program guidelines for specific eligibility requirements) for programs that help to protect and improve the environment by: (1) Conserving or revitalizing local ecosystems, (2) Reducing greenhouse gas emissions, (3) Providing community education or engagement opportunities related to the environment and agriculture or (4) Supporting the welfare of domestic animals and/or wildlife. Grants range from $100K-250K per year.</td>\n",
       "    </tr>\n",
       "    <tr>\n",
       "      <td id=\"T_dbb65_row13_col0\" class=\"data row13 col0\" >Sitka Foundation</td>\n",
       "      <td id=\"T_dbb65_row13_col1\" class=\"data row13 col1\" >Funding for registered charities, universities, and government agencies (qualified Canadian organizations) for projects related to coastline and watershed conservation and climate change in 4 key areas: (1) land, water, and ocean conservation, (2) scientific research for nature and the environment, (3)  public engagement around the importance of a healthy environment, (4) innovative conservation efforts in Canadian communities, at the local, provincial, and federal levels</td>\n",
       "    </tr>\n",
       "    <tr>\n",
       "      <td id=\"T_dbb65_row14_col0\" class=\"data row14 col0\" >TULA Foundation</td>\n",
       "      <td id=\"T_dbb65_row14_col1\" class=\"data row14 col1\" >Supports various environmental programs of interest to the Foundation on a case-by-case basis.</td>\n",
       "    </tr>\n",
       "    <tr>\n",
       "      <td id=\"T_dbb65_row15_col0\" class=\"data row15 col0\" >Vancouver Foundation</td>\n",
       "      <td id=\"T_dbb65_row15_col1\" class=\"data row15 col1\" >Granting agency for community, social and environmental initiatives for qualified Canadian organizations (charitable organizations, universities, government agencies). Granting programs change on an annual basis.</td>\n",
       "    </tr>\n",
       "    <tr>\n",
       "      <td id=\"T_dbb65_row16_col0\" class=\"data row16 col0\" >BC Conservation Foundation Small Project Fund</td>\n",
       "      <td id=\"T_dbb65_row16_col1\" class=\"data row16 col1\" >Funding available to Non-profits, fish and wildlife clubs (sportsmen’s associations), businesses, local/regional governments, public organizations and First Nations for projects with demonstrated positive impact for fish, wildlife and habitat, including outreach programs. Preference given to projects where BCCF is not the sole funder.</td>\n",
       "    </tr>\n",
       "    <tr>\n",
       "      <td id=\"T_dbb65_row17_col0\" class=\"data row17 col0\" >Real Estate Foundation of BC General Grants</td>\n",
       "      <td id=\"T_dbb65_row17_col1\" class=\"data row17 col1\" >Funding for First Nations, charities and societies, non-governmental organizations, universities and colleges, trade associations, local and regional governments, and social enterprises registered as C3s for sustainable land use and real estate practices in BC. Funds up to 50% of cash portion of a project.</td>\n",
       "    </tr>\n",
       "  </tbody>\n",
       "</table>\n"
      ],
      "text/plain": [
       "<pandas.io.formats.style.Styler at 0x21413acccd0>"
      ]
     },
     "execution_count": 1,
     "metadata": {},
     "output_type": "execute_result"
    }
   ],
   "source": [
    "from IPython.display import display\n",
    "import pandas as pd\n",
    "import warnings\n",
    "\n",
    "warnings.filterwarnings('ignore')\n",
    "\n",
    "data = pd.read_csv('Table14.csv', index_col=False)\n",
    "\n",
    "data.style.hide_index().set_properties(**{'text-align': 'left'})"
   ]
  }
 ],
 "metadata": {
  "kernelspec": {
   "display_name": "Python 3.9.12 ('base')",
   "language": "python",
   "name": "python3"
  },
  "language_info": {
   "codemirror_mode": {
    "name": "ipython",
    "version": 3
   },
   "file_extension": ".py",
   "mimetype": "text/x-python",
   "name": "python",
   "nbconvert_exporter": "python",
   "pygments_lexer": "ipython3",
   "version": "3.9.12"
  },
  "orig_nbformat": 4,
  "vscode": {
   "interpreter": {
    "hash": "1a691173e7a62553180679e561c07fad99f81da18576315296ff93022e033d3e"
   }
  }
 },
 "nbformat": 4,
 "nbformat_minor": 2
}
