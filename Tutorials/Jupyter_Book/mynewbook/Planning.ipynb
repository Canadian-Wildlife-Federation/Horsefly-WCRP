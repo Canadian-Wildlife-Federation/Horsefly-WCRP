{
 "cells": [
  {
   "cell_type": "markdown",
   "metadata": {},
   "source": [
    "# Planning Team"
   ]
  },
  {
   "cell_type": "markdown",
   "metadata": {},
   "source": [
    "Table 1. Horsefly River watershed WCRP planning team members. Planning team members contributed to the development of this plan by participating in a series of workshops and document and data review. The plan was generated based on the input and feedback of the local groups and organizations listed in this table."
   ]
  },
  {
   "cell_type": "code",
   "execution_count": 1,
   "metadata": {
    "tags": [
     "remove-input"
    ]
   },
   "outputs": [
    {
     "name": "stderr",
     "output_type": "stream",
     "text": [
      "C:\\Users\\TMillaKoch\\AppData\\Local\\Temp\\ipykernel_8984\\3571023619.py:4: FutureWarning: this method is deprecated in favour of `Styler.hide(axis='index')`\n",
      "  data = pd.read_csv('tables\\planning_team.csv', index_col=False).style.hide_index()\n"
     ]
    },
    {
     "data": {
      "text/html": [
       "<style type=\"text/css\">\n",
       "</style>\n",
       "<table id=\"T_8eabc\">\n",
       "  <thead>\n",
       "    <tr>\n",
       "      <th id=\"T_8eabc_level0_col0\" class=\"col_heading level0 col0\" >Name</th>\n",
       "      <th id=\"T_8eabc_level0_col1\" class=\"col_heading level0 col1\" >Organization</th>\n",
       "    </tr>\n",
       "  </thead>\n",
       "  <tbody>\n",
       "    <tr>\n",
       "      <td id=\"T_8eabc_row0_col0\" class=\"data row0 col0\" >Betty Rebellato</td>\n",
       "      <td id=\"T_8eabc_row0_col1\" class=\"data row0 col1\" >Canadian Wildlife Federation</td>\n",
       "    </tr>\n",
       "    <tr>\n",
       "      <td id=\"T_8eabc_row1_col0\" class=\"data row1 col0\" >Nick Mazany-Wright</td>\n",
       "      <td id=\"T_8eabc_row1_col1\" class=\"data row1 col1\" >Canadian Wildlife Federation</td>\n",
       "    </tr>\n",
       "    <tr>\n",
       "      <td id=\"T_8eabc_row2_col0\" class=\"data row2 col0\" >Nicolas Lapointe</td>\n",
       "      <td id=\"T_8eabc_row2_col1\" class=\"data row2 col1\" >Canadian Wildlife Federation</td>\n",
       "    </tr>\n",
       "    <tr>\n",
       "      <td id=\"T_8eabc_row3_col0\" class=\"data row3 col0\" >Sarah Sra</td>\n",
       "      <td id=\"T_8eabc_row3_col1\" class=\"data row3 col1\" >Canadian Wildlife Federation</td>\n",
       "    </tr>\n",
       "    <tr>\n",
       "      <td id=\"T_8eabc_row4_col0\" class=\"data row4 col0\" >Colin McGregor</td>\n",
       "      <td id=\"T_8eabc_row4_col1\" class=\"data row4 col1\" >Department of Fisheries and Oceans Canada</td>\n",
       "    </tr>\n",
       "    <tr>\n",
       "      <td id=\"T_8eabc_row5_col0\" class=\"data row5 col0\" >Guy Scharf</td>\n",
       "      <td id=\"T_8eabc_row5_col1\" class=\"data row5 col1\" >Department of Fisheries and Oceans Canada</td>\n",
       "    </tr>\n",
       "    <tr>\n",
       "      <td id=\"T_8eabc_row6_col0\" class=\"data row6 col0\" >Thomas Gristey</td>\n",
       "      <td id=\"T_8eabc_row6_col1\" class=\"data row6 col1\" >Department of Fisheries and Oceans Canada</td>\n",
       "    </tr>\n",
       "    <tr>\n",
       "      <td id=\"T_8eabc_row7_col0\" class=\"data row7 col0\" >Simon Norris</td>\n",
       "      <td id=\"T_8eabc_row7_col1\" class=\"data row7 col1\" >Hillcrest Geographics</td>\n",
       "    </tr>\n",
       "    <tr>\n",
       "      <td id=\"T_8eabc_row8_col0\" class=\"data row8 col0\" >Brian Englund</td>\n",
       "      <td id=\"T_8eabc_row8_col1\" class=\"data row8 col1\" >Horsefly River Roundtable</td>\n",
       "    </tr>\n",
       "    <tr>\n",
       "      <td id=\"T_8eabc_row9_col0\" class=\"data row9 col0\" >Helen Englund</td>\n",
       "      <td id=\"T_8eabc_row9_col1\" class=\"data row9 col1\" >Horsefly River Roundtable</td>\n",
       "    </tr>\n",
       "    <tr>\n",
       "      <td id=\"T_8eabc_row10_col0\" class=\"data row10 col0\" >Judy Hillaby</td>\n",
       "      <td id=\"T_8eabc_row10_col1\" class=\"data row10 col1\" >Horsefly River Roundtable</td>\n",
       "    </tr>\n",
       "    <tr>\n",
       "      <td id=\"T_8eabc_row11_col0\" class=\"data row11 col0\" >Mike Ramsay</td>\n",
       "      <td id=\"T_8eabc_row11_col1\" class=\"data row11 col1\" >Ministry of Forests, Lands and Natural Resource Operations</td>\n",
       "    </tr>\n",
       "    <tr>\n",
       "      <td id=\"T_8eabc_row12_col0\" class=\"data row12 col0\" >Kate Hewitt</td>\n",
       "      <td id=\"T_8eabc_row12_col1\" class=\"data row12 col1\" >Northern Shuswap Tribal Council</td>\n",
       "    </tr>\n",
       "    <tr>\n",
       "      <td id=\"T_8eabc_row13_col0\" class=\"data row13 col0\" >Edna Boston</td>\n",
       "      <td id=\"T_8eabc_row13_col1\" class=\"data row13 col1\" >Soda Creek Indian Band</td>\n",
       "    </tr>\n",
       "    <tr>\n",
       "      <td id=\"T_8eabc_row14_col0\" class=\"data row14 col0\" >Mike Stinson</td>\n",
       "      <td id=\"T_8eabc_row14_col1\" class=\"data row14 col1\" >Soda Creek Indian Band</td>\n",
       "    </tr>\n",
       "    <tr>\n",
       "      <td id=\"T_8eabc_row15_col0\" class=\"data row15 col0\" >John Walker</td>\n",
       "      <td id=\"T_8eabc_row15_col1\" class=\"data row15 col1\" >Williams Lake First Nation</td>\n",
       "    </tr>\n",
       "    <tr>\n",
       "      <td id=\"T_8eabc_row16_col0\" class=\"data row16 col0\" >Nishitha Singi</td>\n",
       "      <td id=\"T_8eabc_row16_col1\" class=\"data row16 col1\" >Williams Lake First Nation</td>\n",
       "    </tr>\n",
       "    <tr>\n",
       "      <td id=\"T_8eabc_row17_col0\" class=\"data row17 col0\" >Josh Noseworthy</td>\n",
       "      <td id=\"T_8eabc_row17_col1\" class=\"data row17 col1\" >Global Conservation Solutions</td>\n",
       "    </tr>\n",
       "  </tbody>\n",
       "</table>\n"
      ],
      "text/plain": [
       "<pandas.io.formats.style.Styler at 0x272f1ea25b0>"
      ]
     },
     "metadata": {},
     "output_type": "display_data"
    }
   ],
   "source": [
    "from IPython.display import display, HTML\n",
    "import pandas as pd\n",
    "\n",
    "data = pd.read_csv('tables\\planning_team.csv', index_col=False).style.hide_index()\n",
    "\n",
    "display(data)"
   ]
  },
  {
   "cell_type": "markdown",
   "metadata": {},
   "source": [
    "# Key Actors\n",
    "\n",
    "Table 2. Additional Key Actors in the Horsefly River watershed. Key Actors are the individuals, groups, and/or organizations, outside of the planning team, with influence and relevant experience in the watershed, whose engagement will be critical for the successful implementation of this WCRP. "
   ]
  },
  {
   "cell_type": "code",
   "execution_count": 2,
   "metadata": {},
   "outputs": [
    {
     "name": "stderr",
     "output_type": "stream",
     "text": [
      "C:\\Users\\TMillaKoch\\AppData\\Local\\Temp\\ipykernel_8984\\1325250158.py:6: FutureWarning: this method is deprecated in favour of `Styler.hide(axis='index')`\n",
      "  data.style.hide_index().set_properties(**{'text-align': 'left'})\n"
     ]
    },
    {
     "data": {
      "text/html": [
       "<style type=\"text/css\">\n",
       "#T_1f49f_row0_col0, #T_1f49f_row0_col1, #T_1f49f_row1_col0, #T_1f49f_row1_col1, #T_1f49f_row2_col0, #T_1f49f_row2_col1, #T_1f49f_row3_col0, #T_1f49f_row3_col1, #T_1f49f_row4_col0, #T_1f49f_row4_col1, #T_1f49f_row5_col0, #T_1f49f_row5_col1, #T_1f49f_row6_col0, #T_1f49f_row6_col1, #T_1f49f_row7_col0, #T_1f49f_row7_col1, #T_1f49f_row8_col0, #T_1f49f_row8_col1, #T_1f49f_row9_col0, #T_1f49f_row9_col1, #T_1f49f_row10_col0, #T_1f49f_row10_col1, #T_1f49f_row11_col0, #T_1f49f_row11_col1, #T_1f49f_row12_col0, #T_1f49f_row12_col1, #T_1f49f_row13_col0, #T_1f49f_row13_col1, #T_1f49f_row14_col0, #T_1f49f_row14_col1 {\n",
       "  text-align: left;\n",
       "}\n",
       "</style>\n",
       "<table id=\"T_1f49f\">\n",
       "  <thead>\n",
       "    <tr>\n",
       "      <th id=\"T_1f49f_level0_col0\" class=\"col_heading level0 col0\" >Individual or Organization Name</th>\n",
       "      <th id=\"T_1f49f_level0_col1\" class=\"col_heading level0 col1\" >Role and Primary Interest</th>\n",
       "    </tr>\n",
       "  </thead>\n",
       "  <tbody>\n",
       "    <tr>\n",
       "      <td id=\"T_1f49f_row0_col0\" class=\"data row0 col0\" >Cariboo Mining Association </td>\n",
       "      <td id=\"T_1f49f_row0_col1\" class=\"data row0 col1\" >A mining company that has been operating in central BC since the 1950’s and can help provide data and facilitate remediation work. </td>\n",
       "    </tr>\n",
       "    <tr>\n",
       "      <td id=\"T_1f49f_row1_col0\" class=\"data row1 col0\" >Consus Management Ltd.  </td>\n",
       "      <td id=\"T_1f49f_row1_col1\" class=\"data row1 col1\" >Local wildlife consultants in the watershed to consider for future work. </td>\n",
       "    </tr>\n",
       "    <tr>\n",
       "      <td id=\"T_1f49f_row2_col0\" class=\"data row2 col0\" >Dawson Road Maintenance Ltd </td>\n",
       "      <td id=\"T_1f49f_row2_col1\" class=\"data row2 col1\" >A road design and maintenance company at the roadway-watershed interface. </td>\n",
       "    </tr>\n",
       "    <tr>\n",
       "      <td id=\"T_1f49f_row3_col0\" class=\"data row3 col0\" >DWB Consulting Services Ltd.  </td>\n",
       "      <td id=\"T_1f49f_row3_col1\" class=\"data row3 col1\" >Local wildlife consultants in the watershed to consider for future work. </td>\n",
       "    </tr>\n",
       "    <tr>\n",
       "      <td id=\"T_1f49f_row4_col0\" class=\"data row4 col0\" >Freshwater Fisheries Society of British Columbia </td>\n",
       "      <td id=\"T_1f49f_row4_col1\" class=\"data row4 col1\" >This group can provide project assistance with non-anadromous species.  </td>\n",
       "    </tr>\n",
       "    <tr>\n",
       "      <td id=\"T_1f49f_row5_col0\" class=\"data row5 col0\" >Larry Davis  </td>\n",
       "      <td id=\"T_1f49f_row5_col1\" class=\"data row5 col1\" >A biologist and local wildlife consultant in the watershed. </td>\n",
       "    </tr>\n",
       "    <tr>\n",
       "      <td id=\"T_1f49f_row6_col0\" class=\"data row6 col0\" >Local ranchers </td>\n",
       "      <td id=\"T_1f49f_row6_col1\" class=\"data row6 col1\" >These individuals can facilitate construction as well as consent/facilitate complimentary works on private property to improve fish habitat upstream and downstream. </td>\n",
       "    </tr>\n",
       "    <tr>\n",
       "      <td id=\"T_1f49f_row7_col0\" class=\"data row7 col0\" >Ministry of Forests, Lands and Natural Resource Operations (FLNRO)</td>\n",
       "      <td id=\"T_1f49f_row7_col1\" class=\"data row7 col1\" >FLNRO can assist with providing local knowledge, data, expertise and can facilitate remediation work. </td>\n",
       "    </tr>\n",
       "    <tr>\n",
       "      <td id=\"T_1f49f_row8_col0\" class=\"data row8 col0\" >Ministry of Transportation and Infrastructure (MOTI)</td>\n",
       "      <td id=\"T_1f49f_row8_col1\" class=\"data row8 col1\" >MOTI may own barriers and can play a role in improving and replacing barriers at highway crossings. </td>\n",
       "    </tr>\n",
       "    <tr>\n",
       "      <td id=\"T_1f49f_row9_col0\" class=\"data row9 col0\" >Property owners along river and tributaries </td>\n",
       "      <td id=\"T_1f49f_row9_col1\" class=\"data row9 col1\" >These individuals can facilitate construction as well as consent/facilitate complimentary works on private property to improve fish habitat upstream and downstream. </td>\n",
       "    </tr>\n",
       "    <tr>\n",
       "      <td id=\"T_1f49f_row10_col0\" class=\"data row10 col0\" >Quesnel River Research Centre </td>\n",
       "      <td id=\"T_1f49f_row10_col1\" class=\"data row10 col1\" >This group can help with field assessments and project implementation. </td>\n",
       "    </tr>\n",
       "    <tr>\n",
       "      <td id=\"T_1f49f_row11_col0\" class=\"data row11 col0\" >Steve Hocquard </td>\n",
       "      <td id=\"T_1f49f_row11_col1\" class=\"data row11 col1\" >A local consultant (Steve Hocquard Consulting) that provided valuable review of barrier and habitat data to inform the spatial models used in this plan, and can help with field assessments and project implementation. </td>\n",
       "    </tr>\n",
       "    <tr>\n",
       "      <td id=\"T_1f49f_row12_col0\" class=\"data row12 col0\" >Tolko Industries Ltd.  </td>\n",
       "      <td id=\"T_1f49f_row12_col1\" class=\"data row12 col1\" >A privately owned Canadian forest products company that maintains forest service road-stream crossings in the Horsefly River watershed. </td>\n",
       "    </tr>\n",
       "    <tr>\n",
       "      <td id=\"T_1f49f_row13_col0\" class=\"data row13 col0\" >Upper Fraser Fisheries Conservation Alliance </td>\n",
       "      <td id=\"T_1f49f_row13_col1\" class=\"data row13 col1\" >This group can be contacted for advice and assistance. </td>\n",
       "    </tr>\n",
       "    <tr>\n",
       "      <td id=\"T_1f49f_row14_col0\" class=\"data row14 col0\" >West Fraser </td>\n",
       "      <td id=\"T_1f49f_row14_col1\" class=\"data row14 col1\" >A integrated forestry and diversified wood products company that maintains forest service road-stream crossings in the Horsefly River watershed. </td>\n",
       "    </tr>\n",
       "  </tbody>\n",
       "</table>\n"
      ],
      "text/plain": [
       "<pandas.io.formats.style.Styler at 0x272f24589d0>"
      ]
     },
     "execution_count": 2,
     "metadata": {},
     "output_type": "execute_result"
    }
   ],
   "source": [
    "from IPython.display import display\n",
    "import pandas as pd\n",
    "\n",
    "data = pd.read_csv('tables\\key_actors.csv', index_col=False)\n",
    "\n",
    "data.style.hide_index().set_properties(**{'text-align': 'left'})"
   ]
  }
 ],
 "metadata": {
  "kernelspec": {
   "display_name": "Python 3.9.12 ('base')",
   "language": "python",
   "name": "python3"
  },
  "language_info": {
   "codemirror_mode": {
    "name": "ipython",
    "version": 3
   },
   "file_extension": ".py",
   "mimetype": "text/x-python",
   "name": "python",
   "nbconvert_exporter": "python",
   "pygments_lexer": "ipython3",
   "version": "3.9.12"
  },
  "orig_nbformat": 4,
  "vscode": {
   "interpreter": {
    "hash": "1a691173e7a62553180679e561c07fad99f81da18576315296ff93022e033d3e"
   }
  }
 },
 "nbformat": 4,
 "nbformat_minor": 2
}
