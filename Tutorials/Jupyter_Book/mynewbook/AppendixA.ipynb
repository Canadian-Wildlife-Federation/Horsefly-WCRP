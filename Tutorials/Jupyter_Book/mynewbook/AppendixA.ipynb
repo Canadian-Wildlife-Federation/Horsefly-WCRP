{
 "cells": [
  {
   "cell_type": "markdown",
   "metadata": {},
   "source": [
    "# Appendix A"
   ]
  },
  {
   "cell_type": "markdown",
   "metadata": {},
   "source": [
    "## Appendix A.1: Modelled Anadromous Salmon Habitat Maps\n",
    "\n",
    "High-resolution PDF maps of the Horsefly River watershed and model results can be accessed [here](https://github.com/smnorris/bcfishpass/tree/main/wcrp/pdfs). The watershed is divided into multiple maps sheets to allow for detailed examination of modelled spawning and rearing habitat, multiple barrier types, and priority barriers identified through this planning process. The locations of WCRP priority barriers and associated map sheet numbers are shown below. In each individual map sheet, priority barriers are symbolized using the following notation: "
   ]
  },
  {
   "cell_type": "markdown",
   "metadata": {},
   "source": [
    "```{figure} figure8.png\n",
    "---\n",
    "height: 400px\n",
    "width: 1000px\n",
    "name: fig8\n",
    "---\n",
    "Horsefly River watershed overview map identifying the portions of the watershed covered by each map sheet (grey squares) and the prioritized barriers on the intermediate barrier list (orange points; see Appendix C).\n",
    "```"
   ]
  },
  {
   "cell_type": "markdown",
   "metadata": {},
   "source": [
    "## Appendix A.2: Connectivity Status Assessment Methods\n",
    "\n",
    "The connectivity status assessment for anadromous salmonids in the Horsefly River watershed builds on existing connectivity modelling work undertaken by the BC Fish Passage Technical Working Group, resulting in a flexible, customizable open-source spatial model called \"bcfishpass\". The model spatially locates known and modelled barriers to fish passage, identifies potential spawning and rearing habitat for target species, and estimates the amount of habitat that is currently accessible to target species. The model uses an adapted version of the Intrinsic Potential (IP) fish habitat modelling framework (see Sheer et al. 2009 for an overview of the IP framework). The habitat model uses two geomorphic characteristics of the stream network — channel gradient and mean annual discharge — to identify potential spawning habitat and rearing habitat for each target species. The habitat model does not attempt to definitively map each habitat type nor estimate habitat quality, but rather identifies stream segments that have high potential to support spawning or rearing habitat for each species based on the geomorphic characteristics of the segment. For more details on the connectivity and habitat model structure and parameters, please see Mazany-Wright et al. 2021a. The variables and thresholds used to model potential spawning and rearing habitat for each target species are summarized in Table 15. The quantity of modelled habitat for each species was aggregated for each habitat type and represents a linear measure of potential habitat. To recognize the rearing value provided by features represented by polygons for certain species (e.g., wetlands for Coho Salmon and lakes for Sockeye Salmon) a multiplier of 1.5x the length of the stream segments flowing through the polygons was applied.\n",
    "\n",
    "Table 15. Parameters and thresholds used to inform the Intrinsic Potential habitat model for spawning and rearing habitat for each target species in the Horsefly River watershed."
   ]
  },
  {
   "cell_type": "code",
   "execution_count": 1,
   "metadata": {
    "tags": [
     "remove-input"
    ]
   },
   "outputs": [
    {
     "name": "stderr",
     "output_type": "stream",
     "text": [
      "C:\\Users\\TMillaKoch\\AppData\\Local\\Temp\\ipykernel_13408\\3156360272.py:10: FutureWarning: this method is deprecated in favour of `Styler.hide(axis='index')`\n",
      "  data.style.hide_index().set_properties(**{'text-align': 'left'})\n"
     ]
    },
    {
     "data": {
      "text/html": [
       "<style type=\"text/css\">\n",
       "#T_51bf5_row0_col0, #T_51bf5_row0_col1, #T_51bf5_row0_col2, #T_51bf5_row0_col3, #T_51bf5_row0_col4, #T_51bf5_row0_col5, #T_51bf5_row0_col6, #T_51bf5_row1_col0, #T_51bf5_row1_col1, #T_51bf5_row1_col2, #T_51bf5_row1_col3, #T_51bf5_row1_col4, #T_51bf5_row1_col5, #T_51bf5_row1_col6, #T_51bf5_row2_col0, #T_51bf5_row2_col1, #T_51bf5_row2_col2, #T_51bf5_row2_col3, #T_51bf5_row2_col4, #T_51bf5_row2_col5, #T_51bf5_row2_col6, #T_51bf5_row3_col0, #T_51bf5_row3_col1, #T_51bf5_row3_col2, #T_51bf5_row3_col3, #T_51bf5_row3_col4, #T_51bf5_row3_col5, #T_51bf5_row3_col6, #T_51bf5_row4_col0, #T_51bf5_row4_col1, #T_51bf5_row4_col2, #T_51bf5_row4_col3, #T_51bf5_row4_col4, #T_51bf5_row4_col5, #T_51bf5_row4_col6, #T_51bf5_row5_col0, #T_51bf5_row5_col1, #T_51bf5_row5_col2, #T_51bf5_row5_col3, #T_51bf5_row5_col4, #T_51bf5_row5_col5, #T_51bf5_row5_col6 {\n",
       "  text-align: left;\n",
       "}\n",
       "</style>\n",
       "<table id=\"T_51bf5\">\n",
       "  <thead>\n",
       "    <tr>\n",
       "      <th id=\"T_51bf5_level0_col0\" class=\"col_heading level0 col0\" >Species</th>\n",
       "      <th id=\"T_51bf5_level0_col1\" class=\"col_heading level0 col1\" >Channel Gradient (%)</th>\n",
       "      <th id=\"T_51bf5_level0_col2\" class=\"col_heading level0 col2\" >Mean annual discharge (m3/s)</th>\n",
       "      <th id=\"T_51bf5_level0_col3\" class=\"col_heading level0 col3\" >Channel Gradient (%).1</th>\n",
       "      <th id=\"T_51bf5_level0_col4\" class=\"col_heading level0 col4\" >Mean annual discharge (m3/s).1</th>\n",
       "      <th id=\"T_51bf5_level0_col5\" class=\"col_heading level0 col5\" >Minimum Lake area (ha)</th>\n",
       "      <th id=\"T_51bf5_level0_col6\" class=\"col_heading level0 col6\" >Multiplier (1.5x)</th>\n",
       "    </tr>\n",
       "  </thead>\n",
       "  <tbody>\n",
       "    <tr>\n",
       "      <td id=\"T_51bf5_row0_col0\" class=\"data row0 col0\" >Chinook Salmon</td>\n",
       "      <td id=\"T_51bf5_row0_col1\" class=\"data row0 col1\" >0-3</td>\n",
       "      <td id=\"T_51bf5_row0_col2\" class=\"data row0 col2\" >0.46-322.5</td>\n",
       "      <td id=\"T_51bf5_row0_col3\" class=\"data row0 col3\" >0-5</td>\n",
       "      <td id=\"T_51bf5_row0_col4\" class=\"data row0 col4\" >0.28-100</td>\n",
       "      <td id=\"T_51bf5_row0_col5\" class=\"data row0 col5\" ></td>\n",
       "      <td id=\"T_51bf5_row0_col6\" class=\"data row0 col6\" ></td>\n",
       "    </tr>\n",
       "    <tr>\n",
       "      <td id=\"T_51bf5_row1_col0\" class=\"data row1 col0\" ></td>\n",
       "      <td id=\"T_51bf5_row1_col1\" class=\"data row1 col1\" >(Busch et al. 2011, Cooney and Holzer 2006)</td>\n",
       "      <td id=\"T_51bf5_row1_col2\" class=\"data row1 col2\" >(Bjornn and Reiser 1991, Neuman and Newcombe 1977, Woll et al. 2017, Roberge et al. 2002, Raleigh and Miller 1986)</td>\n",
       "      <td id=\"T_51bf5_row1_col3\" class=\"data row1 col3\" >(Woll et al. 2017, Porter et al. 2008)</td>\n",
       "      <td id=\"T_51bf5_row1_col4\" class=\"data row1 col4\" >(Agrawal et al. 2005)</td>\n",
       "      <td id=\"T_51bf5_row1_col5\" class=\"data row1 col5\" ></td>\n",
       "      <td id=\"T_51bf5_row1_col6\" class=\"data row1 col6\" ></td>\n",
       "    </tr>\n",
       "    <tr>\n",
       "      <td id=\"T_51bf5_row2_col0\" class=\"data row2 col0\" >Coho Salmon</td>\n",
       "      <td id=\"T_51bf5_row2_col1\" class=\"data row2 col1\" >0-5</td>\n",
       "      <td id=\"T_51bf5_row2_col2\" class=\"data row2 col2\" >0.164-59.15</td>\n",
       "      <td id=\"T_51bf5_row2_col3\" class=\"data row2 col3\" >0-5</td>\n",
       "      <td id=\"T_51bf5_row2_col4\" class=\"data row2 col4\" >0.03-40</td>\n",
       "      <td id=\"T_51bf5_row2_col5\" class=\"data row2 col5\" ></td>\n",
       "      <td id=\"T_51bf5_row2_col6\" class=\"data row2 col6\" >Wetland</td>\n",
       "    </tr>\n",
       "    <tr>\n",
       "      <td id=\"T_51bf5_row3_col0\" class=\"data row3 col0\" ></td>\n",
       "      <td id=\"T_51bf5_row3_col1\" class=\"data row3 col1\" >(Roberge et al. 2002, Sloat et al. 2017)</td>\n",
       "      <td id=\"T_51bf5_row3_col2\" class=\"data row3 col2\" >(Bjornn and Reiser 1991, Sloat et al. 2017, Neuman and Newcombe 1977, Woll et al. 2017, McMahon 1983)</td>\n",
       "      <td id=\"T_51bf5_row3_col3\" class=\"data row3 col3\" >(Porter et al. 2008, Rosenfeld et al. 2000)</td>\n",
       "      <td id=\"T_51bf5_row3_col4\" class=\"data row3 col4\" >(Agrawal et al. 2005, Burnett et al. 2007)</td>\n",
       "      <td id=\"T_51bf5_row3_col5\" class=\"data row3 col5\" ></td>\n",
       "      <td id=\"T_51bf5_row3_col6\" class=\"data row3 col6\" ></td>\n",
       "    </tr>\n",
       "    <tr>\n",
       "      <td id=\"T_51bf5_row4_col0\" class=\"data row4 col0\" >Sockeye Salmon</td>\n",
       "      <td id=\"T_51bf5_row4_col1\" class=\"data row4 col1\" >0-2</td>\n",
       "      <td id=\"T_51bf5_row4_col2\" class=\"data row4 col2\" >0.175-65</td>\n",
       "      <td id=\"T_51bf5_row4_col3\" class=\"data row4 col3\" ></td>\n",
       "      <td id=\"T_51bf5_row4_col4\" class=\"data row4 col4\" ></td>\n",
       "      <td id=\"T_51bf5_row4_col5\" class=\"data row4 col5\" >200</td>\n",
       "      <td id=\"T_51bf5_row4_col6\" class=\"data row4 col6\" >Lake</td>\n",
       "    </tr>\n",
       "    <tr>\n",
       "      <td id=\"T_51bf5_row5_col0\" class=\"data row5 col0\" ></td>\n",
       "      <td id=\"T_51bf5_row5_col1\" class=\"data row5 col1\" >(Lake 1999, Hoopes 1972)</td>\n",
       "      <td id=\"T_51bf5_row5_col2\" class=\"data row5 col2\" >(Bjornn and Reiser 1991, Woll et al. 2017, Neuman and Newcombe 1977, Roberge et al. 2002)</td>\n",
       "      <td id=\"T_51bf5_row5_col3\" class=\"data row5 col3\" ></td>\n",
       "      <td id=\"T_51bf5_row5_col4\" class=\"data row5 col4\" ></td>\n",
       "      <td id=\"T_51bf5_row5_col5\" class=\"data row5 col5\" >(Woll et al. 2017)</td>\n",
       "      <td id=\"T_51bf5_row5_col6\" class=\"data row5 col6\" ></td>\n",
       "    </tr>\n",
       "  </tbody>\n",
       "</table>\n"
      ],
      "text/plain": [
       "<pandas.io.formats.style.Styler at 0x27cf80e47f0>"
      ]
     },
     "execution_count": 1,
     "metadata": {},
     "output_type": "execute_result"
    }
   ],
   "source": [
    "\n",
    "from IPython.display import display, HTML\n",
    "import pandas as pd\n",
    "import numpy as np\n",
    "\n",
    "data = pd.read_csv('Table15.csv', index_col=False)\n",
    "\n",
    "data = data.replace(np.nan, '', regex=True)\n",
    "\n",
    "\n",
    "data.style.hide_index().set_properties(**{'text-align': 'left'})\n"
   ]
  }
 ],
 "metadata": {
  "kernelspec": {
   "display_name": "Python 3.7.12 ('test')",
   "language": "python",
   "name": "python3"
  },
  "language_info": {
   "codemirror_mode": {
    "name": "ipython",
    "version": 3
   },
   "file_extension": ".py",
   "mimetype": "text/x-python",
   "name": "python",
   "nbconvert_exporter": "python",
   "pygments_lexer": "ipython3",
   "version": "3.7.12"
  },
  "orig_nbformat": 4,
  "vscode": {
   "interpreter": {
    "hash": "4d32f471e4c787df35246a436d6b5da50fcc80632abe0dd119be69a8b3537624"
   }
  }
 },
 "nbformat": 4,
 "nbformat_minor": 2
}
