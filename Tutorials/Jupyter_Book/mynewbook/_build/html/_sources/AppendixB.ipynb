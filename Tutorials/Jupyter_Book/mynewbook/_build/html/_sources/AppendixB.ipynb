{
 "cells": [
  {
   "cell_type": "markdown",
   "metadata": {},
   "source": [
    "# Appendix B"
   ]
  },
  {
   "cell_type": "code",
   "execution_count": 12,
   "metadata": {
    "tags": [
     "remove-input",
     "remove-output"
    ]
   },
   "outputs": [
    {
     "data": {
      "text/plain": [
       "'15.81'"
      ]
     },
     "metadata": {
      "scrapbook": {
       "mime_prefix": "",
       "name": "gain"
      }
     },
     "output_type": "display_data"
    }
   ],
   "source": [
    "import requests\n",
    "import json\n",
    "from myst_nb import glue\n",
    "\n",
    "def barrier_extent(barrier_type):\n",
    "\n",
    "    request = 'https://features.hillcrestgeo.ca/bcfishpass/functions/postgisftw.wcrp_barrier_extent/items.json?watershed_group_code=HORS&barrier_type=' + barrier_type\n",
    "\n",
    "    response_api = requests.get(request)\n",
    "    parse = response_api.text\n",
    "    result = json.loads(parse)\n",
    "\n",
    "    blocked_km = result[0]['all_habitat_blocked_km']\n",
    "    blocked_pct = result[0]['all_habitat_blocked_pct']\n",
    "\n",
    "    return blocked_km, blocked_pct\n",
    "\n",
    "def barrier_count(barrier_type):\n",
    "    request = 'https://features.hillcrestgeo.ca/bcfishpass/functions/postgisftw.wcrp_barrier_count/items.json?watershed_group_code=HORS&barrier_type=' + barrier_type\n",
    "\n",
    "    response_api = requests.get(request)\n",
    "    parse = response_api.text\n",
    "    result = json.loads(parse)\n",
    "\n",
    "    n_passable = result[0]['n_passable']\n",
    "    n_barrier = result[0]['n_barrier']\n",
    "    n_potential = result[0]['n_potential']\n",
    "    n_unknown = result[0]['n_unknown']\n",
    "\n",
    "    sum_bar = (n_passable, n_barrier, n_potential, n_unknown)\n",
    "\n",
    "    return n_passable, n_barrier, n_potential, n_unknown, sum(sum_bar)\n",
    "\n",
    "def barrier_severity(barrier_type):\n",
    "\n",
    "    request = 'https://features.hillcrestgeo.ca/bcfishpass/functions/postgisftw.wcrp_barrier_severity/items.json?watershed_group_code=HORS&barrier_type=' + barrier_type\n",
    "\n",
    "    response_api = requests.get(request)\n",
    "    parse = response_api.text\n",
    "    result = json.loads(parse)\n",
    "\n",
    "    n_assessed_barrier = result[0]['n_assessed_barrier']\n",
    "    n_assess_total = result[0]['n_assess_total']\n",
    "    pct_assessed_barrier = result[0]['pct_assessed_barrier']\n",
    "\n",
    "    return n_assessed_barrier, n_assess_total, pct_assessed_barrier\n",
    "\n",
    "def watershed_connectivity(habitat_type):\n",
    "\n",
    "    request = 'https://features.hillcrestgeo.ca/bcfishpass/functions/postgisftw.wcrp_watershed_connectivity_status/items.json?watershed_group_code=HORS&barrier_type=' + habitat_type\n",
    "\n",
    "    response_api = requests.get(request)\n",
    "    parse = response_api.text\n",
    "    result = json.loads(parse)\n",
    "\n",
    "    connect_stat = result[0]['connectivity_status']\n",
    "\n",
    "    return str(round(connect_stat))\n",
    "\n",
    "import warnings\n",
    "\n",
    "warnings.filterwarnings('ignore')\n",
    "\n",
    "total = 526.95 #total km in HORS\n",
    "access = round(total * (int(watershed_connectivity(\"ALL\"))/100),2)\n",
    "gain = round((total*0.96)-access,2)\n",
    "\n",
    "glue(\"gain\", str(gain))\n"
   ]
  },
  {
   "cell_type": "markdown",
   "metadata": {},
   "source": [
    "## Horsefly River Watershed Barrier Prioritization Summary\n",
    "\n",
    "The primary conservation outcome of the WCRP will be the remediation of barriers to connectivity in the Horsefly River watershed. To achieve Goal 1 in this plan, it is necessary to prioritize and identify a suite of barriers that, if remediated, will provide access to a minimum of {glue:text}`gain` km of spawning or rearing habitat ({numref}`table16`):\n"
   ]
  },
  {
   "cell_type": "code",
   "execution_count": 13,
   "metadata": {
    "tags": [
     "remove-input",
     "remove-output"
    ]
   },
   "outputs": [
    {
     "data": {
      "text/html": [
       "<style  type=\"text/css\" >\n",
       "    #T_f7c3330a_6a94_11ed_8969_d4548bb590b3 th {\n",
       "          text-align: left;\n",
       "    }#T_f7c3330a_6a94_11ed_8969_d4548bb590b3row0_col0,#T_f7c3330a_6a94_11ed_8969_d4548bb590b3row0_col1,#T_f7c3330a_6a94_11ed_8969_d4548bb590b3row0_col2,#T_f7c3330a_6a94_11ed_8969_d4548bb590b3row0_col3,#T_f7c3330a_6a94_11ed_8969_d4548bb590b3row0_col4,#T_f7c3330a_6a94_11ed_8969_d4548bb590b3row0_col5{\n",
       "            text-align:  left;\n",
       "        }</style><table id=\"T_f7c3330a_6a94_11ed_8969_d4548bb590b3\" ><thead>    <tr>        <th class=\"col_heading level0 col0\" >Habitat Type</th>        <th class=\"col_heading level0 col1\" >Currently accessible (km)</th>        <th class=\"col_heading level0 col2\" >Total</th>        <th class=\"col_heading level0 col3\" >Current Connectivity Status</th>        <th class=\"col_heading level0 col4\" >Goal</th>        <th class=\"col_heading level0 col5\" >Gain required (km)</th>    </tr></thead><tbody>\n",
       "                <tr>\n",
       "                                <td id=\"T_f7c3330a_6a94_11ed_8969_d4548bb590b3row0_col0\" class=\"data row0 col0\" >Spawning and Rearing</td>\n",
       "                        <td id=\"T_f7c3330a_6a94_11ed_8969_d4548bb590b3row0_col1\" class=\"data row0 col1\" >490.06</td>\n",
       "                        <td id=\"T_f7c3330a_6a94_11ed_8969_d4548bb590b3row0_col2\" class=\"data row0 col2\" >526.95</td>\n",
       "                        <td id=\"T_f7c3330a_6a94_11ed_8969_d4548bb590b3row0_col3\" class=\"data row0 col3\" >93%</td>\n",
       "                        <td id=\"T_f7c3330a_6a94_11ed_8969_d4548bb590b3row0_col4\" class=\"data row0 col4\" >96%</td>\n",
       "                        <td id=\"T_f7c3330a_6a94_11ed_8969_d4548bb590b3row0_col5\" class=\"data row0 col5\" >15.81</td>\n",
       "            </tr>\n",
       "    </tbody></table>"
      ],
      "text/plain": [
       "<pandas.io.formats.style.Styler at 0x2505224e648>"
      ]
     },
     "metadata": {
      "scrapbook": {
       "mime_prefix": "",
       "name": "Table16"
      }
     },
     "output_type": "display_data"
    }
   ],
   "source": [
    "\n",
    "    #table 16----------------------------------------------------------------------\n",
    "    #--------------------------------------------------------------------------\n",
    "\n",
    "import pandas as pd\n",
    "import numpy as np\n",
    "import matplotlib as mpl\n",
    "import warnings\n",
    "\n",
    "warnings.filterwarnings('ignore')\n",
    "\n",
    "total = 526.95 #total km in HORS\n",
    "access = round(total * (int(watershed_connectivity(\"ALL\"))/100),2)\n",
    "gain = round((total*0.96)-access,2)\n",
    "\n",
    "df = pd.DataFrame({\"Habitat Type\":[\"Spawning and Rearing\"],\n",
    "                   \"Currently accessible (km)\":[str(access)],\n",
    "                   \"Total\": [str(total)],\n",
    "                   \"Current Connectivity Status\":[str(watershed_connectivity(\"ALL\"))+\"%\"],\n",
    "                   \"Goal\": [\"96%\"],\n",
    "                   \"Gain required (km)\": [str(gain)]\n",
    "                   })\n",
    "\n",
    "data = df.style.hide_index().set_properties(**{'text-align': 'left'})\n",
    "\n",
    "data.set_table_styles(\n",
    "[dict(selector = 'th', props=[('text-align', 'left')])])\n",
    "\n",
    "glue(\"Table16\", data)"
   ]
  },
  {
   "cell_type": "markdown",
   "metadata": {},
   "source": [
    "```{glue:figure} Table16\n",
    ":name: \"table16\"\n",
    "\n",
    "*Spawning and rearing habitat connectivity gain requirements to meet WCRP goals in the Horsefly River watershed. The measures of currently accessible and total habitat values are derived from the Intrinsic Potential habitat model described in Appendix B.*\n",
    "```"
   ]
  },
  {
   "attachments": {},
   "cell_type": "markdown",
   "metadata": {},
   "source": [
    "The barrier prioritization analysis ranked barriers by the amount of habitat blocked to produce an \"intermediate barrier list\" comprising more barriers than are needed to achieve the goals. A longer list of barriers is needed due to the inherent assumptions in the connectivity model, habitat model, and gaps in available data. Barriers that have been modelled (i.e., points where streams and road/rail networks intersect) are assumed to be barriers until field verification is undertaken and structures that have been assessed as \"potential\" barriers (e.g., may be passable at certain flow levels or for certain life history stages) require further investigation before a definitive remediation decision is made. Additionally, the habitat model identifies stream segments that have the potential to support spawning or rearing habitat for target species but does not attempt to quantify habitat quality or suitability (see Appendix B), which will require additional field verification once barrier assessments have completed. As such, the intermediate list of barriers below ({numref}`table18`) should be considered as a starting point in the prioritization process and represents structures that are a priority to evaluate further through barrier assessment and habitat confirmations because some structures will likely be passable, others will not be associated with usable habitat, and others may not be feasible to remediate because of logistic considerations. The intermediate barrier list was updated following the barrier assessments and habitat confirmations that were undertaken during the 2021 field season - some barriers were moved forward to the \"priority barrier list\" (see {numref}`table19`) and others were eliminated from consideration due to one or more of the considerations discussed above (see {numref}`table17`). The priority barrier list represents structures that were confirmed to be partial or full barriers to fish passage and that block access to confirmed habitat. Barriers on the priority list were reviewed by planning team members and selected for inclusion for proactive pursual of remediation.  For more details on the barrier prioritization model, please see {cite}`Mazany-Wright2021-rz`."
   ]
  },
  {
   "cell_type": "code",
   "execution_count": 14,
   "metadata": {
    "tags": [
     "remove-input",
     "remove-output"
    ]
   },
   "outputs": [
    {
     "data": {
      "text/html": [
       "<style  type=\"text/css\" >\n",
       "    #T_f9271698_6a94_11ed_a210_d4548bb590b3 th {\n",
       "          text-align: left;\n",
       "    }#T_f9271698_6a94_11ed_a210_d4548bb590b3row0_col0,#T_f9271698_6a94_11ed_a210_d4548bb590b3row0_col1,#T_f9271698_6a94_11ed_a210_d4548bb590b3row0_col2,#T_f9271698_6a94_11ed_a210_d4548bb590b3row0_col3,#T_f9271698_6a94_11ed_a210_d4548bb590b3row1_col0,#T_f9271698_6a94_11ed_a210_d4548bb590b3row1_col1,#T_f9271698_6a94_11ed_a210_d4548bb590b3row1_col2,#T_f9271698_6a94_11ed_a210_d4548bb590b3row1_col3,#T_f9271698_6a94_11ed_a210_d4548bb590b3row2_col0,#T_f9271698_6a94_11ed_a210_d4548bb590b3row2_col1,#T_f9271698_6a94_11ed_a210_d4548bb590b3row2_col2,#T_f9271698_6a94_11ed_a210_d4548bb590b3row2_col3,#T_f9271698_6a94_11ed_a210_d4548bb590b3row3_col0,#T_f9271698_6a94_11ed_a210_d4548bb590b3row3_col1,#T_f9271698_6a94_11ed_a210_d4548bb590b3row3_col2,#T_f9271698_6a94_11ed_a210_d4548bb590b3row3_col3,#T_f9271698_6a94_11ed_a210_d4548bb590b3row4_col0,#T_f9271698_6a94_11ed_a210_d4548bb590b3row4_col1,#T_f9271698_6a94_11ed_a210_d4548bb590b3row4_col2,#T_f9271698_6a94_11ed_a210_d4548bb590b3row4_col3,#T_f9271698_6a94_11ed_a210_d4548bb590b3row5_col0,#T_f9271698_6a94_11ed_a210_d4548bb590b3row5_col1,#T_f9271698_6a94_11ed_a210_d4548bb590b3row5_col2,#T_f9271698_6a94_11ed_a210_d4548bb590b3row5_col3,#T_f9271698_6a94_11ed_a210_d4548bb590b3row6_col0,#T_f9271698_6a94_11ed_a210_d4548bb590b3row6_col1,#T_f9271698_6a94_11ed_a210_d4548bb590b3row6_col2,#T_f9271698_6a94_11ed_a210_d4548bb590b3row6_col3,#T_f9271698_6a94_11ed_a210_d4548bb590b3row7_col0,#T_f9271698_6a94_11ed_a210_d4548bb590b3row7_col1,#T_f9271698_6a94_11ed_a210_d4548bb590b3row7_col2,#T_f9271698_6a94_11ed_a210_d4548bb590b3row7_col3,#T_f9271698_6a94_11ed_a210_d4548bb590b3row8_col0,#T_f9271698_6a94_11ed_a210_d4548bb590b3row8_col1,#T_f9271698_6a94_11ed_a210_d4548bb590b3row8_col2,#T_f9271698_6a94_11ed_a210_d4548bb590b3row8_col3{\n",
       "            text-align:  left;\n",
       "        }</style><table id=\"T_f9271698_6a94_11ed_a210_d4548bb590b3\" ><thead>    <tr>        <th class=\"col_heading level0 col0\" >ID</th>        <th class=\"col_heading level0 col1\" >Stream name</th>        <th class=\"col_heading level0 col2\" >Reason for removal from prioritization </th>        <th class=\"col_heading level0 col3\" >Comments</th>    </tr></thead><tbody>\n",
       "                <tr>\n",
       "                                <td id=\"T_f9271698_6a94_11ed_a210_d4548bb590b3row0_col0\" class=\"data row0 col0\" >1006800520</td>\n",
       "                        <td id=\"T_f9271698_6a94_11ed_a210_d4548bb590b3row0_col1\" class=\"data row0 col1\" >Woodjam Creek</td>\n",
       "                        <td id=\"T_f9271698_6a94_11ed_a210_d4548bb590b3row0_col2\" class=\"data row0 col2\" >Structure doesn't exist</td>\n",
       "                        <td id=\"T_f9271698_6a94_11ed_a210_d4548bb590b3row0_col3\" class=\"data row0 col3\" >Access permission not granted. Landowners confirmed bridge / barrier</td>\n",
       "            </tr>\n",
       "            <tr>\n",
       "                                <td id=\"T_f9271698_6a94_11ed_a210_d4548bb590b3row1_col0\" class=\"data row1 col0\" >57596</td>\n",
       "                        <td id=\"T_f9271698_6a94_11ed_a210_d4548bb590b3row1_col1\" class=\"data row1 col1\" >Bassett Creek</td>\n",
       "                        <td id=\"T_f9271698_6a94_11ed_a210_d4548bb590b3row1_col2\" class=\"data row1 col2\" >Passable</td>\n",
       "                        <td id=\"T_f9271698_6a94_11ed_a210_d4548bb590b3row1_col3\" class=\"data row1 col3\" >No stream crossing identified but large woody debris dam exists and was deemed passable to fish</td>\n",
       "            </tr>\n",
       "            <tr>\n",
       "                                <td id=\"T_f9271698_6a94_11ed_a210_d4548bb590b3row2_col0\" class=\"data row2 col0\" >1006800319</td>\n",
       "                        <td id=\"T_f9271698_6a94_11ed_a210_d4548bb590b3row2_col1\" class=\"data row2 col1\" >Niquidet Creek</td>\n",
       "                        <td id=\"T_f9271698_6a94_11ed_a210_d4548bb590b3row2_col2\" class=\"data row2 col2\" >Passable</td>\n",
       "                        <td id=\"T_f9271698_6a94_11ed_a210_d4548bb590b3row2_col3\" class=\"data row2 col3\" >Pedestrian bridge across creek not a barrier to fish passage</td>\n",
       "            </tr>\n",
       "            <tr>\n",
       "                                <td id=\"T_f9271698_6a94_11ed_a210_d4548bb590b3row3_col0\" class=\"data row3 col0\" >1006800657</td>\n",
       "                        <td id=\"T_f9271698_6a94_11ed_a210_d4548bb590b3row3_col1\" class=\"data row3 col1\" >Niquidet Creek</td>\n",
       "                        <td id=\"T_f9271698_6a94_11ed_a210_d4548bb590b3row3_col2\" class=\"data row3 col2\" >Structure doesn't exist/Passable</td>\n",
       "                        <td id=\"T_f9271698_6a94_11ed_a210_d4548bb590b3row3_col3\" class=\"data row3 col3\" >Location is a cattle trail/ford with no crossing structure; not a barrier to fish</td>\n",
       "            </tr>\n",
       "            <tr>\n",
       "                                <td id=\"T_f9271698_6a94_11ed_a210_d4548bb590b3row4_col0\" class=\"data row4 col0\" >1006800240</td>\n",
       "                        <td id=\"T_f9271698_6a94_11ed_a210_d4548bb590b3row4_col1\" class=\"data row4 col1\" >Trib to Horsefly River</td>\n",
       "                        <td id=\"T_f9271698_6a94_11ed_a210_d4548bb590b3row4_col2\" class=\"data row4 col2\" >Structure doesn't exist/Passable</td>\n",
       "                        <td id=\"T_f9271698_6a94_11ed_a210_d4548bb590b3row4_col3\" class=\"data row4 col3\" >Cattle trail/ford crossing location likely refers to historic crossing that has been decommissioned and abandoned at edge of channel</td>\n",
       "            </tr>\n",
       "            <tr>\n",
       "                                <td id=\"T_f9271698_6a94_11ed_a210_d4548bb590b3row5_col0\" class=\"data row5 col0\" >57292</td>\n",
       "                        <td id=\"T_f9271698_6a94_11ed_a210_d4548bb590b3row5_col1\" class=\"data row5 col1\" >Bassett Creek</td>\n",
       "                        <td id=\"T_f9271698_6a94_11ed_a210_d4548bb590b3row5_col2\" class=\"data row5 col2\" >Impassable natural barrier downstream</td>\n",
       "                        <td id=\"T_f9271698_6a94_11ed_a210_d4548bb590b3row5_col3\" class=\"data row5 col3\" ></td>\n",
       "            </tr>\n",
       "            <tr>\n",
       "                                <td id=\"T_f9271698_6a94_11ed_a210_d4548bb590b3row6_col0\" class=\"data row6 col0\" >197701</td>\n",
       "                        <td id=\"T_f9271698_6a94_11ed_a210_d4548bb590b3row6_col1\" class=\"data row6 col1\" >Trib to McKinley Creek</td>\n",
       "                        <td id=\"T_f9271698_6a94_11ed_a210_d4548bb590b3row6_col2\" class=\"data row6 col2\" >Not suitable habitat</td>\n",
       "                        <td id=\"T_f9271698_6a94_11ed_a210_d4548bb590b3row6_col3\" class=\"data row6 col3\" >No connectivity to stream poor spawning and overwintering habitat moderate rearing potential</td>\n",
       "            </tr>\n",
       "            <tr>\n",
       "                                <td id=\"T_f9271698_6a94_11ed_a210_d4548bb590b3row7_col0\" class=\"data row7 col0\" >57317</td>\n",
       "                        <td id=\"T_f9271698_6a94_11ed_a210_d4548bb590b3row7_col1\" class=\"data row7 col1\" >Trib to McKinley Creek</td>\n",
       "                        <td id=\"T_f9271698_6a94_11ed_a210_d4548bb590b3row7_col2\" class=\"data row7 col2\" >Not suitable habitat</td>\n",
       "                        <td id=\"T_f9271698_6a94_11ed_a210_d4548bb590b3row7_col3\" class=\"data row7 col3\" >Small defined channel but no water = poor spawning rearing overwintering potential</td>\n",
       "            </tr>\n",
       "            <tr>\n",
       "                                <td id=\"T_f9271698_6a94_11ed_a210_d4548bb590b3row8_col0\" class=\"data row8 col0\" >1006800648</td>\n",
       "                        <td id=\"T_f9271698_6a94_11ed_a210_d4548bb590b3row8_col1\" class=\"data row8 col1\" >Gibbons Creek</td>\n",
       "                        <td id=\"T_f9271698_6a94_11ed_a210_d4548bb590b3row8_col2\" class=\"data row8 col2\" >Passable</td>\n",
       "                        <td id=\"T_f9271698_6a94_11ed_a210_d4548bb590b3row8_col3\" class=\"data row8 col3\" >Road carried by a 2200 mm diameter arch culvert that is 12 m long does not represent a barrier to fish passag</td>\n",
       "            </tr>\n",
       "    </tbody></table>"
      ],
      "text/plain": [
       "<pandas.io.formats.style.Styler at 0x25052453b88>"
      ]
     },
     "metadata": {
      "scrapbook": {
       "mime_prefix": "",
       "name": "Table17"
      }
     },
     "output_type": "display_data"
    }
   ],
   "source": [
    "data = pd.read_csv('Table17.csv', index_col=False)\n",
    "data = data.replace(np.nan, '', regex=True)\n",
    "\n",
    "data = data.style.hide_index().set_properties(**{'text-align': 'left'})\n",
    "\n",
    "data.set_table_styles(\n",
    "[dict(selector = 'th', props=[('text-align', 'left')])])\n",
    "\n",
    "glue(\"Table17\", data)\n"
   ]
  },
  {
   "cell_type": "markdown",
   "metadata": {},
   "source": [
    "```{glue:figure} Table17\n",
    ":name: \"table17\"\n",
    "\n",
    "*List of barriers that were prioritized as part of the first iteration of the intermediate barrier list (field assessments occurred during the 2021 field season) but were removed from consideration for pursual of proactive remediation following discussion with the planning team due to these structures not existing, being passable, not be associated with usable habitat, or deemed not feasible to remediate because of logistic considerations.*\n",
    "```"
   ]
  },
  {
   "cell_type": "code",
   "execution_count": 15,
   "metadata": {
    "tags": [
     "remove-input",
     "full-width",
     "remove-output"
    ]
   },
   "outputs": [
    {
     "data": {
      "text/html": [
       "<style  type=\"text/css\" >\n",
       "    #T_f9382e1a_6a94_11ed_94ba_d4548bb590b3 th {\n",
       "          text-align: left;\n",
       "    }#T_f9382e1a_6a94_11ed_94ba_d4548bb590b3row0_col0,#T_f9382e1a_6a94_11ed_94ba_d4548bb590b3row0_col1,#T_f9382e1a_6a94_11ed_94ba_d4548bb590b3row0_col2,#T_f9382e1a_6a94_11ed_94ba_d4548bb590b3row0_col3,#T_f9382e1a_6a94_11ed_94ba_d4548bb590b3row0_col4,#T_f9382e1a_6a94_11ed_94ba_d4548bb590b3row0_col5,#T_f9382e1a_6a94_11ed_94ba_d4548bb590b3row0_col6,#T_f9382e1a_6a94_11ed_94ba_d4548bb590b3row0_col7,#T_f9382e1a_6a94_11ed_94ba_d4548bb590b3row1_col0,#T_f9382e1a_6a94_11ed_94ba_d4548bb590b3row1_col1,#T_f9382e1a_6a94_11ed_94ba_d4548bb590b3row1_col2,#T_f9382e1a_6a94_11ed_94ba_d4548bb590b3row1_col3,#T_f9382e1a_6a94_11ed_94ba_d4548bb590b3row1_col4,#T_f9382e1a_6a94_11ed_94ba_d4548bb590b3row1_col5,#T_f9382e1a_6a94_11ed_94ba_d4548bb590b3row1_col6,#T_f9382e1a_6a94_11ed_94ba_d4548bb590b3row1_col7,#T_f9382e1a_6a94_11ed_94ba_d4548bb590b3row2_col0,#T_f9382e1a_6a94_11ed_94ba_d4548bb590b3row2_col1,#T_f9382e1a_6a94_11ed_94ba_d4548bb590b3row2_col2,#T_f9382e1a_6a94_11ed_94ba_d4548bb590b3row2_col3,#T_f9382e1a_6a94_11ed_94ba_d4548bb590b3row2_col4,#T_f9382e1a_6a94_11ed_94ba_d4548bb590b3row2_col5,#T_f9382e1a_6a94_11ed_94ba_d4548bb590b3row2_col6,#T_f9382e1a_6a94_11ed_94ba_d4548bb590b3row2_col7,#T_f9382e1a_6a94_11ed_94ba_d4548bb590b3row3_col0,#T_f9382e1a_6a94_11ed_94ba_d4548bb590b3row3_col1,#T_f9382e1a_6a94_11ed_94ba_d4548bb590b3row3_col2,#T_f9382e1a_6a94_11ed_94ba_d4548bb590b3row3_col3,#T_f9382e1a_6a94_11ed_94ba_d4548bb590b3row3_col4,#T_f9382e1a_6a94_11ed_94ba_d4548bb590b3row3_col5,#T_f9382e1a_6a94_11ed_94ba_d4548bb590b3row3_col6,#T_f9382e1a_6a94_11ed_94ba_d4548bb590b3row3_col7,#T_f9382e1a_6a94_11ed_94ba_d4548bb590b3row4_col0,#T_f9382e1a_6a94_11ed_94ba_d4548bb590b3row4_col1,#T_f9382e1a_6a94_11ed_94ba_d4548bb590b3row4_col2,#T_f9382e1a_6a94_11ed_94ba_d4548bb590b3row4_col3,#T_f9382e1a_6a94_11ed_94ba_d4548bb590b3row4_col4,#T_f9382e1a_6a94_11ed_94ba_d4548bb590b3row4_col5,#T_f9382e1a_6a94_11ed_94ba_d4548bb590b3row4_col6,#T_f9382e1a_6a94_11ed_94ba_d4548bb590b3row4_col7,#T_f9382e1a_6a94_11ed_94ba_d4548bb590b3row5_col0,#T_f9382e1a_6a94_11ed_94ba_d4548bb590b3row5_col1,#T_f9382e1a_6a94_11ed_94ba_d4548bb590b3row5_col2,#T_f9382e1a_6a94_11ed_94ba_d4548bb590b3row5_col3,#T_f9382e1a_6a94_11ed_94ba_d4548bb590b3row5_col4,#T_f9382e1a_6a94_11ed_94ba_d4548bb590b3row5_col5,#T_f9382e1a_6a94_11ed_94ba_d4548bb590b3row5_col6,#T_f9382e1a_6a94_11ed_94ba_d4548bb590b3row5_col7,#T_f9382e1a_6a94_11ed_94ba_d4548bb590b3row6_col0,#T_f9382e1a_6a94_11ed_94ba_d4548bb590b3row6_col1,#T_f9382e1a_6a94_11ed_94ba_d4548bb590b3row6_col2,#T_f9382e1a_6a94_11ed_94ba_d4548bb590b3row6_col3,#T_f9382e1a_6a94_11ed_94ba_d4548bb590b3row6_col4,#T_f9382e1a_6a94_11ed_94ba_d4548bb590b3row6_col5,#T_f9382e1a_6a94_11ed_94ba_d4548bb590b3row6_col6,#T_f9382e1a_6a94_11ed_94ba_d4548bb590b3row6_col7,#T_f9382e1a_6a94_11ed_94ba_d4548bb590b3row7_col0,#T_f9382e1a_6a94_11ed_94ba_d4548bb590b3row7_col1,#T_f9382e1a_6a94_11ed_94ba_d4548bb590b3row7_col2,#T_f9382e1a_6a94_11ed_94ba_d4548bb590b3row7_col3,#T_f9382e1a_6a94_11ed_94ba_d4548bb590b3row7_col4,#T_f9382e1a_6a94_11ed_94ba_d4548bb590b3row7_col5,#T_f9382e1a_6a94_11ed_94ba_d4548bb590b3row7_col6,#T_f9382e1a_6a94_11ed_94ba_d4548bb590b3row7_col7,#T_f9382e1a_6a94_11ed_94ba_d4548bb590b3row8_col0,#T_f9382e1a_6a94_11ed_94ba_d4548bb590b3row8_col1,#T_f9382e1a_6a94_11ed_94ba_d4548bb590b3row8_col2,#T_f9382e1a_6a94_11ed_94ba_d4548bb590b3row8_col3,#T_f9382e1a_6a94_11ed_94ba_d4548bb590b3row8_col4,#T_f9382e1a_6a94_11ed_94ba_d4548bb590b3row8_col5,#T_f9382e1a_6a94_11ed_94ba_d4548bb590b3row8_col6,#T_f9382e1a_6a94_11ed_94ba_d4548bb590b3row8_col7,#T_f9382e1a_6a94_11ed_94ba_d4548bb590b3row9_col0,#T_f9382e1a_6a94_11ed_94ba_d4548bb590b3row9_col1,#T_f9382e1a_6a94_11ed_94ba_d4548bb590b3row9_col2,#T_f9382e1a_6a94_11ed_94ba_d4548bb590b3row9_col3,#T_f9382e1a_6a94_11ed_94ba_d4548bb590b3row9_col4,#T_f9382e1a_6a94_11ed_94ba_d4548bb590b3row9_col5,#T_f9382e1a_6a94_11ed_94ba_d4548bb590b3row9_col6,#T_f9382e1a_6a94_11ed_94ba_d4548bb590b3row9_col7,#T_f9382e1a_6a94_11ed_94ba_d4548bb590b3row10_col0,#T_f9382e1a_6a94_11ed_94ba_d4548bb590b3row10_col1,#T_f9382e1a_6a94_11ed_94ba_d4548bb590b3row10_col2,#T_f9382e1a_6a94_11ed_94ba_d4548bb590b3row10_col3,#T_f9382e1a_6a94_11ed_94ba_d4548bb590b3row10_col4,#T_f9382e1a_6a94_11ed_94ba_d4548bb590b3row10_col5,#T_f9382e1a_6a94_11ed_94ba_d4548bb590b3row10_col6,#T_f9382e1a_6a94_11ed_94ba_d4548bb590b3row10_col7,#T_f9382e1a_6a94_11ed_94ba_d4548bb590b3row11_col0,#T_f9382e1a_6a94_11ed_94ba_d4548bb590b3row11_col1,#T_f9382e1a_6a94_11ed_94ba_d4548bb590b3row11_col2,#T_f9382e1a_6a94_11ed_94ba_d4548bb590b3row11_col3,#T_f9382e1a_6a94_11ed_94ba_d4548bb590b3row11_col4,#T_f9382e1a_6a94_11ed_94ba_d4548bb590b3row11_col5,#T_f9382e1a_6a94_11ed_94ba_d4548bb590b3row11_col6,#T_f9382e1a_6a94_11ed_94ba_d4548bb590b3row11_col7,#T_f9382e1a_6a94_11ed_94ba_d4548bb590b3row12_col0,#T_f9382e1a_6a94_11ed_94ba_d4548bb590b3row12_col1,#T_f9382e1a_6a94_11ed_94ba_d4548bb590b3row12_col2,#T_f9382e1a_6a94_11ed_94ba_d4548bb590b3row12_col3,#T_f9382e1a_6a94_11ed_94ba_d4548bb590b3row12_col4,#T_f9382e1a_6a94_11ed_94ba_d4548bb590b3row12_col5,#T_f9382e1a_6a94_11ed_94ba_d4548bb590b3row12_col6,#T_f9382e1a_6a94_11ed_94ba_d4548bb590b3row12_col7{\n",
       "            text-align:  left;\n",
       "        }</style><table id=\"T_f9382e1a_6a94_11ed_94ba_d4548bb590b3\" ><thead>    <tr>        <th class=\"col_heading level0 col0\" >ID</th>        <th class=\"col_heading level0 col1\" >Stream name</th>        <th class=\"col_heading level0 col2\" >Data source</th>        <th class=\"col_heading level0 col3\" >Assessment Status </th>        <th class=\"col_heading level0 col4\" >Barrier Status</th>        <th class=\"col_heading level0 col5\" >Spawning and Rearing Habitat Blocked (KM)</th>        <th class=\"col_heading level0 col6\" >Next Steps</th>        <th class=\"col_heading level0 col7\" >Comments</th>    </tr></thead><tbody>\n",
       "                <tr>\n",
       "                                <td id=\"T_f9382e1a_6a94_11ed_94ba_d4548bb590b3row0_col0\" class=\"data row0 col0\" >57556</td>\n",
       "                        <td id=\"T_f9382e1a_6a94_11ed_94ba_d4548bb590b3row0_col1\" class=\"data row0 col1\" >Sucker Creek</td>\n",
       "                        <td id=\"T_f9382e1a_6a94_11ed_94ba_d4548bb590b3row0_col2\" class=\"data row0 col2\" >PSCIS</td>\n",
       "                        <td id=\"T_f9382e1a_6a94_11ed_94ba_d4548bb590b3row0_col3\" class=\"data row0 col3\" >Habitat Confirmation</td>\n",
       "                        <td id=\"T_f9382e1a_6a94_11ed_94ba_d4548bb590b3row0_col4\" class=\"data row0 col4\" >B</td>\n",
       "                        <td id=\"T_f9382e1a_6a94_11ed_94ba_d4548bb590b3row0_col5\" class=\"data row0 col5\" >3.380000</td>\n",
       "                        <td id=\"T_f9382e1a_6a94_11ed_94ba_d4548bb590b3row0_col6\" class=\"data row0 col6\" >Barrier assessment (reassessment)</td>\n",
       "                        <td id=\"T_f9382e1a_6a94_11ed_94ba_d4548bb590b3row0_col7\" class=\"data row0 col7\" >Assess culvert retrofit to ensure it is functioning as intended.</td>\n",
       "            </tr>\n",
       "            <tr>\n",
       "                                <td id=\"T_f9382e1a_6a94_11ed_94ba_d4548bb590b3row1_col0\" class=\"data row1 col0\" >1006801130</td>\n",
       "                        <td id=\"T_f9382e1a_6a94_11ed_94ba_d4548bb590b3row1_col1\" class=\"data row1 col1\" >Wilmot Creek</td>\n",
       "                        <td id=\"T_f9382e1a_6a94_11ed_94ba_d4548bb590b3row1_col2\" class=\"data row1 col2\" >Modelled</td>\n",
       "                        <td id=\"T_f9382e1a_6a94_11ed_94ba_d4548bb590b3row1_col3\" class=\"data row1 col3\" >Modelled</td>\n",
       "                        <td id=\"T_f9382e1a_6a94_11ed_94ba_d4548bb590b3row1_col4\" class=\"data row1 col4\" >P </td>\n",
       "                        <td id=\"T_f9382e1a_6a94_11ed_94ba_d4548bb590b3row1_col5\" class=\"data row1 col5\" >1.470000</td>\n",
       "                        <td id=\"T_f9382e1a_6a94_11ed_94ba_d4548bb590b3row1_col6\" class=\"data row1 col6\" >Barrier assessment   </td>\n",
       "                        <td id=\"T_f9382e1a_6a94_11ed_94ba_d4548bb590b3row1_col7\" class=\"data row1 col7\" ></td>\n",
       "            </tr>\n",
       "            <tr>\n",
       "                                <td id=\"T_f9382e1a_6a94_11ed_94ba_d4548bb590b3row2_col0\" class=\"data row2 col0\" >57470</td>\n",
       "                        <td id=\"T_f9382e1a_6a94_11ed_94ba_d4548bb590b3row2_col1\" class=\"data row2 col1\" >Black Creek</td>\n",
       "                        <td id=\"T_f9382e1a_6a94_11ed_94ba_d4548bb590b3row2_col2\" class=\"data row2 col2\" >PSCIS</td>\n",
       "                        <td id=\"T_f9382e1a_6a94_11ed_94ba_d4548bb590b3row2_col3\" class=\"data row2 col3\" >Assessed</td>\n",
       "                        <td id=\"T_f9382e1a_6a94_11ed_94ba_d4548bb590b3row2_col4\" class=\"data row2 col4\" >P</td>\n",
       "                        <td id=\"T_f9382e1a_6a94_11ed_94ba_d4548bb590b3row2_col5\" class=\"data row2 col5\" >1.120000</td>\n",
       "                        <td id=\"T_f9382e1a_6a94_11ed_94ba_d4548bb590b3row2_col6\" class=\"data row2 col6\" >Fix crossing in model</td>\n",
       "                        <td id=\"T_f9382e1a_6a94_11ed_94ba_d4548bb590b3row2_col7\" class=\"data row2 col7\" >Consultants mapped barrier in wrong location. This should be on Black Creek Road, which is passable.</td>\n",
       "            </tr>\n",
       "            <tr>\n",
       "                                <td id=\"T_f9382e1a_6a94_11ed_94ba_d4548bb590b3row3_col0\" class=\"data row3 col0\" >1006800483</td>\n",
       "                        <td id=\"T_f9382e1a_6a94_11ed_94ba_d4548bb590b3row3_col1\" class=\"data row3 col1\" >Molybdenite Creek</td>\n",
       "                        <td id=\"T_f9382e1a_6a94_11ed_94ba_d4548bb590b3row3_col2\" class=\"data row3 col2\" >Modelled</td>\n",
       "                        <td id=\"T_f9382e1a_6a94_11ed_94ba_d4548bb590b3row3_col3\" class=\"data row3 col3\" >Modelled</td>\n",
       "                        <td id=\"T_f9382e1a_6a94_11ed_94ba_d4548bb590b3row3_col4\" class=\"data row3 col4\" >P</td>\n",
       "                        <td id=\"T_f9382e1a_6a94_11ed_94ba_d4548bb590b3row3_col5\" class=\"data row3 col5\" >0.630000</td>\n",
       "                        <td id=\"T_f9382e1a_6a94_11ed_94ba_d4548bb590b3row3_col6\" class=\"data row3 col6\" >Barrier assessment</td>\n",
       "                        <td id=\"T_f9382e1a_6a94_11ed_94ba_d4548bb590b3row3_col7\" class=\"data row3 col7\" >High up in system near headwaters.</td>\n",
       "            </tr>\n",
       "            <tr>\n",
       "                                <td id=\"T_f9382e1a_6a94_11ed_94ba_d4548bb590b3row4_col0\" class=\"data row4 col0\" >126438</td>\n",
       "                        <td id=\"T_f9382e1a_6a94_11ed_94ba_d4548bb590b3row4_col1\" class=\"data row4 col1\" >Trib to Horsefly River</td>\n",
       "                        <td id=\"T_f9382e1a_6a94_11ed_94ba_d4548bb590b3row4_col2\" class=\"data row4 col2\" >PSCIS</td>\n",
       "                        <td id=\"T_f9382e1a_6a94_11ed_94ba_d4548bb590b3row4_col3\" class=\"data row4 col3\" >Assessed</td>\n",
       "                        <td id=\"T_f9382e1a_6a94_11ed_94ba_d4548bb590b3row4_col4\" class=\"data row4 col4\" >P</td>\n",
       "                        <td id=\"T_f9382e1a_6a94_11ed_94ba_d4548bb590b3row4_col5\" class=\"data row4 col5\" >0.850000</td>\n",
       "                        <td id=\"T_f9382e1a_6a94_11ed_94ba_d4548bb590b3row4_col6\" class=\"data row4 col6\" >Barrier assessment (reassessment)</td>\n",
       "                        <td id=\"T_f9382e1a_6a94_11ed_94ba_d4548bb590b3row4_col7\" class=\"data row4 col7\" >Medium quality habitat. Noted as still passable in 2012. Due for reassessment.</td>\n",
       "            </tr>\n",
       "            <tr>\n",
       "                                <td id=\"T_f9382e1a_6a94_11ed_94ba_d4548bb590b3row5_col0\" class=\"data row5 col0\" >1006800298</td>\n",
       "                        <td id=\"T_f9382e1a_6a94_11ed_94ba_d4548bb590b3row5_col1\" class=\"data row5 col1\" >Patenaude Creek</td>\n",
       "                        <td id=\"T_f9382e1a_6a94_11ed_94ba_d4548bb590b3row5_col2\" class=\"data row5 col2\" >Modelled</td>\n",
       "                        <td id=\"T_f9382e1a_6a94_11ed_94ba_d4548bb590b3row5_col3\" class=\"data row5 col3\" >Modelled</td>\n",
       "                        <td id=\"T_f9382e1a_6a94_11ed_94ba_d4548bb590b3row5_col4\" class=\"data row5 col4\" >P</td>\n",
       "                        <td id=\"T_f9382e1a_6a94_11ed_94ba_d4548bb590b3row5_col5\" class=\"data row5 col5\" >0.800000</td>\n",
       "                        <td id=\"T_f9382e1a_6a94_11ed_94ba_d4548bb590b3row5_col6\" class=\"data row5 col6\" >Barrier assessment</td>\n",
       "                        <td id=\"T_f9382e1a_6a94_11ed_94ba_d4548bb590b3row5_col7\" class=\"data row5 col7\" >CH and CO on record.</td>\n",
       "            </tr>\n",
       "            <tr>\n",
       "                                <td id=\"T_f9382e1a_6a94_11ed_94ba_d4548bb590b3row6_col0\" class=\"data row6 col0\" >1006800581</td>\n",
       "                        <td id=\"T_f9382e1a_6a94_11ed_94ba_d4548bb590b3row6_col1\" class=\"data row6 col1\" >Trib to Elbow Lake</td>\n",
       "                        <td id=\"T_f9382e1a_6a94_11ed_94ba_d4548bb590b3row6_col2\" class=\"data row6 col2\" >Modelled</td>\n",
       "                        <td id=\"T_f9382e1a_6a94_11ed_94ba_d4548bb590b3row6_col3\" class=\"data row6 col3\" >Modelled</td>\n",
       "                        <td id=\"T_f9382e1a_6a94_11ed_94ba_d4548bb590b3row6_col4\" class=\"data row6 col4\" >P</td>\n",
       "                        <td id=\"T_f9382e1a_6a94_11ed_94ba_d4548bb590b3row6_col5\" class=\"data row6 col5\" >0.780000</td>\n",
       "                        <td id=\"T_f9382e1a_6a94_11ed_94ba_d4548bb590b3row6_col6\" class=\"data row6 col6\" >Barrier assessment</td>\n",
       "                        <td id=\"T_f9382e1a_6a94_11ed_94ba_d4548bb590b3row6_col7\" class=\"data row6 col7\" ></td>\n",
       "            </tr>\n",
       "            <tr>\n",
       "                                <td id=\"T_f9382e1a_6a94_11ed_94ba_d4548bb590b3row7_col0\" class=\"data row7 col0\" >124249</td>\n",
       "                        <td id=\"T_f9382e1a_6a94_11ed_94ba_d4548bb590b3row7_col1\" class=\"data row7 col1\" >Trib to Horsefly Lake</td>\n",
       "                        <td id=\"T_f9382e1a_6a94_11ed_94ba_d4548bb590b3row7_col2\" class=\"data row7 col2\" >PSCIS</td>\n",
       "                        <td id=\"T_f9382e1a_6a94_11ed_94ba_d4548bb590b3row7_col3\" class=\"data row7 col3\" >Assessed</td>\n",
       "                        <td id=\"T_f9382e1a_6a94_11ed_94ba_d4548bb590b3row7_col4\" class=\"data row7 col4\" >B</td>\n",
       "                        <td id=\"T_f9382e1a_6a94_11ed_94ba_d4548bb590b3row7_col5\" class=\"data row7 col5\" >0.710000</td>\n",
       "                        <td id=\"T_f9382e1a_6a94_11ed_94ba_d4548bb590b3row7_col6\" class=\"data row7 col6\" >Barrier assessment (reassessment)</td>\n",
       "                        <td id=\"T_f9382e1a_6a94_11ed_94ba_d4548bb590b3row7_col7\" class=\"data row7 col7\" >Regular flooding 2013. Possibly been replaced by now?</td>\n",
       "            </tr>\n",
       "            <tr>\n",
       "                                <td id=\"T_f9382e1a_6a94_11ed_94ba_d4548bb590b3row8_col0\" class=\"data row8 col0\" >1006801356</td>\n",
       "                        <td id=\"T_f9382e1a_6a94_11ed_94ba_d4548bb590b3row8_col1\" class=\"data row8 col1\" >Trib to Horsefly Lake</td>\n",
       "                        <td id=\"T_f9382e1a_6a94_11ed_94ba_d4548bb590b3row8_col2\" class=\"data row8 col2\" >Modelled</td>\n",
       "                        <td id=\"T_f9382e1a_6a94_11ed_94ba_d4548bb590b3row8_col3\" class=\"data row8 col3\" >Modelled</td>\n",
       "                        <td id=\"T_f9382e1a_6a94_11ed_94ba_d4548bb590b3row8_col4\" class=\"data row8 col4\" >P</td>\n",
       "                        <td id=\"T_f9382e1a_6a94_11ed_94ba_d4548bb590b3row8_col5\" class=\"data row8 col5\" >0.690000</td>\n",
       "                        <td id=\"T_f9382e1a_6a94_11ed_94ba_d4548bb590b3row8_col6\" class=\"data row8 col6\" >Barrier assessment</td>\n",
       "                        <td id=\"T_f9382e1a_6a94_11ed_94ba_d4548bb590b3row8_col7\" class=\"data row8 col7\" >High up in system at far end of lake.</td>\n",
       "            </tr>\n",
       "            <tr>\n",
       "                                <td id=\"T_f9382e1a_6a94_11ed_94ba_d4548bb590b3row9_col0\" class=\"data row9 col0\" >1006800220</td>\n",
       "                        <td id=\"T_f9382e1a_6a94_11ed_94ba_d4548bb590b3row9_col1\" class=\"data row9 col1\" >Trib to Harpers Lake</td>\n",
       "                        <td id=\"T_f9382e1a_6a94_11ed_94ba_d4548bb590b3row9_col2\" class=\"data row9 col2\" >Modelled</td>\n",
       "                        <td id=\"T_f9382e1a_6a94_11ed_94ba_d4548bb590b3row9_col3\" class=\"data row9 col3\" >Modelled</td>\n",
       "                        <td id=\"T_f9382e1a_6a94_11ed_94ba_d4548bb590b3row9_col4\" class=\"data row9 col4\" >P</td>\n",
       "                        <td id=\"T_f9382e1a_6a94_11ed_94ba_d4548bb590b3row9_col5\" class=\"data row9 col5\" >0.340000</td>\n",
       "                        <td id=\"T_f9382e1a_6a94_11ed_94ba_d4548bb590b3row9_col6\" class=\"data row9 col6\" >Barrier assessment?</td>\n",
       "                        <td id=\"T_f9382e1a_6a94_11ed_94ba_d4548bb590b3row9_col7\" class=\"data row9 col7\" >Part of Trib to Harpers Lake set.</td>\n",
       "            </tr>\n",
       "            <tr>\n",
       "                                <td id=\"T_f9382e1a_6a94_11ed_94ba_d4548bb590b3row10_col0\" class=\"data row10 col0\" >126510</td>\n",
       "                        <td id=\"T_f9382e1a_6a94_11ed_94ba_d4548bb590b3row10_col1\" class=\"data row10 col1\" >Trib to Horsefly River</td>\n",
       "                        <td id=\"T_f9382e1a_6a94_11ed_94ba_d4548bb590b3row10_col2\" class=\"data row10 col2\" >PSCIS</td>\n",
       "                        <td id=\"T_f9382e1a_6a94_11ed_94ba_d4548bb590b3row10_col3\" class=\"data row10 col3\" >Assessed</td>\n",
       "                        <td id=\"T_f9382e1a_6a94_11ed_94ba_d4548bb590b3row10_col4\" class=\"data row10 col4\" >B</td>\n",
       "                        <td id=\"T_f9382e1a_6a94_11ed_94ba_d4548bb590b3row10_col5\" class=\"data row10 col5\" >1.330000</td>\n",
       "                        <td id=\"T_f9382e1a_6a94_11ed_94ba_d4548bb590b3row10_col6\" class=\"data row10 col6\" >Barrier assessment</td>\n",
       "                        <td id=\"T_f9382e1a_6a94_11ed_94ba_d4548bb590b3row10_col7\" class=\"data row10 col7\" >Medium habitat value, despite being low flows upstream, but high up in watershed.</td>\n",
       "            </tr>\n",
       "            <tr>\n",
       "                                <td id=\"T_f9382e1a_6a94_11ed_94ba_d4548bb590b3row11_col0\" class=\"data row11 col0\" >1006800484</td>\n",
       "                        <td id=\"T_f9382e1a_6a94_11ed_94ba_d4548bb590b3row11_col1\" class=\"data row11 col1\" >Molybdenite Creek</td>\n",
       "                        <td id=\"T_f9382e1a_6a94_11ed_94ba_d4548bb590b3row11_col2\" class=\"data row11 col2\" >Modelled</td>\n",
       "                        <td id=\"T_f9382e1a_6a94_11ed_94ba_d4548bb590b3row11_col3\" class=\"data row11 col3\" >Modelled</td>\n",
       "                        <td id=\"T_f9382e1a_6a94_11ed_94ba_d4548bb590b3row11_col4\" class=\"data row11 col4\" >P</td>\n",
       "                        <td id=\"T_f9382e1a_6a94_11ed_94ba_d4548bb590b3row11_col5\" class=\"data row11 col5\" >0.370000</td>\n",
       "                        <td id=\"T_f9382e1a_6a94_11ed_94ba_d4548bb590b3row11_col6\" class=\"data row11 col6\" >Barrier assessment</td>\n",
       "                        <td id=\"T_f9382e1a_6a94_11ed_94ba_d4548bb590b3row11_col7\" class=\"data row11 col7\" >Downstream of 1006800483.</td>\n",
       "            </tr>\n",
       "            <tr>\n",
       "                                <td id=\"T_f9382e1a_6a94_11ed_94ba_d4548bb590b3row12_col0\" class=\"data row12 col0\" >124256</td>\n",
       "                        <td id=\"T_f9382e1a_6a94_11ed_94ba_d4548bb590b3row12_col1\" class=\"data row12 col1\" >Trib to Horsefly River</td>\n",
       "                        <td id=\"T_f9382e1a_6a94_11ed_94ba_d4548bb590b3row12_col2\" class=\"data row12 col2\" >PSCIS</td>\n",
       "                        <td id=\"T_f9382e1a_6a94_11ed_94ba_d4548bb590b3row12_col3\" class=\"data row12 col3\" >Habitat Confirmation</td>\n",
       "                        <td id=\"T_f9382e1a_6a94_11ed_94ba_d4548bb590b3row12_col4\" class=\"data row12 col4\" >B</td>\n",
       "                        <td id=\"T_f9382e1a_6a94_11ed_94ba_d4548bb590b3row12_col5\" class=\"data row12 col5\" >0.000000</td>\n",
       "                        <td id=\"T_f9382e1a_6a94_11ed_94ba_d4548bb590b3row12_col6\" class=\"data row12 col6\" >Reassessment</td>\n",
       "                        <td id=\"T_f9382e1a_6a94_11ed_94ba_d4548bb590b3row12_col7\" class=\"data row12 col7\" >Medium quality habitat would provide access to Harpers Lake.</td>\n",
       "            </tr>\n",
       "    </tbody></table>"
      ],
      "text/plain": [
       "<pandas.io.formats.style.Styler at 0x25052461748>"
      ]
     },
     "metadata": {
      "scrapbook": {
       "mime_prefix": "",
       "name": "Table18"
      }
     },
     "output_type": "display_data"
    }
   ],
   "source": [
    "data = pd.read_csv('table18.csv', index_col=False)\n",
    "\n",
    "data = data.replace(np.nan, '', regex=True)\n",
    "\n",
    "data = data.style.hide_index().set_properties(**{'text-align': 'left'})\n",
    "\n",
    "data.set_table_styles(\n",
    "[dict(selector = 'th', props=[('text-align', 'left')])])\n",
    "\n",
    "#num of rows\n",
    "num_p = len(data.index)\n",
    "\n",
    "glue(\"Table18\", data)\n",
    "glue(\"inter_num\", num_p)"
   ]
  },
  {
   "cell_type": "markdown",
   "metadata": {},
   "source": [
    "```{glue:figure} Table18\n",
    ":figwidth: 1000px\n",
    ":align: left\n",
    ":name: \"table18\"\n",
    "\n",
    "*Updated intermediate barrier list resulting from the second barrier prioritization analysis in the Horsefly River watershed. After assessing the potential barriers on the first iteration of the intermediate list (2021 field season) and either identifying them as remediation priorities (see {numref}`table18`) or eliminating them from consideration (e.g., because they passed fish or did hot have suitable habitat upstream), the remaining potential barriers in the watershed were re-prioritized. The barriers on this list were prioritized to exceed the connectivity goals of the plan. Barriers highlighted in the same colour represent sets of barriers that have been prioritized as a group. In the Barrier Status column, P = potential barrier and B = confirmed barrier. All barrier assessment data is compiled from the BC Provincial Stream Crossing Inventory System.*\n",
    "```"
   ]
  },
  {
   "cell_type": "code",
   "execution_count": 20,
   "metadata": {
    "scrolled": true,
    "tags": [
     "remove-input",
     "full-width",
     "remove-output"
    ]
   },
   "outputs": [
    {
     "name": "stdout",
     "output_type": "stream",
     "text": [
      "13\n"
     ]
    },
    {
     "data": {
      "text/html": [
       "<style  type=\"text/css\" >\n",
       "    #T_5e0e326c_6a9b_11ed_a21b_d4548bb590b3 th {\n",
       "          text-align: left;\n",
       "    }#T_5e0e326c_6a9b_11ed_a21b_d4548bb590b3row0_col0,#T_5e0e326c_6a9b_11ed_a21b_d4548bb590b3row0_col1,#T_5e0e326c_6a9b_11ed_a21b_d4548bb590b3row0_col2,#T_5e0e326c_6a9b_11ed_a21b_d4548bb590b3row0_col3,#T_5e0e326c_6a9b_11ed_a21b_d4548bb590b3row0_col4,#T_5e0e326c_6a9b_11ed_a21b_d4548bb590b3row0_col5,#T_5e0e326c_6a9b_11ed_a21b_d4548bb590b3row0_col6,#T_5e0e326c_6a9b_11ed_a21b_d4548bb590b3row0_col7,#T_5e0e326c_6a9b_11ed_a21b_d4548bb590b3row0_col8,#T_5e0e326c_6a9b_11ed_a21b_d4548bb590b3row0_col9,#T_5e0e326c_6a9b_11ed_a21b_d4548bb590b3row0_col10,#T_5e0e326c_6a9b_11ed_a21b_d4548bb590b3row0_col11,#T_5e0e326c_6a9b_11ed_a21b_d4548bb590b3row0_col12,#T_5e0e326c_6a9b_11ed_a21b_d4548bb590b3row0_col13,#T_5e0e326c_6a9b_11ed_a21b_d4548bb590b3row1_col0,#T_5e0e326c_6a9b_11ed_a21b_d4548bb590b3row1_col1,#T_5e0e326c_6a9b_11ed_a21b_d4548bb590b3row1_col2,#T_5e0e326c_6a9b_11ed_a21b_d4548bb590b3row1_col3,#T_5e0e326c_6a9b_11ed_a21b_d4548bb590b3row1_col4,#T_5e0e326c_6a9b_11ed_a21b_d4548bb590b3row1_col5,#T_5e0e326c_6a9b_11ed_a21b_d4548bb590b3row1_col6,#T_5e0e326c_6a9b_11ed_a21b_d4548bb590b3row1_col7,#T_5e0e326c_6a9b_11ed_a21b_d4548bb590b3row1_col8,#T_5e0e326c_6a9b_11ed_a21b_d4548bb590b3row1_col9,#T_5e0e326c_6a9b_11ed_a21b_d4548bb590b3row1_col10,#T_5e0e326c_6a9b_11ed_a21b_d4548bb590b3row1_col11,#T_5e0e326c_6a9b_11ed_a21b_d4548bb590b3row1_col12,#T_5e0e326c_6a9b_11ed_a21b_d4548bb590b3row1_col13,#T_5e0e326c_6a9b_11ed_a21b_d4548bb590b3row2_col0,#T_5e0e326c_6a9b_11ed_a21b_d4548bb590b3row2_col1,#T_5e0e326c_6a9b_11ed_a21b_d4548bb590b3row2_col2,#T_5e0e326c_6a9b_11ed_a21b_d4548bb590b3row2_col3,#T_5e0e326c_6a9b_11ed_a21b_d4548bb590b3row2_col4,#T_5e0e326c_6a9b_11ed_a21b_d4548bb590b3row2_col5,#T_5e0e326c_6a9b_11ed_a21b_d4548bb590b3row2_col6,#T_5e0e326c_6a9b_11ed_a21b_d4548bb590b3row2_col7,#T_5e0e326c_6a9b_11ed_a21b_d4548bb590b3row2_col8,#T_5e0e326c_6a9b_11ed_a21b_d4548bb590b3row2_col9,#T_5e0e326c_6a9b_11ed_a21b_d4548bb590b3row2_col10,#T_5e0e326c_6a9b_11ed_a21b_d4548bb590b3row2_col11,#T_5e0e326c_6a9b_11ed_a21b_d4548bb590b3row2_col12,#T_5e0e326c_6a9b_11ed_a21b_d4548bb590b3row2_col13,#T_5e0e326c_6a9b_11ed_a21b_d4548bb590b3row3_col0,#T_5e0e326c_6a9b_11ed_a21b_d4548bb590b3row3_col1,#T_5e0e326c_6a9b_11ed_a21b_d4548bb590b3row3_col2,#T_5e0e326c_6a9b_11ed_a21b_d4548bb590b3row3_col3,#T_5e0e326c_6a9b_11ed_a21b_d4548bb590b3row3_col4,#T_5e0e326c_6a9b_11ed_a21b_d4548bb590b3row3_col5,#T_5e0e326c_6a9b_11ed_a21b_d4548bb590b3row3_col6,#T_5e0e326c_6a9b_11ed_a21b_d4548bb590b3row3_col7,#T_5e0e326c_6a9b_11ed_a21b_d4548bb590b3row3_col8,#T_5e0e326c_6a9b_11ed_a21b_d4548bb590b3row3_col9,#T_5e0e326c_6a9b_11ed_a21b_d4548bb590b3row3_col10,#T_5e0e326c_6a9b_11ed_a21b_d4548bb590b3row3_col11,#T_5e0e326c_6a9b_11ed_a21b_d4548bb590b3row3_col12,#T_5e0e326c_6a9b_11ed_a21b_d4548bb590b3row3_col13,#T_5e0e326c_6a9b_11ed_a21b_d4548bb590b3row4_col0,#T_5e0e326c_6a9b_11ed_a21b_d4548bb590b3row4_col1,#T_5e0e326c_6a9b_11ed_a21b_d4548bb590b3row4_col2,#T_5e0e326c_6a9b_11ed_a21b_d4548bb590b3row4_col3,#T_5e0e326c_6a9b_11ed_a21b_d4548bb590b3row4_col4,#T_5e0e326c_6a9b_11ed_a21b_d4548bb590b3row4_col5,#T_5e0e326c_6a9b_11ed_a21b_d4548bb590b3row4_col6,#T_5e0e326c_6a9b_11ed_a21b_d4548bb590b3row4_col7,#T_5e0e326c_6a9b_11ed_a21b_d4548bb590b3row4_col8,#T_5e0e326c_6a9b_11ed_a21b_d4548bb590b3row4_col9,#T_5e0e326c_6a9b_11ed_a21b_d4548bb590b3row4_col10,#T_5e0e326c_6a9b_11ed_a21b_d4548bb590b3row4_col11,#T_5e0e326c_6a9b_11ed_a21b_d4548bb590b3row4_col12,#T_5e0e326c_6a9b_11ed_a21b_d4548bb590b3row4_col13,#T_5e0e326c_6a9b_11ed_a21b_d4548bb590b3row5_col0,#T_5e0e326c_6a9b_11ed_a21b_d4548bb590b3row5_col1,#T_5e0e326c_6a9b_11ed_a21b_d4548bb590b3row5_col2,#T_5e0e326c_6a9b_11ed_a21b_d4548bb590b3row5_col3,#T_5e0e326c_6a9b_11ed_a21b_d4548bb590b3row5_col4,#T_5e0e326c_6a9b_11ed_a21b_d4548bb590b3row5_col5,#T_5e0e326c_6a9b_11ed_a21b_d4548bb590b3row5_col6,#T_5e0e326c_6a9b_11ed_a21b_d4548bb590b3row5_col7,#T_5e0e326c_6a9b_11ed_a21b_d4548bb590b3row5_col8,#T_5e0e326c_6a9b_11ed_a21b_d4548bb590b3row5_col9,#T_5e0e326c_6a9b_11ed_a21b_d4548bb590b3row5_col10,#T_5e0e326c_6a9b_11ed_a21b_d4548bb590b3row5_col11,#T_5e0e326c_6a9b_11ed_a21b_d4548bb590b3row5_col12,#T_5e0e326c_6a9b_11ed_a21b_d4548bb590b3row5_col13,#T_5e0e326c_6a9b_11ed_a21b_d4548bb590b3row6_col0,#T_5e0e326c_6a9b_11ed_a21b_d4548bb590b3row6_col1,#T_5e0e326c_6a9b_11ed_a21b_d4548bb590b3row6_col2,#T_5e0e326c_6a9b_11ed_a21b_d4548bb590b3row6_col3,#T_5e0e326c_6a9b_11ed_a21b_d4548bb590b3row6_col4,#T_5e0e326c_6a9b_11ed_a21b_d4548bb590b3row6_col5,#T_5e0e326c_6a9b_11ed_a21b_d4548bb590b3row6_col6,#T_5e0e326c_6a9b_11ed_a21b_d4548bb590b3row6_col7,#T_5e0e326c_6a9b_11ed_a21b_d4548bb590b3row6_col8,#T_5e0e326c_6a9b_11ed_a21b_d4548bb590b3row6_col9,#T_5e0e326c_6a9b_11ed_a21b_d4548bb590b3row6_col10,#T_5e0e326c_6a9b_11ed_a21b_d4548bb590b3row6_col11,#T_5e0e326c_6a9b_11ed_a21b_d4548bb590b3row6_col12,#T_5e0e326c_6a9b_11ed_a21b_d4548bb590b3row6_col13,#T_5e0e326c_6a9b_11ed_a21b_d4548bb590b3row7_col0,#T_5e0e326c_6a9b_11ed_a21b_d4548bb590b3row7_col1,#T_5e0e326c_6a9b_11ed_a21b_d4548bb590b3row7_col2,#T_5e0e326c_6a9b_11ed_a21b_d4548bb590b3row7_col3,#T_5e0e326c_6a9b_11ed_a21b_d4548bb590b3row7_col4,#T_5e0e326c_6a9b_11ed_a21b_d4548bb590b3row7_col5,#T_5e0e326c_6a9b_11ed_a21b_d4548bb590b3row7_col6,#T_5e0e326c_6a9b_11ed_a21b_d4548bb590b3row7_col7,#T_5e0e326c_6a9b_11ed_a21b_d4548bb590b3row7_col8,#T_5e0e326c_6a9b_11ed_a21b_d4548bb590b3row7_col9,#T_5e0e326c_6a9b_11ed_a21b_d4548bb590b3row7_col10,#T_5e0e326c_6a9b_11ed_a21b_d4548bb590b3row7_col11,#T_5e0e326c_6a9b_11ed_a21b_d4548bb590b3row7_col12,#T_5e0e326c_6a9b_11ed_a21b_d4548bb590b3row7_col13,#T_5e0e326c_6a9b_11ed_a21b_d4548bb590b3row8_col0,#T_5e0e326c_6a9b_11ed_a21b_d4548bb590b3row8_col1,#T_5e0e326c_6a9b_11ed_a21b_d4548bb590b3row8_col2,#T_5e0e326c_6a9b_11ed_a21b_d4548bb590b3row8_col3,#T_5e0e326c_6a9b_11ed_a21b_d4548bb590b3row8_col4,#T_5e0e326c_6a9b_11ed_a21b_d4548bb590b3row8_col5,#T_5e0e326c_6a9b_11ed_a21b_d4548bb590b3row8_col6,#T_5e0e326c_6a9b_11ed_a21b_d4548bb590b3row8_col7,#T_5e0e326c_6a9b_11ed_a21b_d4548bb590b3row8_col8,#T_5e0e326c_6a9b_11ed_a21b_d4548bb590b3row8_col9,#T_5e0e326c_6a9b_11ed_a21b_d4548bb590b3row8_col10,#T_5e0e326c_6a9b_11ed_a21b_d4548bb590b3row8_col11,#T_5e0e326c_6a9b_11ed_a21b_d4548bb590b3row8_col12,#T_5e0e326c_6a9b_11ed_a21b_d4548bb590b3row8_col13,#T_5e0e326c_6a9b_11ed_a21b_d4548bb590b3row9_col0,#T_5e0e326c_6a9b_11ed_a21b_d4548bb590b3row9_col1,#T_5e0e326c_6a9b_11ed_a21b_d4548bb590b3row9_col2,#T_5e0e326c_6a9b_11ed_a21b_d4548bb590b3row9_col3,#T_5e0e326c_6a9b_11ed_a21b_d4548bb590b3row9_col4,#T_5e0e326c_6a9b_11ed_a21b_d4548bb590b3row9_col5,#T_5e0e326c_6a9b_11ed_a21b_d4548bb590b3row9_col6,#T_5e0e326c_6a9b_11ed_a21b_d4548bb590b3row9_col7,#T_5e0e326c_6a9b_11ed_a21b_d4548bb590b3row9_col8,#T_5e0e326c_6a9b_11ed_a21b_d4548bb590b3row9_col9,#T_5e0e326c_6a9b_11ed_a21b_d4548bb590b3row9_col10,#T_5e0e326c_6a9b_11ed_a21b_d4548bb590b3row9_col11,#T_5e0e326c_6a9b_11ed_a21b_d4548bb590b3row9_col12,#T_5e0e326c_6a9b_11ed_a21b_d4548bb590b3row9_col13,#T_5e0e326c_6a9b_11ed_a21b_d4548bb590b3row10_col0,#T_5e0e326c_6a9b_11ed_a21b_d4548bb590b3row10_col1,#T_5e0e326c_6a9b_11ed_a21b_d4548bb590b3row10_col2,#T_5e0e326c_6a9b_11ed_a21b_d4548bb590b3row10_col3,#T_5e0e326c_6a9b_11ed_a21b_d4548bb590b3row10_col4,#T_5e0e326c_6a9b_11ed_a21b_d4548bb590b3row10_col5,#T_5e0e326c_6a9b_11ed_a21b_d4548bb590b3row10_col6,#T_5e0e326c_6a9b_11ed_a21b_d4548bb590b3row10_col7,#T_5e0e326c_6a9b_11ed_a21b_d4548bb590b3row10_col8,#T_5e0e326c_6a9b_11ed_a21b_d4548bb590b3row10_col9,#T_5e0e326c_6a9b_11ed_a21b_d4548bb590b3row10_col10,#T_5e0e326c_6a9b_11ed_a21b_d4548bb590b3row10_col11,#T_5e0e326c_6a9b_11ed_a21b_d4548bb590b3row10_col12,#T_5e0e326c_6a9b_11ed_a21b_d4548bb590b3row10_col13,#T_5e0e326c_6a9b_11ed_a21b_d4548bb590b3row11_col0,#T_5e0e326c_6a9b_11ed_a21b_d4548bb590b3row11_col1,#T_5e0e326c_6a9b_11ed_a21b_d4548bb590b3row11_col2,#T_5e0e326c_6a9b_11ed_a21b_d4548bb590b3row11_col3,#T_5e0e326c_6a9b_11ed_a21b_d4548bb590b3row11_col4,#T_5e0e326c_6a9b_11ed_a21b_d4548bb590b3row11_col5,#T_5e0e326c_6a9b_11ed_a21b_d4548bb590b3row11_col6,#T_5e0e326c_6a9b_11ed_a21b_d4548bb590b3row11_col7,#T_5e0e326c_6a9b_11ed_a21b_d4548bb590b3row11_col8,#T_5e0e326c_6a9b_11ed_a21b_d4548bb590b3row11_col9,#T_5e0e326c_6a9b_11ed_a21b_d4548bb590b3row11_col10,#T_5e0e326c_6a9b_11ed_a21b_d4548bb590b3row11_col11,#T_5e0e326c_6a9b_11ed_a21b_d4548bb590b3row11_col12,#T_5e0e326c_6a9b_11ed_a21b_d4548bb590b3row11_col13,#T_5e0e326c_6a9b_11ed_a21b_d4548bb590b3row12_col0,#T_5e0e326c_6a9b_11ed_a21b_d4548bb590b3row12_col1,#T_5e0e326c_6a9b_11ed_a21b_d4548bb590b3row12_col2,#T_5e0e326c_6a9b_11ed_a21b_d4548bb590b3row12_col3,#T_5e0e326c_6a9b_11ed_a21b_d4548bb590b3row12_col4,#T_5e0e326c_6a9b_11ed_a21b_d4548bb590b3row12_col5,#T_5e0e326c_6a9b_11ed_a21b_d4548bb590b3row12_col6,#T_5e0e326c_6a9b_11ed_a21b_d4548bb590b3row12_col7,#T_5e0e326c_6a9b_11ed_a21b_d4548bb590b3row12_col8,#T_5e0e326c_6a9b_11ed_a21b_d4548bb590b3row12_col9,#T_5e0e326c_6a9b_11ed_a21b_d4548bb590b3row12_col10,#T_5e0e326c_6a9b_11ed_a21b_d4548bb590b3row12_col11,#T_5e0e326c_6a9b_11ed_a21b_d4548bb590b3row12_col12,#T_5e0e326c_6a9b_11ed_a21b_d4548bb590b3row12_col13{\n",
       "            text-align:  left;\n",
       "        }</style><table id=\"T_5e0e326c_6a9b_11ed_a21b_d4548bb590b3\" ><thead>    <tr>        <th class=\"col_heading level0 col0\" >ID</th>        <th class=\"col_heading level0 col1\" >Stream name</th>        <th class=\"col_heading level0 col2\" >Road name</th>        <th class=\"col_heading level0 col3\" >Owner</th>        <th class=\"col_heading level0 col4\" >Proposed fix</th>        <th class=\"col_heading level0 col5\" >Estimated cost</th>        <th class=\"col_heading level0 col6\" >Upstream habitat Quality</th>        <th class=\"col_heading level0 col7\" >Barrier type</th>        <th class=\"col_heading level0 col8\" >Habitat gain</th>        <th class=\"col_heading level0 col9\" >Cost Benefit ratio</th>        <th class=\"col_heading level0 col10\" >Priority</th>        <th class=\"col_heading level0 col11\" >Next steps</th>        <th class=\"col_heading level0 col12\" >Reason</th>        <th class=\"col_heading level0 col13\" >Notes</th>    </tr></thead><tbody>\n",
       "                <tr>\n",
       "                                <td id=\"T_5e0e326c_6a9b_11ed_a21b_d4548bb590b3row0_col0\" class=\"data row0 col0\" >1100000243</td>\n",
       "                        <td id=\"T_5e0e326c_6a9b_11ed_a21b_d4548bb590b3row0_col1\" class=\"data row0 col1\" >Gibbons Creek</td>\n",
       "                        <td id=\"T_5e0e326c_6a9b_11ed_a21b_d4548bb590b3row0_col2\" class=\"data row0 col2\" ></td>\n",
       "                        <td id=\"T_5e0e326c_6a9b_11ed_a21b_d4548bb590b3row0_col3\" class=\"data row0 col3\" >Private</td>\n",
       "                        <td id=\"T_5e0e326c_6a9b_11ed_a21b_d4548bb590b3row0_col4\" class=\"data row0 col4\" >Reassess dam presence</td>\n",
       "                        <td id=\"T_5e0e326c_6a9b_11ed_a21b_d4548bb590b3row0_col5\" class=\"data row0 col5\" >5</td>\n",
       "                        <td id=\"T_5e0e326c_6a9b_11ed_a21b_d4548bb590b3row0_col6\" class=\"data row0 col6\" >Low</td>\n",
       "                        <td id=\"T_5e0e326c_6a9b_11ed_a21b_d4548bb590b3row0_col7\" class=\"data row0 col7\" >TBD</td>\n",
       "                        <td id=\"T_5e0e326c_6a9b_11ed_a21b_d4548bb590b3row0_col8\" class=\"data row0 col8\" >2.670000</td>\n",
       "                        <td id=\"T_5e0e326c_6a9b_11ed_a21b_d4548bb590b3row0_col9\" class=\"data row0 col9\" >53.400000</td>\n",
       "                        <td id=\"T_5e0e326c_6a9b_11ed_a21b_d4548bb590b3row0_col10\" class=\"data row0 col10\" >Low</td>\n",
       "                        <td id=\"T_5e0e326c_6a9b_11ed_a21b_d4548bb590b3row0_col11\" class=\"data row0 col11\" >Barrier assessment</td>\n",
       "                        <td id=\"T_5e0e326c_6a9b_11ed_a21b_d4548bb590b3row0_col12\" class=\"data row0 col12\" ></td>\n",
       "                        <td id=\"T_5e0e326c_6a9b_11ed_a21b_d4548bb590b3row0_col13\" class=\"data row0 col13\" >Private owner, unlikely to be cooperative</td>\n",
       "            </tr>\n",
       "            <tr>\n",
       "                                <td id=\"T_5e0e326c_6a9b_11ed_a21b_d4548bb590b3row1_col0\" class=\"data row1 col0\" >1100000814</td>\n",
       "                        <td id=\"T_5e0e326c_6a9b_11ed_a21b_d4548bb590b3row1_col1\" class=\"data row1 col1\" >Rat/Peter Creek</td>\n",
       "                        <td id=\"T_5e0e326c_6a9b_11ed_a21b_d4548bb590b3row1_col2\" class=\"data row1 col2\" ></td>\n",
       "                        <td id=\"T_5e0e326c_6a9b_11ed_a21b_d4548bb590b3row1_col3\" class=\"data row1 col3\" >Private</td>\n",
       "                        <td id=\"T_5e0e326c_6a9b_11ed_a21b_d4548bb590b3row1_col4\" class=\"data row1 col4\" >Reassess dam presence</td>\n",
       "                        <td id=\"T_5e0e326c_6a9b_11ed_a21b_d4548bb590b3row1_col5\" class=\"data row1 col5\" >5</td>\n",
       "                        <td id=\"T_5e0e326c_6a9b_11ed_a21b_d4548bb590b3row1_col6\" class=\"data row1 col6\" >Low</td>\n",
       "                        <td id=\"T_5e0e326c_6a9b_11ed_a21b_d4548bb590b3row1_col7\" class=\"data row1 col7\" >Dam</td>\n",
       "                        <td id=\"T_5e0e326c_6a9b_11ed_a21b_d4548bb590b3row1_col8\" class=\"data row1 col8\" >1.410000</td>\n",
       "                        <td id=\"T_5e0e326c_6a9b_11ed_a21b_d4548bb590b3row1_col9\" class=\"data row1 col9\" >28.200000</td>\n",
       "                        <td id=\"T_5e0e326c_6a9b_11ed_a21b_d4548bb590b3row1_col10\" class=\"data row1 col10\" >Low</td>\n",
       "                        <td id=\"T_5e0e326c_6a9b_11ed_a21b_d4548bb590b3row1_col11\" class=\"data row1 col11\" >Barrier assessment</td>\n",
       "                        <td id=\"T_5e0e326c_6a9b_11ed_a21b_d4548bb590b3row1_col12\" class=\"data row1 col12\" ></td>\n",
       "                        <td id=\"T_5e0e326c_6a9b_11ed_a21b_d4548bb590b3row1_col13\" class=\"data row1 col13\" >also test water quality while out there, take a look at the bridge 124264 on Horsefly-Quesnel Lk Rd  downstream.</td>\n",
       "            </tr>\n",
       "            <tr>\n",
       "                                <td id=\"T_5e0e326c_6a9b_11ed_a21b_d4548bb590b3row2_col0\" class=\"data row2 col0\" >124268</td>\n",
       "                        <td id=\"T_5e0e326c_6a9b_11ed_a21b_d4548bb590b3row2_col1\" class=\"data row2 col1\" >Vedder Creek</td>\n",
       "                        <td id=\"T_5e0e326c_6a9b_11ed_a21b_d4548bb590b3row2_col2\" class=\"data row2 col2\" >Horsefly-Quesnel Lake Road</td>\n",
       "                        <td id=\"T_5e0e326c_6a9b_11ed_a21b_d4548bb590b3row2_col3\" class=\"data row2 col3\" >MOTI</td>\n",
       "                        <td id=\"T_5e0e326c_6a9b_11ed_a21b_d4548bb590b3row2_col4\" class=\"data row2 col4\" >Replace with 4 m clearspan bridge</td>\n",
       "                        <td id=\"T_5e0e326c_6a9b_11ed_a21b_d4548bb590b3row2_col5\" class=\"data row2 col5\" >400</td>\n",
       "                        <td id=\"T_5e0e326c_6a9b_11ed_a21b_d4548bb590b3row2_col6\" class=\"data row2 col6\" >High</td>\n",
       "                        <td id=\"T_5e0e326c_6a9b_11ed_a21b_d4548bb590b3row2_col7\" class=\"data row2 col7\" >Partial</td>\n",
       "                        <td id=\"T_5e0e326c_6a9b_11ed_a21b_d4548bb590b3row2_col8\" class=\"data row2 col8\" >0.175000</td>\n",
       "                        <td id=\"T_5e0e326c_6a9b_11ed_a21b_d4548bb590b3row2_col9\" class=\"data row2 col9\" >0.040000</td>\n",
       "                        <td id=\"T_5e0e326c_6a9b_11ed_a21b_d4548bb590b3row2_col10\" class=\"data row2 col10\" >Medium</td>\n",
       "                        <td id=\"T_5e0e326c_6a9b_11ed_a21b_d4548bb590b3row2_col11\" class=\"data row2 col11\" >Design</td>\n",
       "                        <td id=\"T_5e0e326c_6a9b_11ed_a21b_d4548bb590b3row2_col12\" class=\"data row2 col12\" >High quality habitat but seems to be accessible to most fish</td>\n",
       "                        <td id=\"T_5e0e326c_6a9b_11ed_a21b_d4548bb590b3row2_col13\" class=\"data row2 col13\" ></td>\n",
       "            </tr>\n",
       "            <tr>\n",
       "                                <td id=\"T_5e0e326c_6a9b_11ed_a21b_d4548bb590b3row3_col0\" class=\"data row3 col0\" >57507</td>\n",
       "                        <td id=\"T_5e0e326c_6a9b_11ed_a21b_d4548bb590b3row3_col1\" class=\"data row3 col1\" >Wilmot Creek</td>\n",
       "                        <td id=\"T_5e0e326c_6a9b_11ed_a21b_d4548bb590b3row3_col2\" class=\"data row3 col2\" >Horsefly 1242-01</td>\n",
       "                        <td id=\"T_5e0e326c_6a9b_11ed_a21b_d4548bb590b3row3_col3\" class=\"data row3 col3\" >MOTI</td>\n",
       "                        <td id=\"T_5e0e326c_6a9b_11ed_a21b_d4548bb590b3row3_col4\" class=\"data row3 col4\" >Replace with 7 m Clearspan Bridge </td>\n",
       "                        <td id=\"T_5e0e326c_6a9b_11ed_a21b_d4548bb590b3row3_col5\" class=\"data row3 col5\" >700</td>\n",
       "                        <td id=\"T_5e0e326c_6a9b_11ed_a21b_d4548bb590b3row3_col6\" class=\"data row3 col6\" >Medium</td>\n",
       "                        <td id=\"T_5e0e326c_6a9b_11ed_a21b_d4548bb590b3row3_col7\" class=\"data row3 col7\" >Full</td>\n",
       "                        <td id=\"T_5e0e326c_6a9b_11ed_a21b_d4548bb590b3row3_col8\" class=\"data row3 col8\" >1.650000</td>\n",
       "                        <td id=\"T_5e0e326c_6a9b_11ed_a21b_d4548bb590b3row3_col9\" class=\"data row3 col9\" >0.240000</td>\n",
       "                        <td id=\"T_5e0e326c_6a9b_11ed_a21b_d4548bb590b3row3_col10\" class=\"data row3 col10\" >High</td>\n",
       "                        <td id=\"T_5e0e326c_6a9b_11ed_a21b_d4548bb590b3row3_col11\" class=\"data row3 col11\" >Design</td>\n",
       "                        <td id=\"T_5e0e326c_6a9b_11ed_a21b_d4548bb590b3row3_col12\" class=\"data row3 col12\" >High potential for use by salmon, direct connection to Horsefly</td>\n",
       "                        <td id=\"T_5e0e326c_6a9b_11ed_a21b_d4548bb590b3row3_col13\" class=\"data row3 col13\" ></td>\n",
       "            </tr>\n",
       "            <tr>\n",
       "                                <td id=\"T_5e0e326c_6a9b_11ed_a21b_d4548bb590b3row4_col0\" class=\"data row4 col0\" >124150</td>\n",
       "                        <td id=\"T_5e0e326c_6a9b_11ed_a21b_d4548bb590b3row4_col1\" class=\"data row4 col1\" >Trib to Deerhorn</td>\n",
       "                        <td id=\"T_5e0e326c_6a9b_11ed_a21b_d4548bb590b3row4_col2\" class=\"data row4 col2\" >Unnamed</td>\n",
       "                        <td id=\"T_5e0e326c_6a9b_11ed_a21b_d4548bb590b3row4_col3\" class=\"data row4 col3\" >Private (Bob & Helen Sullivan)</td>\n",
       "                        <td id=\"T_5e0e326c_6a9b_11ed_a21b_d4548bb590b3row4_col4\" class=\"data row4 col4\" >Replace with 5 m Clearspan Bridge </td>\n",
       "                        <td id=\"T_5e0e326c_6a9b_11ed_a21b_d4548bb590b3row4_col5\" class=\"data row4 col5\" >75</td>\n",
       "                        <td id=\"T_5e0e326c_6a9b_11ed_a21b_d4548bb590b3row4_col6\" class=\"data row4 col6\" >Medium</td>\n",
       "                        <td id=\"T_5e0e326c_6a9b_11ed_a21b_d4548bb590b3row4_col7\" class=\"data row4 col7\" >Potential</td>\n",
       "                        <td id=\"T_5e0e326c_6a9b_11ed_a21b_d4548bb590b3row4_col8\" class=\"data row4 col8\" >1.890000</td>\n",
       "                        <td id=\"T_5e0e326c_6a9b_11ed_a21b_d4548bb590b3row4_col9\" class=\"data row4 col9\" >2.520000</td>\n",
       "                        <td id=\"T_5e0e326c_6a9b_11ed_a21b_d4548bb590b3row4_col10\" class=\"data row4 col10\" >Medium</td>\n",
       "                        <td id=\"T_5e0e326c_6a9b_11ed_a21b_d4548bb590b3row4_col11\" class=\"data row4 col11\" >Design</td>\n",
       "                        <td id=\"T_5e0e326c_6a9b_11ed_a21b_d4548bb590b3row4_col12\" class=\"data row4 col12\" >Good rearing upstream, good spawning downstream</td>\n",
       "                        <td id=\"T_5e0e326c_6a9b_11ed_a21b_d4548bb590b3row4_col13\" class=\"data row4 col13\" >Owners not super receptive to work right now</td>\n",
       "            </tr>\n",
       "            <tr>\n",
       "                                <td id=\"T_5e0e326c_6a9b_11ed_a21b_d4548bb590b3row5_col0\" class=\"data row5 col0\" >124272</td>\n",
       "                        <td id=\"T_5e0e326c_6a9b_11ed_a21b_d4548bb590b3row5_col1\" class=\"data row5 col1\" >Trib to Woodjam Creek</td>\n",
       "                        <td id=\"T_5e0e326c_6a9b_11ed_a21b_d4548bb590b3row5_col2\" class=\"data row5 col2\" >Unnamed</td>\n",
       "                        <td id=\"T_5e0e326c_6a9b_11ed_a21b_d4548bb590b3row5_col3\" class=\"data row5 col3\" >Private (for sale) </td>\n",
       "                        <td id=\"T_5e0e326c_6a9b_11ed_a21b_d4548bb590b3row5_col4\" class=\"data row5 col4\" >Replace with 4 m clearspan bridge</td>\n",
       "                        <td id=\"T_5e0e326c_6a9b_11ed_a21b_d4548bb590b3row5_col5\" class=\"data row5 col5\" >60</td>\n",
       "                        <td id=\"T_5e0e326c_6a9b_11ed_a21b_d4548bb590b3row5_col6\" class=\"data row5 col6\" >High</td>\n",
       "                        <td id=\"T_5e0e326c_6a9b_11ed_a21b_d4548bb590b3row5_col7\" class=\"data row5 col7\" >Partial</td>\n",
       "                        <td id=\"T_5e0e326c_6a9b_11ed_a21b_d4548bb590b3row5_col8\" class=\"data row5 col8\" >0.930000</td>\n",
       "                        <td id=\"T_5e0e326c_6a9b_11ed_a21b_d4548bb590b3row5_col9\" class=\"data row5 col9\" >1.550000</td>\n",
       "                        <td id=\"T_5e0e326c_6a9b_11ed_a21b_d4548bb590b3row5_col10\" class=\"data row5 col10\" >Medium</td>\n",
       "                        <td id=\"T_5e0e326c_6a9b_11ed_a21b_d4548bb590b3row5_col11\" class=\"data row5 col11\" >Design</td>\n",
       "                        <td id=\"T_5e0e326c_6a9b_11ed_a21b_d4548bb590b3row5_col12\" class=\"data row5 col12\" >Passable to adults but high quality habitat upstream</td>\n",
       "                        <td id=\"T_5e0e326c_6a9b_11ed_a21b_d4548bb590b3row5_col13\" class=\"data row5 col13\" >Property for sale</td>\n",
       "            </tr>\n",
       "            <tr>\n",
       "                                <td id=\"T_5e0e326c_6a9b_11ed_a21b_d4548bb590b3row6_col0\" class=\"data row6 col0\" >124256</td>\n",
       "                        <td id=\"T_5e0e326c_6a9b_11ed_a21b_d4548bb590b3row6_col1\" class=\"data row6 col1\" >Harpers Lake Creek</td>\n",
       "                        <td id=\"T_5e0e326c_6a9b_11ed_a21b_d4548bb590b3row6_col2\" class=\"data row6 col2\" >Horsefly Road</td>\n",
       "                        <td id=\"T_5e0e326c_6a9b_11ed_a21b_d4548bb590b3row6_col3\" class=\"data row6 col3\" >MOTI</td>\n",
       "                        <td id=\"T_5e0e326c_6a9b_11ed_a21b_d4548bb590b3row6_col4\" class=\"data row6 col4\" >Replace with 7 m Clearspan Bridge </td>\n",
       "                        <td id=\"T_5e0e326c_6a9b_11ed_a21b_d4548bb590b3row6_col5\" class=\"data row6 col5\" >700</td>\n",
       "                        <td id=\"T_5e0e326c_6a9b_11ed_a21b_d4548bb590b3row6_col6\" class=\"data row6 col6\" >Medium</td>\n",
       "                        <td id=\"T_5e0e326c_6a9b_11ed_a21b_d4548bb590b3row6_col7\" class=\"data row6 col7\" >Full</td>\n",
       "                        <td id=\"T_5e0e326c_6a9b_11ed_a21b_d4548bb590b3row6_col8\" class=\"data row6 col8\" >0.870000</td>\n",
       "                        <td id=\"T_5e0e326c_6a9b_11ed_a21b_d4548bb590b3row6_col9\" class=\"data row6 col9\" >0.120000</td>\n",
       "                        <td id=\"T_5e0e326c_6a9b_11ed_a21b_d4548bb590b3row6_col10\" class=\"data row6 col10\" >Medium</td>\n",
       "                        <td id=\"T_5e0e326c_6a9b_11ed_a21b_d4548bb590b3row6_col11\" class=\"data row6 col11\" >Design</td>\n",
       "                        <td id=\"T_5e0e326c_6a9b_11ed_a21b_d4548bb590b3row6_col12\" class=\"data row6 col12\" >Direct access to Horsefly R, provide access to Harpers Lake</td>\n",
       "                        <td id=\"T_5e0e326c_6a9b_11ed_a21b_d4548bb590b3row6_col13\" class=\"data row6 col13\" ></td>\n",
       "            </tr>\n",
       "            <tr>\n",
       "                                <td id=\"T_5e0e326c_6a9b_11ed_a21b_d4548bb590b3row7_col0\" class=\"data row7 col0\" >126471</td>\n",
       "                        <td id=\"T_5e0e326c_6a9b_11ed_a21b_d4548bb590b3row7_col1\" class=\"data row7 col1\" >Trib to Woodjam Creek</td>\n",
       "                        <td id=\"T_5e0e326c_6a9b_11ed_a21b_d4548bb590b3row7_col2\" class=\"data row7 col2\" >unnamed</td>\n",
       "                        <td id=\"T_5e0e326c_6a9b_11ed_a21b_d4548bb590b3row7_col3\" class=\"data row7 col3\" >FLNRO</td>\n",
       "                        <td id=\"T_5e0e326c_6a9b_11ed_a21b_d4548bb590b3row7_col4\" class=\"data row7 col4\" >Replace with 3 m clearspan bridge</td>\n",
       "                        <td id=\"T_5e0e326c_6a9b_11ed_a21b_d4548bb590b3row7_col5\" class=\"data row7 col5\" >60</td>\n",
       "                        <td id=\"T_5e0e326c_6a9b_11ed_a21b_d4548bb590b3row7_col6\" class=\"data row7 col6\" >Medium</td>\n",
       "                        <td id=\"T_5e0e326c_6a9b_11ed_a21b_d4548bb590b3row7_col7\" class=\"data row7 col7\" >Partial</td>\n",
       "                        <td id=\"T_5e0e326c_6a9b_11ed_a21b_d4548bb590b3row7_col8\" class=\"data row7 col8\" >0.110000</td>\n",
       "                        <td id=\"T_5e0e326c_6a9b_11ed_a21b_d4548bb590b3row7_col9\" class=\"data row7 col9\" >0.180000</td>\n",
       "                        <td id=\"T_5e0e326c_6a9b_11ed_a21b_d4548bb590b3row7_col10\" class=\"data row7 col10\" >Low</td>\n",
       "                        <td id=\"T_5e0e326c_6a9b_11ed_a21b_d4548bb590b3row7_col11\" class=\"data row7 col11\" >Design</td>\n",
       "                        <td id=\"T_5e0e326c_6a9b_11ed_a21b_d4548bb590b3row7_col12\" class=\"data row7 col12\" >Short habitat gain, parr able to pass at some flows, dewatering/ stranding potential</td>\n",
       "                        <td id=\"T_5e0e326c_6a9b_11ed_a21b_d4548bb590b3row7_col13\" class=\"data row7 col13\" ></td>\n",
       "            </tr>\n",
       "            <tr>\n",
       "                                <td id=\"T_5e0e326c_6a9b_11ed_a21b_d4548bb590b3row8_col0\" class=\"data row8 col0\" >126511</td>\n",
       "                        <td id=\"T_5e0e326c_6a9b_11ed_a21b_d4548bb590b3row8_col1\" class=\"data row8 col1\" >Trib to Horsefly River</td>\n",
       "                        <td id=\"T_5e0e326c_6a9b_11ed_a21b_d4548bb590b3row8_col2\" class=\"data row8 col2\" >unnamed</td>\n",
       "                        <td id=\"T_5e0e326c_6a9b_11ed_a21b_d4548bb590b3row8_col3\" class=\"data row8 col3\" >Tolko Industries</td>\n",
       "                        <td id=\"T_5e0e326c_6a9b_11ed_a21b_d4548bb590b3row8_col4\" class=\"data row8 col4\" >Remove culvert from under bridge</td>\n",
       "                        <td id=\"T_5e0e326c_6a9b_11ed_a21b_d4548bb590b3row8_col5\" class=\"data row8 col5\" >30</td>\n",
       "                        <td id=\"T_5e0e326c_6a9b_11ed_a21b_d4548bb590b3row8_col6\" class=\"data row8 col6\" >Medium</td>\n",
       "                        <td id=\"T_5e0e326c_6a9b_11ed_a21b_d4548bb590b3row8_col7\" class=\"data row8 col7\" >Potential</td>\n",
       "                        <td id=\"T_5e0e326c_6a9b_11ed_a21b_d4548bb590b3row8_col8\" class=\"data row8 col8\" >3.500000</td>\n",
       "                        <td id=\"T_5e0e326c_6a9b_11ed_a21b_d4548bb590b3row8_col9\" class=\"data row8 col9\" >11.670000</td>\n",
       "                        <td id=\"T_5e0e326c_6a9b_11ed_a21b_d4548bb590b3row8_col10\" class=\"data row8 col10\" >High</td>\n",
       "                        <td id=\"T_5e0e326c_6a9b_11ed_a21b_d4548bb590b3row8_col11\" class=\"data row8 col11\" >Follow up with barrier owner</td>\n",
       "                        <td id=\"T_5e0e326c_6a9b_11ed_a21b_d4548bb590b3row8_col12\" class=\"data row8 col12\" >simple fix, bridge already in place, low cost, decent habitat</td>\n",
       "                        <td id=\"T_5e0e326c_6a9b_11ed_a21b_d4548bb590b3row8_col13\" class=\"data row8 col13\" >Industry barrier  (Tolko)</td>\n",
       "            </tr>\n",
       "            <tr>\n",
       "                                <td id=\"T_5e0e326c_6a9b_11ed_a21b_d4548bb590b3row9_col0\" class=\"data row9 col0\" >1006800487</td>\n",
       "                        <td id=\"T_5e0e326c_6a9b_11ed_a21b_d4548bb590b3row9_col1\" class=\"data row9 col1\" >Divan Creek</td>\n",
       "                        <td id=\"T_5e0e326c_6a9b_11ed_a21b_d4548bb590b3row9_col2\" class=\"data row9 col2\" >unnamed</td>\n",
       "                        <td id=\"T_5e0e326c_6a9b_11ed_a21b_d4548bb590b3row9_col3\" class=\"data row9 col3\" >W. Fraser Mills</td>\n",
       "                        <td id=\"T_5e0e326c_6a9b_11ed_a21b_d4548bb590b3row9_col4\" class=\"data row9 col4\" >Restore stream channel through deactivated corridor</td>\n",
       "                        <td id=\"T_5e0e326c_6a9b_11ed_a21b_d4548bb590b3row9_col5\" class=\"data row9 col5\" >40</td>\n",
       "                        <td id=\"T_5e0e326c_6a9b_11ed_a21b_d4548bb590b3row9_col6\" class=\"data row9 col6\" >Low</td>\n",
       "                        <td id=\"T_5e0e326c_6a9b_11ed_a21b_d4548bb590b3row9_col7\" class=\"data row9 col7\" >Full</td>\n",
       "                        <td id=\"T_5e0e326c_6a9b_11ed_a21b_d4548bb590b3row9_col8\" class=\"data row9 col8\" >1.440000</td>\n",
       "                        <td id=\"T_5e0e326c_6a9b_11ed_a21b_d4548bb590b3row9_col9\" class=\"data row9 col9\" >3.600000</td>\n",
       "                        <td id=\"T_5e0e326c_6a9b_11ed_a21b_d4548bb590b3row9_col10\" class=\"data row9 col10\" >Medium</td>\n",
       "                        <td id=\"T_5e0e326c_6a9b_11ed_a21b_d4548bb590b3row9_col11\" class=\"data row9 col11\" >Follow up with barrier owner</td>\n",
       "                        <td id=\"T_5e0e326c_6a9b_11ed_a21b_d4548bb590b3row9_col12\" class=\"data row9 col12\" >Low quality habitat but industry-owned</td>\n",
       "                        <td id=\"T_5e0e326c_6a9b_11ed_a21b_d4548bb590b3row9_col13\" class=\"data row9 col13\" >Industry barrer (W. Fraser Mills)</td>\n",
       "            </tr>\n",
       "            <tr>\n",
       "                                <td id=\"T_5e0e326c_6a9b_11ed_a21b_d4548bb590b3row10_col0\" class=\"data row10 col0\" >57158</td>\n",
       "                        <td id=\"T_5e0e326c_6a9b_11ed_a21b_d4548bb590b3row10_col1\" class=\"data row10 col1\" >Trib to McKinley Ck</td>\n",
       "                        <td id=\"T_5e0e326c_6a9b_11ed_a21b_d4548bb590b3row10_col2\" class=\"data row10 col2\" >R02156-887</td>\n",
       "                        <td id=\"T_5e0e326c_6a9b_11ed_a21b_d4548bb590b3row10_col3\" class=\"data row10 col3\" >W. Fraser Mills</td>\n",
       "                        <td id=\"T_5e0e326c_6a9b_11ed_a21b_d4548bb590b3row10_col4\" class=\"data row10 col4\" >Replace with 6 m clearspan bridge</td>\n",
       "                        <td id=\"T_5e0e326c_6a9b_11ed_a21b_d4548bb590b3row10_col5\" class=\"data row10 col5\" >100</td>\n",
       "                        <td id=\"T_5e0e326c_6a9b_11ed_a21b_d4548bb590b3row10_col6\" class=\"data row10 col6\" >Medium</td>\n",
       "                        <td id=\"T_5e0e326c_6a9b_11ed_a21b_d4548bb590b3row10_col7\" class=\"data row10 col7\" >Full</td>\n",
       "                        <td id=\"T_5e0e326c_6a9b_11ed_a21b_d4548bb590b3row10_col8\" class=\"data row10 col8\" >0.360000</td>\n",
       "                        <td id=\"T_5e0e326c_6a9b_11ed_a21b_d4548bb590b3row10_col9\" class=\"data row10 col9\" >0.360000</td>\n",
       "                        <td id=\"T_5e0e326c_6a9b_11ed_a21b_d4548bb590b3row10_col10\" class=\"data row10 col10\" >Medium</td>\n",
       "                        <td id=\"T_5e0e326c_6a9b_11ed_a21b_d4548bb590b3row10_col11\" class=\"data row10 col11\" >Follow up with barrier owner</td>\n",
       "                        <td id=\"T_5e0e326c_6a9b_11ed_a21b_d4548bb590b3row10_col12\" class=\"data row10 col12\" >short habitat gain (wetland upstream), industry-owned. Poorly definte channel beyond wetland</td>\n",
       "                        <td id=\"T_5e0e326c_6a9b_11ed_a21b_d4548bb590b3row10_col13\" class=\"data row10 col13\" >Industry barrier (West Fraser Mills)</td>\n",
       "            </tr>\n",
       "            <tr>\n",
       "                                <td id=\"T_5e0e326c_6a9b_11ed_a21b_d4548bb590b3row11_col0\" class=\"data row11 col0\" >1100001822</td>\n",
       "                        <td id=\"T_5e0e326c_6a9b_11ed_a21b_d4548bb590b3row11_col1\" class=\"data row11 col1\" >Gibbons Creek</td>\n",
       "                        <td id=\"T_5e0e326c_6a9b_11ed_a21b_d4548bb590b3row11_col2\" class=\"data row11 col2\" ></td>\n",
       "                        <td id=\"T_5e0e326c_6a9b_11ed_a21b_d4548bb590b3row11_col3\" class=\"data row11 col3\" >Private</td>\n",
       "                        <td id=\"T_5e0e326c_6a9b_11ed_a21b_d4548bb590b3row11_col4\" class=\"data row11 col4\" >Reassess habitat quality</td>\n",
       "                        <td id=\"T_5e0e326c_6a9b_11ed_a21b_d4548bb590b3row11_col5\" class=\"data row11 col5\" >5</td>\n",
       "                        <td id=\"T_5e0e326c_6a9b_11ed_a21b_d4548bb590b3row11_col6\" class=\"data row11 col6\" >Low</td>\n",
       "                        <td id=\"T_5e0e326c_6a9b_11ed_a21b_d4548bb590b3row11_col7\" class=\"data row11 col7\" >Dam</td>\n",
       "                        <td id=\"T_5e0e326c_6a9b_11ed_a21b_d4548bb590b3row11_col8\" class=\"data row11 col8\" >2.420000</td>\n",
       "                        <td id=\"T_5e0e326c_6a9b_11ed_a21b_d4548bb590b3row11_col9\" class=\"data row11 col9\" >48.400000</td>\n",
       "                        <td id=\"T_5e0e326c_6a9b_11ed_a21b_d4548bb590b3row11_col10\" class=\"data row11 col10\" >Low</td>\n",
       "                        <td id=\"T_5e0e326c_6a9b_11ed_a21b_d4548bb590b3row11_col11\" class=\"data row11 col11\" >Habitat investigations</td>\n",
       "                        <td id=\"T_5e0e326c_6a9b_11ed_a21b_d4548bb590b3row11_col12\" class=\"data row11 col12\" ></td>\n",
       "                        <td id=\"T_5e0e326c_6a9b_11ed_a21b_d4548bb590b3row11_col13\" class=\"data row11 col13\" >Private owner, unlikely to be cooperative</td>\n",
       "            </tr>\n",
       "            <tr>\n",
       "                                <td id=\"T_5e0e326c_6a9b_11ed_a21b_d4548bb590b3row12_col0\" class=\"data row12 col0\" >57168</td>\n",
       "                        <td id=\"T_5e0e326c_6a9b_11ed_a21b_d4548bb590b3row12_col1\" class=\"data row12 col1\" >Trib to Bosk Lake</td>\n",
       "                        <td id=\"T_5e0e326c_6a9b_11ed_a21b_d4548bb590b3row12_col2\" class=\"data row12 col2\" >Black Creek-Cruiser Lake</td>\n",
       "                        <td id=\"T_5e0e326c_6a9b_11ed_a21b_d4548bb590b3row12_col3\" class=\"data row12 col3\" >FLNRO</td>\n",
       "                        <td id=\"T_5e0e326c_6a9b_11ed_a21b_d4548bb590b3row12_col4\" class=\"data row12 col4\" >Replace with 11 m clearspan bridge</td>\n",
       "                        <td id=\"T_5e0e326c_6a9b_11ed_a21b_d4548bb590b3row12_col5\" class=\"data row12 col5\" >150</td>\n",
       "                        <td id=\"T_5e0e326c_6a9b_11ed_a21b_d4548bb590b3row12_col6\" class=\"data row12 col6\" >Medium</td>\n",
       "                        <td id=\"T_5e0e326c_6a9b_11ed_a21b_d4548bb590b3row12_col7\" class=\"data row12 col7\" >Partial-Full</td>\n",
       "                        <td id=\"T_5e0e326c_6a9b_11ed_a21b_d4548bb590b3row12_col8\" class=\"data row12 col8\" >0.970000</td>\n",
       "                        <td id=\"T_5e0e326c_6a9b_11ed_a21b_d4548bb590b3row12_col9\" class=\"data row12 col9\" >0.650000</td>\n",
       "                        <td id=\"T_5e0e326c_6a9b_11ed_a21b_d4548bb590b3row12_col10\" class=\"data row12 col10\" >High</td>\n",
       "                        <td id=\"T_5e0e326c_6a9b_11ed_a21b_d4548bb590b3row12_col11\" class=\"data row12 col11\" >Remediation</td>\n",
       "                        <td id=\"T_5e0e326c_6a9b_11ed_a21b_d4548bb590b3row12_col12\" class=\"data row12 col12\" >Potential for upstream spawning and rearing</td>\n",
       "                        <td id=\"T_5e0e326c_6a9b_11ed_a21b_d4548bb590b3row12_col13\" class=\"data row12 col13\" ></td>\n",
       "            </tr>\n",
       "    </tbody></table>"
      ],
      "text/plain": [
       "<pandas.io.formats.style.Styler at 0x2505249da48>"
      ]
     },
     "metadata": {
      "scrapbook": {
       "mime_prefix": "",
       "name": "Table19"
      }
     },
     "output_type": "display_data"
    },
    {
     "data": {
      "text/plain": [
       "13"
      ]
     },
     "metadata": {
      "scrapbook": {
       "mime_prefix": "",
       "name": "prior_num"
      }
     },
     "output_type": "display_data"
    }
   ],
   "source": [
    "data = pd.read_csv('priority_barriers.csv', index_col=False)\n",
    "\n",
    "#pd.options.display.max_columns=10\n",
    "\n",
    "data = data.replace(np.nan, '', regex=True)\n",
    "\n",
    "data = data.style.hide_index().set_properties(**{'text-align': 'left'})\n",
    "\n",
    "data.set_table_styles(\n",
    "[dict(selector = 'th', props=[('text-align', 'left')])])\n",
    "\n",
    "#num of rows\n",
    "num_p = len(data.index)\n",
    "\n",
    "glue(\"Table19\", data)\n",
    "glue(\"prior_num\", num_p)"
   ]
  },
  {
   "cell_type": "markdown",
   "metadata": {},
   "source": [
    "```{glue:figure} Table19\n",
    ":figwidth: 1100px\n",
    ":align: left\n",
    ":name: \"table19\"\n",
    "\n",
    "\n",
    "*The Horsefly River watershed priority barrier list, which includes barriers that have undergone field assessment, been reviewed by the planning team, and selected to pursue for proactive remediation.*\n",
    "```"
   ]
  },
  {
   "cell_type": "markdown",
   "metadata": {},
   "source": [
    "Out of the {glue:text}`inter_num` on the intermediate list, 16 require further field assessment before selection as a final barrier to pursue for remediation: \n"
   ]
  },
  {
   "cell_type": "code",
   "execution_count": 17,
   "metadata": {
    "tags": [
     "remove-input",
     "remove-output"
    ]
   },
   "outputs": [
    {
     "data": {
      "text/html": [
       "<style  type=\"text/css\" >\n",
       "    #T_f970fdec_6a94_11ed_b5d8_d4548bb590b3 th {\n",
       "          text-align: left;\n",
       "    }#T_f970fdec_6a94_11ed_b5d8_d4548bb590b3row0_col0,#T_f970fdec_6a94_11ed_b5d8_d4548bb590b3row0_col1,#T_f970fdec_6a94_11ed_b5d8_d4548bb590b3row0_col2,#T_f970fdec_6a94_11ed_b5d8_d4548bb590b3row0_col3,#T_f970fdec_6a94_11ed_b5d8_d4548bb590b3row1_col0,#T_f970fdec_6a94_11ed_b5d8_d4548bb590b3row1_col1,#T_f970fdec_6a94_11ed_b5d8_d4548bb590b3row1_col2,#T_f970fdec_6a94_11ed_b5d8_d4548bb590b3row1_col3{\n",
       "            text-align:  left;\n",
       "        }#T_f970fdec_6a94_11ed_b5d8_d4548bb590b3row2_col0,#T_f970fdec_6a94_11ed_b5d8_d4548bb590b3row2_col1,#T_f970fdec_6a94_11ed_b5d8_d4548bb590b3row2_col2,#T_f970fdec_6a94_11ed_b5d8_d4548bb590b3row2_col3{\n",
       "            font-weight:  bold;\n",
       "            text-align:  left;\n",
       "        }</style><table id=\"T_f970fdec_6a94_11ed_b5d8_d4548bb590b3\" ><thead>    <tr>        <th class=\"col_heading level0 col0\" >Field assessment</th>        <th class=\"col_heading level0 col1\" >Cost per barrier</th>        <th class=\"col_heading level0 col2\" >Count</th>        <th class=\"col_heading level0 col3\" >Total costs</th>    </tr></thead><tbody>\n",
       "                <tr>\n",
       "                                <td id=\"T_f970fdec_6a94_11ed_b5d8_d4548bb590b3row0_col0\" class=\"data row0 col0\" >Barrier Assessment</td>\n",
       "                        <td id=\"T_f970fdec_6a94_11ed_b5d8_d4548bb590b3row0_col1\" class=\"data row0 col1\" >$230 </td>\n",
       "                        <td id=\"T_f970fdec_6a94_11ed_b5d8_d4548bb590b3row0_col2\" class=\"data row0 col2\" >12</td>\n",
       "                        <td id=\"T_f970fdec_6a94_11ed_b5d8_d4548bb590b3row0_col3\" class=\"data row0 col3\" >$2,760 </td>\n",
       "            </tr>\n",
       "            <tr>\n",
       "                                <td id=\"T_f970fdec_6a94_11ed_b5d8_d4548bb590b3row1_col0\" class=\"data row1 col0\" >Habitat Confirmation</td>\n",
       "                        <td id=\"T_f970fdec_6a94_11ed_b5d8_d4548bb590b3row1_col1\" class=\"data row1 col1\" >$3,000 </td>\n",
       "                        <td id=\"T_f970fdec_6a94_11ed_b5d8_d4548bb590b3row1_col2\" class=\"data row1 col2\" >12</td>\n",
       "                        <td id=\"T_f970fdec_6a94_11ed_b5d8_d4548bb590b3row1_col3\" class=\"data row1 col3\" >$36,000 </td>\n",
       "            </tr>\n",
       "            <tr>\n",
       "                                <td id=\"T_f970fdec_6a94_11ed_b5d8_d4548bb590b3row2_col0\" class=\"data row2 col0\" >Total: </td>\n",
       "                        <td id=\"T_f970fdec_6a94_11ed_b5d8_d4548bb590b3row2_col1\" class=\"data row2 col1\" ></td>\n",
       "                        <td id=\"T_f970fdec_6a94_11ed_b5d8_d4548bb590b3row2_col2\" class=\"data row2 col2\" >24</td>\n",
       "                        <td id=\"T_f970fdec_6a94_11ed_b5d8_d4548bb590b3row2_col3\" class=\"data row2 col3\" >$38,760 </td>\n",
       "            </tr>\n",
       "    </tbody></table>"
      ],
      "text/plain": [
       "<pandas.io.formats.style.Styler at 0x2505246be08>"
      ]
     },
     "metadata": {
      "scrapbook": {
       "mime_prefix": "",
       "name": "Table20"
      }
     },
     "output_type": "display_data"
    }
   ],
   "source": [
    "def df_style(val):\n",
    "    return \"font-weight: bold\"\n",
    "\n",
    "\n",
    "data = pd.read_csv('Table20.csv', index_col=False)\n",
    "\n",
    "data = data.replace(np.nan, '', regex=True)\n",
    "\n",
    "last_row = pd.IndexSlice[data.index[data.index == 2], :]\n",
    "\n",
    "data = data.style.applymap(df_style, subset=last_row).hide_index().set_properties(**{'text-align': 'left'})\n",
    "\n",
    "data.set_table_styles(\n",
    "[dict(selector = 'th', props=[('text-align', 'left')])])\n",
    "\n",
    "glue(\"Table20\", data)"
   ]
  },
  {
   "cell_type": "markdown",
   "metadata": {},
   "source": [
    "\n",
    "```{glue:figure} Table20\n",
    ":name: \"table20\"\n",
    "\n",
    "*Field assessment requirements for the intermediate barrier list in the Horsefly River watershed. The cost per barrier values are estimates based on previously completed field work. The habitat confirmation count is based on the assumption that the 12 barriers requiring barrier assessments will also require a subsequent confirmation. In the case that some barriers are identified as unsuitable candidates for habitat confirmations, the total cost will be reduced.*\n",
    "```"
   ]
  },
  {
   "cell_type": "markdown",
   "metadata": {},
   "source": [
    "There are currently {glue:text}`prior_num` barriers on the priority barrier list, which will be pursued for proactive remediation to achieve the connectivity goals in this plan:"
   ]
  },
  {
   "cell_type": "code",
   "execution_count": 18,
   "metadata": {
    "tags": [
     "remove-input",
     "remove-output"
    ]
   },
   "outputs": [
    {
     "data": {
      "text/html": [
       "<style  type=\"text/css\" >\n",
       "    #T_f97f5a28_6a94_11ed_bbb1_d4548bb590b3 th {\n",
       "          text-align: left;\n",
       "    }#T_f97f5a28_6a94_11ed_bbb1_d4548bb590b3row0_col0,#T_f97f5a28_6a94_11ed_bbb1_d4548bb590b3row0_col1,#T_f97f5a28_6a94_11ed_bbb1_d4548bb590b3row0_col2,#T_f97f5a28_6a94_11ed_bbb1_d4548bb590b3row0_col3,#T_f97f5a28_6a94_11ed_bbb1_d4548bb590b3row1_col0,#T_f97f5a28_6a94_11ed_bbb1_d4548bb590b3row1_col1,#T_f97f5a28_6a94_11ed_bbb1_d4548bb590b3row1_col2,#T_f97f5a28_6a94_11ed_bbb1_d4548bb590b3row1_col3,#T_f97f5a28_6a94_11ed_bbb1_d4548bb590b3row2_col0,#T_f97f5a28_6a94_11ed_bbb1_d4548bb590b3row2_col1,#T_f97f5a28_6a94_11ed_bbb1_d4548bb590b3row2_col2,#T_f97f5a28_6a94_11ed_bbb1_d4548bb590b3row2_col3{\n",
       "            text-align:  left;\n",
       "        }#T_f97f5a28_6a94_11ed_bbb1_d4548bb590b3row3_col0,#T_f97f5a28_6a94_11ed_bbb1_d4548bb590b3row3_col1,#T_f97f5a28_6a94_11ed_bbb1_d4548bb590b3row3_col2,#T_f97f5a28_6a94_11ed_bbb1_d4548bb590b3row3_col3{\n",
       "            font-weight:  bold;\n",
       "            text-align:  left;\n",
       "        }</style><table id=\"T_f97f5a28_6a94_11ed_bbb1_d4548bb590b3\" ><thead>    <tr>        <th class=\"col_heading level0 col0\" >Barrier Type</th>        <th class=\"col_heading level0 col1\" >Cost per barrier</th>        <th class=\"col_heading level0 col2\" >Count</th>        <th class=\"col_heading level0 col3\" >Total Cost</th>    </tr></thead><tbody>\n",
       "                <tr>\n",
       "                                <td id=\"T_f97f5a28_6a94_11ed_bbb1_d4548bb590b3row0_col0\" class=\"data row0 col0\" >Dam</td>\n",
       "                        <td id=\"T_f97f5a28_6a94_11ed_bbb1_d4548bb590b3row0_col1\" class=\"data row0 col1\" >$435,000 </td>\n",
       "                        <td id=\"T_f97f5a28_6a94_11ed_bbb1_d4548bb590b3row0_col2\" class=\"data row0 col2\" >3</td>\n",
       "                        <td id=\"T_f97f5a28_6a94_11ed_bbb1_d4548bb590b3row0_col3\" class=\"data row0 col3\" >$1,305,000 </td>\n",
       "            </tr>\n",
       "            <tr>\n",
       "                                <td id=\"T_f97f5a28_6a94_11ed_bbb1_d4548bb590b3row1_col0\" class=\"data row1 col0\" >Resource road</td>\n",
       "                        <td id=\"T_f97f5a28_6a94_11ed_bbb1_d4548bb590b3row1_col1\" class=\"data row1 col1\" >$500,000 </td>\n",
       "                        <td id=\"T_f97f5a28_6a94_11ed_bbb1_d4548bb590b3row1_col2\" class=\"data row1 col2\" >8</td>\n",
       "                        <td id=\"T_f97f5a28_6a94_11ed_bbb1_d4548bb590b3row1_col3\" class=\"data row1 col3\" >$4,000,000 </td>\n",
       "            </tr>\n",
       "            <tr>\n",
       "                                <td id=\"T_f97f5a28_6a94_11ed_bbb1_d4548bb590b3row2_col0\" class=\"data row2 col0\" >Municipal/paved road</td>\n",
       "                        <td id=\"T_f97f5a28_6a94_11ed_bbb1_d4548bb590b3row2_col1\" class=\"data row2 col1\" >$1,500,000 </td>\n",
       "                        <td id=\"T_f97f5a28_6a94_11ed_bbb1_d4548bb590b3row2_col2\" class=\"data row2 col2\" >3</td>\n",
       "                        <td id=\"T_f97f5a28_6a94_11ed_bbb1_d4548bb590b3row2_col3\" class=\"data row2 col3\" >$4,500,000 </td>\n",
       "            </tr>\n",
       "            <tr>\n",
       "                                <td id=\"T_f97f5a28_6a94_11ed_bbb1_d4548bb590b3row3_col0\" class=\"data row3 col0\" >Total</td>\n",
       "                        <td id=\"T_f97f5a28_6a94_11ed_bbb1_d4548bb590b3row3_col1\" class=\"data row3 col1\" ></td>\n",
       "                        <td id=\"T_f97f5a28_6a94_11ed_bbb1_d4548bb590b3row3_col2\" class=\"data row3 col2\" >14</td>\n",
       "                        <td id=\"T_f97f5a28_6a94_11ed_bbb1_d4548bb590b3row3_col3\" class=\"data row3 col3\" >$9,805,000 </td>\n",
       "            </tr>\n",
       "    </tbody></table>"
      ],
      "text/plain": [
       "<pandas.io.formats.style.Styler at 0x25052470748>"
      ]
     },
     "metadata": {
      "scrapbook": {
       "mime_prefix": "",
       "name": "Table21"
      }
     },
     "output_type": "display_data"
    }
   ],
   "source": [
    "data = pd.read_csv('Table21.csv', index_col=False)\n",
    "\n",
    "data = data.replace(np.nan, '', regex=True)\n",
    "\n",
    "last_row = pd.IndexSlice[data.index[data.index == 3], :]\n",
    "\n",
    "data = data.style.applymap(df_style, subset=last_row).hide_index().set_properties(**{'text-align': 'left'})\n",
    "\n",
    "data.set_table_styles(\n",
    "[dict(selector = 'th', props=[('text-align', 'left')])])\n",
    "\n",
    "glue(\"Table21\", data)"
   ]
  },
  {
   "cell_type": "markdown",
   "metadata": {},
   "source": [
    "\n",
    "```{glue:figure} Table21\n",
    ":name: \"table21\"\n",
    "\n",
    "*Preliminary barrier remediation cost estimate to reach connectivity goals in the Horsefly River watershed. Cost per barrier values are estimated based on the average cost of previously completed projects. Barrier counts and total costs are subject to change as more information is collected through the implementation of this plan.*\n",
    "```"
   ]
  }
 ],
 "metadata": {
  "kernelspec": {
   "display_name": "Python 3.7.12 ('test')",
   "language": "python",
   "name": "python3"
  },
  "language_info": {
   "codemirror_mode": {
    "name": "ipython",
    "version": 3
   },
   "file_extension": ".py",
   "mimetype": "text/x-python",
   "name": "python",
   "nbconvert_exporter": "python",
   "pygments_lexer": "ipython3",
   "version": "3.7.12 | packaged by conda-forge | (default, Oct 26 2021, 05:35:01) [MSC v.1916 64 bit (AMD64)]"
  },
  "orig_nbformat": 4,
  "vscode": {
   "interpreter": {
    "hash": "4d32f471e4c787df35246a436d6b5da50fcc80632abe0dd119be69a8b3537624"
   }
  }
 },
 "nbformat": 4,
 "nbformat_minor": 2
}
