{
 "cells": [
  {
   "cell_type": "markdown",
   "metadata": {},
   "source": [
    "# Theories of Change & Objectives\n",
    "\n",
    "Theories of Change are explicit assumptions around how the identified actions will achieve gains in connectivity and contribute towards reaching the goals of the plan. To develop Theories of Change, the planning team developed explicit assumptions for each strategy which helped to clarify the rationale used for undertaking actions and provided an opportunity for feedback on invalid assumptions or missing opportunities. The Theories of Change are results oriented and clearly define the expected outcome. The following theory of change models were developed by the WCRP planning team to “map” the causal (“if-then”) progression of assumptions of how the actions within a strategy work together to achieve project goals. "
   ]
  },
  {
   "cell_type": "markdown",
   "metadata": {},
   "source": [
    "```{figure} figure4.png\n",
    "---\n",
    "height: 400px\n",
    "width: 1000px\n",
    "name: fig4\n",
    "---\n",
    "Theory of change developed by the planning team for the actions identified under Strategy 1: Crossing Remediation in the Horsefly River watershed.\n",
    "```"
   ]
  },
  {
   "cell_type": "markdown",
   "metadata": {},
   "source": [
    "```{figure} figure5.png\n",
    "---\n",
    "height: 400px\n",
    "width: 1000px\n",
    "name: fig5\n",
    "---\n",
    "Theory of change developed by the planning team for the actions identified under Strategy 2: Lateral Barrier Remediation in the Horsefly River watershed.\n",
    "```"
   ]
  },
  {
   "cell_type": "markdown",
   "metadata": {},
   "source": [
    "```{figure} figure6.png\n",
    "---\n",
    "height: 400px\n",
    "width: 1000px\n",
    "name: fig6\n",
    "---\n",
    "Theory of change developed by the planning team for the actions identified under Strategy 3: Dam Remediation in the Horsefly River watershed.\n",
    "```"
   ]
  },
  {
   "cell_type": "markdown",
   "metadata": {},
   "source": [
    "```{figure} figure7.png\n",
    "---\n",
    "height: 400px\n",
    "width: 1000px\n",
    "name: fig7\n",
    "---\n",
    "Theory of change developed by the planning team for the actions identified under Strategy 4: Barrier Prevention in the Horsefly River watershed.\n",
    "```"
   ]
  },
  {
   "cell_type": "code",
   "execution_count": 1,
   "metadata": {  
    "tags": [
    "remove-input"
   ]
    },
   "outputs": [
    {
     "name": "stderr",
     "output_type": "stream",
     "text": [
      "C:\\Users\\TMillaKoch\\AppData\\Local\\Temp\\ipykernel_30284\\1973232618.py:11: FutureWarning: this method is deprecated in favour of `Styler.hide(axis='index')`\n",
      "  df.style.hide_index()\n"
     ]
    },
    {
     "data": {
      "text/html": [
       "<style type=\"text/css\">\n",
       "</style>\n",
       "<table id=\"T_47bf0\">\n",
       "  <thead>\n",
       "    <tr>\n",
       "      <th id=\"T_47bf0_level0_col0\" class=\"col_heading level0 col0\" >Objective #</th>\n",
       "      <th id=\"T_47bf0_level0_col1\" class=\"col_heading level0 col1\" >Objective</th>\n",
       "    </tr>\n",
       "  </thead>\n",
       "  <tbody>\n",
       "    <tr>\n",
       "      <td id=\"T_47bf0_row0_col0\" class=\"data row0 col0\" >1</td>\n",
       "      <td id=\"T_47bf0_row0_col1\" class=\"data row0 col1\" >By 2040, 16 road-stream crossing barriers will be remediated in the Horsefly River watershed </td>\n",
       "    </tr>\n",
       "    <tr>\n",
       "      <td id=\"T_47bf0_row1_col0\" class=\"data row1 col0\" >2</td>\n",
       "      <td id=\"T_47bf0_row1_col1\" class=\"data row1 col1\" >By 2023, a minimum of 1 lateral barrier will be remediated in the Horsefly River watershed </td>\n",
       "    </tr>\n",
       "    <tr>\n",
       "      <td id=\"T_47bf0_row2_col0\" class=\"data row2 col0\" >3</td>\n",
       "      <td id=\"T_47bf0_row2_col1\" class=\"data row2 col1\" >By 2040, 4 dams will be remediated in the Horsefly River watershed </td>\n",
       "    </tr>\n",
       "  </tbody>\n",
       "</table>\n"
      ],
      "text/plain": [
       "<pandas.io.formats.style.Styler at 0x1e1c15022b0>"
      ]
     },
     "execution_count": 1,
     "metadata": {},
     "output_type": "execute_result"
    }
   ],
   "source": [
    "#creating table 11\n",
    "import pandas as pd\n",
    "import numpy as np\n",
    "\n",
    "df = pd.DataFrame({\"Objective #\": [1,2,3],\n",
    "                   \"Objective\": [\"By 2040, 16 road-stream crossing barriers will be remediated in the Horsefly River watershed \",\n",
    "                            \"By 2023, a minimum of 1 lateral barrier will be remediated in the Horsefly River watershed \",\n",
    "                            \"By 2040, 4 dams will be remediated in the Horsefly River watershed \"]\n",
    "                    })\n",
    "\n",
    "df.style.hide_index()"
   ]
  }
 ],
 "metadata": {
  "kernelspec": {
   "display_name": "Python 3.9.12 ('base')",
   "language": "python",
   "name": "python3"
  },
  "language_info": {
   "codemirror_mode": {
    "name": "ipython",
    "version": 3
   },
   "file_extension": ".py",
   "mimetype": "text/x-python",
   "name": "python",
   "nbconvert_exporter": "python",
   "pygments_lexer": "ipython3",
   "version": "3.9.12"
  },
  "orig_nbformat": 4,
  "vscode": {
   "interpreter": {
    "hash": "1a691173e7a62553180679e561c07fad99f81da18576315296ff93022e033d3e"
   }
  }
 },
 "nbformat": 4,
 "nbformat_minor": 2
}
