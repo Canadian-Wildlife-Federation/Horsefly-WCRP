{
 "cells": [
  {
   "cell_type": "markdown",
   "metadata": {},
   "source": [
    "# Dash App using Dash-leaflet"
   ]
  },
  {
   "cell_type": "markdown",
   "metadata": {},
   "source": [
    "This is a basic app using data called from the api as well as some interactivity."
   ]
  },
  {
   "cell_type": "code",
   "execution_count": 40,
   "metadata": {},
   "outputs": [],
   "source": [
    "import dash\n",
    "from dash import dcc, html, Input, Output #pip install dash\n",
    "import jupyter_dash #integrated in jupyter notebooks\n",
    "from jupyter_dash import JupyterDash as JD\n",
    "import dash_leaflet as dl\n",
    "#import dash_leaflet.express as dlx\n",
    "import requests\n",
    "import json\n",
    "from dash_extensions.javascript import assign"
   ]
  },
  {
   "cell_type": "code",
   "execution_count": 41,
   "metadata": {},
   "outputs": [],
   "source": [
    "#querying data from pg_featureserv API for bcfishpass\n",
    "request = 'https://features.hillcrestgeo.ca/bcfishpass/collections/bcfishpass.streams/items.json'\n",
    "query = '?properties=watershed_group_code,segmented_stream_id&filter=watershed_group_code%20=%20%27HORS%27' #this query slows things down for some reason\n",
    "\n",
    "request1 = 'https://features.hillcrestgeo.ca/bcfishpass/collections/bcfishpass.crossings/items.json'\n",
    "query1 = '?filter=watershed_group_code%20=%20%27HORS%27%20AND%20all_spawningrearing_km%3e0'\n",
    "\n",
    "response_API = requests.get(request+query)\n",
    "response_API1 = requests.get(request1+query1)\n",
    "\n",
    "parse = response_API.text\n",
    "stream = json.loads(parse)\n",
    "\n",
    "parse1 = response_API1.text\n",
    "gjson = json.loads(parse1)"
   ]
  },
  {
   "cell_type": "code",
   "execution_count": 50,
   "metadata": {},
   "outputs": [
    {
     "data": {
      "text/html": [
       "\n",
       "        <iframe\n",
       "            width=\"100%\"\n",
       "            height=\"650\"\n",
       "            src=\"http://127.0.0.1:2223/\"\n",
       "            frameborder=\"0\"\n",
       "            allowfullscreen\n",
       "            \n",
       "        ></iframe>\n",
       "        "
      ],
      "text/plain": [
       "<IPython.lib.display.IFrame at 0x22c308fcdc8>"
      ]
     },
     "metadata": {},
     "output_type": "display_data"
    }
   ],
   "source": [
    "#configuring the app\n",
    "\n",
    "app = JD(__name__)\n",
    "\n",
    "#making dropdown option based on property in data table\n",
    "id_list = []\n",
    "\n",
    "features = gjson['features']\n",
    "for i in range(len(features)):\n",
    "    lati=features[i]['geometry']['coordinates'][1]\n",
    "    long=features[i]['geometry']['coordinates'][0]\n",
    "    cross_id = (features[i]['id'])\n",
    "\n",
    "    temp = dict(name = cross_id, lat = lati, lon = long)\n",
    "\n",
    "    id_list = id_list + [temp,]\n",
    "\n",
    "dd_options = [dict(value=j['name'], label=j['name']) for j in id_list]\n",
    "dd_defaults = [o['value'] for o in dd_options]\n",
    "\n",
    "# Generate geojson with a marker for each city and name as tooltip.\n",
    "#geojson = dl.dicts_to_geojson([{**c, **dict(tooltip=c['name'])} for c in id_list])\n",
    "\n",
    "gjson_filter = assign(\"function(feature, context){return context.props.hideout.includes(feature.properties.name);}\")\n",
    "\n",
    "\n",
    "\n",
    "# ------------------------------------------------------------------------------\n",
    "# App layout\n",
    "app.layout = html.Div([\n",
    "\n",
    "    html.H1(\"Web Application Dashboard for Fish Passage BC\", style={'text-align': 'center'}),\n",
    "\n",
    "    dcc.Dropdown(id=\"TableValue\",\n",
    "                 value=dd_defaults,\n",
    "                 options=dd_options,\n",
    "                 style={'width': \"40%\"}\n",
    "                 ),\n",
    "    \n",
    "    #Map ...use geobuf for faster option in cumputing\n",
    "    dl.Map(center=[52.6,-120.5], zoom=8, children=[\n",
    "        dl.TileLayer(),\n",
    "        dl.GeoJSON(data=stream, id=\"streams\"),\n",
    "        dl.GeoJSON(data=gjson, options= dict(filter=gjson_filter), id=\"crossings\", cluster=True, zoomToBoundsOnClick=True, hideout=dd_defaults)\n",
    "        ]\n",
    "        ,style={'width': '800px', 'height': '500px'} #style is key as map will not show up without it\n",
    "\n",
    "    ),\n",
    "\n",
    "    html.Div(id='stream')\n",
    "\n",
    "    #html.Div(id='output_container', children=[]),\n",
    "    #html.Br(),\n",
    "\n",
    "    #dcc.Graph(id='my_bee_map', figure={}) #add a graph if need be\n",
    "\n",
    "])\n",
    "\n",
    "# ------------------------------------------------------------------------------\n",
    "# Connect Leaflet Map to Dash Components\n",
    "@app.callback(\n",
    "    Output('stream', 'children'), [Input('streams', 'click_feature')]\n",
    ")\n",
    "def stream_click(feature):\n",
    "    if feature is not None:\n",
    "        return f\"The stream is {feature['properties']['segmented_stream_id']}\"\n",
    "\n",
    "# @app.callback(\n",
    "#     Output('crossings', 'hideout'), [Input('TableValue', 'value')]\n",
    "# )\n",
    "# def cross_click(feature):\n",
    "#     return feature\n",
    "\n",
    "app.clientside_callback(\"function(x){return x;}\", Output(\"crossings\", \"hideout\"), Input(\"TableValue\", \"value\"))\n",
    "\n",
    "# ------------------------------------------------------------------------------\n",
    "if __name__ == '__main__':\n",
    "    app.run_server(mode='inline', port=2223)"
   ]
  }
 ],
 "metadata": {
  "kernelspec": {
   "display_name": "Python 3.7.13 ('test')",
   "language": "python",
   "name": "python3"
  },
  "language_info": {
   "codemirror_mode": {
    "name": "ipython",
    "version": 3
   },
   "file_extension": ".py",
   "mimetype": "text/x-python",
   "name": "python",
   "nbconvert_exporter": "python",
   "pygments_lexer": "ipython3",
   "version": "3.7.13"
  },
  "orig_nbformat": 4,
  "vscode": {
   "interpreter": {
    "hash": "02285759289a2a234a5d4c85046e9439b3e176e044a7b90299f5d098441e6d04"
   }
  }
 },
 "nbformat": 4,
 "nbformat_minor": 2
}
