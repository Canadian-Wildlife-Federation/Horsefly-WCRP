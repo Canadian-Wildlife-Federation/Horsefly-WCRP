{
 "cells": [
  {
   "cell_type": "code",
   "execution_count": 2,
   "metadata": {
    "tags": [
     "remove-input",
     "remove-output"
    ]
   },
   "outputs": [],
   "source": [
    "from docx import Document\n",
    "from myst_nb import glue\n",
    "from IPython.display import display, Markdown, display_markdown\n",
    "from functions import head2txt\n",
    "\n",
    "document = Document('MASTER_Horsefly_WCRP.docx')\n",
    "\n",
    "\n",
    "par1 = head2txt(document,'Acknowledgements', 3)[0]\n",
    "par2 = head2txt(document,'Acknowledgements', 3)[1]\n",
    "par3 = head2txt(document,'Acknowledgements', 3)[2]\n"
   ]
  },
  {
   "cell_type": "markdown",
   "metadata": {},
   "source": [
    "# Horsefly River Watershed Secwepemcúl’ecw Connectivity Remediation Plan: 2021 - 2040\n",
    "\n",
    "\n",
    "![foto](spawn.jpg.jpg)\n",
    "\n",
    "\n",
    "**Canadian Wildlife Federation**\n",
    "\n",
    "**350 Michael Cowpland Drive** \n",
    "\n",
    "**Kanata, Ontario K2M 2W1** \n",
    "\n",
    "**Telephone: 1-877-599-5777 | 613-599-9594** \n",
    "\n",
    "**www.cwf-fcf.org** \n",
    "\n",
    "**© 2022**\n",
    "\n",
    "Suggested Citation: \n",
    "\n",
    "Mazany-Wright, N., S. M. Norris, J. Noseworthy, B. Rebellato, S. Sra, and N. W. R. Lapointe. 2022. Horsefly River Watershed Connectivity Remediation Plan: 2021- 2040. Canadian Wildlife Federation. Ottawa, Ontario, Canada.  \n",
    "\n",
    "[Download full PDF here!](https://github.com/Canadian-Wildlife-Federation/Horsefly-WCRP/raw/master/Tutorials/Jupyter_Book/mynewbook/_build/pdf/book.pdf)\n",
    "\n",
    " \n",
    "\n",
    "\n",
    "# Acknowledgements\n",
    "\n",
    "This plan represents the culmination of a collaborative planning process undertaken in the Horsefly River watershed over many months of work with a multi-partner planning team of individuals and groups passionate about the conservation and restoration of freshwater ecosystems and the species they support. Plan development was funded by the BC Salmon Restoration and Innovation Fund, Canada Nature Fund for Aquatic Species at Risk, and the RBC Bluewater Project. We were fortunate to benefit from the feedback, guidance, and wisdom of many groups and individuals who volunteered their time throughout this process — this publication would not have been possible without the engagement of our partners and the planning team (see {numref}`table1`). \n",
    "\n",
    "We recognize the incredible fish passage and connectivity work that has occurred in the Horsefly River watershed to date, and we are excited to continue partnering with local groups and organizations to build upon existing initiatives and provide a road map to push connectivity remediation forward over the next 20 years and beyond. \n",
    "\n",
    "The Canadian Wildlife Federation recognizes that the lands and waters that form the basis of this plan are the traditional unceded territory of the Northern Secwepemc people. We are grateful for the opportunity to learn from the stewards of this land and work together to benefit Pacific Salmon. A special thank you to Nishitha Singi for sharing the traditional Secwepemctsín names used in this plan. \n"
   ]
  },
  {
   "cell_type": "code",
   "execution_count": 3,
   "metadata": {
    "tags": [
     "remove-input"
    ]
   },
   "outputs": [],
   "source": [
    "# display(Markdown(par1))\n",
    "# display(Markdown(par2))\n",
    "# display(Markdown(par3))"
   ]
  }
 ],
 "metadata": {
  "kernelspec": {
   "display_name": "Python 3.7.12 ('test')",
   "language": "python",
   "name": "python3"
  },
  "language_info": {
   "codemirror_mode": {
    "name": "ipython",
    "version": 3
   },
   "file_extension": ".py",
   "mimetype": "text/x-python",
   "name": "python",
   "nbconvert_exporter": "python",
   "pygments_lexer": "ipython3",
   "version": "3.7.12 | packaged by conda-forge | (default, Oct 26 2021, 05:35:01) [MSC v.1916 64 bit (AMD64)]"
  },
  "orig_nbformat": 4,
  "vscode": {
   "interpreter": {
    "hash": "4d32f471e4c787df35246a436d6b5da50fcc80632abe0dd119be69a8b3537624"
   }
  }
 },
 "nbformat": 4,
 "nbformat_minor": 2
}
