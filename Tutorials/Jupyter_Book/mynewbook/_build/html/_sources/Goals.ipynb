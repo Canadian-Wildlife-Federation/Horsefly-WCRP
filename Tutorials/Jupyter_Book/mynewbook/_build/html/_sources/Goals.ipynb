{
 "cells": [
  {
   "cell_type": "markdown",
   "metadata": {},
   "source": [
    "# Goals\n",
    "\n",
    "Table 9. Goals to improve (1) spawning and rearing and (2) overwintering habitat connectivity for target species in the Horsefly River watershed over the lifespan of the WCRP (2021-2040). The goals were established through discussions with the planning team and represent the resulting desired state of connectivity in the watershed. The goals are subject to change as more information and data are collected over the course of the plan timeline (e.g., the current connectivity status is updated based on barrier field assessments). "
   ]
  },
  {
   "cell_type": "code",
   "execution_count": 1,
   "metadata": {
    "tags": [
     "remove-input"
    ]
   },
   "outputs": [
    {
     "data": {
      "text/html": [
       "<style  type=\"text/css\" >\n",
       "#T_4821581a_23b3_11ed_b69e_d4548bb590b3row0_col0,#T_4821581a_23b3_11ed_b69e_d4548bb590b3row0_col1,#T_4821581a_23b3_11ed_b69e_d4548bb590b3row1_col0,#T_4821581a_23b3_11ed_b69e_d4548bb590b3row1_col1{\n",
       "            text-align:  left;\n",
       "        }</style><table id=\"T_4821581a_23b3_11ed_b69e_d4548bb590b3\" ><thead>    <tr>        <th class=\"col_heading level0 col0\" >Goal #</th>        <th class=\"col_heading level0 col1\" >Goal</th>    </tr></thead><tbody>\n",
       "                <tr>\n",
       "                                <td id=\"T_4821581a_23b3_11ed_b69e_d4548bb590b3row0_col0\" class=\"data row0 col0\" >1</td>\n",
       "                        <td id=\"T_4821581a_23b3_11ed_b69e_d4548bb590b3row0_col1\" class=\"data row0 col1\" >By 2040, the percent (%) of total linear habitat accessible to anadromous salmon will increase from 94% to 96% within the Horsefly River watershed (i.e., reconnect at least 11.7 km of habitat).</td>\n",
       "            </tr>\n",
       "            <tr>\n",
       "                                <td id=\"T_4821581a_23b3_11ed_b69e_d4548bb590b3row1_col0\" class=\"data row1 col0\" >2</td>\n",
       "                        <td id=\"T_4821581a_23b3_11ed_b69e_d4548bb590b3row1_col1\" class=\"data row1 col1\" >By 2024, the total area of overwintering habitat accessible to Anadromous Salmon will increase by 1,500 m2 within the Horsefly River watershed. </td>\n",
       "            </tr>\n",
       "    </tbody></table>"
      ],
      "text/plain": [
       "<pandas.io.formats.style.Styler at 0x21746538ef0>"
      ]
     },
     "execution_count": 1,
     "metadata": {},
     "output_type": "execute_result"
    }
   ],
   "source": [
    "#creating table 7\n",
    "import pandas as pd\n",
    "import numpy as np\n",
    "\n",
    "df = pd.DataFrame({\"Goal #\": [1,2],\n",
    "                   \"Goal\": [\"By 2040, the percent (%) of total linear habitat accessible to anadromous salmon will increase from 94% to 96% within the Horsefly River watershed (i.e., reconnect at least 11.7 km of habitat).\",\n",
    "                            \"By 2024, the total area of overwintering habitat accessible to Anadromous Salmon will increase by 1,500 m2 within the Horsefly River watershed. \"]\n",
    "                    })\n",
    "\n",
    "df.style.hide_index().set_properties(**{'text-align': 'left'})"
   ]
  }
 ],
 "metadata": {
  "kernelspec": {
   "display_name": "Python 3.7.0 ('test')",
   "language": "python",
   "name": "python3"
  },
  "language_info": {
   "codemirror_mode": {
    "name": "ipython",
    "version": 3
   },
   "file_extension": ".py",
   "mimetype": "text/x-python",
   "name": "python",
   "nbconvert_exporter": "python",
   "pygments_lexer": "ipython3",
   "version": "3.7.0"
  },
  "orig_nbformat": 4,
  "vscode": {
   "interpreter": {
    "hash": "4d32f471e4c787df35246a436d6b5da50fcc80632abe0dd119be69a8b3537624"
   }
  }
 },
 "nbformat": 4,
 "nbformat_minor": 2
}
