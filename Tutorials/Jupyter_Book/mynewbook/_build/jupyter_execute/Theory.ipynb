{
 "cells": [
  {
   "cell_type": "markdown",
   "metadata": {},
   "source": [
    "# Theories of Change & Objectives\n",
    "\n",
    "Theories of Change are explicit assumptions around how the identified actions will achieve gains in connectivity and contribute towards reaching the goals of the plan. To develop Theories of Change, the planning team developed explicit assumptions for each strategy which helped to clarify the rationale used for undertaking actions and provided an opportunity for feedback on invalid assumptions or missing opportunities. The Theories of Change are results oriented and clearly define the expected outcome. The following theory of change models were developed by the WCRP planning team to “map” the causal (“if-then”) progression of assumptions of how the actions within a strategy work together to achieve project goals. "
   ]
  },
  {
   "cell_type": "markdown",
   "metadata": {},
   "source": [
    "```{figure} figure4.png\n",
    "---\n",
    "height: 400px\n",
    "width: 1000px\n",
    "name: fig4\n",
    "---\n",
    "Theory of change developed by the planning team for the actions identified under Strategy 1: Crossing Remediation in the Horsefly River watershed.\n",
    "```"
   ]
  },
  {
   "cell_type": "markdown",
   "metadata": {},
   "source": [
    "```{figure} figure5.png\n",
    "---\n",
    "height: 400px\n",
    "width: 1000px\n",
    "name: fig5\n",
    "---\n",
    "Theory of change developed by the planning team for the actions identified under Strategy 2: Lateral Barrier Remediation in the Horsefly River watershed.\n",
    "```"
   ]
  },
  {
   "cell_type": "markdown",
   "metadata": {},
   "source": [
    "```{figure} figure6.png\n",
    "---\n",
    "height: 400px\n",
    "width: 1000px\n",
    "name: fig6\n",
    "---\n",
    "Theory of change developed by the planning team for the actions identified under Strategy 3: Dam Remediation in the Horsefly River watershed.\n",
    "```"
   ]
  },
  {
   "cell_type": "markdown",
   "metadata": {},
   "source": [
    "```{figure} figure7.png\n",
    "---\n",
    "height: 400px\n",
    "width: 1000px\n",
    "name: fig7\n",
    "---\n",
    "Theory of change developed by the planning team for the actions identified under Strategy 4: Barrier Prevention in the Horsefly River watershed.\n",
    "```"
   ]
  },
  {
   "cell_type": "code",
   "execution_count": 1,
   "metadata": {
    "tags": [
     "remove-input"
    ]
   },
   "outputs": [
    {
     "data": {
      "text/html": [
       "<style  type=\"text/css\" >\n",
       "</style><table id=\"T_a754ae42_14c8_11ed_8a73_d4548bb590b3\" ><thead>    <tr>        <th class=\"col_heading level0 col0\" >Objective #</th>        <th class=\"col_heading level0 col1\" >Objective</th>    </tr></thead><tbody>\n",
       "                <tr>\n",
       "                                <td id=\"T_a754ae42_14c8_11ed_8a73_d4548bb590b3row0_col0\" class=\"data row0 col0\" >1</td>\n",
       "                        <td id=\"T_a754ae42_14c8_11ed_8a73_d4548bb590b3row0_col1\" class=\"data row0 col1\" >By 2040, 16 road-stream crossing barriers will be remediated in the Horsefly River watershed </td>\n",
       "            </tr>\n",
       "            <tr>\n",
       "                                <td id=\"T_a754ae42_14c8_11ed_8a73_d4548bb590b3row1_col0\" class=\"data row1 col0\" >2</td>\n",
       "                        <td id=\"T_a754ae42_14c8_11ed_8a73_d4548bb590b3row1_col1\" class=\"data row1 col1\" >By 2023, a minimum of 1 lateral barrier will be remediated in the Horsefly River watershed </td>\n",
       "            </tr>\n",
       "            <tr>\n",
       "                                <td id=\"T_a754ae42_14c8_11ed_8a73_d4548bb590b3row2_col0\" class=\"data row2 col0\" >3</td>\n",
       "                        <td id=\"T_a754ae42_14c8_11ed_8a73_d4548bb590b3row2_col1\" class=\"data row2 col1\" >By 2040, 4 dams will be remediated in the Horsefly River watershed </td>\n",
       "            </tr>\n",
       "    </tbody></table>"
      ],
      "text/plain": [
       "<pandas.io.formats.style.Styler at 0x23596cb6be0>"
      ]
     },
     "execution_count": 1,
     "metadata": {},
     "output_type": "execute_result"
    }
   ],
   "source": [
    "#creating table 11\n",
    "import pandas as pd\n",
    "import numpy as np\n",
    "\n",
    "df = pd.DataFrame({\"Objective #\": [1,2,3],\n",
    "                   \"Objective\": [\"By 2040, 16 road-stream crossing barriers will be remediated in the Horsefly River watershed \",\n",
    "                            \"By 2023, a minimum of 1 lateral barrier will be remediated in the Horsefly River watershed \",\n",
    "                            \"By 2040, 4 dams will be remediated in the Horsefly River watershed \"]\n",
    "                    })\n",
    "\n",
    "df.style.hide_index()"
   ]
  }
 ],
 "metadata": {
  "kernelspec": {
   "display_name": "Python 3.9.12 ('base')",
   "language": "python",
   "name": "python3"
  },
  "language_info": {
   "codemirror_mode": {
    "name": "ipython",
    "version": 3
   },
   "file_extension": ".py",
   "mimetype": "text/x-python",
   "name": "python",
   "nbconvert_exporter": "python",
   "pygments_lexer": "ipython3",
   "version": "3.7.0"
  },
  "vscode": {
   "interpreter": {
    "hash": "1a691173e7a62553180679e561c07fad99f81da18576315296ff93022e033d3e"
   }
  }
 },
 "nbformat": 4,
 "nbformat_minor": 2
}