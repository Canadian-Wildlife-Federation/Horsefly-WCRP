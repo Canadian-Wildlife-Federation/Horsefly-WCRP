{
 "cells": [
  {
   "cell_type": "markdown",
   "metadata": {},
   "source": [
    "# Dash App using Dash-leaflet"
   ]
  },
  {
   "cell_type": "markdown",
   "metadata": {},
   "source": [
    "This is a basic app using data called from the api as well as some interactivity."
   ]
  },
  {
   "cell_type": "code",
   "execution_count": 1,
   "metadata": {},
   "outputs": [],
   "source": [
    "import dash\n",
    "from dash import Dash, dcc, html, Input, Output #pip install dash\n",
    "import jupyter_dash #integrated in jupyter notebooks\n",
    "from jupyter_dash import JupyterDash as JD\n",
    "import dash_leaflet as dl\n",
    "import dash_leaflet.express as dlx\n",
    "import requests\n",
    "import json\n",
    "from dash_extensions.javascript import assign"
   ]
  },
  {
   "cell_type": "code",
   "execution_count": 2,
   "metadata": {},
   "outputs": [],
   "source": [
    "#querying data from pg_featureserv API for bcfishpass\n",
    "request = 'https://features.hillcrestgeo.ca/bcfishpass/collections/bcfishpass.streams/items.json'\n",
    "query = '?properties=watershed_group_code,segmented_stream_id&filter=watershed_group_code%20=%20%27HORS%27' #this query slows things down for some reason\n",
    "\n",
    "request1 = 'https://features.hillcrestgeo.ca/bcfishpass/collections/bcfishpass.crossings/items.json'\n",
    "query1 = '?filter=watershed_group_code%20=%20%27HORS%27%20AND%20all_spawningrearing_km%3e0'\n",
    "\n",
    "response_API = requests.get(request+query)\n",
    "response_API1 = requests.get(request1+query1)\n",
    "\n",
    "parse = response_API.text\n",
    "stream = json.loads(parse)\n",
    "\n",
    "parse1 = response_API1.text\n",
    "gjson = json.loads(parse1)"
   ]
  },
  {
   "cell_type": "code",
   "execution_count": 3,
   "metadata": {},
   "outputs": [
    {
     "ename": "NameError",
     "evalue": "name 'geojson_filter' is not defined",
     "output_type": "error",
     "traceback": [
      "\u001b[1;31m---------------------------------------------------------------------------\u001b[0m",
      "\u001b[1;31mNameError\u001b[0m                                 Traceback (most recent call last)",
      "\u001b[1;32m~\\AppData\\Local\\Temp\\ipykernel_11356\\649193150.py\u001b[0m in \u001b[0;36m<module>\u001b[1;34m\u001b[0m\n\u001b[0;32m     50\u001b[0m         \u001b[0mdl\u001b[0m\u001b[1;33m.\u001b[0m\u001b[0mTileLayer\u001b[0m\u001b[1;33m(\u001b[0m\u001b[1;33m)\u001b[0m\u001b[1;33m,\u001b[0m\u001b[1;33m\u001b[0m\u001b[1;33m\u001b[0m\u001b[0m\n\u001b[0;32m     51\u001b[0m         \u001b[0mdl\u001b[0m\u001b[1;33m.\u001b[0m\u001b[0mGeoJSON\u001b[0m\u001b[1;33m(\u001b[0m\u001b[0mdata\u001b[0m\u001b[1;33m=\u001b[0m\u001b[0mstream\u001b[0m\u001b[1;33m,\u001b[0m \u001b[0mid\u001b[0m\u001b[1;33m=\u001b[0m\u001b[1;34m\"streams\"\u001b[0m\u001b[1;33m)\u001b[0m\u001b[1;33m,\u001b[0m\u001b[1;33m\u001b[0m\u001b[1;33m\u001b[0m\u001b[0m\n\u001b[1;32m---> 52\u001b[1;33m         \u001b[0mdl\u001b[0m\u001b[1;33m.\u001b[0m\u001b[0mGeoJSON\u001b[0m\u001b[1;33m(\u001b[0m\u001b[0mdata\u001b[0m\u001b[1;33m=\u001b[0m\u001b[0mgeojson\u001b[0m\u001b[1;33m,\u001b[0m \u001b[0moptions\u001b[0m\u001b[1;33m=\u001b[0m\u001b[0mdict\u001b[0m\u001b[1;33m(\u001b[0m\u001b[0mfilter\u001b[0m\u001b[1;33m=\u001b[0m\u001b[0mgeojson_filter\u001b[0m\u001b[1;33m)\u001b[0m\u001b[1;33m,\u001b[0m \u001b[0mhideout\u001b[0m\u001b[1;33m=\u001b[0m\u001b[0mdd_defaults\u001b[0m\u001b[1;33m,\u001b[0m \u001b[0mid\u001b[0m\u001b[1;33m=\u001b[0m\u001b[1;34m\"geojson\"\u001b[0m\u001b[1;33m,\u001b[0m \u001b[0mzoomToBounds\u001b[0m\u001b[1;33m=\u001b[0m\u001b[1;32mTrue\u001b[0m\u001b[1;33m)\u001b[0m\u001b[1;33m\u001b[0m\u001b[1;33m\u001b[0m\u001b[0m\n\u001b[0m\u001b[0;32m     53\u001b[0m         ]\n\u001b[0;32m     54\u001b[0m         \u001b[1;33m,\u001b[0m\u001b[0mstyle\u001b[0m\u001b[1;33m=\u001b[0m\u001b[1;33m{\u001b[0m\u001b[1;34m'width'\u001b[0m\u001b[1;33m:\u001b[0m \u001b[1;34m'800px'\u001b[0m\u001b[1;33m,\u001b[0m \u001b[1;34m'height'\u001b[0m\u001b[1;33m:\u001b[0m \u001b[1;34m'500px'\u001b[0m\u001b[1;33m}\u001b[0m \u001b[1;31m#style is key as map will not show up without it\u001b[0m\u001b[1;33m\u001b[0m\u001b[1;33m\u001b[0m\u001b[0m\n",
      "\u001b[1;31mNameError\u001b[0m: name 'geojson_filter' is not defined"
     ]
    }
   ],
   "source": [
    "#configuring the app\n",
    "#useful resources include:\n",
    "#https://github.com/Coding-with-Adam/Dash-by-Plotly/blob/master/Other/Dash_Introduction/intro.py\n",
    "#https://dash-leaflet.herokuapp.com/\n",
    "#https://github.com/plotly/jupyter-dash/blob/master/notebooks/getting_started.ipynb\n",
    "\n",
    "app = Dash(__name__)\n",
    "\n",
    "#making dropdown option based on property in data table\n",
    "id_list = []\n",
    "\n",
    "features = gjson['features']\n",
    "for i in range(len(features)):\n",
    "    lati=features[i]['geometry']['coordinates'][1]\n",
    "    long=features[i]['geometry']['coordinates'][0]\n",
    "    cross_id = str(features[i]['id'])\n",
    "\n",
    "    temp = dict(name = cross_id, lat = lati, lon = long)\n",
    "\n",
    "    id_list = id_list + [temp,]\n",
    "\n",
    "dd_options = [dict(value=j['name'], label=j['name']) for j in id_list]\n",
    "dd_defaults = [o['value'] for o in dd_options]\n",
    "\n",
    "# print(dd_defaults)\n",
    "# print(type(dd_defaults[2]))\n",
    "\n",
    "# # Generate geojson with a marker for each city and name as tooltip.\n",
    "geojson = dlx.dicts_to_geojson([{**c, **dict(tooltip=c['name'])} for c in id_list])\n",
    "\n",
    "gjson_filter = assign(\"function(feature, context){return context.props.hideout.includes(feature.name);}\")\n",
    "\n",
    "\n",
    "\n",
    "# ------------------------------------------------------------------------------\n",
    "# App layout\n",
    "app.layout = html.Div([\n",
    "\n",
    "    html.H1(\"Web Application Dashboard for Fish Passage BC\", style={'text-align': 'center'}),\n",
    "\n",
    "    dcc.Dropdown(id=\"dd\",\n",
    "                 options=dd_options,\n",
    "                 value=dd_defaults,\n",
    "                 multi=True,\n",
    "                 style={'width': \"40%\"}\n",
    "                 ),\n",
    "    \n",
    "    #Map ...use geobuf for faster option in cumputing\n",
    "    dl.Map(center=[52.6,-120.5], zoom=8, children=[\n",
    "        dl.TileLayer(),\n",
    "        dl.GeoJSON(data=stream, id=\"streams\"),\n",
    "        dl.GeoJSON(data=geojson, options=dict(filter=geojson_filter), hideout=dd_defaults, id=\"geojson\", zoomToBounds=True)\n",
    "        ]\n",
    "        ,style={'width': '800px', 'height': '500px'} #style is key as map will not show up without it\n",
    "\n",
    "    ),\n",
    "\n",
    "    #html.Div(id='stream'),\n",
    "\n",
    "    #html.H3(id='cross')\n",
    "\n",
    "    #html.Div(id='output_container', children=[]),\n",
    "    #html.Br(),\n",
    "\n",
    "    #dcc.Graph(id='my_bee_map', figure={}) #add a graph if need be\n",
    "\n",
    "])\n",
    "\n",
    "# ------------------------------------------------------------------------------\n",
    "# Connect Leaflet Map to Dash Components\n",
    "@app.callback(\n",
    "   Output('stream', 'children'), [Input('streams', 'click_feature')]\n",
    ")\n",
    "def stream_click(feature):\n",
    "    if feature is not None:\n",
    "        return f\"The stream is {feature['properties']['segmented_stream_id']}\"\n",
    "\n",
    "@app.callback(\n",
    "    Output('geojson', 'hideout'), [Input('dd', 'value')]\n",
    ")\n",
    "def cross_click(feature):\n",
    "    return feature\n",
    "\n",
    "#app.clientside_callback(\"function(x){return x;}\", Output(\"crossings\", \"hideout\"), Input(\"TableValue\", \"value\"))\n",
    "\n",
    "# ------------------------------------------------------------------------------\n",
    "if __name__ == '__main__':\n",
    "    app.run_server()"
   ]
  }
 ],
 "metadata": {
  "kernelspec": {
   "display_name": "Python 3.7.13 ('test')",
   "language": "python",
   "name": "python3"
  },
  "language_info": {
   "codemirror_mode": {
    "name": "ipython",
    "version": 3
   },
   "file_extension": ".py",
   "mimetype": "text/x-python",
   "name": "python",
   "nbconvert_exporter": "python",
   "pygments_lexer": "ipython3",
   "version": "3.7.13"
  },
  "vscode": {
   "interpreter": {
    "hash": "02285759289a2a234a5d4c85046e9439b3e176e044a7b90299f5d098441e6d04"
   }
  }
 },
 "nbformat": 4,
 "nbformat_minor": 2
}