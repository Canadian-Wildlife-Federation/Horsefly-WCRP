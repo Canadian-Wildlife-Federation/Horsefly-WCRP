{
 "cells": [
  {
   "cell_type": "markdown",
   "metadata": {},
   "source": [
    "# Key Ecological Attributes and Current Connectivity Status"
   ]
  },
  {
   "cell_type": "code",
   "execution_count": 1,
   "metadata": {
    "tags": [
     "remove-input",
     "remove-output"
    ]
   },
   "outputs": [],
   "source": [
    "import requests\n",
    "import json\n",
    "import pandas\n",
    "\n",
    "def barrier_extent(barrier_type):\n",
    "\n",
    "    request = 'https://features.hillcrestgeo.ca/bcfishpass/functions/postgisftw.wcrp_barrier_extent/items.json?watershed_group_code=HORS&barrier_type=' + barrier_type\n",
    "\n",
    "    response_api = requests.get(request)\n",
    "    parse = response_api.text\n",
    "    result = json.loads(parse)\n",
    "\n",
    "    blocked_km = result[0]['all_habitat_blocked_km']\n",
    "    blocked_pct = result[0]['all_habitat_blocked_pct']\n",
    "\n",
    "    return blocked_km, blocked_pct\n",
    "\n",
    "def barrier_count(barrier_type):\n",
    "    request = 'https://features.hillcrestgeo.ca/bcfishpass/functions/postgisftw.wcrp_barrier_count/items.json?watershed_group_code=HORS&barrier_type=' + barrier_type\n",
    "\n",
    "    response_api = requests.get(request)\n",
    "    parse = response_api.text\n",
    "    result = json.loads(parse)\n",
    "\n",
    "    n_passable = result[0]['n_passable']\n",
    "    n_barrier = result[0]['n_barrier']\n",
    "    n_potential = result[0]['n_potential']\n",
    "    n_unknown = result[0]['n_unknown']\n",
    "\n",
    "    sum_bar = (n_passable, n_barrier, n_potential, n_unknown)\n",
    "\n",
    "    return n_passable, n_barrier, n_potential, n_unknown, sum(sum_bar)\n",
    "\n",
    "def barrier_severity(barrier_type):\n",
    "\n",
    "    request = 'https://features.hillcrestgeo.ca/bcfishpass/functions/postgisftw.wcrp_barrier_severity/items.json?watershed_group_code=HORS&barrier_type=' + barrier_type\n",
    "\n",
    "    response_api = requests.get(request)\n",
    "    parse = response_api.text\n",
    "    result = json.loads(parse)\n",
    "\n",
    "    n_assessed_barrier = result[0]['n_assessed_barrier']\n",
    "    n_assess_total = result[0]['n_assess_total']\n",
    "    pct_assessed_barrier = result[0]['pct_assessed_barrier']\n",
    "\n",
    "    return n_assessed_barrier, n_assess_total, pct_assessed_barrier\n",
    "\n",
    "def watershed_connectivity(habitat_type):\n",
    "\n",
    "    request = 'https://features.hillcrestgeo.ca/bcfishpass/functions/postgisftw.wcrp_watershed_connectivity_status/items.json?watershed_group_code=HORS&barrier_type=' + habitat_type\n",
    "\n",
    "    response_api = requests.get(request)\n",
    "    parse = response_api.text\n",
    "    result = json.loads(parse)\n",
    "\n",
    "    connect_stat = result[0]['connectivity_status']\n",
    "\n",
    "    return str(round(connect_stat))"
   ]
  },
  {
   "cell_type": "markdown",
   "metadata": {},
   "source": [
    "The planning team devised two Key Ecological Attributes (KEAs) and associated indicators to assess the current connectivity status of the watershed – Accessible Habitat and Accessible Overwintering Habitat (Table 7). KEAs are the key aspects of anadromous salmon ecology that are being targeted by this WCRP. The connectivity status of Anadromous Salmon was used to establish goals to improve habitat connectivity in the watershed and will be the baseline against which progress is tracked over time. \n",
    "\n",
    "The current connectivity status assessment relies on GIS analyses to map known and modelled barriers to fish passage, identify stream reaches that have potential spawning and rearing habitat, estimate the proportion of habitat that is currently accessible to target species, and prioritize barriers for field assessment that would provide the greatest gains in connectivity. To support a flexible prioritization framework to identify priority barriers in the watershed, two assumptions are made: 1) any modelled (i.e., passability status is unknown) or partial barriers are treated as complete barriers to passage and 2) the habitat modelling is binary, it does not assign any habitat quality values. As such, the current connectivity status will be refined over time as more data on habitat and barriers are collected. For more detail on how the connectivity status assessments were conducted, see Appendix B. "
   ]
  },
  {
   "cell_type": "markdown",
   "metadata": {},
   "source": [
    "Table 7. Connectivity status assessment for (a) linear habitat (spawning and rearing) and (b) overwintering habitat in the Horsefly River watershed. The Available Habitat KEA is evaluated by dividing the length of linear habitat that is currently accessible to target species by the total length of all linear habitat in the watershed. The Available Overwintering Habitat KEA is evaluated as the sum of all areal overwintering habitat that is accessible to target species. "
   ]
  },
  {
   "cell_type": "code",
   "execution_count": 2,
   "metadata": {
    "tags": [
     "remove-input"
    ]
   },
   "outputs": [
    {
     "data": {
      "text/html": [
       "<style  type=\"text/css\" >\n",
       "#T_8ae44d30_4a66_11ed_885f_d4548bb590b3row0_col0,#T_8ae44d30_4a66_11ed_885f_d4548bb590b3row0_col1,#T_8ae44d30_4a66_11ed_885f_d4548bb590b3row0_col2,#T_8ae44d30_4a66_11ed_885f_d4548bb590b3row1_col0,#T_8ae44d30_4a66_11ed_885f_d4548bb590b3row1_col1,#T_8ae44d30_4a66_11ed_885f_d4548bb590b3row1_col3,#T_8ae44d30_4a66_11ed_885f_d4548bb590b3row1_col4,#T_8ae44d30_4a66_11ed_885f_d4548bb590b3row1_col5{\n",
       "            background-color:  white;\n",
       "        }#T_8ae44d30_4a66_11ed_885f_d4548bb590b3row0_col3{\n",
       "            background-color:  #ff0000;\n",
       "        }#T_8ae44d30_4a66_11ed_885f_d4548bb590b3row0_col4{\n",
       "            background-color:  #ffff00;\n",
       "        }#T_8ae44d30_4a66_11ed_885f_d4548bb590b3row0_col5{\n",
       "            background-color:  #92d050;\n",
       "        }#T_8ae44d30_4a66_11ed_885f_d4548bb590b3row0_col6,#T_8ae44d30_4a66_11ed_885f_d4548bb590b3row1_col6{\n",
       "            background-color:  #03853e;\n",
       "        }#T_8ae44d30_4a66_11ed_885f_d4548bb590b3row1_col2{\n",
       "            font-weight:  bold;\n",
       "        }</style><table id=\"T_8ae44d30_4a66_11ed_885f_d4548bb590b3\" ><thead>    <tr>        <th class=\"col_heading level0 col0\" >Target Species</th>        <th class=\"col_heading level0 col1\" >KEA</th>        <th class=\"col_heading level0 col2\" >Indicator</th>        <th class=\"col_heading level0 col3\" >Poor</th>        <th class=\"col_heading level0 col4\" >Fair</th>        <th class=\"col_heading level0 col5\" >Good</th>        <th class=\"col_heading level0 col6\" >Very Good</th>    </tr></thead><tbody>\n",
       "                <tr>\n",
       "                                <td id=\"T_8ae44d30_4a66_11ed_885f_d4548bb590b3row0_col0\" class=\"data row0 col0\" >Andromous Salmon</td>\n",
       "                        <td id=\"T_8ae44d30_4a66_11ed_885f_d4548bb590b3row0_col1\" class=\"data row0 col1\" >Available Habitat</td>\n",
       "                        <td id=\"T_8ae44d30_4a66_11ed_885f_d4548bb590b3row0_col2\" class=\"data row0 col2\" >% of total linear habitat</td>\n",
       "                        <td id=\"T_8ae44d30_4a66_11ed_885f_d4548bb590b3row0_col3\" class=\"data row0 col3\" ><80%</td>\n",
       "                        <td id=\"T_8ae44d30_4a66_11ed_885f_d4548bb590b3row0_col4\" class=\"data row0 col4\" >  </td>\n",
       "                        <td id=\"T_8ae44d30_4a66_11ed_885f_d4548bb590b3row0_col5\" class=\"data row0 col5\" >81-90%</td>\n",
       "                        <td id=\"T_8ae44d30_4a66_11ed_885f_d4548bb590b3row0_col6\" class=\"data row0 col6\" >>90%</td>\n",
       "            </tr>\n",
       "            <tr>\n",
       "                                <td id=\"T_8ae44d30_4a66_11ed_885f_d4548bb590b3row1_col0\" class=\"data row1 col0\" > </td>\n",
       "                        <td id=\"T_8ae44d30_4a66_11ed_885f_d4548bb590b3row1_col1\" class=\"data row1 col1\" > </td>\n",
       "                        <td id=\"T_8ae44d30_4a66_11ed_885f_d4548bb590b3row1_col2\" class=\"data row1 col2\" >Current Status:</td>\n",
       "                        <td id=\"T_8ae44d30_4a66_11ed_885f_d4548bb590b3row1_col3\" class=\"data row1 col3\" > </td>\n",
       "                        <td id=\"T_8ae44d30_4a66_11ed_885f_d4548bb590b3row1_col4\" class=\"data row1 col4\" > </td>\n",
       "                        <td id=\"T_8ae44d30_4a66_11ed_885f_d4548bb590b3row1_col5\" class=\"data row1 col5\" > </td>\n",
       "                        <td id=\"T_8ae44d30_4a66_11ed_885f_d4548bb590b3row1_col6\" class=\"data row1 col6\" >93</td>\n",
       "            </tr>\n",
       "    </tbody></table>"
      ],
      "text/plain": [
       "<pandas.io.formats.style.Styler at 0x2674b7c72c8>"
      ]
     },
     "execution_count": 2,
     "metadata": {},
     "output_type": "execute_result"
    }
   ],
   "source": [
    "#creating table 7\n",
    "import pandas as pd\n",
    "import numpy as np\n",
    "import matplotlib as mpl\n",
    "\n",
    "df = pd.DataFrame({\"Target Species\":[\"Andromous Salmon\",\" \"],\n",
    "                   \"KEA\":[\"Available Habitat\",\" \"],\n",
    "                   \"Indicator\":[\"% of total linear habitat\",\"Current Status:\"],\n",
    "                   \"Poor\":[\"<80%\",\" \"],\n",
    "                   \"Fair\":[\"  \",\" \"],\n",
    "                   \"Good\":[\"81-90%\",\" \"],\n",
    "                   \"Very Good\":[\">90%\", watershed_connectivity(\"ALL\")]\n",
    "                   })\n",
    "\n",
    "\n",
    "def highlighttab7(val):\n",
    "    red = '#ff0000;'\n",
    "    yellow = '#ffff00;'\n",
    "    lgreen = '#92d050;'\n",
    "    dgreen = '#03853e;'\n",
    "\n",
    "    if val==\"<80%\" : color = red\n",
    "    elif val[0:].isdigit() and int(val) < 80 : color = red\n",
    "    elif val==\"  \": color = yellow\n",
    "    elif val==\"81-90%\"  : color = lgreen\n",
    "    elif val[0:].isdigit() and (int(val) >= 80 and int(val) < 90) : color = lgreen \n",
    "    elif val ==\">90%\": color = dgreen\n",
    "    elif val[0:].isdigit() and int(val) >= 90 : color = dgreen \n",
    "    elif val == \"Current Status:\" : return \"font-weight: bold\"\n",
    "    else: color = 'white'\n",
    "    return 'background-color: %s' % color\n",
    "\n",
    "df.style.applymap(highlighttab7).hide_index()\n",
    "\n"
   ]
  },
  {
   "cell_type": "markdown",
   "metadata": {},
   "source": [
    "**Comments**: Indicator rating definitions are based on the consensus decisions of the planning team, including the decision not to define Fair. The current status is based on the CWF Barrier Prioritization Model output, which is current as of March 2022."
   ]
  },
  {
   "cell_type": "code",
   "execution_count": 3,
   "metadata": {
    "tags": [
     "remove-input"
    ]
   },
   "outputs": [
    {
     "data": {
      "text/html": [
       "<style  type=\"text/css\" >\n",
       "#T_8afd71a8_4a66_11ed_9cfd_d4548bb590b3row0_col0,#T_8afd71a8_4a66_11ed_9cfd_d4548bb590b3row0_col1,#T_8afd71a8_4a66_11ed_9cfd_d4548bb590b3row0_col2,#T_8afd71a8_4a66_11ed_9cfd_d4548bb590b3row0_col7{\n",
       "            background-color:  white;\n",
       "        }#T_8afd71a8_4a66_11ed_9cfd_d4548bb590b3row0_col3{\n",
       "            background-color:  #ff0000;\n",
       "        }#T_8afd71a8_4a66_11ed_9cfd_d4548bb590b3row0_col4{\n",
       "            background-color:  #ffff00;\n",
       "        }#T_8afd71a8_4a66_11ed_9cfd_d4548bb590b3row0_col5{\n",
       "            background-color:  #92d050;\n",
       "        }#T_8afd71a8_4a66_11ed_9cfd_d4548bb590b3row0_col6{\n",
       "            background-color:  #03853e;\n",
       "        }</style><table id=\"T_8afd71a8_4a66_11ed_9cfd_d4548bb590b3\" ><thead>    <tr>        <th class=\"col_heading level0 col0\" >Target Species</th>        <th class=\"col_heading level0 col1\" >KEA</th>        <th class=\"col_heading level0 col2\" >Indicator</th>        <th class=\"col_heading level0 col3\" >Poor</th>        <th class=\"col_heading level0 col4\" >Fair</th>        <th class=\"col_heading level0 col5\" >Good</th>        <th class=\"col_heading level0 col6\" >Very Good</th>        <th class=\"col_heading level0 col7\" >Current Status</th>    </tr></thead><tbody>\n",
       "                <tr>\n",
       "                                <td id=\"T_8afd71a8_4a66_11ed_9cfd_d4548bb590b3row0_col0\" class=\"data row0 col0\" >Andromous Salmon</td>\n",
       "                        <td id=\"T_8afd71a8_4a66_11ed_9cfd_d4548bb590b3row0_col1\" class=\"data row0 col1\" >Available Overwintering Habitat</td>\n",
       "                        <td id=\"T_8afd71a8_4a66_11ed_9cfd_d4548bb590b3row0_col2\" class=\"data row0 col2\" >Total Area (m2) of overwintering habitat accessible</td>\n",
       "                        <td id=\"T_8afd71a8_4a66_11ed_9cfd_d4548bb590b3row0_col3\" class=\"data row0 col3\" >?</td>\n",
       "                        <td id=\"T_8afd71a8_4a66_11ed_9cfd_d4548bb590b3row0_col4\" class=\"data row0 col4\" > ?</td>\n",
       "                        <td id=\"T_8afd71a8_4a66_11ed_9cfd_d4548bb590b3row0_col5\" class=\"data row0 col5\" >? </td>\n",
       "                        <td id=\"T_8afd71a8_4a66_11ed_9cfd_d4548bb590b3row0_col6\" class=\"data row0 col6\" > ? </td>\n",
       "                        <td id=\"T_8afd71a8_4a66_11ed_9cfd_d4548bb590b3row0_col7\" class=\"data row0 col7\" ></td>\n",
       "            </tr>\n",
       "    </tbody></table>"
      ],
      "text/plain": [
       "<pandas.io.formats.style.Styler at 0x2674c545788>"
      ]
     },
     "execution_count": 3,
     "metadata": {},
     "output_type": "execute_result"
    }
   ],
   "source": [
    "#creating table 7\n",
    "import pandas as pd\n",
    "import numpy as np\n",
    "import matplotlib as mpl\n",
    "\n",
    "df = pd.DataFrame({\"Target Species\":[\"Andromous Salmon\"],\n",
    "                   \"KEA\":[\"Available Overwintering Habitat\"],\n",
    "                   \"Indicator\":[\"Total Area (m2) of overwintering habitat accessible\"],\n",
    "                   \"Poor\":[\"?\"],\n",
    "                   \"Fair\":[\" ?\"],\n",
    "                   \"Good\":[\"? \"],\n",
    "                   \"Very Good\":[\" ? \"],\n",
    "                   \"Current Status\":[\"\"]\n",
    "                   })\n",
    "\n",
    "def highlighttab7b(val):\n",
    "    red = '#ff0000;'\n",
    "    yellow = '#ffff00;'\n",
    "    lgreen = '#92d050;'\n",
    "    dgreen = '#03853e;'\n",
    "\n",
    "    if val==\"?\" : color = red\n",
    "    elif val[0:].isdigit() and int(val) < 80 : color = red\n",
    "    elif val==\" ?\": color = yellow\n",
    "    elif val==\"? \"  : color = lgreen\n",
    "    elif val[0:].isdigit() and (int(val) >= 80 and int(val) < 90) : color = lgreen \n",
    "    elif val ==\" ? \": color = dgreen\n",
    "    elif val[0:].isdigit() and int(val) >= 90 : color = dgreen \n",
    "    else: color = 'white'\n",
    "    return 'background-color: %s' % color\n",
    "\n",
    "df.style.applymap(highlighttab7b).hide_index()\n"
   ]
  },
  {
   "cell_type": "markdown",
   "metadata": {},
   "source": [
    "**Comments:** No baseline data exists on the extent of overwintering habitat in the watershed. A priority action is included in the Operational Plan (strategy 2.3) to develop a habitat layer, and this will be used to inform this connectivity status assessment in the future."
   ]
  },
  {
   "cell_type": "markdown",
   "metadata": {},
   "source": [
    "# Barrier Types"
   ]
  },
  {
   "cell_type": "markdown",
   "metadata": {},
   "source": [
    "The following table highlights which barrier types pose the greatest threat to anadromous salmon in the watershed. The results of this assessment were used to inform the subsequent planning steps, as well as to identify knowledge gaps where there is little spatial data to inform the assessment for a specific barrier type. \n",
    "\n",
    "Table 8. Barrier Types in the Horsefly River watershed and barrier rating assessment results. For each barrier type listed, \"Extent refers to the proportion of anadromous salmon habitat that is being blocked by that barrier type, \"Severity\" is the proportion of structures for each barrier type that are known to block passage for target species based on field assessments, and \"Irreversibility\" is the degree to which the effects of a barrier type can be reversed and connectivity restored. The amount of habitat blocked used in this exercise is a representation of total amount of combined spawning and rearing habitat. All ratings in this table have been updated from version 1.0 to version 2.0 of the Horsefly River Watershed Connectivity Remediation Plan based on the most recent field assessments.\n"
   ]
  },
  {
   "cell_type": "code",
   "execution_count": 4,
   "metadata": {
    "tags": [
     "remove-input"
    ]
   },
   "outputs": [
    {
     "data": {
      "text/html": [
       "<style  type=\"text/css\" >\n",
       "#T_8e8bd0d8_4a66_11ed_b66c_d4548bb590b3row0_col0,#T_8e8bd0d8_4a66_11ed_b66c_d4548bb590b3row1_col0,#T_8e8bd0d8_4a66_11ed_b66c_d4548bb590b3row2_col0,#T_8e8bd0d8_4a66_11ed_b66c_d4548bb590b3row3_col0,#T_8e8bd0d8_4a66_11ed_b66c_d4548bb590b3row4_col0{\n",
       "            background-color:  white;\n",
       "        }#T_8e8bd0d8_4a66_11ed_b66c_d4548bb590b3row0_col1,#T_8e8bd0d8_4a66_11ed_b66c_d4548bb590b3row1_col1,#T_8e8bd0d8_4a66_11ed_b66c_d4548bb590b3row1_col3,#T_8e8bd0d8_4a66_11ed_b66c_d4548bb590b3row1_col4,#T_8e8bd0d8_4a66_11ed_b66c_d4548bb590b3row2_col3,#T_8e8bd0d8_4a66_11ed_b66c_d4548bb590b3row4_col2{\n",
       "            background-color:  #ffff00;\n",
       "        }#T_8e8bd0d8_4a66_11ed_b66c_d4548bb590b3row0_col2,#T_8e8bd0d8_4a66_11ed_b66c_d4548bb590b3row0_col4,#T_8e8bd0d8_4a66_11ed_b66c_d4548bb590b3row1_col2{\n",
       "            background-color:  #ff0000;\n",
       "        }#T_8e8bd0d8_4a66_11ed_b66c_d4548bb590b3row0_col3,#T_8e8bd0d8_4a66_11ed_b66c_d4548bb590b3row2_col2,#T_8e8bd0d8_4a66_11ed_b66c_d4548bb590b3row2_col4,#T_8e8bd0d8_4a66_11ed_b66c_d4548bb590b3row3_col3,#T_8e8bd0d8_4a66_11ed_b66c_d4548bb590b3row4_col1{\n",
       "            background-color:  #92d050;\n",
       "        }#T_8e8bd0d8_4a66_11ed_b66c_d4548bb590b3row2_col1,#T_8e8bd0d8_4a66_11ed_b66c_d4548bb590b3row3_col1,#T_8e8bd0d8_4a66_11ed_b66c_d4548bb590b3row3_col2,#T_8e8bd0d8_4a66_11ed_b66c_d4548bb590b3row3_col4,#T_8e8bd0d8_4a66_11ed_b66c_d4548bb590b3row4_col3,#T_8e8bd0d8_4a66_11ed_b66c_d4548bb590b3row4_col4{\n",
       "            background-color:  #03853e;\n",
       "        }</style><table id=\"T_8e8bd0d8_4a66_11ed_b66c_d4548bb590b3\" ><thead>    <tr>        <th class=\"col_heading level0 col0\" >Barrier Types</th>        <th class=\"col_heading level0 col1\" >Extent</th>        <th class=\"col_heading level0 col2\" >Severity</th>        <th class=\"col_heading level0 col3\" >Irreversibility</th>        <th class=\"col_heading level0 col4\" >Overall Threat Rating:</th>    </tr></thead><tbody>\n",
       "                <tr>\n",
       "                                <td id=\"T_8e8bd0d8_4a66_11ed_b66c_d4548bb590b3row0_col0\" class=\"data row0 col0\" >Road-Stream Crossings</td>\n",
       "                        <td id=\"T_8e8bd0d8_4a66_11ed_b66c_d4548bb590b3row0_col1\" class=\"data row0 col1\" >High</td>\n",
       "                        <td id=\"T_8e8bd0d8_4a66_11ed_b66c_d4548bb590b3row0_col2\" class=\"data row0 col2\" >Very High</td>\n",
       "                        <td id=\"T_8e8bd0d8_4a66_11ed_b66c_d4548bb590b3row0_col3\" class=\"data row0 col3\" >Medium</td>\n",
       "                        <td id=\"T_8e8bd0d8_4a66_11ed_b66c_d4548bb590b3row0_col4\" class=\"data row0 col4\" >Very High</td>\n",
       "            </tr>\n",
       "            <tr>\n",
       "                                <td id=\"T_8e8bd0d8_4a66_11ed_b66c_d4548bb590b3row1_col0\" class=\"data row1 col0\" >Lateral Barriers</td>\n",
       "                        <td id=\"T_8e8bd0d8_4a66_11ed_b66c_d4548bb590b3row1_col1\" class=\"data row1 col1\" >High</td>\n",
       "                        <td id=\"T_8e8bd0d8_4a66_11ed_b66c_d4548bb590b3row1_col2\" class=\"data row1 col2\" >Very High</td>\n",
       "                        <td id=\"T_8e8bd0d8_4a66_11ed_b66c_d4548bb590b3row1_col3\" class=\"data row1 col3\" >High</td>\n",
       "                        <td id=\"T_8e8bd0d8_4a66_11ed_b66c_d4548bb590b3row1_col4\" class=\"data row1 col4\" >High</td>\n",
       "            </tr>\n",
       "            <tr>\n",
       "                                <td id=\"T_8e8bd0d8_4a66_11ed_b66c_d4548bb590b3row2_col0\" class=\"data row2 col0\" >Small Dams(<3m height)</td>\n",
       "                        <td id=\"T_8e8bd0d8_4a66_11ed_b66c_d4548bb590b3row2_col1\" class=\"data row2 col1\" >Low</td>\n",
       "                        <td id=\"T_8e8bd0d8_4a66_11ed_b66c_d4548bb590b3row2_col2\" class=\"data row2 col2\" >Medium</td>\n",
       "                        <td id=\"T_8e8bd0d8_4a66_11ed_b66c_d4548bb590b3row2_col3\" class=\"data row2 col3\" >High</td>\n",
       "                        <td id=\"T_8e8bd0d8_4a66_11ed_b66c_d4548bb590b3row2_col4\" class=\"data row2 col4\" >Medium</td>\n",
       "            </tr>\n",
       "            <tr>\n",
       "                                <td id=\"T_8e8bd0d8_4a66_11ed_b66c_d4548bb590b3row3_col0\" class=\"data row3 col0\" >Trail-stream Crossings</td>\n",
       "                        <td id=\"T_8e8bd0d8_4a66_11ed_b66c_d4548bb590b3row3_col1\" class=\"data row3 col1\" >Low</td>\n",
       "                        <td id=\"T_8e8bd0d8_4a66_11ed_b66c_d4548bb590b3row3_col2\" class=\"data row3 col2\" >Low</td>\n",
       "                        <td id=\"T_8e8bd0d8_4a66_11ed_b66c_d4548bb590b3row3_col3\" class=\"data row3 col3\" >Medium</td>\n",
       "                        <td id=\"T_8e8bd0d8_4a66_11ed_b66c_d4548bb590b3row3_col4\" class=\"data row3 col4\" >Low</td>\n",
       "            </tr>\n",
       "            <tr>\n",
       "                                <td id=\"T_8e8bd0d8_4a66_11ed_b66c_d4548bb590b3row4_col0\" class=\"data row4 col0\" >Natural Barriers</td>\n",
       "                        <td id=\"T_8e8bd0d8_4a66_11ed_b66c_d4548bb590b3row4_col1\" class=\"data row4 col1\" >Medium</td>\n",
       "                        <td id=\"T_8e8bd0d8_4a66_11ed_b66c_d4548bb590b3row4_col2\" class=\"data row4 col2\" >High</td>\n",
       "                        <td id=\"T_8e8bd0d8_4a66_11ed_b66c_d4548bb590b3row4_col3\" class=\"data row4 col3\" >Low</td>\n",
       "                        <td id=\"T_8e8bd0d8_4a66_11ed_b66c_d4548bb590b3row4_col4\" class=\"data row4 col4\" >Low</td>\n",
       "            </tr>\n",
       "    </tbody></table>"
      ],
      "text/plain": [
       "<pandas.io.formats.style.Styler at 0x2674c5842c8>"
      ]
     },
     "execution_count": 4,
     "metadata": {},
     "output_type": "execute_result"
    }
   ],
   "source": [
    "from ipywidgets import *\n",
    "import pandas as pd\n",
    "\n",
    "#condition\n",
    "def condition(pct):\n",
    "    rating = \"\"\n",
    "    if pct < 30 : rating = \"Low\"\n",
    "    elif (pct >= 30) and (pct < 71) : rating = \"Medium\"\n",
    "    elif (pct >= 71) and (pct < 90) : rating = \"High\"\n",
    "    else : rating = \"Very High\"\n",
    "    return rating\n",
    "\n",
    "#rating classifier\n",
    "def rating(threat, barrier):\n",
    "    if threat == \"extent\":\n",
    "        if barrier == \"DAM\":\n",
    "            pct = barrier_extent(barrier)[1]\n",
    "            rating = condition(pct)\n",
    "        elif barrier == \"ROAD\":\n",
    "            pct = barrier_extent('ROAD, RESOURCE/OTHER')[1] + barrier_extent('ROAD, DEMOGRAPHIC')[1]\n",
    "            rating = condition(pct)\n",
    "    elif threat == \"severity\":\n",
    "        if barrier == \"DAM\":\n",
    "            pct = barrier_severity(barrier)[2]\n",
    "            rating = condition(pct)\n",
    "        elif barrier == \"ROAD\":\n",
    "            pct = barrier_severity('ROAD, RESOURCE/OTHER')[2] + barrier_severity('ROAD, DEMOGRAPHIC')[2]\n",
    "            rating = condition(pct)\n",
    "            \n",
    "    return rating\n",
    "            \n",
    "\n",
    "        \n",
    "\n",
    "\n",
    "\n",
    "\n",
    "df = pd.DataFrame({\"Barrier Types\":[\"Road-Stream Crossings\",\"Lateral Barriers\",\"Small Dams(<3m height)\",\"Trail-stream Crossings\", \"Natural Barriers\"],\n",
    "                   \"Extent\":[rating(\"extent\", \"ROAD\"),\"High\",rating(\"extent\", \"DAM\"), \"Low\", \"Medium\"],\n",
    "                   \"Severity\":[rating(\"severity\", \"ROAD\"),\"Very High\",rating(\"severity\", \"DAM\"), \"Low\", \"High\"],\n",
    "                   \"Irreversibility\":[\"Medium\",\"High\",\"High\", \"Medium\", \"Low\"],\n",
    "                   \"Overall Threat Rating:\":[\"Very High\",\"High\",\"Medium\", \"Low\", \"Low\"]\n",
    "                   })\n",
    "\n",
    "def highlight(val):\n",
    "    red = '#ff0000;'\n",
    "    yellow = '#ffff00;'\n",
    "    lgreen = '#92d050;'\n",
    "    dgreen = '#03853e;'\n",
    "\n",
    "    if val==\"Very High\": color = red\n",
    "    elif val==\"High\": color = yellow\n",
    "    elif val==\"Medium\": color = lgreen\n",
    "    elif val ==\"Low\": color = dgreen\n",
    "    else: color = 'white'\n",
    "    return 'background-color: %s' % color\n",
    "\n",
    "df.style.applymap(highlight).hide_index()"
   ]
  },
  {
   "cell_type": "code",
   "execution_count": 5,
   "metadata": {
    "tags": [
     "remove-input",
     "remove-output"
    ]
   },
   "outputs": [
    {
     "data": {
      "text/plain": [
       "8.09"
      ]
     },
     "metadata": {
      "scrapbook": {
       "mime_prefix": "",
       "name": "dam_km"
      }
     },
     "output_type": "display_data"
    },
    {
     "data": {
      "text/plain": [
       "23"
      ]
     },
     "metadata": {
      "scrapbook": {
       "mime_prefix": "",
       "name": "dam_pct"
      }
     },
     "output_type": "display_data"
    },
    {
     "data": {
      "text/plain": [
       "9"
      ]
     },
     "metadata": {
      "scrapbook": {
       "mime_prefix": "",
       "name": "total_barrier"
      }
     },
     "output_type": "display_data"
    }
   ],
   "source": [
    "import requests\n",
    "import json\n",
    "import pandas\n",
    "from myst_nb import glue\n",
    "\n",
    "\n",
    "\n",
    "#glue class for variables to allow embedding in markdown\n",
    "glue(\"dam_km\", barrier_extent('DAM')[0])\n",
    "glue(\"dam_pct\", round(barrier_extent('DAM')[1]))\n",
    "glue(\"total_barrier\", barrier_severity('DAM')[1])\n",
    "\n"
   ]
  },
  {
   "cell_type": "markdown",
   "metadata": {},
   "source": [
    "### Small Dams (<3 m height)\n",
    "\n",
    "There are {glue:text}`total_barrier` mapped small dams on “potentially accessible” stream segments in the watershed, blocking a total of {glue:text}`dam_km` km (~{glue:text}`dam_pct`% of the total blocked habitat) of modelled spawning and rearing habitat for anadromous salmon, resulting in a medium extent. The extent rating of these structures was confirmed by the planning team. There are two known fish-passage structures in the watershed, including on the dam at the outlet of McKinley Lake. The remaining dams likely block passage for anadromous salmon and would require significant resources to remediate. However, due to the limited extent of dams in the watershed, a final pressure rating of Medium was assigned. Four small dams were identified on the priority barrier list (see Appendix C). Three of the dams require further assessment and confirmation of upstream habitat quality, and the dam observed at the outlet of Kwun Lake does not exist. "
   ]
  },
  {
   "cell_type": "code",
   "execution_count": 6,
   "metadata": {
    "tags": [
     "remove-input",
     "remove-output"
    ]
   },
   "outputs": [
    {
     "data": {
      "text/plain": [
       "19.57"
      ]
     },
     "metadata": {
      "scrapbook": {
       "mime_prefix": "",
       "name": "resource_km"
      }
     },
     "output_type": "display_data"
    },
    {
     "data": {
      "text/plain": [
       "56"
      ]
     },
     "metadata": {
      "scrapbook": {
       "mime_prefix": "",
       "name": "resource_pct"
      }
     },
     "output_type": "display_data"
    },
    {
     "data": {
      "text/plain": [
       "7.31"
      ]
     },
     "metadata": {
      "scrapbook": {
       "mime_prefix": "",
       "name": "demo_km"
      }
     },
     "output_type": "display_data"
    },
    {
     "data": {
      "text/plain": [
       "21"
      ]
     },
     "metadata": {
      "scrapbook": {
       "mime_prefix": "",
       "name": "demo_pct"
      }
     },
     "output_type": "display_data"
    },
    {
     "data": {
      "text/plain": [
       "60"
      ]
     },
     "metadata": {
      "scrapbook": {
       "mime_prefix": "",
       "name": "resource_sev"
      }
     },
     "output_type": "display_data"
    },
    {
     "data": {
      "text/plain": [
       "73"
      ]
     },
     "metadata": {
      "scrapbook": {
       "mime_prefix": "",
       "name": "demo_sev"
      }
     },
     "output_type": "display_data"
    },
    {
     "data": {
      "text/plain": [
       "244"
      ]
     },
     "metadata": {
      "scrapbook": {
       "mime_prefix": "",
       "name": "sum"
      }
     },
     "output_type": "display_data"
    }
   ],
   "source": [
    "#glue class for variables to allow embedding in markdown\n",
    "glue(\"resource_km\", barrier_extent('ROAD, RESOURCE/OTHER')[0])\n",
    "glue(\"resource_pct\", round(barrier_extent('ROAD, RESOURCE/OTHER')[1]))\n",
    "glue(\"demo_km\", barrier_extent('ROAD, DEMOGRAPHIC')[0])\n",
    "glue(\"demo_pct\", round(barrier_extent('ROAD, DEMOGRAPHIC')[1]))\n",
    "glue(\"resource_sev\", round(barrier_severity('ROAD, RESOURCE/OTHER')[2]))\n",
    "glue(\"demo_sev\", round(barrier_severity('ROAD, DEMOGRAPHIC')[2]))\n",
    "\n",
    "sum_road = (barrier_severity('ROAD, RESOURCE/OTHER')[1], barrier_severity('ROAD, DEMOGRAPHIC')[1])\n",
    "\n",
    "\n",
    "glue(\"sum\", sum(sum_road))"
   ]
  },
  {
   "cell_type": "markdown",
   "metadata": {},
   "source": [
    "### Road-stream Crossings\n",
    "\n",
    "Road-stream crossings are the most abundant barrier type in the watershed, with {glue:text}`sum` assessed and modelled crossings located on stream segments with modelled habitat. Demographic road crossings (highways, municipal, and paved roads) block {glue:text}`demo_km` km of habitat (~{glue:text}`demo_pct`% of the total blocked habitat), with {glue:text}`demo_sev`% of assessed crossings having been identified as barriers to fish passage. Resource roads block {glue:text}`resource_km` km of habitat (~{glue:text}`resource_pct`%), with {glue:text}`resource_sev`% of assessed crossings having been identified as barriers. The planning team felt that the data was underestimating the severity of road-stream crossing barriers in the watershed, and therefore decided to update the rating from High to Very High. The planning team also felt that an irreversibility rating of Medium was appropriate due to the technical complexity and resources required to remediate road-stream crossings. "
   ]
  },
  {
   "cell_type": "markdown",
   "metadata": {},
   "source": [
    "### Trail-stream crossings \n",
    "\n",
    "There is very little spatial data available on trail-stream crossings in the watershed, so the planning team was unable to quantify the true Extent and Severity of this barrier type. However, the planning team felt that trail-stream crossings are not prevalent within the watershed and that, where they do exist, they do not significantly impact passage for anadromous salmon. As most crossings will be fords or similar structures, remediation may not be required, or remediation costs associated with these barriers would be quite low. Overall, the planning team felt that the pressure rating for trail-stream crossings was likely Low; however, the lack of ground-truthed evidence to support this rating was identified as a knowledge gap within this plan. "
   ]
  },
  {
   "cell_type": "markdown",
   "metadata": {},
   "source": [
    "### Lateral Barriers \n",
    "\n",
    "There are numerous types of lateral barriers that potentially occur in the watershed, including dykes, berms, and linear development (i.e., road and rail lines), all of which can restrict the ability of anadromous salmon to move into floodplains, riparian wetlands, and other off-channel habitats. No comprehensive lateral barrier data exists within the watershed, so pressure ratings were based on qualitative local knowledge. Lateral barriers are not thought to be as prevalent as road- or rail-stream crossings but are likely very severe where they do exist. Significant lateral barriers are known to occur along the mainstem of the Horsefly River, which disconnect the mainstem river from historic floodplain and off-channel habitat. Overall, the planning team decided that a High pressure rating adequately captured the effect that lateral barriers are having on connectivity in the watershed. Work to begin quantifying and mapping lateral habitat will begin in 2022-23, as described in the Operational Plan under Strategy 2: Lateral barrier remediation.  "
   ]
  },
  {
   "cell_type": "markdown",
   "metadata": {},
   "source": [
    "### Natural Barriers \n",
    "\n",
    "Natural barriers to fish passage can include debris flows, log jams, sediment deposits, etc., but natural features that have always restricted fish passage (e.g., waterfalls) are not considered under this barrier type. Natural barriers are difficult to include in a spatial prioritization framework due to their transient nature. The planning team identified known natural barriers that occur throughout the watershed, such as beaver dams and log jams. Generally, these natural barriers are only severe impediments to fish passage during low-flow years, but reduced baseflows have become more common in recent years. Based on this, the planning team felt that natural barriers will be severe most years where they exist, but are mostly reversible, resulting in an overall pressure rating of Low. "
   ]
  },
  {
   "cell_type": "markdown",
   "metadata": {},
   "source": [
    "# Situation Analysis \n",
    "\n",
    "The following situation model was developed by the WCRP planning team to “map” the project context and brainstorm potential actions for implementation. Green text is used to identify actions that were selected for implementation (see Strategies & Actions), and red text is used to identify actions that the project team has decided to exclude from the current iteration of the plan, as they were either outside of the project scope, or were deemed to be ineffective by the planning team. \n",
    "```{figure} figure3.png\n",
    "---\n",
    "height: 400px\n",
    "width: 1000px\n",
    "name: directive-fig\n",
    "---\n",
    "Situation analysis developed by the planning team to identify factors that contribute to fragmentation (orange boxes), biophysical results (brown boxes), and potential strategies/actions to improve connectivity (yellow hexagons) for target species in the Horsefly River watershed.\n",
    "```"
   ]
  },
  {
   "cell_type": "markdown",
   "metadata": {},
   "source": [
    "# Goals\n",
    "\n",
    "Table 9. Goals to improve (1) spawning and rearing and (2) overwintering habitat connectivity for target species in the Horsefly River watershed over the lifespan of the WCRP (2021-2040). The goals were established through discussions with the planning team and represent the resulting desired state of connectivity in the watershed. The goals are subject to change as more information and data are collected over the course of the plan timeline (e.g., the current connectivity status is updated based on barrier field assessments). \n"
   ]
  },
  {
   "cell_type": "code",
   "execution_count": 7,
   "metadata": {
    "tags": [
     "remove-input"
    ]
   },
   "outputs": [
    {
     "data": {
      "text/html": [
       "<style  type=\"text/css\" >\n",
       "#T_977b0142_4a66_11ed_9d9b_d4548bb590b3row0_col0,#T_977b0142_4a66_11ed_9d9b_d4548bb590b3row0_col1,#T_977b0142_4a66_11ed_9d9b_d4548bb590b3row1_col0,#T_977b0142_4a66_11ed_9d9b_d4548bb590b3row1_col1{\n",
       "            text-align:  left;\n",
       "        }</style><table id=\"T_977b0142_4a66_11ed_9d9b_d4548bb590b3\" ><thead>    <tr>        <th class=\"col_heading level0 col0\" >Goal #</th>        <th class=\"col_heading level0 col1\" >Goal</th>    </tr></thead><tbody>\n",
       "                <tr>\n",
       "                                <td id=\"T_977b0142_4a66_11ed_9d9b_d4548bb590b3row0_col0\" class=\"data row0 col0\" >1</td>\n",
       "                        <td id=\"T_977b0142_4a66_11ed_9d9b_d4548bb590b3row0_col1\" class=\"data row0 col1\" >By 2040, the percent (%) of total linear habitat accessible to anadromous salmon will increase from 94% to 96% within the Horsefly River watershed (i.e., reconnect at least 11.7 km of habitat).</td>\n",
       "            </tr>\n",
       "            <tr>\n",
       "                                <td id=\"T_977b0142_4a66_11ed_9d9b_d4548bb590b3row1_col0\" class=\"data row1 col0\" >2</td>\n",
       "                        <td id=\"T_977b0142_4a66_11ed_9d9b_d4548bb590b3row1_col1\" class=\"data row1 col1\" >By 2024, the total area of overwintering habitat accessible to Anadromous Salmon will increase by 1,500 m2 within the Horsefly River watershed. </td>\n",
       "            </tr>\n",
       "    </tbody></table>"
      ],
      "text/plain": [
       "<pandas.io.formats.style.Styler at 0x2674f421d08>"
      ]
     },
     "execution_count": 7,
     "metadata": {},
     "output_type": "execute_result"
    }
   ],
   "source": [
    "#creating table 7\n",
    "import pandas as pd\n",
    "import numpy as np\n",
    "\n",
    "df = pd.DataFrame({\"Goal #\": [1,2],\n",
    "                   \"Goal\": [\"By 2040, the percent (%) of total linear habitat accessible to anadromous salmon will increase from 94% to 96% within the Horsefly River watershed (i.e., reconnect at least 11.7 km of habitat).\",\n",
    "                            \"By 2024, the total area of overwintering habitat accessible to Anadromous Salmon will increase by 1,500 m2 within the Horsefly River watershed. \"]\n",
    "                    })\n",
    "\n",
    "df.style.hide_index().set_properties(**{'text-align': 'left'})\n"
   ]
  },
  {
   "cell_type": "markdown",
   "metadata": {},
   "source": [
    "# Strategies & Actions\n",
    "\n",
    "Table 10. Effectiveness evaluation of identified conservation strategies and associated actions to improve connectivity for target species in the Horsefly River watershed. The planning team identified five broad strategies to implement through this WCRP, 1) crossing remediation, 2) lateral barrier remediation, 3) dam remediation, 4) barrier prevention, and 5) communication and education. Individual actions were qualitatively evaluated based on the anticipated effect each action will have on realizing on-the-ground gains in connectivity. Effectiveness ratings are based on a combination of \"Feasibility and \"Impact\", Feasibility is defined as the degree to which the project team can implement the action within realistic constraints (financial, time, ethical, etc.) and Impact is the degree to which the action is likely to contribute to achieving one or more of the goals established in this plan.\n",
    "\n",
    "## Strategy 1: Crossing Remediation\n"
   ]
  },
  {
   "cell_type": "code",
   "execution_count": 8,
   "metadata": {
    "tags": [
     "remove-input"
    ]
   },
   "outputs": [
    {
     "data": {
      "text/html": [
       "<style  type=\"text/css\" >\n",
       "#T_97846b06_4a66_11ed_844d_d4548bb590b3row0_col0,#T_97846b06_4a66_11ed_844d_d4548bb590b3row0_col1,#T_97846b06_4a66_11ed_844d_d4548bb590b3row0_col2,#T_97846b06_4a66_11ed_844d_d4548bb590b3row1_col0,#T_97846b06_4a66_11ed_844d_d4548bb590b3row1_col1,#T_97846b06_4a66_11ed_844d_d4548bb590b3row1_col2,#T_97846b06_4a66_11ed_844d_d4548bb590b3row2_col0,#T_97846b06_4a66_11ed_844d_d4548bb590b3row2_col1,#T_97846b06_4a66_11ed_844d_d4548bb590b3row2_col2,#T_97846b06_4a66_11ed_844d_d4548bb590b3row3_col0,#T_97846b06_4a66_11ed_844d_d4548bb590b3row3_col1,#T_97846b06_4a66_11ed_844d_d4548bb590b3row3_col2,#T_97846b06_4a66_11ed_844d_d4548bb590b3row4_col0,#T_97846b06_4a66_11ed_844d_d4548bb590b3row4_col1,#T_97846b06_4a66_11ed_844d_d4548bb590b3row4_col2,#T_97846b06_4a66_11ed_844d_d4548bb590b3row5_col0,#T_97846b06_4a66_11ed_844d_d4548bb590b3row5_col1,#T_97846b06_4a66_11ed_844d_d4548bb590b3row5_col2,#T_97846b06_4a66_11ed_844d_d4548bb590b3row5_col3,#T_97846b06_4a66_11ed_844d_d4548bb590b3row5_col4,#T_97846b06_4a66_11ed_844d_d4548bb590b3row5_col5,#T_97846b06_4a66_11ed_844d_d4548bb590b3row6_col0,#T_97846b06_4a66_11ed_844d_d4548bb590b3row6_col1,#T_97846b06_4a66_11ed_844d_d4548bb590b3row6_col2,#T_97846b06_4a66_11ed_844d_d4548bb590b3row7_col0,#T_97846b06_4a66_11ed_844d_d4548bb590b3row7_col1,#T_97846b06_4a66_11ed_844d_d4548bb590b3row7_col2,#T_97846b06_4a66_11ed_844d_d4548bb590b3row8_col0,#T_97846b06_4a66_11ed_844d_d4548bb590b3row8_col1,#T_97846b06_4a66_11ed_844d_d4548bb590b3row8_col2{\n",
       "            background-color:  white;\n",
       "            text-align:  left;\n",
       "        }#T_97846b06_4a66_11ed_844d_d4548bb590b3row0_col3,#T_97846b06_4a66_11ed_844d_d4548bb590b3row0_col5,#T_97846b06_4a66_11ed_844d_d4548bb590b3row1_col4,#T_97846b06_4a66_11ed_844d_d4548bb590b3row1_col5,#T_97846b06_4a66_11ed_844d_d4548bb590b3row3_col4,#T_97846b06_4a66_11ed_844d_d4548bb590b3row3_col5,#T_97846b06_4a66_11ed_844d_d4548bb590b3row7_col3,#T_97846b06_4a66_11ed_844d_d4548bb590b3row7_col4,#T_97846b06_4a66_11ed_844d_d4548bb590b3row7_col5{\n",
       "            background-color:  #03853e;\n",
       "            text-align:  left;\n",
       "        }#T_97846b06_4a66_11ed_844d_d4548bb590b3row0_col4,#T_97846b06_4a66_11ed_844d_d4548bb590b3row1_col3,#T_97846b06_4a66_11ed_844d_d4548bb590b3row2_col3,#T_97846b06_4a66_11ed_844d_d4548bb590b3row2_col4,#T_97846b06_4a66_11ed_844d_d4548bb590b3row2_col5,#T_97846b06_4a66_11ed_844d_d4548bb590b3row3_col3,#T_97846b06_4a66_11ed_844d_d4548bb590b3row4_col3,#T_97846b06_4a66_11ed_844d_d4548bb590b3row4_col4,#T_97846b06_4a66_11ed_844d_d4548bb590b3row4_col5,#T_97846b06_4a66_11ed_844d_d4548bb590b3row6_col3,#T_97846b06_4a66_11ed_844d_d4548bb590b3row6_col4,#T_97846b06_4a66_11ed_844d_d4548bb590b3row6_col5,#T_97846b06_4a66_11ed_844d_d4548bb590b3row8_col3{\n",
       "            background-color:  #92d050;\n",
       "            text-align:  left;\n",
       "        }#T_97846b06_4a66_11ed_844d_d4548bb590b3row8_col4,#T_97846b06_4a66_11ed_844d_d4548bb590b3row8_col5{\n",
       "            background-color:  #ffff00;\n",
       "            text-align:  left;\n",
       "        }</style><table id=\"T_97846b06_4a66_11ed_844d_d4548bb590b3\" ><thead>    <tr>        <th class=\"col_heading level0 col0\" >ID</th>        <th class=\"col_heading level0 col1\" >Actions</th>        <th class=\"col_heading level0 col2\" >Details</th>        <th class=\"col_heading level0 col3\" >Feasibility</th>        <th class=\"col_heading level0 col4\" >Impact</th>        <th class=\"col_heading level0 col5\" >Effectiveness</th>    </tr></thead><tbody>\n",
       "                <tr>\n",
       "                                <td id=\"T_97846b06_4a66_11ed_844d_d4548bb590b3row0_col0\" class=\"data row0 col0\" >1.1</td>\n",
       "                        <td id=\"T_97846b06_4a66_11ed_844d_d4548bb590b3row0_col1\" class=\"data row0 col1\" >Remediate crossings that are acting as barriers</td>\n",
       "                        <td id=\"T_97846b06_4a66_11ed_844d_d4548bb590b3row0_col2\" class=\"data row0 col2\" >This action represents some projects that would be led by the planning team with conservation funds (e.g., orphaned barriers or those owned by individuals), while other remediation projects would be the responsibility of the barrier owner. Industry will have to be engaged to successfully implement this intervention. \r\n",
       "\r\n",
       "PSC Southern Boundary Restoration and Enhancement Fund proposal:\r\n",
       "\r\n",
       "- Complete remediation of one priority barrier, including engineering designs\r\n",
       "\r\n",
       "HCTF proposal:\r\n",
       "\r\n",
       "- Complete remediation of one priority barrier\r\n",
       "\r\n",
       "CNFASAR proposal (2022-26):\r\n",
       "\r\n",
       "- Complete remediation of one priority barrier per year for four years\r\n",
       "\r\n",
       "HRR Can help with finding local people to implement remediation projects.\r\n",
       "</td>\n",
       "                        <td id=\"T_97846b06_4a66_11ed_844d_d4548bb590b3row0_col3\" class=\"data row0 col3\" >High</td>\n",
       "                        <td id=\"T_97846b06_4a66_11ed_844d_d4548bb590b3row0_col4\" class=\"data row0 col4\" >Very high</td>\n",
       "                        <td id=\"T_97846b06_4a66_11ed_844d_d4548bb590b3row0_col5\" class=\"data row0 col5\" >Effective</td>\n",
       "            </tr>\n",
       "            <tr>\n",
       "                                <td id=\"T_97846b06_4a66_11ed_844d_d4548bb590b3row1_col0\" class=\"data row1 col0\" >1.2</td>\n",
       "                        <td id=\"T_97846b06_4a66_11ed_844d_d4548bb590b3row1_col1\" class=\"data row1 col1\" >Lobby that the government enforce their regulations</td>\n",
       "                        <td id=\"T_97846b06_4a66_11ed_844d_d4548bb590b3row1_col2\" class=\"data row1 col2\" >This can apply to both provincial and federal governments. For example, advocating for increased discretionary decisions to remove barriers to fish. One action could be to submit barrier assessment data to show proof that regulations are not being followed.</td>\n",
       "                        <td id=\"T_97846b06_4a66_11ed_844d_d4548bb590b3row1_col3\" class=\"data row1 col3\" >Very high</td>\n",
       "                        <td id=\"T_97846b06_4a66_11ed_844d_d4548bb590b3row1_col4\" class=\"data row1 col4\" >High</td>\n",
       "                        <td id=\"T_97846b06_4a66_11ed_844d_d4548bb590b3row1_col5\" class=\"data row1 col5\" >Effective</td>\n",
       "            </tr>\n",
       "            <tr>\n",
       "                                <td id=\"T_97846b06_4a66_11ed_844d_d4548bb590b3row2_col0\" class=\"data row2 col0\" >1.3</td>\n",
       "                        <td id=\"T_97846b06_4a66_11ed_844d_d4548bb590b3row2_col1\" class=\"data row2 col1\" >Initiate a barrier owner outreach program for locations on the barrier remediation shortlist</td>\n",
       "                        <td id=\"T_97846b06_4a66_11ed_844d_d4548bb590b3row2_col2\" class=\"data row2 col2\" >Work with landowners / users (e.g., ATV groups) to identify and remediate their aquatic barriers. Education component can help prevent barriers in the first place. HRR to reach out to owners of confirmed barriers to discuss remediation options; CWF to reach out to provincial representatives.</td>\n",
       "                        <td id=\"T_97846b06_4a66_11ed_844d_d4548bb590b3row2_col3\" class=\"data row2 col3\" >Very high</td>\n",
       "                        <td id=\"T_97846b06_4a66_11ed_844d_d4548bb590b3row2_col4\" class=\"data row2 col4\" >Very high</td>\n",
       "                        <td id=\"T_97846b06_4a66_11ed_844d_d4548bb590b3row2_col5\" class=\"data row2 col5\" >Very effective</td>\n",
       "            </tr>\n",
       "            <tr>\n",
       "                                <td id=\"T_97846b06_4a66_11ed_844d_d4548bb590b3row3_col0\" class=\"data row3 col0\" >1.4</td>\n",
       "                        <td id=\"T_97846b06_4a66_11ed_844d_d4548bb590b3row3_col1\" class=\"data row3 col1\" >Knowledge Gap: Continue updating the barrier prioritization model</td>\n",
       "                        <td id=\"T_97846b06_4a66_11ed_844d_d4548bb590b3row3_col2\" class=\"data row3 col2\" >The model has been updated to reflect 2021 field assessments and intermediate barrier review.</td>\n",
       "                        <td id=\"T_97846b06_4a66_11ed_844d_d4548bb590b3row3_col3\" class=\"data row3 col3\" >Very high</td>\n",
       "                        <td id=\"T_97846b06_4a66_11ed_844d_d4548bb590b3row3_col4\" class=\"data row3 col4\" >High</td>\n",
       "                        <td id=\"T_97846b06_4a66_11ed_844d_d4548bb590b3row3_col5\" class=\"data row3 col5\" >Effective</td>\n",
       "            </tr>\n",
       "            <tr>\n",
       "                                <td id=\"T_97846b06_4a66_11ed_844d_d4548bb590b3row4_col0\" class=\"data row4 col0\" >1.5</td>\n",
       "                        <td id=\"T_97846b06_4a66_11ed_844d_d4548bb590b3row4_col1\" class=\"data row4 col1\" >Knowledge Gap: conduct field assessments on updated preliminary barrier list using the provincial fish passage framework and update connectivity goal if additional barriers are added to the barrier remediation shortlist</td>\n",
       "                        <td id=\"T_97846b06_4a66_11ed_844d_d4548bb590b3row4_col2\" class=\"data row4 col2\" >Twenty-six field assessments performed in 2021.</td>\n",
       "                        <td id=\"T_97846b06_4a66_11ed_844d_d4548bb590b3row4_col3\" class=\"data row4 col3\" >Very high</td>\n",
       "                        <td id=\"T_97846b06_4a66_11ed_844d_d4548bb590b3row4_col4\" class=\"data row4 col4\" >Very high</td>\n",
       "                        <td id=\"T_97846b06_4a66_11ed_844d_d4548bb590b3row4_col5\" class=\"data row4 col5\" >Very effective</td>\n",
       "            </tr>\n",
       "            <tr>\n",
       "                                <td id=\"T_97846b06_4a66_11ed_844d_d4548bb590b3row5_col0\" class=\"data row5 col0\" >1.6</td>\n",
       "                        <td id=\"T_97846b06_4a66_11ed_844d_d4548bb590b3row5_col1\" class=\"data row5 col1\" >Update longitudinal connectivity goal if additional barriers are added to the barrier remediation shortlist</td>\n",
       "                        <td id=\"T_97846b06_4a66_11ed_844d_d4548bb590b3row5_col2\" class=\"data row5 col2\" ></td>\n",
       "                        <td id=\"T_97846b06_4a66_11ed_844d_d4548bb590b3row5_col3\" class=\"data row5 col3\" ></td>\n",
       "                        <td id=\"T_97846b06_4a66_11ed_844d_d4548bb590b3row5_col4\" class=\"data row5 col4\" ></td>\n",
       "                        <td id=\"T_97846b06_4a66_11ed_844d_d4548bb590b3row5_col5\" class=\"data row5 col5\" ></td>\n",
       "            </tr>\n",
       "            <tr>\n",
       "                                <td id=\"T_97846b06_4a66_11ed_844d_d4548bb590b3row6_col0\" class=\"data row6 col0\" >1.7</td>\n",
       "                        <td id=\"T_97846b06_4a66_11ed_844d_d4548bb590b3row6_col1\" class=\"data row6 col1\" >Knowledge Gap: Identify and map crossing ownership</td>\n",
       "                        <td id=\"T_97846b06_4a66_11ed_844d_d4548bb590b3row6_col2\" class=\"data row6 col2\" >For barriers on the barrier remediation shortlist.</td>\n",
       "                        <td id=\"T_97846b06_4a66_11ed_844d_d4548bb590b3row6_col3\" class=\"data row6 col3\" >Very high</td>\n",
       "                        <td id=\"T_97846b06_4a66_11ed_844d_d4548bb590b3row6_col4\" class=\"data row6 col4\" >Very high</td>\n",
       "                        <td id=\"T_97846b06_4a66_11ed_844d_d4548bb590b3row6_col5\" class=\"data row6 col5\" >Very effective</td>\n",
       "            </tr>\n",
       "            <tr>\n",
       "                                <td id=\"T_97846b06_4a66_11ed_844d_d4548bb590b3row7_col0\" class=\"data row7 col0\" >1.8</td>\n",
       "                        <td id=\"T_97846b06_4a66_11ed_844d_d4548bb590b3row7_col1\" class=\"data row7 col1\" >Knowledge Gap: Compile road maintenance schedules</td>\n",
       "                        <td id=\"T_97846b06_4a66_11ed_844d_d4548bb590b3row7_col2\" class=\"data row7 col2\" >Ground-truthing is important, as the schedules do not always reflect what happens in the field.</td>\n",
       "                        <td id=\"T_97846b06_4a66_11ed_844d_d4548bb590b3row7_col3\" class=\"data row7 col3\" >High</td>\n",
       "                        <td id=\"T_97846b06_4a66_11ed_844d_d4548bb590b3row7_col4\" class=\"data row7 col4\" >High</td>\n",
       "                        <td id=\"T_97846b06_4a66_11ed_844d_d4548bb590b3row7_col5\" class=\"data row7 col5\" >Effective</td>\n",
       "            </tr>\n",
       "            <tr>\n",
       "                                <td id=\"T_97846b06_4a66_11ed_844d_d4548bb590b3row8_col0\" class=\"data row8 col0\" >1.9</td>\n",
       "                        <td id=\"T_97846b06_4a66_11ed_844d_d4548bb590b3row8_col1\" class=\"data row8 col1\" >Knowledge Gap: Survey trail-stream crossings to confirm low pressure rating values</td>\n",
       "                        <td id=\"T_97846b06_4a66_11ed_844d_d4548bb590b3row8_col2\" class=\"data row8 col2\" >Need to access detailed trail maps in the watershed to prioritize our time and resources. This should be accomplished as people are out surveying for other reasons rather than spending time and resources specifically to fill this knowledge gap.\r\n",
       "CNFASAR proposal:\r\n",
       "Collaborate with WLFN to:\r\n",
       "- Develop field assessment protocols for whether ATV trail stream crossings pass fish, and for assessing other effects on fish habitat \r\n",
       "- Map potential trail-stream crossings on salmon habitat that could be assessed \r\n",
       "- Assess 30-50 trail stream crossings, record measurements, and take pictures</td>\n",
       "                        <td id=\"T_97846b06_4a66_11ed_844d_d4548bb590b3row8_col3\" class=\"data row8 col3\" >Very high</td>\n",
       "                        <td id=\"T_97846b06_4a66_11ed_844d_d4548bb590b3row8_col4\" class=\"data row8 col4\" >Medium</td>\n",
       "                        <td id=\"T_97846b06_4a66_11ed_844d_d4548bb590b3row8_col5\" class=\"data row8 col5\" >Need more information</td>\n",
       "            </tr>\n",
       "    </tbody></table>"
      ],
      "text/plain": [
       "<pandas.io.formats.style.Styler at 0x2674e4a9c48>"
      ]
     },
     "execution_count": 8,
     "metadata": {},
     "output_type": "execute_result"
    }
   ],
   "source": [
    "import numpy as np\n",
    "from IPython.display import display\n",
    "import pandas as pd\n",
    "\n",
    "data = pd.read_csv('tables\\Strategy1.csv', index_col=False)\n",
    "\n",
    "def fix_table(val):\n",
    "    return str(val)\n",
    "\n",
    "def highlighttab7(val):\n",
    "    red = '#ff0000;'\n",
    "    yellow = '#ffff00;'\n",
    "    lgreen = '#92d050;'\n",
    "    dgreen = '#03853e;'\n",
    "\n",
    "    if val==\"Medium\" or val==\"Need more information\": color = yellow\n",
    "    elif val==\"Very high\" or val==\"Very effective\" : color = lgreen\n",
    "    elif val ==\"High\" or val==\"Effective\": color = dgreen\n",
    "    else: color = 'white'\n",
    "    return 'background-color: %s' % color\n",
    "\n",
    "data = data.replace(np.nan, '', regex=True)\n",
    "\n",
    "data = data.applymap(fix_table)\n",
    "\n",
    "data.style.applymap(highlighttab7).hide_index().set_properties(**{'text-align': 'left'})\n"
   ]
  },
  {
   "cell_type": "markdown",
   "metadata": {},
   "source": [
    "\n",
    "## Strategy 2: Lateral Barrier Remediation\t\n"
   ]
  },
  {
   "cell_type": "code",
   "execution_count": 9,
   "metadata": {
    "tags": [
     "remove-input"
    ]
   },
   "outputs": [
    {
     "data": {
      "text/html": [
       "<style  type=\"text/css\" >\n",
       "#T_978f195a_4a66_11ed_bb90_d4548bb590b3row0_col0,#T_978f195a_4a66_11ed_bb90_d4548bb590b3row0_col1,#T_978f195a_4a66_11ed_bb90_d4548bb590b3row0_col2,#T_978f195a_4a66_11ed_bb90_d4548bb590b3row1_col0,#T_978f195a_4a66_11ed_bb90_d4548bb590b3row1_col1,#T_978f195a_4a66_11ed_bb90_d4548bb590b3row1_col2,#T_978f195a_4a66_11ed_bb90_d4548bb590b3row2_col0,#T_978f195a_4a66_11ed_bb90_d4548bb590b3row2_col1,#T_978f195a_4a66_11ed_bb90_d4548bb590b3row2_col2,#T_978f195a_4a66_11ed_bb90_d4548bb590b3row3_col0,#T_978f195a_4a66_11ed_bb90_d4548bb590b3row3_col1,#T_978f195a_4a66_11ed_bb90_d4548bb590b3row3_col2,#T_978f195a_4a66_11ed_bb90_d4548bb590b3row4_col0,#T_978f195a_4a66_11ed_bb90_d4548bb590b3row4_col1,#T_978f195a_4a66_11ed_bb90_d4548bb590b3row4_col2{\n",
       "            background-color:  white;\n",
       "            text-align:  left;\n",
       "        }#T_978f195a_4a66_11ed_bb90_d4548bb590b3row0_col3,#T_978f195a_4a66_11ed_bb90_d4548bb590b3row0_col5{\n",
       "            background-color:  #03853e;\n",
       "            text-align:  left;\n",
       "        }#T_978f195a_4a66_11ed_bb90_d4548bb590b3row0_col4,#T_978f195a_4a66_11ed_bb90_d4548bb590b3row1_col3,#T_978f195a_4a66_11ed_bb90_d4548bb590b3row1_col4,#T_978f195a_4a66_11ed_bb90_d4548bb590b3row1_col5,#T_978f195a_4a66_11ed_bb90_d4548bb590b3row2_col3,#T_978f195a_4a66_11ed_bb90_d4548bb590b3row2_col4,#T_978f195a_4a66_11ed_bb90_d4548bb590b3row2_col5,#T_978f195a_4a66_11ed_bb90_d4548bb590b3row3_col3,#T_978f195a_4a66_11ed_bb90_d4548bb590b3row3_col4,#T_978f195a_4a66_11ed_bb90_d4548bb590b3row3_col5,#T_978f195a_4a66_11ed_bb90_d4548bb590b3row4_col3,#T_978f195a_4a66_11ed_bb90_d4548bb590b3row4_col4,#T_978f195a_4a66_11ed_bb90_d4548bb590b3row4_col5{\n",
       "            background-color:  #92d050;\n",
       "            text-align:  left;\n",
       "        }</style><table id=\"T_978f195a_4a66_11ed_bb90_d4548bb590b3\" ><thead>    <tr>        <th class=\"col_heading level0 col0\" >ID</th>        <th class=\"col_heading level0 col1\" >Actions</th>        <th class=\"col_heading level0 col2\" >Details</th>        <th class=\"col_heading level0 col3\" >Feasibility</th>        <th class=\"col_heading level0 col4\" >Impact</th>        <th class=\"col_heading level0 col5\" >Effectiveness</th>    </tr></thead><tbody>\n",
       "                <tr>\n",
       "                                <td id=\"T_978f195a_4a66_11ed_bb90_d4548bb590b3row0_col0\" class=\"data row0 col0\" >2.1</td>\n",
       "                        <td id=\"T_978f195a_4a66_11ed_bb90_d4548bb590b3row0_col1\" class=\"data row0 col1\" >Remediate dikes / berms / other lateral barriers</td>\n",
       "                        <td id=\"T_978f195a_4a66_11ed_bb90_d4548bb590b3row0_col2\" class=\"data row0 col2\" ></td>\n",
       "                        <td id=\"T_978f195a_4a66_11ed_bb90_d4548bb590b3row0_col3\" class=\"data row0 col3\" >High</td>\n",
       "                        <td id=\"T_978f195a_4a66_11ed_bb90_d4548bb590b3row0_col4\" class=\"data row0 col4\" >Very high</td>\n",
       "                        <td id=\"T_978f195a_4a66_11ed_bb90_d4548bb590b3row0_col5\" class=\"data row0 col5\" >Effective</td>\n",
       "            </tr>\n",
       "            <tr>\n",
       "                                <td id=\"T_978f195a_4a66_11ed_bb90_d4548bb590b3row1_col0\" class=\"data row1 col0\" >2.2</td>\n",
       "                        <td id=\"T_978f195a_4a66_11ed_bb90_d4548bb590b3row1_col1\" class=\"data row1 col1\" >Initiate a barrier owner outreach program</td>\n",
       "                        <td id=\"T_978f195a_4a66_11ed_bb90_d4548bb590b3row1_col2\" class=\"data row1 col2\" ></td>\n",
       "                        <td id=\"T_978f195a_4a66_11ed_bb90_d4548bb590b3row1_col3\" class=\"data row1 col3\" >Very high</td>\n",
       "                        <td id=\"T_978f195a_4a66_11ed_bb90_d4548bb590b3row1_col4\" class=\"data row1 col4\" >Very high</td>\n",
       "                        <td id=\"T_978f195a_4a66_11ed_bb90_d4548bb590b3row1_col5\" class=\"data row1 col5\" >Very effective</td>\n",
       "            </tr>\n",
       "            <tr>\n",
       "                                <td id=\"T_978f195a_4a66_11ed_bb90_d4548bb590b3row2_col0\" class=\"data row2 col0\" >2.3</td>\n",
       "                        <td id=\"T_978f195a_4a66_11ed_bb90_d4548bb590b3row2_col1\" class=\"data row2 col1\" >Knowledge Gap: Identify and map year-round lateral habitat, as well as overwintering habitat</td>\n",
       "                        <td id=\"T_978f195a_4a66_11ed_bb90_d4548bb590b3row2_col2\" class=\"data row2 col2\" >Explore the use of a drone to identify lateral habitat.  \r",
       "\r",
       "- Volunteers from the HRR will conduct field habitat assessments following modules in the Pacific Streamkeepers Handbook to assess disconnected lateral and overwintering salmon habitats in the Horsefly watershed \r",
       "\r",
       "CNFASAR proposal:\r",
       "\r",
       "\r",
       " -Funding for equipment in 2022-2023, and for field transportation in 2022-2023, 2023-2024</td>\n",
       "                        <td id=\"T_978f195a_4a66_11ed_bb90_d4548bb590b3row2_col3\" class=\"data row2 col3\" >Very high</td>\n",
       "                        <td id=\"T_978f195a_4a66_11ed_bb90_d4548bb590b3row2_col4\" class=\"data row2 col4\" >Very high</td>\n",
       "                        <td id=\"T_978f195a_4a66_11ed_bb90_d4548bb590b3row2_col5\" class=\"data row2 col5\" >Very effective</td>\n",
       "            </tr>\n",
       "            <tr>\n",
       "                                <td id=\"T_978f195a_4a66_11ed_bb90_d4548bb590b3row3_col0\" class=\"data row3 col0\" >2.4</td>\n",
       "                        <td id=\"T_978f195a_4a66_11ed_bb90_d4548bb590b3row3_col1\" class=\"data row3 col1\" >Knowledge Gap: Map lateral barriers and barrier ownership</td>\n",
       "                        <td id=\"T_978f195a_4a66_11ed_bb90_d4548bb590b3row3_col2\" class=\"data row3 col2\" >Focus on identifying ownership of priority lateral barriers that we want to remediate in the short-term.</td>\n",
       "                        <td id=\"T_978f195a_4a66_11ed_bb90_d4548bb590b3row3_col3\" class=\"data row3 col3\" >Very high</td>\n",
       "                        <td id=\"T_978f195a_4a66_11ed_bb90_d4548bb590b3row3_col4\" class=\"data row3 col4\" >Very high</td>\n",
       "                        <td id=\"T_978f195a_4a66_11ed_bb90_d4548bb590b3row3_col5\" class=\"data row3 col5\" >Very effective</td>\n",
       "            </tr>\n",
       "            <tr>\n",
       "                                <td id=\"T_978f195a_4a66_11ed_bb90_d4548bb590b3row4_col0\" class=\"data row4 col0\" >2.5</td>\n",
       "                        <td id=\"T_978f195a_4a66_11ed_bb90_d4548bb590b3row4_col1\" class=\"data row4 col1\" >Knowledge Gap: Develop a framework to assess and prioritize between different lateral barrier remediation projects</td>\n",
       "                        <td id=\"T_978f195a_4a66_11ed_bb90_d4548bb590b3row4_col2\" class=\"data row4 col2\" >CWF is leading a provincial-scale analysis of the effect of rail lines on connectivity for Anadromous Salmonids, as part of this project lateral habitat and barrier assessments and prioritization methods will be developed.</td>\n",
       "                        <td id=\"T_978f195a_4a66_11ed_bb90_d4548bb590b3row4_col3\" class=\"data row4 col3\" >Very high</td>\n",
       "                        <td id=\"T_978f195a_4a66_11ed_bb90_d4548bb590b3row4_col4\" class=\"data row4 col4\" >Very high</td>\n",
       "                        <td id=\"T_978f195a_4a66_11ed_bb90_d4548bb590b3row4_col5\" class=\"data row4 col5\" >Very effective</td>\n",
       "            </tr>\n",
       "    </tbody></table>"
      ],
      "text/plain": [
       "<pandas.io.formats.style.Styler at 0x2674c905d88>"
      ]
     },
     "metadata": {},
     "output_type": "display_data"
    }
   ],
   "source": [
    "data = pd.read_csv('tables\\Strategy2.csv', escapechar='\\n', index_col=False)\n",
    "\n",
    "data = data.replace(np.nan, '', regex=True)\n",
    "\n",
    "data = data.applymap(fix_table)\n",
    "\n",
    "data = data.style.applymap(highlighttab7).hide_index().set_properties(**{'text-align': 'left'})\n",
    "\n",
    "display(data)\n"
   ]
  },
  {
   "cell_type": "markdown",
   "metadata": {},
   "source": [
    "## Strategy 3: Dam Remediation\n"
   ]
  },
  {
   "cell_type": "code",
   "execution_count": 10,
   "metadata": {
    "tags": [
     "remove-input"
    ]
   },
   "outputs": [
    {
     "data": {
      "text/html": [
       "<style  type=\"text/css\" >\n",
       "#T_9797b498_4a66_11ed_aa0a_d4548bb590b3row0_col0,#T_9797b498_4a66_11ed_aa0a_d4548bb590b3row0_col1,#T_9797b498_4a66_11ed_aa0a_d4548bb590b3row0_col2,#T_9797b498_4a66_11ed_aa0a_d4548bb590b3row1_col0,#T_9797b498_4a66_11ed_aa0a_d4548bb590b3row1_col1,#T_9797b498_4a66_11ed_aa0a_d4548bb590b3row1_col2,#T_9797b498_4a66_11ed_aa0a_d4548bb590b3row2_col0,#T_9797b498_4a66_11ed_aa0a_d4548bb590b3row2_col1,#T_9797b498_4a66_11ed_aa0a_d4548bb590b3row2_col2,#T_9797b498_4a66_11ed_aa0a_d4548bb590b3row3_col0,#T_9797b498_4a66_11ed_aa0a_d4548bb590b3row3_col1,#T_9797b498_4a66_11ed_aa0a_d4548bb590b3row3_col2,#T_9797b498_4a66_11ed_aa0a_d4548bb590b3row4_col0,#T_9797b498_4a66_11ed_aa0a_d4548bb590b3row4_col1,#T_9797b498_4a66_11ed_aa0a_d4548bb590b3row4_col2,#T_9797b498_4a66_11ed_aa0a_d4548bb590b3row5_col0,#T_9797b498_4a66_11ed_aa0a_d4548bb590b3row5_col1,#T_9797b498_4a66_11ed_aa0a_d4548bb590b3row5_col2{\n",
       "            background-color:  white;\n",
       "            text-align:  left;\n",
       "        }#T_9797b498_4a66_11ed_aa0a_d4548bb590b3row0_col3,#T_9797b498_4a66_11ed_aa0a_d4548bb590b3row0_col5,#T_9797b498_4a66_11ed_aa0a_d4548bb590b3row1_col3,#T_9797b498_4a66_11ed_aa0a_d4548bb590b3row1_col5,#T_9797b498_4a66_11ed_aa0a_d4548bb590b3row2_col4,#T_9797b498_4a66_11ed_aa0a_d4548bb590b3row2_col5{\n",
       "            background-color:  #ffff00;\n",
       "            text-align:  left;\n",
       "        }#T_9797b498_4a66_11ed_aa0a_d4548bb590b3row0_col4,#T_9797b498_4a66_11ed_aa0a_d4548bb590b3row3_col3,#T_9797b498_4a66_11ed_aa0a_d4548bb590b3row4_col3,#T_9797b498_4a66_11ed_aa0a_d4548bb590b3row5_col3,#T_9797b498_4a66_11ed_aa0a_d4548bb590b3row5_col4,#T_9797b498_4a66_11ed_aa0a_d4548bb590b3row5_col5{\n",
       "            background-color:  #92d050;\n",
       "            text-align:  left;\n",
       "        }#T_9797b498_4a66_11ed_aa0a_d4548bb590b3row1_col4,#T_9797b498_4a66_11ed_aa0a_d4548bb590b3row2_col3,#T_9797b498_4a66_11ed_aa0a_d4548bb590b3row3_col4,#T_9797b498_4a66_11ed_aa0a_d4548bb590b3row3_col5,#T_9797b498_4a66_11ed_aa0a_d4548bb590b3row4_col4,#T_9797b498_4a66_11ed_aa0a_d4548bb590b3row4_col5{\n",
       "            background-color:  #03853e;\n",
       "            text-align:  left;\n",
       "        }</style><table id=\"T_9797b498_4a66_11ed_aa0a_d4548bb590b3\" ><thead>    <tr>        <th class=\"col_heading level0 col0\" >ID</th>        <th class=\"col_heading level0 col1\" >Actions</th>        <th class=\"col_heading level0 col2\" >Details</th>        <th class=\"col_heading level0 col3\" >Feasibility</th>        <th class=\"col_heading level0 col4\" >Impact</th>        <th class=\"col_heading level0 col5\" >Effectiveness</th>    </tr></thead><tbody>\n",
       "                <tr>\n",
       "                                <td id=\"T_9797b498_4a66_11ed_aa0a_d4548bb590b3row0_col0\" class=\"data row0 col0\" >3.1</td>\n",
       "                        <td id=\"T_9797b498_4a66_11ed_aa0a_d4548bb590b3row0_col1\" class=\"data row0 col1\" >Remediate Dams</td>\n",
       "                        <td id=\"T_9797b498_4a66_11ed_aa0a_d4548bb590b3row0_col2\" class=\"data row0 col2\" ></td>\n",
       "                        <td id=\"T_9797b498_4a66_11ed_aa0a_d4548bb590b3row0_col3\" class=\"data row0 col3\" >Medium</td>\n",
       "                        <td id=\"T_9797b498_4a66_11ed_aa0a_d4548bb590b3row0_col4\" class=\"data row0 col4\" >Very high</td>\n",
       "                        <td id=\"T_9797b498_4a66_11ed_aa0a_d4548bb590b3row0_col5\" class=\"data row0 col5\" >Need more information</td>\n",
       "            </tr>\n",
       "            <tr>\n",
       "                                <td id=\"T_9797b498_4a66_11ed_aa0a_d4548bb590b3row1_col0\" class=\"data row1 col0\" >3.2</td>\n",
       "                        <td id=\"T_9797b498_4a66_11ed_aa0a_d4548bb590b3row1_col1\" class=\"data row1 col1\" >Install Fish Passage</td>\n",
       "                        <td id=\"T_9797b498_4a66_11ed_aa0a_d4548bb590b3row1_col2\" class=\"data row1 col2\" ></td>\n",
       "                        <td id=\"T_9797b498_4a66_11ed_aa0a_d4548bb590b3row1_col3\" class=\"data row1 col3\" >Medium</td>\n",
       "                        <td id=\"T_9797b498_4a66_11ed_aa0a_d4548bb590b3row1_col4\" class=\"data row1 col4\" >High</td>\n",
       "                        <td id=\"T_9797b498_4a66_11ed_aa0a_d4548bb590b3row1_col5\" class=\"data row1 col5\" >Need more information</td>\n",
       "            </tr>\n",
       "            <tr>\n",
       "                                <td id=\"T_9797b498_4a66_11ed_aa0a_d4548bb590b3row2_col0\" class=\"data row2 col0\" >3.3</td>\n",
       "                        <td id=\"T_9797b498_4a66_11ed_aa0a_d4548bb590b3row2_col1\" class=\"data row2 col1\" >Connect with Cattleman's Association to explore a partnership to remediate dams</td>\n",
       "                        <td id=\"T_9797b498_4a66_11ed_aa0a_d4548bb590b3row2_col2\" class=\"data row2 col2\" >This may involve exploring alternative water management actions that would allow for the remediation of irrigation dams.</td>\n",
       "                        <td id=\"T_9797b498_4a66_11ed_aa0a_d4548bb590b3row2_col3\" class=\"data row2 col3\" >High</td>\n",
       "                        <td id=\"T_9797b498_4a66_11ed_aa0a_d4548bb590b3row2_col4\" class=\"data row2 col4\" >Medium</td>\n",
       "                        <td id=\"T_9797b498_4a66_11ed_aa0a_d4548bb590b3row2_col5\" class=\"data row2 col5\" >Need more information</td>\n",
       "            </tr>\n",
       "            <tr>\n",
       "                                <td id=\"T_9797b498_4a66_11ed_aa0a_d4548bb590b3row3_col0\" class=\"data row3 col0\" >3.4</td>\n",
       "                        <td id=\"T_9797b498_4a66_11ed_aa0a_d4548bb590b3row3_col1\" class=\"data row3 col1\" >Knowledge Gap: Continue updating the barrier prioritization model</td>\n",
       "                        <td id=\"T_9797b498_4a66_11ed_aa0a_d4548bb590b3row3_col2\" class=\"data row3 col2\" >The model has been updated to reflect 2021 field assessments and intermediate barrier review.</td>\n",
       "                        <td id=\"T_9797b498_4a66_11ed_aa0a_d4548bb590b3row3_col3\" class=\"data row3 col3\" >Very high</td>\n",
       "                        <td id=\"T_9797b498_4a66_11ed_aa0a_d4548bb590b3row3_col4\" class=\"data row3 col4\" >High</td>\n",
       "                        <td id=\"T_9797b498_4a66_11ed_aa0a_d4548bb590b3row3_col5\" class=\"data row3 col5\" >Effective</td>\n",
       "            </tr>\n",
       "            <tr>\n",
       "                                <td id=\"T_9797b498_4a66_11ed_aa0a_d4548bb590b3row4_col0\" class=\"data row4 col0\" >3.5</td>\n",
       "                        <td id=\"T_9797b498_4a66_11ed_aa0a_d4548bb590b3row4_col1\" class=\"data row4 col1\" >Knowledge Gap: Assess dams to determine whether they exist and are truly blocking fish habitat</td>\n",
       "                        <td id=\"T_9797b498_4a66_11ed_aa0a_d4548bb590b3row4_col2\" class=\"data row4 col2\" >Four dams were assessed during 2021 field season; additional field assessment needed.</td>\n",
       "                        <td id=\"T_9797b498_4a66_11ed_aa0a_d4548bb590b3row4_col3\" class=\"data row4 col3\" >Very high</td>\n",
       "                        <td id=\"T_9797b498_4a66_11ed_aa0a_d4548bb590b3row4_col4\" class=\"data row4 col4\" >High</td>\n",
       "                        <td id=\"T_9797b498_4a66_11ed_aa0a_d4548bb590b3row4_col5\" class=\"data row4 col5\" >Effective</td>\n",
       "            </tr>\n",
       "            <tr>\n",
       "                                <td id=\"T_9797b498_4a66_11ed_aa0a_d4548bb590b3row5_col0\" class=\"data row5 col0\" >3.6</td>\n",
       "                        <td id=\"T_9797b498_4a66_11ed_aa0a_d4548bb590b3row5_col1\" class=\"data row5 col1\" >Knowledge Gap: Identify and map dam ownership</td>\n",
       "                        <td id=\"T_9797b498_4a66_11ed_aa0a_d4548bb590b3row5_col2\" class=\"data row5 col2\" ></td>\n",
       "                        <td id=\"T_9797b498_4a66_11ed_aa0a_d4548bb590b3row5_col3\" class=\"data row5 col3\" >Very high</td>\n",
       "                        <td id=\"T_9797b498_4a66_11ed_aa0a_d4548bb590b3row5_col4\" class=\"data row5 col4\" >Very high</td>\n",
       "                        <td id=\"T_9797b498_4a66_11ed_aa0a_d4548bb590b3row5_col5\" class=\"data row5 col5\" >Very effective</td>\n",
       "            </tr>\n",
       "    </tbody></table>"
      ],
      "text/plain": [
       "<pandas.io.formats.style.Styler at 0x2674f4847c8>"
      ]
     },
     "execution_count": 10,
     "metadata": {},
     "output_type": "execute_result"
    }
   ],
   "source": [
    "data = pd.read_csv('tables\\Strategy3.csv', index_col=False)\n",
    "\n",
    "data = data.replace(np.nan, '', regex=True)\n",
    "\n",
    "data = data.applymap(fix_table)\n",
    "\n",
    "data.style.applymap(highlighttab7).hide_index().set_properties(**{'text-align': 'left'})\n"
   ]
  },
  {
   "cell_type": "markdown",
   "metadata": {},
   "source": [
    "## Strategy 4: Barrier Prevention\n"
   ]
  },
  {
   "cell_type": "code",
   "execution_count": 11,
   "metadata": {
    "tags": [
     "remove-input"
    ]
   },
   "outputs": [
    {
     "data": {
      "text/html": [
       "<style  type=\"text/css\" >\n",
       "#T_97a11076_4a66_11ed_bd7a_d4548bb590b3row0_col0,#T_97a11076_4a66_11ed_bd7a_d4548bb590b3row0_col1,#T_97a11076_4a66_11ed_bd7a_d4548bb590b3row0_col2,#T_97a11076_4a66_11ed_bd7a_d4548bb590b3row1_col0,#T_97a11076_4a66_11ed_bd7a_d4548bb590b3row1_col1,#T_97a11076_4a66_11ed_bd7a_d4548bb590b3row1_col2{\n",
       "            background-color:  white;\n",
       "            text-align:  left;\n",
       "        }#T_97a11076_4a66_11ed_bd7a_d4548bb590b3row0_col3,#T_97a11076_4a66_11ed_bd7a_d4548bb590b3row1_col3{\n",
       "            background-color:  #92d050;\n",
       "            text-align:  left;\n",
       "        }#T_97a11076_4a66_11ed_bd7a_d4548bb590b3row0_col4,#T_97a11076_4a66_11ed_bd7a_d4548bb590b3row0_col5{\n",
       "            background-color:  #03853e;\n",
       "            text-align:  left;\n",
       "        }#T_97a11076_4a66_11ed_bd7a_d4548bb590b3row1_col4,#T_97a11076_4a66_11ed_bd7a_d4548bb590b3row1_col5{\n",
       "            background-color:  #ffff00;\n",
       "            text-align:  left;\n",
       "        }</style><table id=\"T_97a11076_4a66_11ed_bd7a_d4548bb590b3\" ><thead>    <tr>        <th class=\"col_heading level0 col0\" >ID</th>        <th class=\"col_heading level0 col1\" >Actions</th>        <th class=\"col_heading level0 col2\" >Details</th>        <th class=\"col_heading level0 col3\" >Feasibility</th>        <th class=\"col_heading level0 col4\" >Impact</th>        <th class=\"col_heading level0 col5\" >Effectiveness</th>    </tr></thead><tbody>\n",
       "                <tr>\n",
       "                                <td id=\"T_97a11076_4a66_11ed_bd7a_d4548bb590b3row0_col0\" class=\"data row0 col0\" >4.1</td>\n",
       "                        <td id=\"T_97a11076_4a66_11ed_bd7a_d4548bb590b3row0_col1\" class=\"data row0 col1\" >Explore potential partnerships with industrial companies</td>\n",
       "                        <td id=\"T_97a11076_4a66_11ed_bd7a_d4548bb590b3row0_col2\" class=\"data row0 col2\" >Invite industrial players to a workshop on how to apply crossing / lateral barrier BMPs. BMPs could include those that minimize the need for road-stream crossings.</td>\n",
       "                        <td id=\"T_97a11076_4a66_11ed_bd7a_d4548bb590b3row0_col3\" class=\"data row0 col3\" >Very high</td>\n",
       "                        <td id=\"T_97a11076_4a66_11ed_bd7a_d4548bb590b3row0_col4\" class=\"data row0 col4\" >High</td>\n",
       "                        <td id=\"T_97a11076_4a66_11ed_bd7a_d4548bb590b3row0_col5\" class=\"data row0 col5\" >Effective</td>\n",
       "            </tr>\n",
       "            <tr>\n",
       "                                <td id=\"T_97a11076_4a66_11ed_bd7a_d4548bb590b3row1_col0\" class=\"data row1 col0\" >4.2</td>\n",
       "                        <td id=\"T_97a11076_4a66_11ed_bd7a_d4548bb590b3row1_col1\" class=\"data row1 col1\" >Stabilize sediment sources that are explicitly linked to sediment wedges or erosion that are acting as barriers</td>\n",
       "                        <td id=\"T_97a11076_4a66_11ed_bd7a_d4548bb590b3row1_col2\" class=\"data row1 col2\" >This could include numerous bank stabilization techniques, including restoring riparian vegetation. This applies to some tributaries that have altered confluence areas - the link needs to be made between confluence alterations and timing of movement for juvenile fish. Local ranchers and Cattleman's association could be engaged, as well as forestry licensees.</td>\n",
       "                        <td id=\"T_97a11076_4a66_11ed_bd7a_d4548bb590b3row1_col3\" class=\"data row1 col3\" >Very high</td>\n",
       "                        <td id=\"T_97a11076_4a66_11ed_bd7a_d4548bb590b3row1_col4\" class=\"data row1 col4\" >Medium</td>\n",
       "                        <td id=\"T_97a11076_4a66_11ed_bd7a_d4548bb590b3row1_col5\" class=\"data row1 col5\" >Need more information</td>\n",
       "            </tr>\n",
       "    </tbody></table>"
      ],
      "text/plain": [
       "<pandas.io.formats.style.Styler at 0x2674f475208>"
      ]
     },
     "execution_count": 11,
     "metadata": {},
     "output_type": "execute_result"
    }
   ],
   "source": [
    "import pandas as pd\n",
    "\n",
    "data = pd.read_csv('tables\\Strategy4.csv', index_col=False)\n",
    "\n",
    "\n",
    "\n",
    "\n",
    "data = data.applymap(fix_table)\n",
    "\n",
    "data.style.applymap(highlighttab7).hide_index().set_properties(**{'text-align': 'left'})\n",
    "\n",
    "#display(data)\n"
   ]
  },
  {
   "cell_type": "markdown",
   "metadata": {},
   "source": [
    "## Strategy 5: Communication and Education\n"
   ]
  },
  {
   "cell_type": "code",
   "execution_count": 12,
   "metadata": {
    "tags": [
     "remove-input"
    ]
   },
   "outputs": [
    {
     "data": {
      "text/html": [
       "<style  type=\"text/css\" >\n",
       "#T_97a93e70_4a66_11ed_a8f0_d4548bb590b3row0_col0,#T_97a93e70_4a66_11ed_a8f0_d4548bb590b3row0_col1,#T_97a93e70_4a66_11ed_a8f0_d4548bb590b3row0_col2,#T_97a93e70_4a66_11ed_a8f0_d4548bb590b3row1_col0,#T_97a93e70_4a66_11ed_a8f0_d4548bb590b3row1_col1,#T_97a93e70_4a66_11ed_a8f0_d4548bb590b3row1_col2{\n",
       "            background-color:  white;\n",
       "            text-align:  left;\n",
       "        }</style><table id=\"T_97a93e70_4a66_11ed_a8f0_d4548bb590b3\" ><thead>    <tr>        <th class=\"col_heading level0 col0\" >ID</th>        <th class=\"col_heading level0 col1\" >Actions</th>        <th class=\"col_heading level0 col2\" >Details</th>    </tr></thead><tbody>\n",
       "                <tr>\n",
       "                                <td id=\"T_97a93e70_4a66_11ed_a8f0_d4548bb590b3row0_col0\" class=\"data row0 col0\" >5.1</td>\n",
       "                        <td id=\"T_97a93e70_4a66_11ed_a8f0_d4548bb590b3row0_col1\" class=\"data row0 col1\" >Implement the WCRP Progress Tracking Plan</td>\n",
       "                        <td id=\"T_97a93e70_4a66_11ed_a8f0_d4548bb590b3row0_col2\" class=\"data row0 col2\" >The WCRP Progress Tracking Plan will help the team determine if we are achieving our goals and objectives.</td>\n",
       "            </tr>\n",
       "            <tr>\n",
       "                                <td id=\"T_97a93e70_4a66_11ed_a8f0_d4548bb590b3row1_col0\" class=\"data row1 col0\" >5.2</td>\n",
       "                        <td id=\"T_97a93e70_4a66_11ed_a8f0_d4548bb590b3row1_col1\" class=\"data row1 col1\" >Develop a communication strategy to raise awareness and support for this WCRP</td>\n",
       "                        <td id=\"T_97a93e70_4a66_11ed_a8f0_d4548bb590b3row1_col2\" class=\"data row1 col2\" >This intervention includes communicating both the WCRP and the collaborative process in developing it, as well as communicating outcomes (e.g., barrier remediations). CNFASAR proposal:\r\n",
       "- HRR will work with CWF to develop outreach and communications materials, including press releases, social media content, a video, and content for their website\r\n",
       "- With HRR, CWF will present on fish passage issues and solutions at the annual Horsefly River Salmon Festival</td>\n",
       "            </tr>\n",
       "    </tbody></table>"
      ],
      "text/plain": [
       "<pandas.io.formats.style.Styler at 0x2674b995188>"
      ]
     },
     "execution_count": 12,
     "metadata": {},
     "output_type": "execute_result"
    }
   ],
   "source": [
    "data = pd.read_csv('tables\\Strategy5.csv', index_col=False)\n",
    "\n",
    "data = data.replace(np.nan, '', regex=True)\n",
    "\n",
    "data = data.applymap(fix_table)\n",
    "\n",
    "data.style.applymap(highlighttab7).hide_index().set_properties(**{'text-align': 'left'})"
   ]
  },
  {
   "cell_type": "markdown",
   "metadata": {},
   "source": [
    "# Theories of Change & Objectives\n",
    "\n",
    "Theories of Change are explicit assumptions around how the identified actions will achieve gains in connectivity and contribute towards reaching the goals of the plan. To develop Theories of Change, the planning team developed explicit assumptions for each strategy which helped to clarify the rationale used for undertaking actions and provided an opportunity for feedback on invalid assumptions or missing opportunities. The Theories of Change are results oriented and clearly define the expected outcome. The following theory of change models were developed by the WCRP planning team to “map” the causal (“if-then”) progression of assumptions of how the actions within a strategy work together to achieve project goals. \n",
    "```{figure} figure4.png\n",
    "---\n",
    "height: 400px\n",
    "width: 1000px\n",
    "name: fig4\n",
    "---\n",
    "Theory of change developed by the planning team for the actions identified under Strategy 1: Crossing Remediation in the Horsefly River watershed.\n",
    "```\n",
    "```{figure} figure5.png\n",
    "---\n",
    "height: 400px\n",
    "width: 1000px\n",
    "name: fig5\n",
    "---\n",
    "Theory of change developed by the planning team for the actions identified under Strategy 2: Lateral Barrier Remediation in the Horsefly River watershed.\n",
    "```\n",
    "```{figure} figure6.png\n",
    "---\n",
    "height: 400px\n",
    "width: 1000px\n",
    "name: fig6\n",
    "---\n",
    "Theory of change developed by the planning team for the actions identified under Strategy 3: Dam Remediation in the Horsefly River watershed.\n",
    "```\n",
    "```{figure} figure7.png\n",
    "---\n",
    "height: 400px\n",
    "width: 1000px\n",
    "name: fig7\n",
    "---\n",
    "Theory of change developed by the planning team for the actions identified under Strategy 4: Barrier Prevention in the Horsefly River watershed.\n",
    "```\n"
   ]
  },
  {
   "cell_type": "code",
   "execution_count": 13,
   "metadata": {
    "tags": [
     "remove-input"
    ]
   },
   "outputs": [
    {
     "data": {
      "text/html": [
       "<style  type=\"text/css\" >\n",
       "#T_97ae9840_4a66_11ed_b1dc_d4548bb590b3row0_col0,#T_97ae9840_4a66_11ed_b1dc_d4548bb590b3row0_col1,#T_97ae9840_4a66_11ed_b1dc_d4548bb590b3row1_col0,#T_97ae9840_4a66_11ed_b1dc_d4548bb590b3row1_col1,#T_97ae9840_4a66_11ed_b1dc_d4548bb590b3row2_col0,#T_97ae9840_4a66_11ed_b1dc_d4548bb590b3row2_col1{\n",
       "            text-align:  left;\n",
       "        }</style><table id=\"T_97ae9840_4a66_11ed_b1dc_d4548bb590b3\" ><thead>    <tr>        <th class=\"col_heading level0 col0\" >Objective #</th>        <th class=\"col_heading level0 col1\" >Objective</th>    </tr></thead><tbody>\n",
       "                <tr>\n",
       "                                <td id=\"T_97ae9840_4a66_11ed_b1dc_d4548bb590b3row0_col0\" class=\"data row0 col0\" >1</td>\n",
       "                        <td id=\"T_97ae9840_4a66_11ed_b1dc_d4548bb590b3row0_col1\" class=\"data row0 col1\" >By 2040, 16 road-stream crossing barriers will be remediated in the Horsefly River watershed</td>\n",
       "            </tr>\n",
       "            <tr>\n",
       "                                <td id=\"T_97ae9840_4a66_11ed_b1dc_d4548bb590b3row1_col0\" class=\"data row1 col0\" >2</td>\n",
       "                        <td id=\"T_97ae9840_4a66_11ed_b1dc_d4548bb590b3row1_col1\" class=\"data row1 col1\" >By 2023, a minimum of 1 lateral barrier will be remediated in the Horsefly River watershed</td>\n",
       "            </tr>\n",
       "            <tr>\n",
       "                                <td id=\"T_97ae9840_4a66_11ed_b1dc_d4548bb590b3row2_col0\" class=\"data row2 col0\" >3</td>\n",
       "                        <td id=\"T_97ae9840_4a66_11ed_b1dc_d4548bb590b3row2_col1\" class=\"data row2 col1\" >By 2040, 4 dams will be remediated in the Horsefly River watershed</td>\n",
       "            </tr>\n",
       "    </tbody></table>"
      ],
      "text/plain": [
       "<pandas.io.formats.style.Styler at 0x2674f484f48>"
      ]
     },
     "execution_count": 13,
     "metadata": {},
     "output_type": "execute_result"
    }
   ],
   "source": [
    "\n",
    "import pandas as pd\n",
    "\n",
    "data = pd.read_csv('tables\\Table11.csv', index_col=False)\n",
    "\n",
    "data.style.hide_index().set_properties(**{'text-align': 'left'})"
   ]
  },
  {
   "cell_type": "markdown",
   "metadata": {},
   "source": [
    "# Progress Tracking Plan\n"
   ]
  },
  {
   "cell_type": "code",
   "execution_count": 14,
   "metadata": {
    "tags": [
     "remove-input"
    ]
   },
   "outputs": [
    {
     "data": {
      "text/html": [
       "<style  type=\"text/css\" >\n",
       "#T_97b4d534_4a66_11ed_8682_d4548bb590b3row0_col0,#T_97b4d534_4a66_11ed_8682_d4548bb590b3row0_col1,#T_97b4d534_4a66_11ed_8682_d4548bb590b3row0_col2,#T_97b4d534_4a66_11ed_8682_d4548bb590b3row0_col3,#T_97b4d534_4a66_11ed_8682_d4548bb590b3row0_col4,#T_97b4d534_4a66_11ed_8682_d4548bb590b3row0_col5,#T_97b4d534_4a66_11ed_8682_d4548bb590b3row1_col0,#T_97b4d534_4a66_11ed_8682_d4548bb590b3row1_col1,#T_97b4d534_4a66_11ed_8682_d4548bb590b3row1_col2,#T_97b4d534_4a66_11ed_8682_d4548bb590b3row1_col3,#T_97b4d534_4a66_11ed_8682_d4548bb590b3row1_col4,#T_97b4d534_4a66_11ed_8682_d4548bb590b3row1_col5,#T_97b4d534_4a66_11ed_8682_d4548bb590b3row2_col0,#T_97b4d534_4a66_11ed_8682_d4548bb590b3row2_col1,#T_97b4d534_4a66_11ed_8682_d4548bb590b3row2_col2,#T_97b4d534_4a66_11ed_8682_d4548bb590b3row2_col3,#T_97b4d534_4a66_11ed_8682_d4548bb590b3row2_col4,#T_97b4d534_4a66_11ed_8682_d4548bb590b3row2_col5,#T_97b4d534_4a66_11ed_8682_d4548bb590b3row3_col0,#T_97b4d534_4a66_11ed_8682_d4548bb590b3row3_col1,#T_97b4d534_4a66_11ed_8682_d4548bb590b3row3_col2,#T_97b4d534_4a66_11ed_8682_d4548bb590b3row3_col3,#T_97b4d534_4a66_11ed_8682_d4548bb590b3row3_col4,#T_97b4d534_4a66_11ed_8682_d4548bb590b3row3_col5,#T_97b4d534_4a66_11ed_8682_d4548bb590b3row4_col0,#T_97b4d534_4a66_11ed_8682_d4548bb590b3row4_col1,#T_97b4d534_4a66_11ed_8682_d4548bb590b3row4_col2,#T_97b4d534_4a66_11ed_8682_d4548bb590b3row4_col3,#T_97b4d534_4a66_11ed_8682_d4548bb590b3row4_col4,#T_97b4d534_4a66_11ed_8682_d4548bb590b3row4_col5{\n",
       "            text-align:  left;\n",
       "        }</style><table id=\"T_97b4d534_4a66_11ed_8682_d4548bb590b3\" ><thead>    <tr>        <th class=\"col_heading level0 col0\" >Goals / Objectives</th>        <th class=\"col_heading level0 col1\" >Indicator</th>        <th class=\"col_heading level0 col2\" >Methods</th>        <th class=\"col_heading level0 col3\" >Timeframe</th>        <th class=\"col_heading level0 col4\" >Who</th>        <th class=\"col_heading level0 col5\" >Comments</th>    </tr></thead><tbody>\n",
       "                <tr>\n",
       "                                <td id=\"T_97b4d534_4a66_11ed_8682_d4548bb590b3row0_col0\" class=\"data row0 col0\" >Goal 1: By 2040, the percent (%) of total linear habitat accessible to anadromous salmon will increase from 81% to 91% within the Horsefly River watershed.</td>\n",
       "                        <td id=\"T_97b4d534_4a66_11ed_8682_d4548bb590b3row0_col1\" class=\"data row0 col1\" >Percent (%) of total linear habitat accessible </td>\n",
       "                        <td id=\"T_97b4d534_4a66_11ed_8682_d4548bb590b3row0_col2\" class=\"data row0 col2\" >Field reports & as-built drawings informing the CWF Barrier Prioritization Model</td>\n",
       "                        <td id=\"T_97b4d534_4a66_11ed_8682_d4548bb590b3row0_col3\" class=\"data row0 col3\" >Annually</td>\n",
       "                        <td id=\"T_97b4d534_4a66_11ed_8682_d4548bb590b3row0_col4\" class=\"data row0 col4\" >CWF – Nick M.</td>\n",
       "                        <td id=\"T_97b4d534_4a66_11ed_8682_d4548bb590b3row0_col5\" class=\"data row0 col5\" >See CWF companion document for detailed GIS procedures</td>\n",
       "            </tr>\n",
       "            <tr>\n",
       "                                <td id=\"T_97b4d534_4a66_11ed_8682_d4548bb590b3row1_col0\" class=\"data row1 col0\" >Goal 2: By 2023, the total area of overwintering habitat accessible to anadromous salmon will increase by 1,500 m2 within the Horsefly River watershed.</td>\n",
       "                        <td id=\"T_97b4d534_4a66_11ed_8682_d4548bb590b3row1_col1\" class=\"data row1 col1\" >Total area (m2) of overwintering habitat accessible</td>\n",
       "                        <td id=\"T_97b4d534_4a66_11ed_8682_d4548bb590b3row1_col2\" class=\"data row1 col2\" >TBD</td>\n",
       "                        <td id=\"T_97b4d534_4a66_11ed_8682_d4548bb590b3row1_col3\" class=\"data row1 col3\" >TBD</td>\n",
       "                        <td id=\"T_97b4d534_4a66_11ed_8682_d4548bb590b3row1_col4\" class=\"data row1 col4\" >CWF – Nick M.</td>\n",
       "                        <td id=\"T_97b4d534_4a66_11ed_8682_d4548bb590b3row1_col5\" class=\"data row1 col5\" >Identified as a knowledge gap. Specifics are TBD.</td>\n",
       "            </tr>\n",
       "            <tr>\n",
       "                                <td id=\"T_97b4d534_4a66_11ed_8682_d4548bb590b3row2_col0\" class=\"data row2 col0\" >Objective 1: By 2040, 16 road-stream crossing barriers will be remediated in the Horsefly River watershed.</td>\n",
       "                        <td id=\"T_97b4d534_4a66_11ed_8682_d4548bb590b3row2_col1\" class=\"data row2 col1\" >The number (#) of road-stream crossings remediated</td>\n",
       "                        <td id=\"T_97b4d534_4a66_11ed_8682_d4548bb590b3row2_col2\" class=\"data row2 col2\" >CWF tracking within the Barrier Prioritization Model + PSCIS database</td>\n",
       "                        <td id=\"T_97b4d534_4a66_11ed_8682_d4548bb590b3row2_col3\" class=\"data row2 col3\" >Annually</td>\n",
       "                        <td id=\"T_97b4d534_4a66_11ed_8682_d4548bb590b3row2_col4\" class=\"data row2 col4\" >CWF - Nick M. & Betty</td>\n",
       "                        <td id=\"T_97b4d534_4a66_11ed_8682_d4548bb590b3row2_col5\" class=\"data row2 col5\" >See CWF companion document for detailed GIS procedures</td>\n",
       "            </tr>\n",
       "            <tr>\n",
       "                                <td id=\"T_97b4d534_4a66_11ed_8682_d4548bb590b3row3_col0\" class=\"data row3 col0\" >Objective 2: By 2023, a minimum of 1 lateral barrier will be remediated in the Horsefly River watershed.</td>\n",
       "                        <td id=\"T_97b4d534_4a66_11ed_8682_d4548bb590b3row3_col1\" class=\"data row3 col1\" >The number (#) of lateral barriers remediated</td>\n",
       "                        <td id=\"T_97b4d534_4a66_11ed_8682_d4548bb590b3row3_col2\" class=\"data row3 col2\" >TBD</td>\n",
       "                        <td id=\"T_97b4d534_4a66_11ed_8682_d4548bb590b3row3_col3\" class=\"data row3 col3\" >TBD</td>\n",
       "                        <td id=\"T_97b4d534_4a66_11ed_8682_d4548bb590b3row3_col4\" class=\"data row3 col4\" >CWF - Nick M. & Betty</td>\n",
       "                        <td id=\"T_97b4d534_4a66_11ed_8682_d4548bb590b3row3_col5\" class=\"data row3 col5\" >Identified as a knowledge gap. Specifics are TBD.</td>\n",
       "            </tr>\n",
       "            <tr>\n",
       "                                <td id=\"T_97b4d534_4a66_11ed_8682_d4548bb590b3row4_col0\" class=\"data row4 col0\" >Objective 3: By 2040, 4 dams will be remediated in the Horsefly River watershed.</td>\n",
       "                        <td id=\"T_97b4d534_4a66_11ed_8682_d4548bb590b3row4_col1\" class=\"data row4 col1\" >The number (#) of dams remediated</td>\n",
       "                        <td id=\"T_97b4d534_4a66_11ed_8682_d4548bb590b3row4_col2\" class=\"data row4 col2\" >CWF tracking within the Barrier Prioritization Model</td>\n",
       "                        <td id=\"T_97b4d534_4a66_11ed_8682_d4548bb590b3row4_col3\" class=\"data row4 col3\" >Annually</td>\n",
       "                        <td id=\"T_97b4d534_4a66_11ed_8682_d4548bb590b3row4_col4\" class=\"data row4 col4\" >CWF - Nick M. & Betty</td>\n",
       "                        <td id=\"T_97b4d534_4a66_11ed_8682_d4548bb590b3row4_col5\" class=\"data row4 col5\" >See CWF companion document for detailed GIS procedures</td>\n",
       "            </tr>\n",
       "    </tbody></table>"
      ],
      "text/plain": [
       "<pandas.io.formats.style.Styler at 0x2674f484ac8>"
      ]
     },
     "execution_count": 14,
     "metadata": {},
     "output_type": "execute_result"
    }
   ],
   "source": [
    "from IPython.display import display\n",
    "import pandas as pd\n",
    "\n",
    "data = pd.read_csv('tables\\Table12.csv', index_col=False)\n",
    "\n",
    "data.style.hide_index().set_properties(**{'text-align': 'left'})"
   ]
  },
  {
   "cell_type": "markdown",
   "metadata": {},
   "source": [
    "# Operational Plan\n",
    "\n",
    "The operational plan represents a preliminary exercise undertaken by the planning team to identify the potential leads, potential participants, and estimated cost for the implementation of each action in the Horsefly River watershed. The table below summarizes individuals, groups, or organizations that the planning team felt could lead or participate in the implementation of the plan and should be interpreted as the first step in on-going planning and engagement to develop more detailed and sophisticated action plans for each entry in the table. The individuals, groups, and organizations listed under the \"Lead(s)\" or \"Potential Participants\" columns are those that provisionally expressed interest in participating in one of those roles or were suggested by the planning team for further engagement (denoted in bold), for those that are not members of the planning team. The leads, participants, and estimated costs in the operational plan are not binding nor an official commitment of resources, but rather provide a roadmap for future coordination and engagement to work towards implementation of the WCRP. \n",
    "\n",
    "Table 13. Operational plan to support the implementation of strategies and actions to improve connectivity for target species in the Horsefly River watershed.\n"
   ]
  },
  {
   "cell_type": "code",
   "execution_count": 15,
   "metadata": {
    "tags": [
     "remove-input"
    ]
   },
   "outputs": [
    {
     "data": {
      "text/html": [
       "<style  type=\"text/css\" >\n",
       "#T_97bd5c7e_4a66_11ed_a51a_d4548bb590b3row0_col0,#T_97bd5c7e_4a66_11ed_a51a_d4548bb590b3row0_col1,#T_97bd5c7e_4a66_11ed_a51a_d4548bb590b3row0_col2,#T_97bd5c7e_4a66_11ed_a51a_d4548bb590b3row0_col3,#T_97bd5c7e_4a66_11ed_a51a_d4548bb590b3row10_col0,#T_97bd5c7e_4a66_11ed_a51a_d4548bb590b3row10_col1,#T_97bd5c7e_4a66_11ed_a51a_d4548bb590b3row10_col2,#T_97bd5c7e_4a66_11ed_a51a_d4548bb590b3row10_col3,#T_97bd5c7e_4a66_11ed_a51a_d4548bb590b3row16_col0,#T_97bd5c7e_4a66_11ed_a51a_d4548bb590b3row16_col1,#T_97bd5c7e_4a66_11ed_a51a_d4548bb590b3row16_col2,#T_97bd5c7e_4a66_11ed_a51a_d4548bb590b3row16_col3,#T_97bd5c7e_4a66_11ed_a51a_d4548bb590b3row23_col0,#T_97bd5c7e_4a66_11ed_a51a_d4548bb590b3row23_col1,#T_97bd5c7e_4a66_11ed_a51a_d4548bb590b3row23_col2,#T_97bd5c7e_4a66_11ed_a51a_d4548bb590b3row23_col3,#T_97bd5c7e_4a66_11ed_a51a_d4548bb590b3row26_col0,#T_97bd5c7e_4a66_11ed_a51a_d4548bb590b3row26_col1,#T_97bd5c7e_4a66_11ed_a51a_d4548bb590b3row26_col2,#T_97bd5c7e_4a66_11ed_a51a_d4548bb590b3row26_col3,#T_97bd5c7e_4a66_11ed_a51a_d4548bb590b3row29_col0,#T_97bd5c7e_4a66_11ed_a51a_d4548bb590b3row29_col1,#T_97bd5c7e_4a66_11ed_a51a_d4548bb590b3row29_col2,#T_97bd5c7e_4a66_11ed_a51a_d4548bb590b3row29_col3,#T_97bd5c7e_4a66_11ed_a51a_d4548bb590b3row30_col0,#T_97bd5c7e_4a66_11ed_a51a_d4548bb590b3row30_col1,#T_97bd5c7e_4a66_11ed_a51a_d4548bb590b3row30_col2,#T_97bd5c7e_4a66_11ed_a51a_d4548bb590b3row30_col3,#T_97bd5c7e_4a66_11ed_a51a_d4548bb590b3row31_col0,#T_97bd5c7e_4a66_11ed_a51a_d4548bb590b3row31_col1,#T_97bd5c7e_4a66_11ed_a51a_d4548bb590b3row31_col2,#T_97bd5c7e_4a66_11ed_a51a_d4548bb590b3row31_col3{\n",
       "            background-color:  black;\n",
       "             color:  white;\n",
       "            text-align:  left;\n",
       "        }#T_97bd5c7e_4a66_11ed_a51a_d4548bb590b3row1_col0,#T_97bd5c7e_4a66_11ed_a51a_d4548bb590b3row1_col1,#T_97bd5c7e_4a66_11ed_a51a_d4548bb590b3row1_col2,#T_97bd5c7e_4a66_11ed_a51a_d4548bb590b3row1_col3,#T_97bd5c7e_4a66_11ed_a51a_d4548bb590b3row2_col0,#T_97bd5c7e_4a66_11ed_a51a_d4548bb590b3row2_col1,#T_97bd5c7e_4a66_11ed_a51a_d4548bb590b3row2_col2,#T_97bd5c7e_4a66_11ed_a51a_d4548bb590b3row2_col3,#T_97bd5c7e_4a66_11ed_a51a_d4548bb590b3row3_col0,#T_97bd5c7e_4a66_11ed_a51a_d4548bb590b3row3_col1,#T_97bd5c7e_4a66_11ed_a51a_d4548bb590b3row3_col2,#T_97bd5c7e_4a66_11ed_a51a_d4548bb590b3row3_col3,#T_97bd5c7e_4a66_11ed_a51a_d4548bb590b3row4_col0,#T_97bd5c7e_4a66_11ed_a51a_d4548bb590b3row4_col1,#T_97bd5c7e_4a66_11ed_a51a_d4548bb590b3row4_col2,#T_97bd5c7e_4a66_11ed_a51a_d4548bb590b3row4_col3,#T_97bd5c7e_4a66_11ed_a51a_d4548bb590b3row5_col0,#T_97bd5c7e_4a66_11ed_a51a_d4548bb590b3row5_col1,#T_97bd5c7e_4a66_11ed_a51a_d4548bb590b3row5_col2,#T_97bd5c7e_4a66_11ed_a51a_d4548bb590b3row5_col3,#T_97bd5c7e_4a66_11ed_a51a_d4548bb590b3row6_col0,#T_97bd5c7e_4a66_11ed_a51a_d4548bb590b3row6_col1,#T_97bd5c7e_4a66_11ed_a51a_d4548bb590b3row6_col2,#T_97bd5c7e_4a66_11ed_a51a_d4548bb590b3row6_col3,#T_97bd5c7e_4a66_11ed_a51a_d4548bb590b3row7_col0,#T_97bd5c7e_4a66_11ed_a51a_d4548bb590b3row7_col1,#T_97bd5c7e_4a66_11ed_a51a_d4548bb590b3row7_col2,#T_97bd5c7e_4a66_11ed_a51a_d4548bb590b3row7_col3,#T_97bd5c7e_4a66_11ed_a51a_d4548bb590b3row8_col0,#T_97bd5c7e_4a66_11ed_a51a_d4548bb590b3row8_col1,#T_97bd5c7e_4a66_11ed_a51a_d4548bb590b3row8_col2,#T_97bd5c7e_4a66_11ed_a51a_d4548bb590b3row8_col3,#T_97bd5c7e_4a66_11ed_a51a_d4548bb590b3row9_col0,#T_97bd5c7e_4a66_11ed_a51a_d4548bb590b3row9_col1,#T_97bd5c7e_4a66_11ed_a51a_d4548bb590b3row9_col2,#T_97bd5c7e_4a66_11ed_a51a_d4548bb590b3row9_col3,#T_97bd5c7e_4a66_11ed_a51a_d4548bb590b3row11_col0,#T_97bd5c7e_4a66_11ed_a51a_d4548bb590b3row11_col1,#T_97bd5c7e_4a66_11ed_a51a_d4548bb590b3row11_col2,#T_97bd5c7e_4a66_11ed_a51a_d4548bb590b3row11_col3,#T_97bd5c7e_4a66_11ed_a51a_d4548bb590b3row12_col0,#T_97bd5c7e_4a66_11ed_a51a_d4548bb590b3row12_col1,#T_97bd5c7e_4a66_11ed_a51a_d4548bb590b3row12_col2,#T_97bd5c7e_4a66_11ed_a51a_d4548bb590b3row12_col3,#T_97bd5c7e_4a66_11ed_a51a_d4548bb590b3row13_col0,#T_97bd5c7e_4a66_11ed_a51a_d4548bb590b3row13_col1,#T_97bd5c7e_4a66_11ed_a51a_d4548bb590b3row13_col2,#T_97bd5c7e_4a66_11ed_a51a_d4548bb590b3row13_col3,#T_97bd5c7e_4a66_11ed_a51a_d4548bb590b3row14_col0,#T_97bd5c7e_4a66_11ed_a51a_d4548bb590b3row14_col1,#T_97bd5c7e_4a66_11ed_a51a_d4548bb590b3row14_col2,#T_97bd5c7e_4a66_11ed_a51a_d4548bb590b3row14_col3,#T_97bd5c7e_4a66_11ed_a51a_d4548bb590b3row15_col0,#T_97bd5c7e_4a66_11ed_a51a_d4548bb590b3row15_col1,#T_97bd5c7e_4a66_11ed_a51a_d4548bb590b3row15_col2,#T_97bd5c7e_4a66_11ed_a51a_d4548bb590b3row15_col3,#T_97bd5c7e_4a66_11ed_a51a_d4548bb590b3row17_col0,#T_97bd5c7e_4a66_11ed_a51a_d4548bb590b3row17_col1,#T_97bd5c7e_4a66_11ed_a51a_d4548bb590b3row17_col2,#T_97bd5c7e_4a66_11ed_a51a_d4548bb590b3row17_col3,#T_97bd5c7e_4a66_11ed_a51a_d4548bb590b3row18_col0,#T_97bd5c7e_4a66_11ed_a51a_d4548bb590b3row18_col1,#T_97bd5c7e_4a66_11ed_a51a_d4548bb590b3row18_col2,#T_97bd5c7e_4a66_11ed_a51a_d4548bb590b3row18_col3,#T_97bd5c7e_4a66_11ed_a51a_d4548bb590b3row19_col0,#T_97bd5c7e_4a66_11ed_a51a_d4548bb590b3row19_col1,#T_97bd5c7e_4a66_11ed_a51a_d4548bb590b3row19_col2,#T_97bd5c7e_4a66_11ed_a51a_d4548bb590b3row19_col3,#T_97bd5c7e_4a66_11ed_a51a_d4548bb590b3row20_col0,#T_97bd5c7e_4a66_11ed_a51a_d4548bb590b3row20_col1,#T_97bd5c7e_4a66_11ed_a51a_d4548bb590b3row20_col2,#T_97bd5c7e_4a66_11ed_a51a_d4548bb590b3row20_col3,#T_97bd5c7e_4a66_11ed_a51a_d4548bb590b3row21_col0,#T_97bd5c7e_4a66_11ed_a51a_d4548bb590b3row21_col1,#T_97bd5c7e_4a66_11ed_a51a_d4548bb590b3row21_col2,#T_97bd5c7e_4a66_11ed_a51a_d4548bb590b3row21_col3,#T_97bd5c7e_4a66_11ed_a51a_d4548bb590b3row22_col0,#T_97bd5c7e_4a66_11ed_a51a_d4548bb590b3row22_col1,#T_97bd5c7e_4a66_11ed_a51a_d4548bb590b3row22_col2,#T_97bd5c7e_4a66_11ed_a51a_d4548bb590b3row22_col3,#T_97bd5c7e_4a66_11ed_a51a_d4548bb590b3row24_col0,#T_97bd5c7e_4a66_11ed_a51a_d4548bb590b3row24_col1,#T_97bd5c7e_4a66_11ed_a51a_d4548bb590b3row24_col2,#T_97bd5c7e_4a66_11ed_a51a_d4548bb590b3row24_col3,#T_97bd5c7e_4a66_11ed_a51a_d4548bb590b3row25_col0,#T_97bd5c7e_4a66_11ed_a51a_d4548bb590b3row25_col1,#T_97bd5c7e_4a66_11ed_a51a_d4548bb590b3row25_col2,#T_97bd5c7e_4a66_11ed_a51a_d4548bb590b3row25_col3,#T_97bd5c7e_4a66_11ed_a51a_d4548bb590b3row27_col0,#T_97bd5c7e_4a66_11ed_a51a_d4548bb590b3row27_col1,#T_97bd5c7e_4a66_11ed_a51a_d4548bb590b3row27_col2,#T_97bd5c7e_4a66_11ed_a51a_d4548bb590b3row27_col3,#T_97bd5c7e_4a66_11ed_a51a_d4548bb590b3row28_col0,#T_97bd5c7e_4a66_11ed_a51a_d4548bb590b3row28_col1,#T_97bd5c7e_4a66_11ed_a51a_d4548bb590b3row28_col2,#T_97bd5c7e_4a66_11ed_a51a_d4548bb590b3row28_col3,#T_97bd5c7e_4a66_11ed_a51a_d4548bb590b3row32_col0,#T_97bd5c7e_4a66_11ed_a51a_d4548bb590b3row32_col1,#T_97bd5c7e_4a66_11ed_a51a_d4548bb590b3row32_col2,#T_97bd5c7e_4a66_11ed_a51a_d4548bb590b3row32_col3,#T_97bd5c7e_4a66_11ed_a51a_d4548bb590b3row33_col0,#T_97bd5c7e_4a66_11ed_a51a_d4548bb590b3row33_col1,#T_97bd5c7e_4a66_11ed_a51a_d4548bb590b3row33_col2,#T_97bd5c7e_4a66_11ed_a51a_d4548bb590b3row33_col3,#T_97bd5c7e_4a66_11ed_a51a_d4548bb590b3row34_col0,#T_97bd5c7e_4a66_11ed_a51a_d4548bb590b3row34_col1,#T_97bd5c7e_4a66_11ed_a51a_d4548bb590b3row34_col2,#T_97bd5c7e_4a66_11ed_a51a_d4548bb590b3row34_col3{\n",
       "            text-align:  left;\n",
       "        }</style><table id=\"T_97bd5c7e_4a66_11ed_a51a_d4548bb590b3\" ><thead>    <tr>        <th class=\"col_heading level0 col0\" >Strategy / Actions</th>        <th class=\"col_heading level0 col1\" >Lead(s) [1]</th>        <th class=\"col_heading level0 col2\" >Participants3</th>        <th class=\"col_heading level0 col3\" >Total Budget</th>    </tr></thead><tbody>\n",
       "                <tr>\n",
       "                                <td id=\"T_97bd5c7e_4a66_11ed_a51a_d4548bb590b3row0_col0\" class=\"data row0 col0\" >Strategy 1: Crossing Remediation</td>\n",
       "                        <td id=\"T_97bd5c7e_4a66_11ed_a51a_d4548bb590b3row0_col1\" class=\"data row0 col1\" ></td>\n",
       "                        <td id=\"T_97bd5c7e_4a66_11ed_a51a_d4548bb590b3row0_col2\" class=\"data row0 col2\" ></td>\n",
       "                        <td id=\"T_97bd5c7e_4a66_11ed_a51a_d4548bb590b3row0_col3\" class=\"data row0 col3\" >$3,666,300.00 </td>\n",
       "            </tr>\n",
       "            <tr>\n",
       "                                <td id=\"T_97bd5c7e_4a66_11ed_a51a_d4548bb590b3row1_col0\" class=\"data row1 col0\" >1.1 – Remediate crossings that are acting as barriers </td>\n",
       "                        <td id=\"T_97bd5c7e_4a66_11ed_a51a_d4548bb590b3row1_col1\" class=\"data row1 col1\" >CWF</td>\n",
       "                        <td id=\"T_97bd5c7e_4a66_11ed_a51a_d4548bb590b3row1_col2\" class=\"data row1 col2\" >Horsefly River Roundtable, Fisheries and Oceans Canada (DFO)</td>\n",
       "                        <td id=\"T_97bd5c7e_4a66_11ed_a51a_d4548bb590b3row1_col3\" class=\"data row1 col3\" >$3,500,000.00 </td>\n",
       "            </tr>\n",
       "            <tr>\n",
       "                                <td id=\"T_97bd5c7e_4a66_11ed_a51a_d4548bb590b3row2_col0\" class=\"data row2 col0\" >1.2 – Lobby that the government enforce their regulations</td>\n",
       "                        <td id=\"T_97bd5c7e_4a66_11ed_a51a_d4548bb590b3row2_col1\" class=\"data row2 col1\" >TBD</td>\n",
       "                        <td id=\"T_97bd5c7e_4a66_11ed_a51a_d4548bb590b3row2_col2\" class=\"data row2 col2\" >CWF, Horsefly River Roundtable, Williams Lake First Nation (WLFN)</td>\n",
       "                        <td id=\"T_97bd5c7e_4a66_11ed_a51a_d4548bb590b3row2_col3\" class=\"data row2 col3\" >$10,000.00 </td>\n",
       "            </tr>\n",
       "            <tr>\n",
       "                                <td id=\"T_97bd5c7e_4a66_11ed_a51a_d4548bb590b3row3_col0\" class=\"data row3 col0\" >1.3 – Initiate a barrier owner outreach program for locations on the barrier remediation shortlist</td>\n",
       "                        <td id=\"T_97bd5c7e_4a66_11ed_a51a_d4548bb590b3row3_col1\" class=\"data row3 col1\" >HRR, CWF, DFO</td>\n",
       "                        <td id=\"T_97bd5c7e_4a66_11ed_a51a_d4548bb590b3row3_col2\" class=\"data row3 col2\" ></td>\n",
       "                        <td id=\"T_97bd5c7e_4a66_11ed_a51a_d4548bb590b3row3_col3\" class=\"data row3 col3\" >TBD</td>\n",
       "            </tr>\n",
       "            <tr>\n",
       "                                <td id=\"T_97bd5c7e_4a66_11ed_a51a_d4548bb590b3row4_col0\" class=\"data row4 col0\" >1.4 – Knowledge Gap: Continue updating the barrier prioritization model</td>\n",
       "                        <td id=\"T_97bd5c7e_4a66_11ed_a51a_d4548bb590b3row4_col1\" class=\"data row4 col1\" >CWF</td>\n",
       "                        <td id=\"T_97bd5c7e_4a66_11ed_a51a_d4548bb590b3row4_col2\" class=\"data row4 col2\" >TBD</td>\n",
       "                        <td id=\"T_97bd5c7e_4a66_11ed_a51a_d4548bb590b3row4_col3\" class=\"data row4 col3\" >$100,000.00 </td>\n",
       "            </tr>\n",
       "            <tr>\n",
       "                                <td id=\"T_97bd5c7e_4a66_11ed_a51a_d4548bb590b3row5_col0\" class=\"data row5 col0\" >1.5 – Knowledge Gap: conduct field assessments on updated preliminary barrier list using the provincial fish passage framework and update connectivity goal if additional barriers are added to the barrier remediation shortlist</td>\n",
       "                        <td id=\"T_97bd5c7e_4a66_11ed_a51a_d4548bb590b3row5_col1\" class=\"data row5 col1\" >CWF</td>\n",
       "                        <td id=\"T_97bd5c7e_4a66_11ed_a51a_d4548bb590b3row5_col2\" class=\"data row5 col2\" >Horsefly River Roundtable, DFO</td>\n",
       "                        <td id=\"T_97bd5c7e_4a66_11ed_a51a_d4548bb590b3row5_col3\" class=\"data row5 col3\" >$50,300.00 </td>\n",
       "            </tr>\n",
       "            <tr>\n",
       "                                <td id=\"T_97bd5c7e_4a66_11ed_a51a_d4548bb590b3row6_col0\" class=\"data row6 col0\" >1.6 - Update longitudinal connectivity goal if additional barriers are added to the barrier remediation shortlist</td>\n",
       "                        <td id=\"T_97bd5c7e_4a66_11ed_a51a_d4548bb590b3row6_col1\" class=\"data row6 col1\" ></td>\n",
       "                        <td id=\"T_97bd5c7e_4a66_11ed_a51a_d4548bb590b3row6_col2\" class=\"data row6 col2\" ></td>\n",
       "                        <td id=\"T_97bd5c7e_4a66_11ed_a51a_d4548bb590b3row6_col3\" class=\"data row6 col3\" ></td>\n",
       "            </tr>\n",
       "            <tr>\n",
       "                                <td id=\"T_97bd5c7e_4a66_11ed_a51a_d4548bb590b3row7_col0\" class=\"data row7 col0\" >1.7 – Knowledge Gap: Identify and map crossing ownership for barriers on the barrier remediation shortlist</td>\n",
       "                        <td id=\"T_97bd5c7e_4a66_11ed_a51a_d4548bb590b3row7_col1\" class=\"data row7 col1\" >TBD</td>\n",
       "                        <td id=\"T_97bd5c7e_4a66_11ed_a51a_d4548bb590b3row7_col2\" class=\"data row7 col2\" >CWF, DFO (Anthonie)</td>\n",
       "                        <td id=\"T_97bd5c7e_4a66_11ed_a51a_d4548bb590b3row7_col3\" class=\"data row7 col3\" >$1,500.00 </td>\n",
       "            </tr>\n",
       "            <tr>\n",
       "                                <td id=\"T_97bd5c7e_4a66_11ed_a51a_d4548bb590b3row8_col0\" class=\"data row8 col0\" >1.8 – Knowledge Gap: Compile road maintenance schedules</td>\n",
       "                        <td id=\"T_97bd5c7e_4a66_11ed_a51a_d4548bb590b3row8_col1\" class=\"data row8 col1\" >DFO</td>\n",
       "                        <td id=\"T_97bd5c7e_4a66_11ed_a51a_d4548bb590b3row8_col2\" class=\"data row8 col2\" >CWF, WLFN, DFO, FLNRORD</td>\n",
       "                        <td id=\"T_97bd5c7e_4a66_11ed_a51a_d4548bb590b3row8_col3\" class=\"data row8 col3\" >$2,000.00 </td>\n",
       "            </tr>\n",
       "            <tr>\n",
       "                                <td id=\"T_97bd5c7e_4a66_11ed_a51a_d4548bb590b3row9_col0\" class=\"data row9 col0\" >1.9 – Knowledge Gap: Survey trail-stream crossings to confirm low pressure rating values</td>\n",
       "                        <td id=\"T_97bd5c7e_4a66_11ed_a51a_d4548bb590b3row9_col1\" class=\"data row9 col1\" >WLFN</td>\n",
       "                        <td id=\"T_97bd5c7e_4a66_11ed_a51a_d4548bb590b3row9_col2\" class=\"data row9 col2\" >CWF, DFO</td>\n",
       "                        <td id=\"T_97bd5c7e_4a66_11ed_a51a_d4548bb590b3row9_col3\" class=\"data row9 col3\" >$2,500.00 </td>\n",
       "            </tr>\n",
       "            <tr>\n",
       "                                <td id=\"T_97bd5c7e_4a66_11ed_a51a_d4548bb590b3row10_col0\" class=\"data row10 col0\" >Strategy 2: Lateral Barrier Remediation</td>\n",
       "                        <td id=\"T_97bd5c7e_4a66_11ed_a51a_d4548bb590b3row10_col1\" class=\"data row10 col1\" ></td>\n",
       "                        <td id=\"T_97bd5c7e_4a66_11ed_a51a_d4548bb590b3row10_col2\" class=\"data row10 col2\" ></td>\n",
       "                        <td id=\"T_97bd5c7e_4a66_11ed_a51a_d4548bb590b3row10_col3\" class=\"data row10 col3\" >$80,000.00 </td>\n",
       "            </tr>\n",
       "            <tr>\n",
       "                                <td id=\"T_97bd5c7e_4a66_11ed_a51a_d4548bb590b3row11_col0\" class=\"data row11 col0\" >2.1 – Remediate dikes / berms / other structures that are acting as barriers</td>\n",
       "                        <td id=\"T_97bd5c7e_4a66_11ed_a51a_d4548bb590b3row11_col1\" class=\"data row11 col1\" >CWF</td>\n",
       "                        <td id=\"T_97bd5c7e_4a66_11ed_a51a_d4548bb590b3row11_col2\" class=\"data row11 col2\" >DFO, Horsefly River Roundtable</td>\n",
       "                        <td id=\"T_97bd5c7e_4a66_11ed_a51a_d4548bb590b3row11_col3\" class=\"data row11 col3\" >TBD</td>\n",
       "            </tr>\n",
       "            <tr>\n",
       "                                <td id=\"T_97bd5c7e_4a66_11ed_a51a_d4548bb590b3row12_col0\" class=\"data row12 col0\" >2.2 – Initiate a barrier owner outreach program </td>\n",
       "                        <td id=\"T_97bd5c7e_4a66_11ed_a51a_d4548bb590b3row12_col1\" class=\"data row12 col1\" >TBD</td>\n",
       "                        <td id=\"T_97bd5c7e_4a66_11ed_a51a_d4548bb590b3row12_col2\" class=\"data row12 col2\" >CWF, DFO</td>\n",
       "                        <td id=\"T_97bd5c7e_4a66_11ed_a51a_d4548bb590b3row12_col3\" class=\"data row12 col3\" >TBD</td>\n",
       "            </tr>\n",
       "            <tr>\n",
       "                                <td id=\"T_97bd5c7e_4a66_11ed_a51a_d4548bb590b3row13_col0\" class=\"data row13 col0\" >2.3 – Knowledge Gap: Identify and map year-round lateral habitat, as well as overwintering habitat</td>\n",
       "                        <td id=\"T_97bd5c7e_4a66_11ed_a51a_d4548bb590b3row13_col1\" class=\"data row13 col1\" >Horsefly River Roundtable, DFO</td>\n",
       "                        <td id=\"T_97bd5c7e_4a66_11ed_a51a_d4548bb590b3row13_col2\" class=\"data row13 col2\" >CWF, Northern Shuswap Tribal Council (NSTC), WLFN</td>\n",
       "                        <td id=\"T_97bd5c7e_4a66_11ed_a51a_d4548bb590b3row13_col3\" class=\"data row13 col3\" >$65,000.00 </td>\n",
       "            </tr>\n",
       "            <tr>\n",
       "                                <td id=\"T_97bd5c7e_4a66_11ed_a51a_d4548bb590b3row14_col0\" class=\"data row14 col0\" >2.4 – Knowledge Gap: Map lateral barriers and barrier ownership</td>\n",
       "                        <td id=\"T_97bd5c7e_4a66_11ed_a51a_d4548bb590b3row14_col1\" class=\"data row14 col1\" >CWF</td>\n",
       "                        <td id=\"T_97bd5c7e_4a66_11ed_a51a_d4548bb590b3row14_col2\" class=\"data row14 col2\" >DFO, Horsefly River Roundtable</td>\n",
       "                        <td id=\"T_97bd5c7e_4a66_11ed_a51a_d4548bb590b3row14_col3\" class=\"data row14 col3\" >$5,000.00 </td>\n",
       "            </tr>\n",
       "            <tr>\n",
       "                                <td id=\"T_97bd5c7e_4a66_11ed_a51a_d4548bb590b3row15_col0\" class=\"data row15 col0\" >2.5 – Knowledge Gap: Develop a framework to assess and prioritize between different lateral barrier remediation projects</td>\n",
       "                        <td id=\"T_97bd5c7e_4a66_11ed_a51a_d4548bb590b3row15_col1\" class=\"data row15 col1\" >CWF</td>\n",
       "                        <td id=\"T_97bd5c7e_4a66_11ed_a51a_d4548bb590b3row15_col2\" class=\"data row15 col2\" >DFO</td>\n",
       "                        <td id=\"T_97bd5c7e_4a66_11ed_a51a_d4548bb590b3row15_col3\" class=\"data row15 col3\" >$10,000.00 </td>\n",
       "            </tr>\n",
       "            <tr>\n",
       "                                <td id=\"T_97bd5c7e_4a66_11ed_a51a_d4548bb590b3row16_col0\" class=\"data row16 col0\" >Strategy 3: Dam Remediation</td>\n",
       "                        <td id=\"T_97bd5c7e_4a66_11ed_a51a_d4548bb590b3row16_col1\" class=\"data row16 col1\" ></td>\n",
       "                        <td id=\"T_97bd5c7e_4a66_11ed_a51a_d4548bb590b3row16_col2\" class=\"data row16 col2\" ></td>\n",
       "                        <td id=\"T_97bd5c7e_4a66_11ed_a51a_d4548bb590b3row16_col3\" class=\"data row16 col3\" >$1,305,000.00 </td>\n",
       "            </tr>\n",
       "            <tr>\n",
       "                                <td id=\"T_97bd5c7e_4a66_11ed_a51a_d4548bb590b3row17_col0\" class=\"data row17 col0\" >3.1 - Remediate Dams</td>\n",
       "                        <td id=\"T_97bd5c7e_4a66_11ed_a51a_d4548bb590b3row17_col1\" class=\"data row17 col1\" >TBD</td>\n",
       "                        <td id=\"T_97bd5c7e_4a66_11ed_a51a_d4548bb590b3row17_col2\" class=\"data row17 col2\" >TBD</td>\n",
       "                        <td id=\"T_97bd5c7e_4a66_11ed_a51a_d4548bb590b3row17_col3\" class=\"data row17 col3\" >$1,305,000.00 </td>\n",
       "            </tr>\n",
       "            <tr>\n",
       "                                <td id=\"T_97bd5c7e_4a66_11ed_a51a_d4548bb590b3row18_col0\" class=\"data row18 col0\" >3.2 - Install Fish Passage</td>\n",
       "                        <td id=\"T_97bd5c7e_4a66_11ed_a51a_d4548bb590b3row18_col1\" class=\"data row18 col1\" >TBD</td>\n",
       "                        <td id=\"T_97bd5c7e_4a66_11ed_a51a_d4548bb590b3row18_col2\" class=\"data row18 col2\" >TBD</td>\n",
       "                        <td id=\"T_97bd5c7e_4a66_11ed_a51a_d4548bb590b3row18_col3\" class=\"data row18 col3\" >TBD</td>\n",
       "            </tr>\n",
       "            <tr>\n",
       "                                <td id=\"T_97bd5c7e_4a66_11ed_a51a_d4548bb590b3row19_col0\" class=\"data row19 col0\" >3.3 - Connect with Cattleman's Association to explore a partnership to remediate dams</td>\n",
       "                        <td id=\"T_97bd5c7e_4a66_11ed_a51a_d4548bb590b3row19_col1\" class=\"data row19 col1\" >TBD</td>\n",
       "                        <td id=\"T_97bd5c7e_4a66_11ed_a51a_d4548bb590b3row19_col2\" class=\"data row19 col2\" >TBD</td>\n",
       "                        <td id=\"T_97bd5c7e_4a66_11ed_a51a_d4548bb590b3row19_col3\" class=\"data row19 col3\" >TBD</td>\n",
       "            </tr>\n",
       "            <tr>\n",
       "                                <td id=\"T_97bd5c7e_4a66_11ed_a51a_d4548bb590b3row20_col0\" class=\"data row20 col0\" >3.4 - Knowledge Gap: Continue updating the barrier prioritization model</td>\n",
       "                        <td id=\"T_97bd5c7e_4a66_11ed_a51a_d4548bb590b3row20_col1\" class=\"data row20 col1\" >CWF</td>\n",
       "                        <td id=\"T_97bd5c7e_4a66_11ed_a51a_d4548bb590b3row20_col2\" class=\"data row20 col2\" >TBD</td>\n",
       "                        <td id=\"T_97bd5c7e_4a66_11ed_a51a_d4548bb590b3row20_col3\" class=\"data row20 col3\" >$0.00 </td>\n",
       "            </tr>\n",
       "            <tr>\n",
       "                                <td id=\"T_97bd5c7e_4a66_11ed_a51a_d4548bb590b3row21_col0\" class=\"data row21 col0\" >3.5 - Knowledge Gap: Assess dams to determine whether they exist and are truly blocking salmon habitat</td>\n",
       "                        <td id=\"T_97bd5c7e_4a66_11ed_a51a_d4548bb590b3row21_col1\" class=\"data row21 col1\" >HRR(?) DFO(?) CWF(?)</td>\n",
       "                        <td id=\"T_97bd5c7e_4a66_11ed_a51a_d4548bb590b3row21_col2\" class=\"data row21 col2\" >TBD</td>\n",
       "                        <td id=\"T_97bd5c7e_4a66_11ed_a51a_d4548bb590b3row21_col3\" class=\"data row21 col3\" >TBD</td>\n",
       "            </tr>\n",
       "            <tr>\n",
       "                                <td id=\"T_97bd5c7e_4a66_11ed_a51a_d4548bb590b3row22_col0\" class=\"data row22 col0\" >3.6 - Knowledge Gap: Identify and map dam ownership</td>\n",
       "                        <td id=\"T_97bd5c7e_4a66_11ed_a51a_d4548bb590b3row22_col1\" class=\"data row22 col1\" >TBD</td>\n",
       "                        <td id=\"T_97bd5c7e_4a66_11ed_a51a_d4548bb590b3row22_col2\" class=\"data row22 col2\" >TBD</td>\n",
       "                        <td id=\"T_97bd5c7e_4a66_11ed_a51a_d4548bb590b3row22_col3\" class=\"data row22 col3\" >TBD</td>\n",
       "            </tr>\n",
       "            <tr>\n",
       "                                <td id=\"T_97bd5c7e_4a66_11ed_a51a_d4548bb590b3row23_col0\" class=\"data row23 col0\" >Strategy 4: Barrier Prevention</td>\n",
       "                        <td id=\"T_97bd5c7e_4a66_11ed_a51a_d4548bb590b3row23_col1\" class=\"data row23 col1\" ></td>\n",
       "                        <td id=\"T_97bd5c7e_4a66_11ed_a51a_d4548bb590b3row23_col2\" class=\"data row23 col2\" ></td>\n",
       "                        <td id=\"T_97bd5c7e_4a66_11ed_a51a_d4548bb590b3row23_col3\" class=\"data row23 col3\" >$110,000.00 </td>\n",
       "            </tr>\n",
       "            <tr>\n",
       "                                <td id=\"T_97bd5c7e_4a66_11ed_a51a_d4548bb590b3row24_col0\" class=\"data row24 col0\" >4.1 – Explore potential partnerships with industrial companies</td>\n",
       "                        <td id=\"T_97bd5c7e_4a66_11ed_a51a_d4548bb590b3row24_col1\" class=\"data row24 col1\" >TBD</td>\n",
       "                        <td id=\"T_97bd5c7e_4a66_11ed_a51a_d4548bb590b3row24_col2\" class=\"data row24 col2\" >CWF, DFO, Horsefly River Roundtable, WLFN</td>\n",
       "                        <td id=\"T_97bd5c7e_4a66_11ed_a51a_d4548bb590b3row24_col3\" class=\"data row24 col3\" >$10,000.00 </td>\n",
       "            </tr>\n",
       "            <tr>\n",
       "                                <td id=\"T_97bd5c7e_4a66_11ed_a51a_d4548bb590b3row25_col0\" class=\"data row25 col0\" >4.2 – Stabilize sediment sources that are explicitly linked to sediment wedges or erosion that are acting as barriers </td>\n",
       "                        <td id=\"T_97bd5c7e_4a66_11ed_a51a_d4548bb590b3row25_col1\" class=\"data row25 col1\" >TBD</td>\n",
       "                        <td id=\"T_97bd5c7e_4a66_11ed_a51a_d4548bb590b3row25_col2\" class=\"data row25 col2\" >DFO</td>\n",
       "                        <td id=\"T_97bd5c7e_4a66_11ed_a51a_d4548bb590b3row25_col3\" class=\"data row25 col3\" >$100,000.00 </td>\n",
       "            </tr>\n",
       "            <tr>\n",
       "                                <td id=\"T_97bd5c7e_4a66_11ed_a51a_d4548bb590b3row26_col0\" class=\"data row26 col0\" >Strategy 5: Progress Tracking Plan</td>\n",
       "                        <td id=\"T_97bd5c7e_4a66_11ed_a51a_d4548bb590b3row26_col1\" class=\"data row26 col1\" ></td>\n",
       "                        <td id=\"T_97bd5c7e_4a66_11ed_a51a_d4548bb590b3row26_col2\" class=\"data row26 col2\" ></td>\n",
       "                        <td id=\"T_97bd5c7e_4a66_11ed_a51a_d4548bb590b3row26_col3\" class=\"data row26 col3\" >TBD</td>\n",
       "            </tr>\n",
       "            <tr>\n",
       "                                <td id=\"T_97bd5c7e_4a66_11ed_a51a_d4548bb590b3row27_col0\" class=\"data row27 col0\" >5.1 - Implement the WCRP Progress Tracking Plan</td>\n",
       "                        <td id=\"T_97bd5c7e_4a66_11ed_a51a_d4548bb590b3row27_col1\" class=\"data row27 col1\" >CWF</td>\n",
       "                        <td id=\"T_97bd5c7e_4a66_11ed_a51a_d4548bb590b3row27_col2\" class=\"data row27 col2\" ></td>\n",
       "                        <td id=\"T_97bd5c7e_4a66_11ed_a51a_d4548bb590b3row27_col3\" class=\"data row27 col3\" >TBD</td>\n",
       "            </tr>\n",
       "            <tr>\n",
       "                                <td id=\"T_97bd5c7e_4a66_11ed_a51a_d4548bb590b3row28_col0\" class=\"data row28 col0\" >5.2 - Develop a communication action to raise awareness and support for this WCRP</td>\n",
       "                        <td id=\"T_97bd5c7e_4a66_11ed_a51a_d4548bb590b3row28_col1\" class=\"data row28 col1\" >CWF, HRR</td>\n",
       "                        <td id=\"T_97bd5c7e_4a66_11ed_a51a_d4548bb590b3row28_col2\" class=\"data row28 col2\" >TBD</td>\n",
       "                        <td id=\"T_97bd5c7e_4a66_11ed_a51a_d4548bb590b3row28_col3\" class=\"data row28 col3\" >TBD</td>\n",
       "            </tr>\n",
       "            <tr>\n",
       "                                <td id=\"T_97bd5c7e_4a66_11ed_a51a_d4548bb590b3row29_col0\" class=\"data row29 col0\" >Total:</td>\n",
       "                        <td id=\"T_97bd5c7e_4a66_11ed_a51a_d4548bb590b3row29_col1\" class=\"data row29 col1\" ></td>\n",
       "                        <td id=\"T_97bd5c7e_4a66_11ed_a51a_d4548bb590b3row29_col2\" class=\"data row29 col2\" ></td>\n",
       "                        <td id=\"T_97bd5c7e_4a66_11ed_a51a_d4548bb590b3row29_col3\" class=\"data row29 col3\" >$5,161,300.00 </td>\n",
       "            </tr>\n",
       "            <tr>\n",
       "                                <td id=\"T_97bd5c7e_4a66_11ed_a51a_d4548bb590b3row30_col0\" class=\"data row30 col0\" >Fundraising total:</td>\n",
       "                        <td id=\"T_97bd5c7e_4a66_11ed_a51a_d4548bb590b3row30_col1\" class=\"data row30 col1\" ></td>\n",
       "                        <td id=\"T_97bd5c7e_4a66_11ed_a51a_d4548bb590b3row30_col2\" class=\"data row30 col2\" ></td>\n",
       "                        <td id=\"T_97bd5c7e_4a66_11ed_a51a_d4548bb590b3row30_col3\" class=\"data row30 col3\" >$2,508,800 </td>\n",
       "            </tr>\n",
       "            <tr>\n",
       "                                <td id=\"T_97bd5c7e_4a66_11ed_a51a_d4548bb590b3row31_col0\" class=\"data row31 col0\" >Proponent/government contribution total:</td>\n",
       "                        <td id=\"T_97bd5c7e_4a66_11ed_a51a_d4548bb590b3row31_col1\" class=\"data row31 col1\" ></td>\n",
       "                        <td id=\"T_97bd5c7e_4a66_11ed_a51a_d4548bb590b3row31_col2\" class=\"data row31 col2\" ></td>\n",
       "                        <td id=\"T_97bd5c7e_4a66_11ed_a51a_d4548bb590b3row31_col3\" class=\"data row31 col3\" >$2,652,500 </td>\n",
       "            </tr>\n",
       "            <tr>\n",
       "                                <td id=\"T_97bd5c7e_4a66_11ed_a51a_d4548bb590b3row32_col0\" class=\"data row32 col0\" ></td>\n",
       "                        <td id=\"T_97bd5c7e_4a66_11ed_a51a_d4548bb590b3row32_col1\" class=\"data row32 col1\" ></td>\n",
       "                        <td id=\"T_97bd5c7e_4a66_11ed_a51a_d4548bb590b3row32_col2\" class=\"data row32 col2\" ></td>\n",
       "                        <td id=\"T_97bd5c7e_4a66_11ed_a51a_d4548bb590b3row32_col3\" class=\"data row32 col3\" ></td>\n",
       "            </tr>\n",
       "            <tr>\n",
       "                                <td id=\"T_97bd5c7e_4a66_11ed_a51a_d4548bb590b3row33_col0\" class=\"data row33 col0\" ></td>\n",
       "                        <td id=\"T_97bd5c7e_4a66_11ed_a51a_d4548bb590b3row33_col1\" class=\"data row33 col1\" ></td>\n",
       "                        <td id=\"T_97bd5c7e_4a66_11ed_a51a_d4548bb590b3row33_col2\" class=\"data row33 col2\" ></td>\n",
       "                        <td id=\"T_97bd5c7e_4a66_11ed_a51a_d4548bb590b3row33_col3\" class=\"data row33 col3\" ></td>\n",
       "            </tr>\n",
       "            <tr>\n",
       "                                <td id=\"T_97bd5c7e_4a66_11ed_a51a_d4548bb590b3row34_col0\" class=\"data row34 col0\" ></td>\n",
       "                        <td id=\"T_97bd5c7e_4a66_11ed_a51a_d4548bb590b3row34_col1\" class=\"data row34 col1\" ></td>\n",
       "                        <td id=\"T_97bd5c7e_4a66_11ed_a51a_d4548bb590b3row34_col2\" class=\"data row34 col2\" ></td>\n",
       "                        <td id=\"T_97bd5c7e_4a66_11ed_a51a_d4548bb590b3row34_col3\" class=\"data row34 col3\" ></td>\n",
       "            </tr>\n",
       "    </tbody></table>"
      ],
      "text/plain": [
       "<pandas.io.formats.style.Styler at 0x2674f499448>"
      ]
     },
     "execution_count": 15,
     "metadata": {},
     "output_type": "execute_result"
    }
   ],
   "source": [
    "from IPython.display import display\n",
    "import pandas as pd\n",
    "import numpy as np\n",
    "\n",
    "def df_operation(val):\n",
    "    return \"background-color: black; color: white\"\n",
    "\n",
    "\n",
    "data = pd.read_csv('tables\\Table13.csv', index_col=False)\n",
    "\n",
    "data = data.replace(np.nan, '', regex=True)\n",
    "\n",
    "rows = pd.IndexSlice[[0,10,16,23,26,29,30,31], :]\n",
    "\n",
    "data.style.applymap(df_operation, subset=rows).hide_index().set_properties(**{'text-align': 'left'})"
   ]
  },
  {
   "cell_type": "markdown",
   "metadata": {},
   "source": [
    "# Funding Sources\n",
    "\n",
    "Table 14. Potential funding sources for plan implementation in the Horsefly River watershed. The Canadian Wildlife Federation and the planning team can coordinate proposal submission through these sources. \n"
   ]
  },
  {
   "cell_type": "code",
   "execution_count": 16,
   "metadata": {
    "tags": [
     "remove-input"
    ]
   },
   "outputs": [
    {
     "data": {
      "text/html": [
       "<style  type=\"text/css\" >\n",
       "#T_97c69268_4a66_11ed_8cce_d4548bb590b3row0_col0,#T_97c69268_4a66_11ed_8cce_d4548bb590b3row0_col1,#T_97c69268_4a66_11ed_8cce_d4548bb590b3row1_col0,#T_97c69268_4a66_11ed_8cce_d4548bb590b3row1_col1,#T_97c69268_4a66_11ed_8cce_d4548bb590b3row2_col0,#T_97c69268_4a66_11ed_8cce_d4548bb590b3row2_col1,#T_97c69268_4a66_11ed_8cce_d4548bb590b3row3_col0,#T_97c69268_4a66_11ed_8cce_d4548bb590b3row3_col1,#T_97c69268_4a66_11ed_8cce_d4548bb590b3row4_col0,#T_97c69268_4a66_11ed_8cce_d4548bb590b3row4_col1,#T_97c69268_4a66_11ed_8cce_d4548bb590b3row5_col0,#T_97c69268_4a66_11ed_8cce_d4548bb590b3row5_col1,#T_97c69268_4a66_11ed_8cce_d4548bb590b3row6_col0,#T_97c69268_4a66_11ed_8cce_d4548bb590b3row6_col1,#T_97c69268_4a66_11ed_8cce_d4548bb590b3row7_col0,#T_97c69268_4a66_11ed_8cce_d4548bb590b3row7_col1,#T_97c69268_4a66_11ed_8cce_d4548bb590b3row8_col0,#T_97c69268_4a66_11ed_8cce_d4548bb590b3row8_col1,#T_97c69268_4a66_11ed_8cce_d4548bb590b3row9_col0,#T_97c69268_4a66_11ed_8cce_d4548bb590b3row9_col1,#T_97c69268_4a66_11ed_8cce_d4548bb590b3row10_col0,#T_97c69268_4a66_11ed_8cce_d4548bb590b3row10_col1,#T_97c69268_4a66_11ed_8cce_d4548bb590b3row11_col0,#T_97c69268_4a66_11ed_8cce_d4548bb590b3row11_col1,#T_97c69268_4a66_11ed_8cce_d4548bb590b3row12_col0,#T_97c69268_4a66_11ed_8cce_d4548bb590b3row12_col1,#T_97c69268_4a66_11ed_8cce_d4548bb590b3row13_col0,#T_97c69268_4a66_11ed_8cce_d4548bb590b3row13_col1,#T_97c69268_4a66_11ed_8cce_d4548bb590b3row14_col0,#T_97c69268_4a66_11ed_8cce_d4548bb590b3row14_col1,#T_97c69268_4a66_11ed_8cce_d4548bb590b3row15_col0,#T_97c69268_4a66_11ed_8cce_d4548bb590b3row15_col1,#T_97c69268_4a66_11ed_8cce_d4548bb590b3row16_col0,#T_97c69268_4a66_11ed_8cce_d4548bb590b3row16_col1,#T_97c69268_4a66_11ed_8cce_d4548bb590b3row17_col0,#T_97c69268_4a66_11ed_8cce_d4548bb590b3row17_col1{\n",
       "            text-align:  left;\n",
       "        }</style><table id=\"T_97c69268_4a66_11ed_8cce_d4548bb590b3\" ><thead>    <tr>        <th class=\"col_heading level0 col0\" >Funding Source</th>        <th class=\"col_heading level0 col1\" >Spending Restrictions and Other Consideration</th>    </tr></thead><tbody>\n",
       "                <tr>\n",
       "                                <td id=\"T_97c69268_4a66_11ed_8cce_d4548bb590b3row0_col0\" class=\"data row0 col0\" >Land Based Investment Strategy</td>\n",
       "                        <td id=\"T_97c69268_4a66_11ed_8cce_d4548bb590b3row0_col1\" class=\"data row0 col1\" >Assessment and remediation of fish passage using provincial strategic approach. Primarily for remediation of Ministry-owned/orphaned barriers on forest service roads.</td>\n",
       "            </tr>\n",
       "            <tr>\n",
       "                                <td id=\"T_97c69268_4a66_11ed_8cce_d4548bb590b3row1_col0\" class=\"data row1 col0\" >Environmental Enhancement Fund</td>\n",
       "                        <td id=\"T_97c69268_4a66_11ed_8cce_d4548bb590b3row1_col1\" class=\"data row1 col1\" >Fish and wildlife passage improvements and restoration at stream and animal crossings at MOTI roads including culvert retrofits and replacement to restore Pacific salmon and trout access, and wildlife tunnels. Primarily for crossings linked to highway infrastructure.</td>\n",
       "            </tr>\n",
       "            <tr>\n",
       "                                <td id=\"T_97c69268_4a66_11ed_8cce_d4548bb590b3row2_col0\" class=\"data row2 col0\" >Community Salmon Program</td>\n",
       "                        <td id=\"T_97c69268_4a66_11ed_8cce_d4548bb590b3row2_col1\" class=\"data row2 col1\" >For projects supporting the protection, conservation and enhancement or rehabilitation of Pacific salmonids and their habitat. Funding for volunteer and not-for-profit community-based groups. Applicant must have a significant volunteer component to their group and to the project. Requires 50% match for funding (volunteer, in-kind, donation or other grants). </td>\n",
       "            </tr>\n",
       "            <tr>\n",
       "                                <td id=\"T_97c69268_4a66_11ed_8cce_d4548bb590b3row3_col0\" class=\"data row3 col0\" >Southern Boundary Restoration and Enhancement Fund</td>\n",
       "                        <td id=\"T_97c69268_4a66_11ed_8cce_d4548bb590b3row3_col1\" class=\"data row3 col1\" >Supports 3 activities: (1) develop improved information for resource management; (2) Rehabilitate and restore marine and freshwater habitat; and (3) enhance wild stock production through low technology techniques. Emphasis for funding is on stocks of conservation concern, particularly those contributing to a fishery and stocks of bilateral fishery relevance.</td>\n",
       "            </tr>\n",
       "            <tr>\n",
       "                                <td id=\"T_97c69268_4a66_11ed_8cce_d4548bb590b3row4_col0\" class=\"data row4 col0\" >Habitat Conservation Trust Foundation Enhancement and Restoration Grants</td>\n",
       "                        <td id=\"T_97c69268_4a66_11ed_8cce_d4548bb590b3row4_col1\" class=\"data row4 col1\" >Projects that focus on freshwater wild fish, native wildlife species and their habitats, have the potential to achieve a significant conservation outcome, while maintaining or enhancing opportunities for fishing, hunting, trapping, wildlife viewing and associated outdoor recreational activities. Primary focus is on provincially managed fisheries such as Steelhead and Westslope Cutthroat Trout. Requires 50% funding match.</td>\n",
       "            </tr>\n",
       "            <tr>\n",
       "                                <td id=\"T_97c69268_4a66_11ed_8cce_d4548bb590b3row5_col0\" class=\"data row5 col0\" >Environmental Damages Fund</td>\n",
       "                        <td id=\"T_97c69268_4a66_11ed_8cce_d4548bb590b3row5_col1\" class=\"data row5 col1\" >Direct funds received from fines, court orders and voluntary payments to priority projects that will benefit Canada’s natural environment, under 4 categories of improvement (in order of preference): (1) restoration, (2) environmental quality improvement, (3) research and development, and (4) education and awareness.</td>\n",
       "            </tr>\n",
       "            <tr>\n",
       "                                <td id=\"T_97c69268_4a66_11ed_8cce_d4548bb590b3row6_col0\" class=\"data row6 col0\" >Habitat Stewardship Program for Aquatic Species at Risk</td>\n",
       "                        <td id=\"T_97c69268_4a66_11ed_8cce_d4548bb590b3row6_col1\" class=\"data row6 col1\" >Program for non-profits, Indigenous governments, academic institutions for activities that align with recovery actions identified in SARA recovery documents and/or COSEWIC assessment documents. Project must address one or more of 3 broad categories: (1) Important habitat for aquatic species at risk is improved and/or managed to meet their recovery needs; (2) Threats to aquatic species at risk and/or their habitat are stopped, removed, and/or mitigated; (3) Collaboration and partnerships support the conservation and recovery of aquatic species at risk. Limited to at-risk species listed under COSEWIC and/or SARA as threatened, endangered or special concern. </td>\n",
       "            </tr>\n",
       "            <tr>\n",
       "                                <td id=\"T_97c69268_4a66_11ed_8cce_d4548bb590b3row7_col0\" class=\"data row7 col0\" >Canada Nature Fund for Aquatic Species at Risk</td>\n",
       "                        <td id=\"T_97c69268_4a66_11ed_8cce_d4548bb590b3row7_col1\" class=\"data row7 col1\" >Funding program aimed at addressing priority threats for aquatic species at risk listed as endangered, threatened or Special Concern by COSEWIC, as they align with existing federal, provincial or other local recovery plans. Limited to species in the Columbia and Fraser basins in BC, among other priority areas across Canada. Focus on multi-year, multi-partner initiatives that apply an ecosystem or multi-species approach and create a legacy by enabling recovery actions that carry beyond the life of the funding program. Amounts from $100K-$1M available per year.</td>\n",
       "            </tr>\n",
       "            <tr>\n",
       "                                <td id=\"T_97c69268_4a66_11ed_8cce_d4548bb590b3row8_col0\" class=\"data row8 col0\" >BC Salmon Restoration and Innovation Fund</td>\n",
       "                        <td id=\"T_97c69268_4a66_11ed_8cce_d4548bb590b3row8_col1\" class=\"data row8 col1\" >Funding for Indigenous enterprises, academia, industry associations, stewardship groups and commercial groups to support initiatives that support the protection and restoration of wild Pacific salmon and other BC fish stocks or ensure fish and seafood sector in BC is environmentally and economically sustainable. Five main priorities including species of concern rebuilding through habitat restoration with priority for projects that are part of a watershed-scale restoration plan/prioritization effort; build on successful previous restoration efforts; focus on critical habitat and/or the rehabilitation of natural ecosystem processes.</td>\n",
       "            </tr>\n",
       "            <tr>\n",
       "                                <td id=\"T_97c69268_4a66_11ed_8cce_d4548bb590b3row9_col0\" class=\"data row9 col0\" >Aboriginal Fund for Species at Risk</td>\n",
       "                        <td id=\"T_97c69268_4a66_11ed_8cce_d4548bb590b3row9_col1\" class=\"data row9 col1\" >Program for Indigenous groups for activities that align with recovery actions identified in SARA recovery documents and/or COSEWIC assessment documents for species listed as Endangered, Threatened, or Special Concern by SARA or COSEWIC. Project must address one or more of 4 broad categories: (1) Habitat for species at risk is improved and/or managed to meet their recovery needs; (2) Threats to species at risk and/or their habitat are stopped, removed and/or mitigated; (3) Collaboration, information sharing and partnership between Indigenous communities, governments and organizations and other interested parties (e.g. federal/provincial/territorial governments, academia, industry, private sector) is enhanced; and (4) Capacity within Indigenous communities, to lead in the stewardship of species at risk and contribute to broader SARA implementation, is strengthened. </td>\n",
       "            </tr>\n",
       "            <tr>\n",
       "                                <td id=\"T_97c69268_4a66_11ed_8cce_d4548bb590b3row10_col0\" class=\"data row10 col0\" >Federal Gas Tax Fund - Community Works Fund</td>\n",
       "                        <td id=\"T_97c69268_4a66_11ed_8cce_d4548bb590b3row10_col1\" class=\"data row10 col1\" >Funding available to local governments from federal gas tax, with funds to be allocated for a variety of municipal projects/initiatives, including local roads/bridges and disaster mitigation.</td>\n",
       "            </tr>\n",
       "            <tr>\n",
       "                                <td id=\"T_97c69268_4a66_11ed_8cce_d4548bb590b3row11_col0\" class=\"data row11 col0\" >Disaster Mitigation and Adaptation Fund</td>\n",
       "                        <td id=\"T_97c69268_4a66_11ed_8cce_d4548bb590b3row11_col1\" class=\"data row11 col1\" >For those projects where flood risk is high: Funding available to local, regional and provincial governments, private sector, non-profit organizations, and Indigenous groups for projects aimed at reducing the socio-economic, environmental and cultural impacts triggered by natural hazards and extreme weather events and taking into consideration current and future impacts of climate change in communities and infrastructure at high risk. Includes both new construction of public infrastructure and modification/reinforcement of existing infrastructure. Projects must have a minimum of $20 M in eligible expenditures and can be bundled together.</td>\n",
       "            </tr>\n",
       "            <tr>\n",
       "                                <td id=\"T_97c69268_4a66_11ed_8cce_d4548bb590b3row12_col0\" class=\"data row12 col0\" >Community Gaming Grants</td>\n",
       "                        <td id=\"T_97c69268_4a66_11ed_8cce_d4548bb590b3row12_col1\" class=\"data row12 col1\" >Funding for non-profit organizations (check funding program guidelines for specific eligibility requirements) for programs that help to protect and improve the environment by: (1) Conserving or revitalizing local ecosystems, (2) Reducing greenhouse gas emissions, (3) Providing community education or engagement opportunities related to the environment and agriculture or (4) Supporting the welfare of domestic animals and/or wildlife. Grants range from $100K-250K per year.</td>\n",
       "            </tr>\n",
       "            <tr>\n",
       "                                <td id=\"T_97c69268_4a66_11ed_8cce_d4548bb590b3row13_col0\" class=\"data row13 col0\" >Sitka Foundation</td>\n",
       "                        <td id=\"T_97c69268_4a66_11ed_8cce_d4548bb590b3row13_col1\" class=\"data row13 col1\" >Funding for registered charities, universities, and government agencies (qualified Canadian organizations) for projects related to coastline and watershed conservation and climate change in 4 key areas: (1) land, water, and ocean conservation, (2) scientific research for nature and the environment, (3)  public engagement around the importance of a healthy environment, (4) innovative conservation efforts in Canadian communities, at the local, provincial, and federal levels</td>\n",
       "            </tr>\n",
       "            <tr>\n",
       "                                <td id=\"T_97c69268_4a66_11ed_8cce_d4548bb590b3row14_col0\" class=\"data row14 col0\" >TULA Foundation</td>\n",
       "                        <td id=\"T_97c69268_4a66_11ed_8cce_d4548bb590b3row14_col1\" class=\"data row14 col1\" >Supports various environmental programs of interest to the Foundation on a case-by-case basis.</td>\n",
       "            </tr>\n",
       "            <tr>\n",
       "                                <td id=\"T_97c69268_4a66_11ed_8cce_d4548bb590b3row15_col0\" class=\"data row15 col0\" >Vancouver Foundation</td>\n",
       "                        <td id=\"T_97c69268_4a66_11ed_8cce_d4548bb590b3row15_col1\" class=\"data row15 col1\" >Granting agency for community, social and environmental initiatives for qualified Canadian organizations (charitable organizations, universities, government agencies). Granting programs change on an annual basis.</td>\n",
       "            </tr>\n",
       "            <tr>\n",
       "                                <td id=\"T_97c69268_4a66_11ed_8cce_d4548bb590b3row16_col0\" class=\"data row16 col0\" >BC Conservation Foundation Small Project Fund</td>\n",
       "                        <td id=\"T_97c69268_4a66_11ed_8cce_d4548bb590b3row16_col1\" class=\"data row16 col1\" >Funding available to Non-profits, fish and wildlife clubs (sportsmen’s associations), businesses, local/regional governments, public organizations and First Nations for projects with demonstrated positive impact for fish, wildlife and habitat, including outreach programs. Preference given to projects where BCCF is not the sole funder.</td>\n",
       "            </tr>\n",
       "            <tr>\n",
       "                                <td id=\"T_97c69268_4a66_11ed_8cce_d4548bb590b3row17_col0\" class=\"data row17 col0\" >Real Estate Foundation of BC General Grants</td>\n",
       "                        <td id=\"T_97c69268_4a66_11ed_8cce_d4548bb590b3row17_col1\" class=\"data row17 col1\" >Funding for First Nations, charities and societies, non-governmental organizations, universities and colleges, trade associations, local and regional governments, and social enterprises registered as C3s for sustainable land use and real estate practices in BC. Funds up to 50% of cash portion of a project.</td>\n",
       "            </tr>\n",
       "    </tbody></table>"
      ],
      "text/plain": [
       "<pandas.io.formats.style.Styler at 0x2674f4a6708>"
      ]
     },
     "execution_count": 16,
     "metadata": {},
     "output_type": "execute_result"
    }
   ],
   "source": [
    "from IPython.display import display\n",
    "import pandas as pd\n",
    "\n",
    "data = pd.read_csv('tables\\Table14.csv', index_col=False)\n",
    "\n",
    "data.style.hide_index().set_properties(**{'text-align': 'left'})"
   ]
  }
 ],
 "metadata": {
  "kernelspec": {
   "display_name": "Python 3.7.12 ('test')",
   "language": "python",
   "name": "python3"
  },
  "language_info": {
   "codemirror_mode": {
    "name": "ipython",
    "version": 3
   },
   "file_extension": ".py",
   "mimetype": "text/x-python",
   "name": "python",
   "nbconvert_exporter": "python",
   "pygments_lexer": "ipython3",
   "version": "3.7.12"
  },
  "vscode": {
   "interpreter": {
    "hash": "4d32f471e4c787df35246a436d6b5da50fcc80632abe0dd119be69a8b3537624"
   }
  }
 },
 "nbformat": 4,
 "nbformat_minor": 2
}