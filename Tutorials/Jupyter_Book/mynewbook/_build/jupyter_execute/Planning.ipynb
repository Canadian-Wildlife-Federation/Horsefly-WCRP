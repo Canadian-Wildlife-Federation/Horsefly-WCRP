{
 "cells": [
  {
   "cell_type": "markdown",
   "metadata": {},
   "source": [
    "# Connectivity Plan Purpose and Apporach\n",
    "\n",
    "The following Watershed Connectivity Remediation Plan (WCRP) represents the culmination of a one-year collaborative planning effort, including field assessments, the overall aim of which is to build collaborative partnerships within the Horsefly River watershed to improve connectivity for anadromous salmon and the livelihoods that they support, including the continued sustenance, cultural, and ceremonial needs of the Northern Secwépemc people. This 20-year plan was developed to identify priority actions that the Horsefly River WCRP planning team (see Table 1 for a list of team members) will undertake between 2021-2040 to conserve and restore fish passage in the watershed, through crossing remediation, lateral barrier remediation, dam remediation, and barrier prevention strategies.  \n",
    "\n",
    "WCRPs are long-term, actionable plans that blend local stakeholder and rightsholder knowledge with innovative GIS analyses to gain a shared understanding of where remediation efforts will have the greatest benefit for anadromous salmon. The planning process is inspired by the [Conservation Standards](https://cmp-openstandards.org/wp-content/uploads/2020/07/CMP-Open-Standards-for-the-Practice-of-Conservation-v4.0.pdf) (v.4.0), which is a conservation planning framework that allows planning teams to systematically identify, implement, and monitor strategies to apply the most effective solutions to high priority conservation problems. There is a rich history of connectivity and fish habitat planning and remediation work in the Horsefly River watershed that this WCRP builds upon, including work undertaken by the BC Fish Passage Technical Working Group, the Northern Secwepemc te Qelmucw (NStQ) and member communities, the Horsefly River Roundtable, and other local organizations (Masse Environmental Consultants Ltd. 2018; S. Hocquard, Steve Hocquard Consulting, pers. comm.).  \n",
    "\n",
    "The planning team compiled existing barrier location and assessment data, habitat data, and previously identified priorities, and combined this with local and Indigenous knowledge to create a strategic watershed-scale plan to improve connectivity. To expand on this work the Horsefly River WCRP planning team applied the WCRP planning framework to define the \"thematic\" scope of freshwater connectivity and refine the \"geographic\" scope to identify only those portions of the watershed where barrier prioritization will be conducted, and subsequent remediation efforts will take place. Additionally, the team selected target fish species, assessed their current connectivity status in the watershed, defined concrete goals for gains in connectivity, and developed a priority list of barriers for remediation to achieve those goals. Field assessments were completed for 20 longitudinal barriers on the preliminary barrier list during the summer of 2021, followed by a series of WCRP Update Workshops in winter 2021. The aim of these workshops was for the team to receive updates on progress made during the field season, review assessment results and identify priority barriers, revise the connectivity status assessment and goals, and update the Operational Plan for 2022. While the current version of this plan is based on the best-available information at the time of publishing, WCRPs are intended to be “living plans” that are updated regularly as new information becomes available, or if local priorities and contexts change. As such, this document should be interpreted as a current snap-shot in time, and future iterations of this WCRP will build upon the material presented in this plan to continuously improve barrier remediation for migratory fish in the Horsefly River watershed. For more information on how WCRPs are developed, see Mazany-Wright et al. 2021c. \n",
    "\n",
    "# Vision Statement \n",
    "\n",
    "Healthy, well-connected streams and rivers within the Horsefly River watershed support thriving populations of migratory fish, improving the overall ecosystem health of the watershed. In turn, these fish provide the continued sustenance, cultural, and ceremonial needs of the Northern Secwépemc people, as they have since time immemorial. Both residents and visitors to the watershed work together to mitigate the negative effects of anthropogenic aquatic barriers, improving the resiliency of streams and rivers for the benefit and appreciation of all. "
   ]
  },
  {
   "cell_type": "markdown",
   "metadata": {},
   "source": [
    "# Planning Team"
   ]
  },
  {
   "cell_type": "markdown",
   "metadata": {},
   "source": [
    "Table 1. Horsefly River watershed WCRP planning team members. Planning team members contributed to the development of this plan by participating in a series of workshops and document and data review. The plan was generated based on the input and feedback of the local groups and organizations listed in this table."
   ]
  },
  {
   "cell_type": "code",
   "execution_count": 1,
   "metadata": {
    "tags": [
     "remove-input"
    ]
   },
   "outputs": [
    {
     "data": {
      "text/html": [
       "<style  type=\"text/css\" >\n",
       "#T_6a3465d8_5f94_11ed_963e_b445066bfd9brow0_col0,#T_6a3465d8_5f94_11ed_963e_b445066bfd9brow0_col1,#T_6a3465d8_5f94_11ed_963e_b445066bfd9brow1_col0,#T_6a3465d8_5f94_11ed_963e_b445066bfd9brow1_col1,#T_6a3465d8_5f94_11ed_963e_b445066bfd9brow2_col0,#T_6a3465d8_5f94_11ed_963e_b445066bfd9brow2_col1,#T_6a3465d8_5f94_11ed_963e_b445066bfd9brow3_col0,#T_6a3465d8_5f94_11ed_963e_b445066bfd9brow3_col1,#T_6a3465d8_5f94_11ed_963e_b445066bfd9brow4_col0,#T_6a3465d8_5f94_11ed_963e_b445066bfd9brow4_col1,#T_6a3465d8_5f94_11ed_963e_b445066bfd9brow5_col0,#T_6a3465d8_5f94_11ed_963e_b445066bfd9brow5_col1,#T_6a3465d8_5f94_11ed_963e_b445066bfd9brow6_col0,#T_6a3465d8_5f94_11ed_963e_b445066bfd9brow6_col1,#T_6a3465d8_5f94_11ed_963e_b445066bfd9brow7_col0,#T_6a3465d8_5f94_11ed_963e_b445066bfd9brow7_col1,#T_6a3465d8_5f94_11ed_963e_b445066bfd9brow8_col0,#T_6a3465d8_5f94_11ed_963e_b445066bfd9brow8_col1,#T_6a3465d8_5f94_11ed_963e_b445066bfd9brow9_col0,#T_6a3465d8_5f94_11ed_963e_b445066bfd9brow9_col1,#T_6a3465d8_5f94_11ed_963e_b445066bfd9brow10_col0,#T_6a3465d8_5f94_11ed_963e_b445066bfd9brow10_col1,#T_6a3465d8_5f94_11ed_963e_b445066bfd9brow11_col0,#T_6a3465d8_5f94_11ed_963e_b445066bfd9brow11_col1,#T_6a3465d8_5f94_11ed_963e_b445066bfd9brow12_col0,#T_6a3465d8_5f94_11ed_963e_b445066bfd9brow12_col1,#T_6a3465d8_5f94_11ed_963e_b445066bfd9brow13_col0,#T_6a3465d8_5f94_11ed_963e_b445066bfd9brow13_col1,#T_6a3465d8_5f94_11ed_963e_b445066bfd9brow14_col0,#T_6a3465d8_5f94_11ed_963e_b445066bfd9brow14_col1{\n",
       "            text-align:  left;\n",
       "        }</style><table id=\"T_6a3465d8_5f94_11ed_963e_b445066bfd9b\" ><thead>    <tr>        <th class=\"col_heading level0 col0\" >Individual or Organization Name</th>        <th class=\"col_heading level0 col1\" >Role and Primary Interest</th>    </tr></thead><tbody>\n",
       "                <tr>\n",
       "                                <td id=\"T_6a3465d8_5f94_11ed_963e_b445066bfd9brow0_col0\" class=\"data row0 col0\" >Cariboo Mining Association </td>\n",
       "                        <td id=\"T_6a3465d8_5f94_11ed_963e_b445066bfd9brow0_col1\" class=\"data row0 col1\" >A mining company that has been operating in central BC since the 1950’s and can help provide data and facilitate remediation work. </td>\n",
       "            </tr>\n",
       "            <tr>\n",
       "                                <td id=\"T_6a3465d8_5f94_11ed_963e_b445066bfd9brow1_col0\" class=\"data row1 col0\" >Consus Management Ltd.  </td>\n",
       "                        <td id=\"T_6a3465d8_5f94_11ed_963e_b445066bfd9brow1_col1\" class=\"data row1 col1\" >Local wildlife consultants in the watershed to consider for future work. </td>\n",
       "            </tr>\n",
       "            <tr>\n",
       "                                <td id=\"T_6a3465d8_5f94_11ed_963e_b445066bfd9brow2_col0\" class=\"data row2 col0\" >Dawson Road Maintenance Ltd </td>\n",
       "                        <td id=\"T_6a3465d8_5f94_11ed_963e_b445066bfd9brow2_col1\" class=\"data row2 col1\" >A road design and maintenance company at the roadway-watershed interface. </td>\n",
       "            </tr>\n",
       "            <tr>\n",
       "                                <td id=\"T_6a3465d8_5f94_11ed_963e_b445066bfd9brow3_col0\" class=\"data row3 col0\" >DWB Consulting Services Ltd.  </td>\n",
       "                        <td id=\"T_6a3465d8_5f94_11ed_963e_b445066bfd9brow3_col1\" class=\"data row3 col1\" >Local wildlife consultants in the watershed to consider for future work. </td>\n",
       "            </tr>\n",
       "            <tr>\n",
       "                                <td id=\"T_6a3465d8_5f94_11ed_963e_b445066bfd9brow4_col0\" class=\"data row4 col0\" >Freshwater Fisheries Society of British Columbia </td>\n",
       "                        <td id=\"T_6a3465d8_5f94_11ed_963e_b445066bfd9brow4_col1\" class=\"data row4 col1\" >This group can provide project assistance with non-anadromous species.  </td>\n",
       "            </tr>\n",
       "            <tr>\n",
       "                                <td id=\"T_6a3465d8_5f94_11ed_963e_b445066bfd9brow5_col0\" class=\"data row5 col0\" >Larry Davis  </td>\n",
       "                        <td id=\"T_6a3465d8_5f94_11ed_963e_b445066bfd9brow5_col1\" class=\"data row5 col1\" >A biologist and local wildlife consultant in the watershed. </td>\n",
       "            </tr>\n",
       "            <tr>\n",
       "                                <td id=\"T_6a3465d8_5f94_11ed_963e_b445066bfd9brow6_col0\" class=\"data row6 col0\" >Local ranchers </td>\n",
       "                        <td id=\"T_6a3465d8_5f94_11ed_963e_b445066bfd9brow6_col1\" class=\"data row6 col1\" >These individuals can facilitate construction as well as consent/facilitate complimentary works on private property to improve fish habitat upstream and downstream. </td>\n",
       "            </tr>\n",
       "            <tr>\n",
       "                                <td id=\"T_6a3465d8_5f94_11ed_963e_b445066bfd9brow7_col0\" class=\"data row7 col0\" >Ministry of Forests, Lands and Natural Resource Operations (FLNRO)</td>\n",
       "                        <td id=\"T_6a3465d8_5f94_11ed_963e_b445066bfd9brow7_col1\" class=\"data row7 col1\" >FLNRO can assist with providing local knowledge, data, expertise and can facilitate remediation work. </td>\n",
       "            </tr>\n",
       "            <tr>\n",
       "                                <td id=\"T_6a3465d8_5f94_11ed_963e_b445066bfd9brow8_col0\" class=\"data row8 col0\" >Ministry of Transportation and Infrastructure (MOTI)</td>\n",
       "                        <td id=\"T_6a3465d8_5f94_11ed_963e_b445066bfd9brow8_col1\" class=\"data row8 col1\" >MOTI may own barriers and can play a role in improving and replacing barriers at highway crossings. </td>\n",
       "            </tr>\n",
       "            <tr>\n",
       "                                <td id=\"T_6a3465d8_5f94_11ed_963e_b445066bfd9brow9_col0\" class=\"data row9 col0\" >Property owners along river and tributaries </td>\n",
       "                        <td id=\"T_6a3465d8_5f94_11ed_963e_b445066bfd9brow9_col1\" class=\"data row9 col1\" >These individuals can facilitate construction as well as consent/facilitate complimentary works on private property to improve fish habitat upstream and downstream. </td>\n",
       "            </tr>\n",
       "            <tr>\n",
       "                                <td id=\"T_6a3465d8_5f94_11ed_963e_b445066bfd9brow10_col0\" class=\"data row10 col0\" >Quesnel River Research Centre </td>\n",
       "                        <td id=\"T_6a3465d8_5f94_11ed_963e_b445066bfd9brow10_col1\" class=\"data row10 col1\" >This group can help with field assessments and project implementation. </td>\n",
       "            </tr>\n",
       "            <tr>\n",
       "                                <td id=\"T_6a3465d8_5f94_11ed_963e_b445066bfd9brow11_col0\" class=\"data row11 col0\" >Steve Hocquard </td>\n",
       "                        <td id=\"T_6a3465d8_5f94_11ed_963e_b445066bfd9brow11_col1\" class=\"data row11 col1\" >A local consultant (Steve Hocquard Consulting) that provided valuable review of barrier and habitat data to inform the spatial models used in this plan, and can help with field assessments and project implementation. </td>\n",
       "            </tr>\n",
       "            <tr>\n",
       "                                <td id=\"T_6a3465d8_5f94_11ed_963e_b445066bfd9brow12_col0\" class=\"data row12 col0\" >Tolko Industries Ltd.  </td>\n",
       "                        <td id=\"T_6a3465d8_5f94_11ed_963e_b445066bfd9brow12_col1\" class=\"data row12 col1\" >A privately owned Canadian forest products company that maintains forest service road-stream crossings in the Horsefly River watershed. </td>\n",
       "            </tr>\n",
       "            <tr>\n",
       "                                <td id=\"T_6a3465d8_5f94_11ed_963e_b445066bfd9brow13_col0\" class=\"data row13 col0\" >Upper Fraser Fisheries Conservation Alliance </td>\n",
       "                        <td id=\"T_6a3465d8_5f94_11ed_963e_b445066bfd9brow13_col1\" class=\"data row13 col1\" >This group can be contacted for advice and assistance. </td>\n",
       "            </tr>\n",
       "            <tr>\n",
       "                                <td id=\"T_6a3465d8_5f94_11ed_963e_b445066bfd9brow14_col0\" class=\"data row14 col0\" >West Fraser </td>\n",
       "                        <td id=\"T_6a3465d8_5f94_11ed_963e_b445066bfd9brow14_col1\" class=\"data row14 col1\" >A integrated forestry and diversified wood products company that maintains forest service road-stream crossings in the Horsefly River watershed. </td>\n",
       "            </tr>\n",
       "    </tbody></table>"
      ],
      "text/plain": [
       "<pandas.io.formats.style.Styler at 0x1da98980f48>"
      ]
     },
     "execution_count": 1,
     "metadata": {},
     "output_type": "execute_result"
    }
   ],
   "source": [
    "\n",
    "import pandas as pd\n",
    "import warnings\n",
    "\n",
    "warnings.filterwarnings('ignore')\n",
    "\n",
    "\n",
    "data = pd.read_csv('tables\\key_actors.csv', index_col=False)\n",
    "\n",
    "data.style.hide_index().set_properties(**{'text-align': 'left'})"
   ]
  },
  {
   "cell_type": "markdown",
   "metadata": {},
   "source": [
    "# Key Actors\n",
    "\n",
    "Table 2. Additional Key Actors in the Horsefly River watershed. Key Actors are the individuals, groups, and/or organizations, outside of the planning team, with influence and relevant experience in the watershed, whose engagement will be critical for the successful implementation of this WCRP. "
   ]
  },
  {
   "cell_type": "code",
   "execution_count": 2,
   "metadata": {
    "tags": [
     "remove-input"
    ]
   },
   "outputs": [
    {
     "data": {
      "text/html": [
       "<style  type=\"text/css\" >\n",
       "#T_6a3a8e2e_5f94_11ed_9068_b445066bfd9brow0_col0,#T_6a3a8e2e_5f94_11ed_9068_b445066bfd9brow0_col1,#T_6a3a8e2e_5f94_11ed_9068_b445066bfd9brow1_col0,#T_6a3a8e2e_5f94_11ed_9068_b445066bfd9brow1_col1,#T_6a3a8e2e_5f94_11ed_9068_b445066bfd9brow2_col0,#T_6a3a8e2e_5f94_11ed_9068_b445066bfd9brow2_col1,#T_6a3a8e2e_5f94_11ed_9068_b445066bfd9brow3_col0,#T_6a3a8e2e_5f94_11ed_9068_b445066bfd9brow3_col1,#T_6a3a8e2e_5f94_11ed_9068_b445066bfd9brow4_col0,#T_6a3a8e2e_5f94_11ed_9068_b445066bfd9brow4_col1,#T_6a3a8e2e_5f94_11ed_9068_b445066bfd9brow5_col0,#T_6a3a8e2e_5f94_11ed_9068_b445066bfd9brow5_col1,#T_6a3a8e2e_5f94_11ed_9068_b445066bfd9brow6_col0,#T_6a3a8e2e_5f94_11ed_9068_b445066bfd9brow6_col1,#T_6a3a8e2e_5f94_11ed_9068_b445066bfd9brow7_col0,#T_6a3a8e2e_5f94_11ed_9068_b445066bfd9brow7_col1,#T_6a3a8e2e_5f94_11ed_9068_b445066bfd9brow8_col0,#T_6a3a8e2e_5f94_11ed_9068_b445066bfd9brow8_col1,#T_6a3a8e2e_5f94_11ed_9068_b445066bfd9brow9_col0,#T_6a3a8e2e_5f94_11ed_9068_b445066bfd9brow9_col1,#T_6a3a8e2e_5f94_11ed_9068_b445066bfd9brow10_col0,#T_6a3a8e2e_5f94_11ed_9068_b445066bfd9brow10_col1,#T_6a3a8e2e_5f94_11ed_9068_b445066bfd9brow11_col0,#T_6a3a8e2e_5f94_11ed_9068_b445066bfd9brow11_col1,#T_6a3a8e2e_5f94_11ed_9068_b445066bfd9brow12_col0,#T_6a3a8e2e_5f94_11ed_9068_b445066bfd9brow12_col1,#T_6a3a8e2e_5f94_11ed_9068_b445066bfd9brow13_col0,#T_6a3a8e2e_5f94_11ed_9068_b445066bfd9brow13_col1,#T_6a3a8e2e_5f94_11ed_9068_b445066bfd9brow14_col0,#T_6a3a8e2e_5f94_11ed_9068_b445066bfd9brow14_col1{\n",
       "            text-align:  left;\n",
       "        }</style><table id=\"T_6a3a8e2e_5f94_11ed_9068_b445066bfd9b\" ><thead>    <tr>        <th class=\"col_heading level0 col0\" >Individual or Organization Name</th>        <th class=\"col_heading level0 col1\" >Role and Primary Interest</th>    </tr></thead><tbody>\n",
       "                <tr>\n",
       "                                <td id=\"T_6a3a8e2e_5f94_11ed_9068_b445066bfd9brow0_col0\" class=\"data row0 col0\" >Cariboo Mining Association </td>\n",
       "                        <td id=\"T_6a3a8e2e_5f94_11ed_9068_b445066bfd9brow0_col1\" class=\"data row0 col1\" >A mining company that has been operating in central BC since the 1950’s and can help provide data and facilitate remediation work. </td>\n",
       "            </tr>\n",
       "            <tr>\n",
       "                                <td id=\"T_6a3a8e2e_5f94_11ed_9068_b445066bfd9brow1_col0\" class=\"data row1 col0\" >Consus Management Ltd.  </td>\n",
       "                        <td id=\"T_6a3a8e2e_5f94_11ed_9068_b445066bfd9brow1_col1\" class=\"data row1 col1\" >Local wildlife consultants in the watershed to consider for future work. </td>\n",
       "            </tr>\n",
       "            <tr>\n",
       "                                <td id=\"T_6a3a8e2e_5f94_11ed_9068_b445066bfd9brow2_col0\" class=\"data row2 col0\" >Dawson Road Maintenance Ltd </td>\n",
       "                        <td id=\"T_6a3a8e2e_5f94_11ed_9068_b445066bfd9brow2_col1\" class=\"data row2 col1\" >A road design and maintenance company at the roadway-watershed interface. </td>\n",
       "            </tr>\n",
       "            <tr>\n",
       "                                <td id=\"T_6a3a8e2e_5f94_11ed_9068_b445066bfd9brow3_col0\" class=\"data row3 col0\" >DWB Consulting Services Ltd.  </td>\n",
       "                        <td id=\"T_6a3a8e2e_5f94_11ed_9068_b445066bfd9brow3_col1\" class=\"data row3 col1\" >Local wildlife consultants in the watershed to consider for future work. </td>\n",
       "            </tr>\n",
       "            <tr>\n",
       "                                <td id=\"T_6a3a8e2e_5f94_11ed_9068_b445066bfd9brow4_col0\" class=\"data row4 col0\" >Freshwater Fisheries Society of British Columbia </td>\n",
       "                        <td id=\"T_6a3a8e2e_5f94_11ed_9068_b445066bfd9brow4_col1\" class=\"data row4 col1\" >This group can provide project assistance with non-anadromous species.  </td>\n",
       "            </tr>\n",
       "            <tr>\n",
       "                                <td id=\"T_6a3a8e2e_5f94_11ed_9068_b445066bfd9brow5_col0\" class=\"data row5 col0\" >Larry Davis  </td>\n",
       "                        <td id=\"T_6a3a8e2e_5f94_11ed_9068_b445066bfd9brow5_col1\" class=\"data row5 col1\" >A biologist and local wildlife consultant in the watershed. </td>\n",
       "            </tr>\n",
       "            <tr>\n",
       "                                <td id=\"T_6a3a8e2e_5f94_11ed_9068_b445066bfd9brow6_col0\" class=\"data row6 col0\" >Local ranchers </td>\n",
       "                        <td id=\"T_6a3a8e2e_5f94_11ed_9068_b445066bfd9brow6_col1\" class=\"data row6 col1\" >These individuals can facilitate construction as well as consent/facilitate complimentary works on private property to improve fish habitat upstream and downstream. </td>\n",
       "            </tr>\n",
       "            <tr>\n",
       "                                <td id=\"T_6a3a8e2e_5f94_11ed_9068_b445066bfd9brow7_col0\" class=\"data row7 col0\" >Ministry of Forests, Lands and Natural Resource Operations (FLNRO)</td>\n",
       "                        <td id=\"T_6a3a8e2e_5f94_11ed_9068_b445066bfd9brow7_col1\" class=\"data row7 col1\" >FLNRO can assist with providing local knowledge, data, expertise and can facilitate remediation work. </td>\n",
       "            </tr>\n",
       "            <tr>\n",
       "                                <td id=\"T_6a3a8e2e_5f94_11ed_9068_b445066bfd9brow8_col0\" class=\"data row8 col0\" >Ministry of Transportation and Infrastructure (MOTI)</td>\n",
       "                        <td id=\"T_6a3a8e2e_5f94_11ed_9068_b445066bfd9brow8_col1\" class=\"data row8 col1\" >MOTI may own barriers and can play a role in improving and replacing barriers at highway crossings. </td>\n",
       "            </tr>\n",
       "            <tr>\n",
       "                                <td id=\"T_6a3a8e2e_5f94_11ed_9068_b445066bfd9brow9_col0\" class=\"data row9 col0\" >Property owners along river and tributaries </td>\n",
       "                        <td id=\"T_6a3a8e2e_5f94_11ed_9068_b445066bfd9brow9_col1\" class=\"data row9 col1\" >These individuals can facilitate construction as well as consent/facilitate complimentary works on private property to improve fish habitat upstream and downstream. </td>\n",
       "            </tr>\n",
       "            <tr>\n",
       "                                <td id=\"T_6a3a8e2e_5f94_11ed_9068_b445066bfd9brow10_col0\" class=\"data row10 col0\" >Quesnel River Research Centre </td>\n",
       "                        <td id=\"T_6a3a8e2e_5f94_11ed_9068_b445066bfd9brow10_col1\" class=\"data row10 col1\" >This group can help with field assessments and project implementation. </td>\n",
       "            </tr>\n",
       "            <tr>\n",
       "                                <td id=\"T_6a3a8e2e_5f94_11ed_9068_b445066bfd9brow11_col0\" class=\"data row11 col0\" >Steve Hocquard </td>\n",
       "                        <td id=\"T_6a3a8e2e_5f94_11ed_9068_b445066bfd9brow11_col1\" class=\"data row11 col1\" >A local consultant (Steve Hocquard Consulting) that provided valuable review of barrier and habitat data to inform the spatial models used in this plan, and can help with field assessments and project implementation. </td>\n",
       "            </tr>\n",
       "            <tr>\n",
       "                                <td id=\"T_6a3a8e2e_5f94_11ed_9068_b445066bfd9brow12_col0\" class=\"data row12 col0\" >Tolko Industries Ltd.  </td>\n",
       "                        <td id=\"T_6a3a8e2e_5f94_11ed_9068_b445066bfd9brow12_col1\" class=\"data row12 col1\" >A privately owned Canadian forest products company that maintains forest service road-stream crossings in the Horsefly River watershed. </td>\n",
       "            </tr>\n",
       "            <tr>\n",
       "                                <td id=\"T_6a3a8e2e_5f94_11ed_9068_b445066bfd9brow13_col0\" class=\"data row13 col0\" >Upper Fraser Fisheries Conservation Alliance </td>\n",
       "                        <td id=\"T_6a3a8e2e_5f94_11ed_9068_b445066bfd9brow13_col1\" class=\"data row13 col1\" >This group can be contacted for advice and assistance. </td>\n",
       "            </tr>\n",
       "            <tr>\n",
       "                                <td id=\"T_6a3a8e2e_5f94_11ed_9068_b445066bfd9brow14_col0\" class=\"data row14 col0\" >West Fraser </td>\n",
       "                        <td id=\"T_6a3a8e2e_5f94_11ed_9068_b445066bfd9brow14_col1\" class=\"data row14 col1\" >A integrated forestry and diversified wood products company that maintains forest service road-stream crossings in the Horsefly River watershed. </td>\n",
       "            </tr>\n",
       "    </tbody></table>"
      ],
      "text/plain": [
       "<pandas.io.formats.style.Styler at 0x1da99e3c348>"
      ]
     },
     "execution_count": 2,
     "metadata": {},
     "output_type": "execute_result"
    }
   ],
   "source": [
    "\n",
    "import pandas as pd\n",
    "\n",
    "data = pd.read_csv('tables\\key_actors.csv', index_col=False)\n",
    "\n",
    "data.style.hide_index().set_properties(**{'text-align': 'left'})"
   ]
  },
  {
   "cell_type": "markdown",
   "metadata": {},
   "source": [
    "# Project Scope\n",
    "\n",
    "Connectivity is a critical component of freshwater ecosystems that encompasses a variety of factors related to ecosystem structure and function, such as the ability of aquatic organisms to disperse and/or migrate, the transportation of energy and matter (e.g., nutrient cycling and sediment flows), and temperature regulation (Seliger & Zeiringer 2018). Though each of these factors are important when considering the health of a watershed, for the purposes of this WCRP the term \"connectivity\" is defined as the degree to which aquatic organisms can disperse and/or migrate freely through freshwater systems. Within this context, connectivity is primarily constrained by physical barriers, including anthropogenic infrastructure such as dams, weirs, and stream crossings, and natural features such as waterfalls and debris flows. This plan is intended to focus on the direct remediation and prevention of localized, physical barriers instead of the broad land-use patterns that are causing chronic connectivity issues in the watershed. The planning team decided that the primary focus of this WCRP is addressing barriers to both longitudinal connectivity (i.e., along the upstream-downstream plane) and lateral connectivity (i.e., connectivity between the mainstem and adjacent riparian wetlands and floodplains) due to the importance of maintaining fish passage to spawning, rearing, and overwintering habitat in the watershed. \n",
    "\n",
    " "
   ]
  },
  {
   "cell_type": "markdown",
   "metadata": {},
   "source": [
    "```{figure} figure1.png\n",
    "---\n",
    "height: 400px\n",
    "width: 1000px\n",
    "name: fig1\n",
    "---\n",
    "The primary geographic scope — the Horsefly River watershed — located in the Fraser River system.\n",
    "```"
   ]
  },
  {
   "cell_type": "markdown",
   "metadata": {},
   "source": [
    "The primary geographic scope of this WCRP is the Horsefly River watershed, located in the upper Fraser River drainage basin in central British Columbia (Figure 1). The scope constitutes the Horsefly River \"watershed group\" as defined by the [British Columbia Freshwater Atlas](https://catalogue.data.gov.bc.ca/dataset/freshwater-atlas-watershed-groups) (FWA). A consistent spatial framework was necessary to undertake a watershed selection process at the provincial scale to identify target watersheds to improve connectivity for salmon. The Horsefly River watershed was identified by the BC Fish Passage Restoration Initiative as one of four target watersheds for WCRP development (Mazany-Wright et al. 2021b). The Horsefly River watershed has a drainage area of 276,603 ha, spanning from the Quesnel Highlands in the southeast to the confluence with Quesnel Lake in the northwest. Culturally and economically important populations of Chinook Salmon, Coho Salmon, and Sockeye Salmon are all found in the watershed, which historically supported Indigenous sustenance and trading economies (Table 3; Williams Lake First Nation 2021, Xatśūll First Nation 2021). "
   ]
  },
  {
   "cell_type": "code",
   "execution_count": 3,
   "metadata": {
    "tags": [
     "remove-input"
    ]
   },
   "outputs": [
    {
     "data": {
      "text/html": [
       "<style  type=\"text/css\" >\n",
       "</style><table id=\"T_6a3d913a_5f94_11ed_abcc_b445066bfd9b\" ><thead>    <tr>        <th class=\"col_heading level0 col0\" >Secwepemctsín</th>        <th class=\"col_heading level0 col1\" >Common Name</th>        <th class=\"col_heading level0 col2\" >Scientific Name</th>    </tr></thead><tbody>\n",
       "                <tr>\n",
       "                                <td id=\"T_6a3d913a_5f94_11ed_abcc_b445066bfd9brow0_col0\" class=\"data row0 col0\" >Kekèsu</td>\n",
       "                        <td id=\"T_6a3d913a_5f94_11ed_abcc_b445066bfd9brow0_col1\" class=\"data row0 col1\" >Chinook Salmon</td>\n",
       "                        <td id=\"T_6a3d913a_5f94_11ed_abcc_b445066bfd9brow0_col2\" class=\"data row0 col2\" >Oncorhynchus tshawytscha</td>\n",
       "            </tr>\n",
       "            <tr>\n",
       "                                <td id=\"T_6a3d913a_5f94_11ed_abcc_b445066bfd9brow1_col0\" class=\"data row1 col0\" >Sxeyqs</td>\n",
       "                        <td id=\"T_6a3d913a_5f94_11ed_abcc_b445066bfd9brow1_col1\" class=\"data row1 col1\" >Coho Salmon</td>\n",
       "                        <td id=\"T_6a3d913a_5f94_11ed_abcc_b445066bfd9brow1_col2\" class=\"data row1 col2\" >Oncorhynchus kisutch</td>\n",
       "            </tr>\n",
       "            <tr>\n",
       "                                <td id=\"T_6a3d913a_5f94_11ed_abcc_b445066bfd9brow2_col0\" class=\"data row2 col0\" >Sqlelten7ùwi</td>\n",
       "                        <td id=\"T_6a3d913a_5f94_11ed_abcc_b445066bfd9brow2_col1\" class=\"data row2 col1\" >Sockeye Salmon</td>\n",
       "                        <td id=\"T_6a3d913a_5f94_11ed_abcc_b445066bfd9brow2_col2\" class=\"data row2 col2\" >Oncorhynchus nerka</td>\n",
       "            </tr>\n",
       "    </tbody></table>"
      ],
      "text/plain": [
       "<pandas.io.formats.style.Styler at 0x1da9a223f08>"
      ]
     },
     "execution_count": 3,
     "metadata": {},
     "output_type": "execute_result"
    }
   ],
   "source": [
    "\n",
    "import pandas as pd\n",
    "\n",
    "data = pd.read_csv('tables\\species_names.csv', index_col=False).style.hide_index()\n",
    "\n",
    "data"
   ]
  },
  {
   "cell_type": "markdown",
   "metadata": {},
   "source": [
    "The Horsefly River watershed comprises parts of Secwepemcúl’ecw, the traditional territory of the Northern Secwepemc te Qelmucw (NStQ), represented by the Northern Shuswap Tribal Council and four member communities or autonomous nations:\n",
    "\n",
    "- Xatśūll Cmetem’ (Soda Creek First Nations) \n",
    "\n",
    "- Stswēceḿc Xgāt’tem (Canoe Creek/Dog Creek First Nations) \n",
    "\n",
    "- T’ēxelc (Williams Lake First Nation) \n",
    "\n",
    "- Tsq’ēsceń (Canim Lake First Nation)\n",
    "\n",
    "The geographic scope of this WCRP was further refined by identifying “potentially accessible” stream segments, which are defined as streams that target species should be able to access in the absence of anthropogenic barriers (Figure 2). Potentially accessible stream segments were spatially delineated using fish species observation and distribution data, as well as data on \"exclusionary points\". These include waterfalls greater than 5 m in height, gradient barriers based on species-specific swimming abilities, and watershed exclusion areas, which are portions of the watershed where barrier remediation efforts should not occur. These maps were explored by the planning team to incorporate additional local knowledge, ensure accuracy, and finalize the constraints on potentially accessible stream segments. The planning team identified certain tributaries to the mainstem Horsefly River as \"watershed exclusion areas\", which were excluded from further consideration under this plan, due to intermittent or insufficient flows to support restoring connectivity for the target species. The geographic scope was further refined based on several confirmed impassable waterfalls and modelled gradient barriers. Specifically, there are two impassable waterfalls that severely limit potentially accessible habitat: one on the mainstem Horsefly River approximately 4 km upstream of the confluence with McKinley Creek, and the second on Moffat Creek approximately 5 km upstream from where it flows into the Horsefly River. All stream segments not identified as potentially accessible were removed from the scope for further consideration. The \"constrained geographic scope\" formed the foundation for all subsequent analyses and planning steps, including mapping and modelling useable habitat types, quantifying the current connectivity status, goal setting, and action planning (Mazany-Wright et al. 2021a). "
   ]
  },
  {
   "cell_type": "markdown",
   "metadata": {},
   "source": [
    "```{figure} figure2.png\n",
    "---\n",
    "height: 400px\n",
    "width: 1000px\n",
    "name: fig2\n",
    "---\n",
    "Potentially accessible stream segments within the Horsefly River watershed. These do not represent useable habitat types, but rather identifies the stream segments within which habitat modelling and barrier mapping and prioritization was undertaken.\n",
    "```"
   ]
  },
  {
   "cell_type": "markdown",
   "metadata": {},
   "source": [
    "# Target species\n",
    "Target species represent the ecologically and culturally important species for which habitat connectivity is being conserved and/or restored in the watershed. In the Horsefly River watershed, the planning team selected Anadromous Salmon as the target species group, which comprises Chinook Salmon, Coho Salmon, and Sockeye Salmon. The selection of these target species was driven primarily by the targets species of the primary fund supporting this planning work. \n",
    "### Anadromous Salmonids\n",
    "Anadromous salmon are cultural and ecological keystone species that contribute to productive ecosystems by contributing marine-derived nutrients to the watershed and forming an important food source for other species. Salmon species are sacred to the NStQ, having sustained life, trading economies, and culture since time immemorial (Williams Lake First Nation 2021, Xatśūll First Nation 2021, N. Singi pers. comm.). The stewardship of the resources and fisheries in their traditional territories are imbued in the spirit of the NStQ through a symbiotic relationship based on respect – the NStQ never take more salmon than is needed and there is no waste. The entirety of the salmon is used - smoked and dried to sustain the NStQ through the winter months, the roe harvested for consumption, salmon oil rendered to be stored and traded, and the skin used to store the oil (Wilson et al. 1998, Xatśūll First Nation 2021, N. Singi pers. comm.). The salmon runs begin to return to the Horsefly River watershed in early August, and the NStQ traditionally celebrate and feast at this time. The harvest of the salmon strengthens the cultural connection to the land and the waters, providing an important food source for communities and the opportunity to pass knowledge and ceremony to future generations through fishing and fish processing (Xatśūll First Nation 2021, Williams Lake First Nation 2021). \n",
    "\n",
    "Anadromous salmon populations in the Horsefly River watershed have declined significantly in the past few decades, with the populations of all three focal species being listed as Threatened or Endangered by the Committee On the Status of Endangered Wildlife In Canada (COSEWIC). This has been exacerbated by the Big Bar landslide on the Fraser River in 2019, leading the four NStQ communities to voluntarily close the salmon fishery from 2019-2022. The stewardship of their waters continues through the work of the NStQ member communities and the Northern Shuswap Tribal Council. See Appendix A for maps of modelled anadromous salmon habitat in the Horsefly River Watershed. \n",
    "### Chinook Salmon | Kekèsu | Oncorhynchus tshawytscha \n",
    "Table 4. Chinook Salmon population assessments in the Horsefly River watershed. Conservation Unit assessments were undertaken by the [Pacific Salmon Foundation](https://www.salmonexplorer.ca/#!/fraser/chinook/middle-fraser-river-spring-5-2) ([2020](https://salmonwatersheds.ca/libraryfiles/lib_459.pdf)). Designated Unit assessments were undertaken by [COSEWIC](https://www.canada.ca/en/environment-climate-change/services/species-risk-public-registry/cosewic-assessments-status-reports/chinook-salmon-2018.html) (2018).\n"
   ]
  },
  {
   "cell_type": "code",
   "execution_count": 4,
   "metadata": {
    "tags": [
     "remove-input"
    ]
   },
   "outputs": [
    {
     "data": {
      "text/html": [
       "<style  type=\"text/css\" >\n",
       "</style><table id=\"T_6a422cd2_5f94_11ed_a2b4_b445066bfd9b\" ><thead>    <tr>        <th class=\"col_heading level0 col0\" >Conservation Unit</th>        <th class=\"col_heading level0 col1\" >Biological Status</th>        <th class=\"col_heading level0 col2\" >Run timing</th>        <th class=\"col_heading level0 col3\" >Trend in spawner abundance (all available data)</th>        <th class=\"col_heading level0 col4\" >Trend in spawner abundance (last 3 generations)</th>    </tr></thead><tbody>\n",
       "                <tr>\n",
       "                                <td id=\"T_6a422cd2_5f94_11ed_a2b4_b445066bfd9brow0_col0\" class=\"data row0 col0\" >Middle Fraser River (Spring 5-2, 1.3)</td>\n",
       "                        <td id=\"T_6a422cd2_5f94_11ed_a2b4_b445066bfd9brow0_col1\" class=\"data row0 col1\" >Data Deficient/Poor</td>\n",
       "                        <td id=\"T_6a422cd2_5f94_11ed_a2b4_b445066bfd9brow0_col2\" class=\"data row0 col2\" >Data Deficient</td>\n",
       "                        <td id=\"T_6a422cd2_5f94_11ed_a2b4_b445066bfd9brow0_col3\" class=\"data row0 col3\" >Data Deficient</td>\n",
       "                        <td id=\"T_6a422cd2_5f94_11ed_a2b4_b445066bfd9brow0_col4\" class=\"data row0 col4\" >Data Deficient</td>\n",
       "            </tr>\n",
       "    </tbody></table>"
      ],
      "text/plain": [
       "<pandas.io.formats.style.Styler at 0x1da9a291148>"
      ]
     },
     "metadata": {},
     "output_type": "display_data"
    },
    {
     "data": {
      "text/html": [
       "<style  type=\"text/css\" >\n",
       "</style><table id=\"T_6a43a48c_5f94_11ed_b24d_b445066bfd9b\" ><thead>    <tr>        <th class=\"col_heading level0 col0\" >COSEWIC Designated Unit</th>        <th class=\"col_heading level0 col1\" >Status</th>        <th class=\"col_heading level0 col2\" >Trend</th>        <th class=\"col_heading level0 col3\" >Median percent change (last 3 generations)</th>        <th class=\"col_heading level0 col4\" >Median percent change (historic)</th>        <th class=\"col_heading level0 col5\" >Generation length</th>    </tr></thead><tbody>\n",
       "                <tr>\n",
       "                                <td id=\"T_6a43a48c_5f94_11ed_b24d_b445066bfd9brow0_col0\" class=\"data row0 col0\" >9- Middle Fraser, Stream, Spring (MFR+GStr) population</td>\n",
       "                        <td id=\"T_6a43a48c_5f94_11ed_b24d_b445066bfd9brow0_col1\" class=\"data row0 col1\" >Threatened</td>\n",
       "                        <td id=\"T_6a43a48c_5f94_11ed_b24d_b445066bfd9brow0_col2\" class=\"data row0 col2\" >Declining</td>\n",
       "                        <td id=\"T_6a43a48c_5f94_11ed_b24d_b445066bfd9brow0_col3\" class=\"data row0 col3\" >-28%</td>\n",
       "                        <td id=\"T_6a43a48c_5f94_11ed_b24d_b445066bfd9brow0_col4\" class=\"data row0 col4\" >-49%</td>\n",
       "                        <td id=\"T_6a43a48c_5f94_11ed_b24d_b445066bfd9brow0_col5\" class=\"data row0 col5\" >4.5 years</td>\n",
       "            </tr>\n",
       "    </tbody></table>"
      ],
      "text/plain": [
       "<pandas.io.formats.style.Styler at 0x1da9a2266c8>"
      ]
     },
     "metadata": {},
     "output_type": "display_data"
    }
   ],
   "source": [
    "\n",
    "\n",
    "from IPython.display import display, HTML\n",
    "import pandas as pd\n",
    "\n",
    "data = pd.read_csv('tables\\Chinook1.csv', index_col=False).style.hide_index()\n",
    "\n",
    "display(data)\n",
    "\n",
    "data = pd.read_csv('tables\\Chinook2.csv', index_col=False).style.hide_index()\n",
    "\n",
    "display(data)\n"
   ]
  },
  {
   "cell_type": "markdown",
   "metadata": {},
   "source": [
    "Chinook Salmon are the first to return each year, usually in early August (DFO 1991), and have the most limited distribution within the watershed. Known spawning occurs in parts of the Horsefly River mainstem above the confluence with the Little Horsefly River and throughout McKinley Creek as far as Elbow Lake (DFO 1991, S. Hocquard, pers. comm.). Important rearing systems include Patenaude Creek, Kroener Creek, Black Creek, Woodjam Creek, Deerhorn Creek, and Wilmot Creek (S. Hocquard, pers. comm.).\n",
    "# Coho Salmon | Sxeyqs | Oncorhynchus kisutch\n",
    "\n",
    "Table 5. Coho Salmon population assessments in the Horsefly River watershed. Conservation Unit assessments were undertaken by the [Pacific Salmon Foundation](https://www.salmonexplorer.ca/#!/fraser/chinook/middle-fraser-river-spring-5-2) ([2020](https://salmonwatersheds.ca/libraryfiles/lib_459.pdf)). Designated Unit assessments were undertaken by [COSEWIC](https://www.canada.ca/en/environment-climate-change/services/species-risk-public-registry/cosewic-assessments-status-reports/chinook-salmon-2018.html) (2016).\n"
   ]
  },
  {
   "cell_type": "code",
   "execution_count": 5,
   "metadata": {
    "tags": [
     "remove-input"
    ]
   },
   "outputs": [
    {
     "data": {
      "text/html": [
       "<style  type=\"text/css\" >\n",
       "</style><table id=\"T_6a483eb4_5f94_11ed_b886_b445066bfd9b\" ><thead>    <tr>        <th class=\"col_heading level0 col0\" >Conservation Unit</th>        <th class=\"col_heading level0 col1\" >Biological Status</th>        <th class=\"col_heading level0 col2\" >Run timing</th>        <th class=\"col_heading level0 col3\" >Trend in spawner abundance (all available data)</th>        <th class=\"col_heading level0 col4\" >Trend in spawner abundance (last 3 generations)</th>    </tr></thead><tbody>\n",
       "                <tr>\n",
       "                                <td id=\"T_6a483eb4_5f94_11ed_b886_b445066bfd9brow0_col0\" class=\"data row0 col0\" >Interior Fraser</td>\n",
       "                        <td id=\"T_6a483eb4_5f94_11ed_b886_b445066bfd9brow0_col1\" class=\"data row0 col1\" >Data Deficient/Fair</td>\n",
       "                        <td id=\"T_6a483eb4_5f94_11ed_b886_b445066bfd9brow0_col2\" class=\"data row0 col2\" >Data Deficient</td>\n",
       "                        <td id=\"T_6a483eb4_5f94_11ed_b886_b445066bfd9brow0_col3\" class=\"data row0 col3\" >Data Deficient</td>\n",
       "                        <td id=\"T_6a483eb4_5f94_11ed_b886_b445066bfd9brow0_col4\" class=\"data row0 col4\" >Data Deficient</td>\n",
       "            </tr>\n",
       "    </tbody></table>"
      ],
      "text/plain": [
       "<pandas.io.formats.style.Styler at 0x1da9a27c448>"
      ]
     },
     "metadata": {},
     "output_type": "display_data"
    },
    {
     "data": {
      "text/html": [
       "<style  type=\"text/css\" >\n",
       "</style><table id=\"T_6a49be76_5f94_11ed_97ea_b445066bfd9b\" ><thead>    <tr>        <th class=\"col_heading level0 col0\" >COSEWIC Designated Unit</th>        <th class=\"col_heading level0 col1\" >Status</th>        <th class=\"col_heading level0 col2\" >Trend</th>        <th class=\"col_heading level0 col3\" >Median percent change (last 3 generations)</th>        <th class=\"col_heading level0 col4\" >Median percent change (historic)</th>        <th class=\"col_heading level0 col5\" >Generation length</th>    </tr></thead><tbody>\n",
       "                <tr>\n",
       "                                <td id=\"T_6a49be76_5f94_11ed_97ea_b445066bfd9brow0_col0\" class=\"data row0 col0\" >Interior Fraser – Mid/Upper Fraser population</td>\n",
       "                        <td id=\"T_6a49be76_5f94_11ed_97ea_b445066bfd9brow0_col1\" class=\"data row0 col1\" >Threatened</td>\n",
       "                        <td id=\"T_6a49be76_5f94_11ed_97ea_b445066bfd9brow0_col2\" class=\"data row0 col2\" >Declining</td>\n",
       "                        <td id=\"T_6a49be76_5f94_11ed_97ea_b445066bfd9brow0_col3\" class=\"data row0 col3\" >Not estimated</td>\n",
       "                        <td id=\"T_6a49be76_5f94_11ed_97ea_b445066bfd9brow0_col4\" class=\"data row0 col4\" >+119% estimated based on last 10 years of escapement data-21% estimated based on entire escapement time series</td>\n",
       "                        <td id=\"T_6a49be76_5f94_11ed_97ea_b445066bfd9brow0_col5\" class=\"data row0 col5\" >3 years</td>\n",
       "            </tr>\n",
       "    </tbody></table>"
      ],
      "text/plain": [
       "<pandas.io.formats.style.Styler at 0x1da9a27c0c8>"
      ]
     },
     "metadata": {},
     "output_type": "display_data"
    }
   ],
   "source": [
    "\n",
    "data = pd.read_csv('tables\\coho1.csv', index_col=False).style.hide_index()\n",
    "\n",
    "display(data)\n",
    "\n",
    "data = pd.read_csv('tables\\coho2.csv', index_col=False).style.hide_index()\n",
    "\n",
    "display(data)\n"
   ]
  },
  {
   "cell_type": "markdown",
   "metadata": {},
   "source": [
    "\n",
    "Coho Salmon are the most widely distributed of the three focal species in the watershed, with the ability to migrate into smaller, upper tributary systems (DFO 1991). Spawning occurs in the Little Horsefly River between Gruhs Lake and Horsefly Lake, McKinley Creek below McKinley Lake, Woodjam Creek, Patenaude Creek, Tisdall Creek, and Black Creek. Rearing fry and juveniles have been observed in the Little Horsefly River, Patenaude Creek, and McKinley Creek up to Bosk Lake (DFO 1991, S. Hocquard pers. comm.).\n",
    "\n",
    "# Sockeye Salmon | Sqlelten7ùwi | Oncorhynchus nerka\n",
    "\n",
    "Table 6. Sockeye Salmon population assessments in the Horsefly River watershed. Conservation Unit assessments were undertaken by the [Pacific Salmon Foundation](https://www.salmonexplorer.ca/#!/fraser/chinook/middle-fraser-river-spring-5-2) ([2020](https://salmonwatersheds.ca/libraryfiles/lib_459.pdf)). Designated Unit assessments were undertaken by [COSEWIC](https://www.canada.ca/en/environment-climate-change/services/species-risk-public-registry/cosewic-assessments-status-reports/chinook-salmon-2018.html) (2017).\n"
   ]
  },
  {
   "cell_type": "code",
   "execution_count": 6,
   "metadata": {
    "tags": [
     "remove-input"
    ]
   },
   "outputs": [
    {
     "data": {
      "text/html": [
       "<style  type=\"text/css\" >\n",
       "</style><table id=\"T_6a4fe890_5f94_11ed_ad85_b445066bfd9b\" ><thead>    <tr>        <th class=\"col_heading level0 col0\" >Conservation Unit</th>        <th class=\"col_heading level0 col1\" >Biological Status</th>        <th class=\"col_heading level0 col2\" >Run timing</th>        <th class=\"col_heading level0 col3\" >Trend in spawner abundance (all generations)</th>        <th class=\"col_heading level0 col4\" >Trend in spawner abundance (last 3 generations)</th>    </tr></thead><tbody>\n",
       "                <tr>\n",
       "                                <td id=\"T_6a4fe890_5f94_11ed_ad85_b445066bfd9brow0_col0\" class=\"data row0 col0\" >Quesnel-Summer (cyclic)</td>\n",
       "                        <td id=\"T_6a4fe890_5f94_11ed_ad85_b445066bfd9brow0_col1\" class=\"data row0 col1\" >Data Deficient/Fair-Poor</td>\n",
       "                        <td id=\"T_6a4fe890_5f94_11ed_ad85_b445066bfd9brow0_col2\" class=\"data row0 col2\" >July-September</td>\n",
       "                        <td id=\"T_6a4fe890_5f94_11ed_ad85_b445066bfd9brow0_col3\" class=\"data row0 col3\" >Data Deficient</td>\n",
       "                        <td id=\"T_6a4fe890_5f94_11ed_ad85_b445066bfd9brow0_col4\" class=\"data row0 col4\" >Data Deficient</td>\n",
       "            </tr>\n",
       "    </tbody></table>"
      ],
      "text/plain": [
       "<pandas.io.formats.style.Styler at 0x1da96bf1cc8>"
      ]
     },
     "metadata": {},
     "output_type": "display_data"
    },
    {
     "data": {
      "text/html": [
       "<style  type=\"text/css\" >\n",
       "</style><table id=\"T_6a5160f4_5f94_11ed_b3db_b445066bfd9b\" ><thead>    <tr>        <th class=\"col_heading level0 col0\" >COSEWIC Designated Unit</th>        <th class=\"col_heading level0 col1\" >Status</th>        <th class=\"col_heading level0 col2\" >Trend</th>        <th class=\"col_heading level0 col3\" >Median percent change (last 3 generations)</th>        <th class=\"col_heading level0 col4\" >Median percent change (historic)</th>        <th class=\"col_heading level0 col5\" >Generation length</th>    </tr></thead><tbody>\n",
       "                <tr>\n",
       "                                <td id=\"T_6a5160f4_5f94_11ed_b3db_b445066bfd9brow0_col0\" class=\"data row0 col0\" >16 -Quesnel-S population</td>\n",
       "                        <td id=\"T_6a5160f4_5f94_11ed_b3db_b445066bfd9brow0_col1\" class=\"data row0 col1\" >Endangered</td>\n",
       "                        <td id=\"T_6a5160f4_5f94_11ed_b3db_b445066bfd9brow0_col2\" class=\"data row0 col2\" >Declining</td>\n",
       "                        <td id=\"T_6a5160f4_5f94_11ed_b3db_b445066bfd9brow0_col3\" class=\"data row0 col3\" >260,974</td>\n",
       "                        <td id=\"T_6a5160f4_5f94_11ed_b3db_b445066bfd9brow0_col4\" class=\"data row0 col4\" >-97%</td>\n",
       "                        <td id=\"T_6a5160f4_5f94_11ed_b3db_b445066bfd9brow0_col5\" class=\"data row0 col5\" >272%</td>\n",
       "            </tr>\n",
       "    </tbody></table>"
      ],
      "text/plain": [
       "<pandas.io.formats.style.Styler at 0x1da9a288948>"
      ]
     },
     "metadata": {},
     "output_type": "display_data"
    }
   ],
   "source": [
    "data = pd.read_csv('tables\\Sockeye1.csv', index_col=False).style.hide_index()\n",
    "\n",
    "display(data)\n",
    "data = pd.read_csv('tables\\Sockeye2.csv', index_col=False).style.hide_index()\n",
    "\n",
    "display(data)\n"
   ]
  },
  {
   "cell_type": "markdown",
   "metadata": {},
   "source": [
    "Sockeye Salmon have historically been the most abundant of the three focal species in the watershed, though the population has seen significant declines in recent years (DFO 1991, S. Hocquard pers. comm.). Sockeye Salmon spawning is known to occur throughout the Horsefly River (up to the impassable falls), in the Little Horsefly River between Gruhs Lake and Horsefly Lake, Moffat Creek (up to the impassible falls), and McKinley Creek up to Elbow Lake (PSF 2018, DFO 1991, S. Hocquard pers. comm.). Additionally, a spawning channel aimed at enhancing the Sockeye Salmon population was constructed by Fisheries and Oceans Canada in 1989 (DFO 1991). Currently, there are no Sockeye Salmon rearing in the Horsefly River watershed – all emergent fry migrate down to Quesnel Lake."
   ]
  }
 ],
 "metadata": {
  "kernelspec": {
   "display_name": "Python 3.9.12 ('base')",
   "language": "python",
   "name": "python3"
  },
  "language_info": {
   "codemirror_mode": {
    "name": "ipython",
    "version": 3
   },
   "file_extension": ".py",
   "mimetype": "text/x-python",
   "name": "python",
   "nbconvert_exporter": "python",
   "pygments_lexer": "ipython3",
   "version": "3.7.12"
  },
  "vscode": {
   "interpreter": {
    "hash": "1a691173e7a62553180679e561c07fad99f81da18576315296ff93022e033d3e"
   }
  }
 },
 "nbformat": 4,
 "nbformat_minor": 2
}