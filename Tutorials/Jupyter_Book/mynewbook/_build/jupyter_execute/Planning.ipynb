{
 "cells": [
  {
   "cell_type": "markdown",
   "metadata": {},
   "source": [
    "# Planning Team"
   ]
  },
  {
   "cell_type": "markdown",
   "metadata": {},
   "source": [
    "Table 1. Horsefly River watershed WCRP planning team members. Planning team members contributed to the development of this plan by participating in a series of workshops and document and data review. The plan was generated based on the input and feedback of the local groups and organizations listed in this table."
   ]
  },
  {
   "cell_type": "code",
   "execution_count": 1,
   "metadata": {
    "tags": [
     "remove-input"
    ]
   },
   "outputs": [
    {
     "data": {
      "text/html": [
       "<style  type=\"text/css\" >\n",
       "</style><table id=\"T_276dd7f6_1fdb_11ed_9734_b445066bfd9b\" ><thead>    <tr>        <th class=\"col_heading level0 col0\" >Name</th>        <th class=\"col_heading level0 col1\" >Organization</th>    </tr></thead><tbody>\n",
       "                <tr>\n",
       "                                <td id=\"T_276dd7f6_1fdb_11ed_9734_b445066bfd9brow0_col0\" class=\"data row0 col0\" >Betty Rebellato</td>\n",
       "                        <td id=\"T_276dd7f6_1fdb_11ed_9734_b445066bfd9brow0_col1\" class=\"data row0 col1\" >Canadian Wildlife Federation</td>\n",
       "            </tr>\n",
       "            <tr>\n",
       "                                <td id=\"T_276dd7f6_1fdb_11ed_9734_b445066bfd9brow1_col0\" class=\"data row1 col0\" >Nick Mazany-Wright</td>\n",
       "                        <td id=\"T_276dd7f6_1fdb_11ed_9734_b445066bfd9brow1_col1\" class=\"data row1 col1\" >Canadian Wildlife Federation</td>\n",
       "            </tr>\n",
       "            <tr>\n",
       "                                <td id=\"T_276dd7f6_1fdb_11ed_9734_b445066bfd9brow2_col0\" class=\"data row2 col0\" >Nicolas Lapointe</td>\n",
       "                        <td id=\"T_276dd7f6_1fdb_11ed_9734_b445066bfd9brow2_col1\" class=\"data row2 col1\" >Canadian Wildlife Federation</td>\n",
       "            </tr>\n",
       "            <tr>\n",
       "                                <td id=\"T_276dd7f6_1fdb_11ed_9734_b445066bfd9brow3_col0\" class=\"data row3 col0\" >Sarah Sra</td>\n",
       "                        <td id=\"T_276dd7f6_1fdb_11ed_9734_b445066bfd9brow3_col1\" class=\"data row3 col1\" >Canadian Wildlife Federation</td>\n",
       "            </tr>\n",
       "            <tr>\n",
       "                                <td id=\"T_276dd7f6_1fdb_11ed_9734_b445066bfd9brow4_col0\" class=\"data row4 col0\" >Colin McGregor</td>\n",
       "                        <td id=\"T_276dd7f6_1fdb_11ed_9734_b445066bfd9brow4_col1\" class=\"data row4 col1\" >Department of Fisheries and Oceans Canada</td>\n",
       "            </tr>\n",
       "            <tr>\n",
       "                                <td id=\"T_276dd7f6_1fdb_11ed_9734_b445066bfd9brow5_col0\" class=\"data row5 col0\" >Guy Scharf</td>\n",
       "                        <td id=\"T_276dd7f6_1fdb_11ed_9734_b445066bfd9brow5_col1\" class=\"data row5 col1\" >Department of Fisheries and Oceans Canada</td>\n",
       "            </tr>\n",
       "            <tr>\n",
       "                                <td id=\"T_276dd7f6_1fdb_11ed_9734_b445066bfd9brow6_col0\" class=\"data row6 col0\" >Thomas Gristey</td>\n",
       "                        <td id=\"T_276dd7f6_1fdb_11ed_9734_b445066bfd9brow6_col1\" class=\"data row6 col1\" >Department of Fisheries and Oceans Canada</td>\n",
       "            </tr>\n",
       "            <tr>\n",
       "                                <td id=\"T_276dd7f6_1fdb_11ed_9734_b445066bfd9brow7_col0\" class=\"data row7 col0\" >Simon Norris</td>\n",
       "                        <td id=\"T_276dd7f6_1fdb_11ed_9734_b445066bfd9brow7_col1\" class=\"data row7 col1\" >Hillcrest Geographics</td>\n",
       "            </tr>\n",
       "            <tr>\n",
       "                                <td id=\"T_276dd7f6_1fdb_11ed_9734_b445066bfd9brow8_col0\" class=\"data row8 col0\" >Brian Englund</td>\n",
       "                        <td id=\"T_276dd7f6_1fdb_11ed_9734_b445066bfd9brow8_col1\" class=\"data row8 col1\" >Horsefly River Roundtable</td>\n",
       "            </tr>\n",
       "            <tr>\n",
       "                                <td id=\"T_276dd7f6_1fdb_11ed_9734_b445066bfd9brow9_col0\" class=\"data row9 col0\" >Helen Englund</td>\n",
       "                        <td id=\"T_276dd7f6_1fdb_11ed_9734_b445066bfd9brow9_col1\" class=\"data row9 col1\" >Horsefly River Roundtable</td>\n",
       "            </tr>\n",
       "            <tr>\n",
       "                                <td id=\"T_276dd7f6_1fdb_11ed_9734_b445066bfd9brow10_col0\" class=\"data row10 col0\" >Judy Hillaby</td>\n",
       "                        <td id=\"T_276dd7f6_1fdb_11ed_9734_b445066bfd9brow10_col1\" class=\"data row10 col1\" >Horsefly River Roundtable</td>\n",
       "            </tr>\n",
       "            <tr>\n",
       "                                <td id=\"T_276dd7f6_1fdb_11ed_9734_b445066bfd9brow11_col0\" class=\"data row11 col0\" >Mike Ramsay</td>\n",
       "                        <td id=\"T_276dd7f6_1fdb_11ed_9734_b445066bfd9brow11_col1\" class=\"data row11 col1\" >Ministry of Forests, Lands and Natural Resource Operations</td>\n",
       "            </tr>\n",
       "            <tr>\n",
       "                                <td id=\"T_276dd7f6_1fdb_11ed_9734_b445066bfd9brow12_col0\" class=\"data row12 col0\" >Kate Hewitt</td>\n",
       "                        <td id=\"T_276dd7f6_1fdb_11ed_9734_b445066bfd9brow12_col1\" class=\"data row12 col1\" >Northern Shuswap Tribal Council</td>\n",
       "            </tr>\n",
       "            <tr>\n",
       "                                <td id=\"T_276dd7f6_1fdb_11ed_9734_b445066bfd9brow13_col0\" class=\"data row13 col0\" >Edna Boston</td>\n",
       "                        <td id=\"T_276dd7f6_1fdb_11ed_9734_b445066bfd9brow13_col1\" class=\"data row13 col1\" >Soda Creek Indian Band</td>\n",
       "            </tr>\n",
       "            <tr>\n",
       "                                <td id=\"T_276dd7f6_1fdb_11ed_9734_b445066bfd9brow14_col0\" class=\"data row14 col0\" >Mike Stinson</td>\n",
       "                        <td id=\"T_276dd7f6_1fdb_11ed_9734_b445066bfd9brow14_col1\" class=\"data row14 col1\" >Soda Creek Indian Band</td>\n",
       "            </tr>\n",
       "            <tr>\n",
       "                                <td id=\"T_276dd7f6_1fdb_11ed_9734_b445066bfd9brow15_col0\" class=\"data row15 col0\" >John Walker</td>\n",
       "                        <td id=\"T_276dd7f6_1fdb_11ed_9734_b445066bfd9brow15_col1\" class=\"data row15 col1\" >Williams Lake First Nation</td>\n",
       "            </tr>\n",
       "            <tr>\n",
       "                                <td id=\"T_276dd7f6_1fdb_11ed_9734_b445066bfd9brow16_col0\" class=\"data row16 col0\" >Nishitha Singi</td>\n",
       "                        <td id=\"T_276dd7f6_1fdb_11ed_9734_b445066bfd9brow16_col1\" class=\"data row16 col1\" >Williams Lake First Nation</td>\n",
       "            </tr>\n",
       "            <tr>\n",
       "                                <td id=\"T_276dd7f6_1fdb_11ed_9734_b445066bfd9brow17_col0\" class=\"data row17 col0\" >Josh Noseworthy</td>\n",
       "                        <td id=\"T_276dd7f6_1fdb_11ed_9734_b445066bfd9brow17_col1\" class=\"data row17 col1\" >Global Conservation Solutions</td>\n",
       "            </tr>\n",
       "    </tbody></table>"
      ],
      "text/plain": [
       "<pandas.io.formats.style.Styler at 0x1612b03b3c8>"
      ]
     },
     "metadata": {},
     "output_type": "display_data"
    }
   ],
   "source": [
    "from IPython.display import display, HTML\n",
    "import pandas as pd\n",
    "\n",
    "data = pd.read_csv('tables\\planning_team.csv', index_col=False).style.hide_index()\n",
    "\n",
    "display(data)"
   ]
  }
 ],
 "metadata": {
  "kernelspec": {
   "display_name": "Python 3.6.13 ('test')",
   "language": "python",
   "name": "python3"
  },
  "language_info": {
   "codemirror_mode": {
    "name": "ipython",
    "version": 3
   },
   "file_extension": ".py",
   "mimetype": "text/x-python",
   "name": "python",
   "nbconvert_exporter": "python",
   "pygments_lexer": "ipython3",
   "version": "3.7.0"
  },
  "vscode": {
   "interpreter": {
    "hash": "02285759289a2a234a5d4c85046e9439b3e176e044a7b90299f5d098441e6d04"
   }
  }
 },
 "nbformat": 4,
 "nbformat_minor": 2
}