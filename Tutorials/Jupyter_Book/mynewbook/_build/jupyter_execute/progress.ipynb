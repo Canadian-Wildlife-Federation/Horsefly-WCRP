{
 "cells": [
  {
   "cell_type": "markdown",
   "metadata": {},
   "source": [
    "# Progress Tracking Plan"
   ]
  },
  {
   "cell_type": "code",
   "execution_count": 1,
   "metadata": {
    "tags": [
     "remove-input"
    ]
   },
   "outputs": [
    {
     "data": {
      "text/html": [
       "<style  type=\"text/css\" >\n",
       "#T_f045719c_4a3f_11ed_8dc9_d4548bb590b3row0_col0,#T_f045719c_4a3f_11ed_8dc9_d4548bb590b3row0_col1,#T_f045719c_4a3f_11ed_8dc9_d4548bb590b3row0_col2,#T_f045719c_4a3f_11ed_8dc9_d4548bb590b3row0_col3,#T_f045719c_4a3f_11ed_8dc9_d4548bb590b3row0_col4,#T_f045719c_4a3f_11ed_8dc9_d4548bb590b3row0_col5,#T_f045719c_4a3f_11ed_8dc9_d4548bb590b3row1_col0,#T_f045719c_4a3f_11ed_8dc9_d4548bb590b3row1_col1,#T_f045719c_4a3f_11ed_8dc9_d4548bb590b3row1_col2,#T_f045719c_4a3f_11ed_8dc9_d4548bb590b3row1_col3,#T_f045719c_4a3f_11ed_8dc9_d4548bb590b3row1_col4,#T_f045719c_4a3f_11ed_8dc9_d4548bb590b3row1_col5,#T_f045719c_4a3f_11ed_8dc9_d4548bb590b3row2_col0,#T_f045719c_4a3f_11ed_8dc9_d4548bb590b3row2_col1,#T_f045719c_4a3f_11ed_8dc9_d4548bb590b3row2_col2,#T_f045719c_4a3f_11ed_8dc9_d4548bb590b3row2_col3,#T_f045719c_4a3f_11ed_8dc9_d4548bb590b3row2_col4,#T_f045719c_4a3f_11ed_8dc9_d4548bb590b3row2_col5,#T_f045719c_4a3f_11ed_8dc9_d4548bb590b3row3_col0,#T_f045719c_4a3f_11ed_8dc9_d4548bb590b3row3_col1,#T_f045719c_4a3f_11ed_8dc9_d4548bb590b3row3_col2,#T_f045719c_4a3f_11ed_8dc9_d4548bb590b3row3_col3,#T_f045719c_4a3f_11ed_8dc9_d4548bb590b3row3_col4,#T_f045719c_4a3f_11ed_8dc9_d4548bb590b3row3_col5,#T_f045719c_4a3f_11ed_8dc9_d4548bb590b3row4_col0,#T_f045719c_4a3f_11ed_8dc9_d4548bb590b3row4_col1,#T_f045719c_4a3f_11ed_8dc9_d4548bb590b3row4_col2,#T_f045719c_4a3f_11ed_8dc9_d4548bb590b3row4_col3,#T_f045719c_4a3f_11ed_8dc9_d4548bb590b3row4_col4,#T_f045719c_4a3f_11ed_8dc9_d4548bb590b3row4_col5{\n",
       "            text-align:  left;\n",
       "        }</style><table id=\"T_f045719c_4a3f_11ed_8dc9_d4548bb590b3\" ><thead>    <tr>        <th class=\"col_heading level0 col0\" >Goals / Objectives</th>        <th class=\"col_heading level0 col1\" >Indicator</th>        <th class=\"col_heading level0 col2\" >Methods</th>        <th class=\"col_heading level0 col3\" >Timeframe</th>        <th class=\"col_heading level0 col4\" >Who</th>        <th class=\"col_heading level0 col5\" >Comments</th>    </tr></thead><tbody>\n",
       "                <tr>\n",
       "                                <td id=\"T_f045719c_4a3f_11ed_8dc9_d4548bb590b3row0_col0\" class=\"data row0 col0\" >Goal 1: By 2040, the percent (%) of total linear habitat accessible to anadromous salmon will increase from 81% to 91% within the Horsefly River watershed.</td>\n",
       "                        <td id=\"T_f045719c_4a3f_11ed_8dc9_d4548bb590b3row0_col1\" class=\"data row0 col1\" >Percent (%) of total linear habitat accessible </td>\n",
       "                        <td id=\"T_f045719c_4a3f_11ed_8dc9_d4548bb590b3row0_col2\" class=\"data row0 col2\" >Field reports & as-built drawings informing the CWF Barrier Prioritization Model</td>\n",
       "                        <td id=\"T_f045719c_4a3f_11ed_8dc9_d4548bb590b3row0_col3\" class=\"data row0 col3\" >Annually</td>\n",
       "                        <td id=\"T_f045719c_4a3f_11ed_8dc9_d4548bb590b3row0_col4\" class=\"data row0 col4\" >CWF – Nick M.</td>\n",
       "                        <td id=\"T_f045719c_4a3f_11ed_8dc9_d4548bb590b3row0_col5\" class=\"data row0 col5\" >See CWF companion document for detailed GIS procedures</td>\n",
       "            </tr>\n",
       "            <tr>\n",
       "                                <td id=\"T_f045719c_4a3f_11ed_8dc9_d4548bb590b3row1_col0\" class=\"data row1 col0\" >Goal 2: By 2023, the total area of overwintering habitat accessible to anadromous salmon will increase by 1,500 m2 within the Horsefly River watershed.</td>\n",
       "                        <td id=\"T_f045719c_4a3f_11ed_8dc9_d4548bb590b3row1_col1\" class=\"data row1 col1\" >Total area (m2) of overwintering habitat accessible</td>\n",
       "                        <td id=\"T_f045719c_4a3f_11ed_8dc9_d4548bb590b3row1_col2\" class=\"data row1 col2\" >TBD</td>\n",
       "                        <td id=\"T_f045719c_4a3f_11ed_8dc9_d4548bb590b3row1_col3\" class=\"data row1 col3\" >TBD</td>\n",
       "                        <td id=\"T_f045719c_4a3f_11ed_8dc9_d4548bb590b3row1_col4\" class=\"data row1 col4\" >CWF – Nick M.</td>\n",
       "                        <td id=\"T_f045719c_4a3f_11ed_8dc9_d4548bb590b3row1_col5\" class=\"data row1 col5\" >Identified as a knowledge gap. Specifics are TBD.</td>\n",
       "            </tr>\n",
       "            <tr>\n",
       "                                <td id=\"T_f045719c_4a3f_11ed_8dc9_d4548bb590b3row2_col0\" class=\"data row2 col0\" >Objective 1: By 2040, 16 road-stream crossing barriers will be remediated in the Horsefly River watershed.</td>\n",
       "                        <td id=\"T_f045719c_4a3f_11ed_8dc9_d4548bb590b3row2_col1\" class=\"data row2 col1\" >The number (#) of road-stream crossings remediated</td>\n",
       "                        <td id=\"T_f045719c_4a3f_11ed_8dc9_d4548bb590b3row2_col2\" class=\"data row2 col2\" >CWF tracking within the Barrier Prioritization Model + PSCIS database</td>\n",
       "                        <td id=\"T_f045719c_4a3f_11ed_8dc9_d4548bb590b3row2_col3\" class=\"data row2 col3\" >Annually</td>\n",
       "                        <td id=\"T_f045719c_4a3f_11ed_8dc9_d4548bb590b3row2_col4\" class=\"data row2 col4\" >CWF - Nick M. & Betty</td>\n",
       "                        <td id=\"T_f045719c_4a3f_11ed_8dc9_d4548bb590b3row2_col5\" class=\"data row2 col5\" >See CWF companion document for detailed GIS procedures</td>\n",
       "            </tr>\n",
       "            <tr>\n",
       "                                <td id=\"T_f045719c_4a3f_11ed_8dc9_d4548bb590b3row3_col0\" class=\"data row3 col0\" >Objective 2: By 2023, a minimum of 1 lateral barrier will be remediated in the Horsefly River watershed.</td>\n",
       "                        <td id=\"T_f045719c_4a3f_11ed_8dc9_d4548bb590b3row3_col1\" class=\"data row3 col1\" >The number (#) of lateral barriers remediated</td>\n",
       "                        <td id=\"T_f045719c_4a3f_11ed_8dc9_d4548bb590b3row3_col2\" class=\"data row3 col2\" >TBD</td>\n",
       "                        <td id=\"T_f045719c_4a3f_11ed_8dc9_d4548bb590b3row3_col3\" class=\"data row3 col3\" >TBD</td>\n",
       "                        <td id=\"T_f045719c_4a3f_11ed_8dc9_d4548bb590b3row3_col4\" class=\"data row3 col4\" >CWF - Nick M. & Betty</td>\n",
       "                        <td id=\"T_f045719c_4a3f_11ed_8dc9_d4548bb590b3row3_col5\" class=\"data row3 col5\" >Identified as a knowledge gap. Specifics are TBD.</td>\n",
       "            </tr>\n",
       "            <tr>\n",
       "                                <td id=\"T_f045719c_4a3f_11ed_8dc9_d4548bb590b3row4_col0\" class=\"data row4 col0\" >Objective 3: By 2040, 4 dams will be remediated in the Horsefly River watershed.</td>\n",
       "                        <td id=\"T_f045719c_4a3f_11ed_8dc9_d4548bb590b3row4_col1\" class=\"data row4 col1\" >The number (#) of dams remediated</td>\n",
       "                        <td id=\"T_f045719c_4a3f_11ed_8dc9_d4548bb590b3row4_col2\" class=\"data row4 col2\" >CWF tracking within the Barrier Prioritization Model</td>\n",
       "                        <td id=\"T_f045719c_4a3f_11ed_8dc9_d4548bb590b3row4_col3\" class=\"data row4 col3\" >Annually</td>\n",
       "                        <td id=\"T_f045719c_4a3f_11ed_8dc9_d4548bb590b3row4_col4\" class=\"data row4 col4\" >CWF - Nick M. & Betty</td>\n",
       "                        <td id=\"T_f045719c_4a3f_11ed_8dc9_d4548bb590b3row4_col5\" class=\"data row4 col5\" >See CWF companion document for detailed GIS procedures</td>\n",
       "            </tr>\n",
       "    </tbody></table>"
      ],
      "text/plain": [
       "<pandas.io.formats.style.Styler at 0x20666034788>"
      ]
     },
     "execution_count": 1,
     "metadata": {},
     "output_type": "execute_result"
    }
   ],
   "source": [
    "from IPython.display import display\n",
    "import pandas as pd\n",
    "\n",
    "data = pd.read_csv('tables\\Table12.csv', index_col=False)\n",
    "\n",
    "data.style.hide_index().set_properties(**{'text-align': 'left'})"
   ]
  }
 ],
 "metadata": {
  "kernelspec": {
   "display_name": "Python 3.7.0 ('test')",
   "language": "python",
   "name": "python3"
  },
  "language_info": {
   "codemirror_mode": {
    "name": "ipython",
    "version": 3
   },
   "file_extension": ".py",
   "mimetype": "text/x-python",
   "name": "python",
   "nbconvert_exporter": "python",
   "pygments_lexer": "ipython3",
   "version": "3.7.12"
  },
  "vscode": {
   "interpreter": {
    "hash": "4d32f471e4c787df35246a436d6b5da50fcc80632abe0dd119be69a8b3537624"
   }
  }
 },
 "nbformat": 4,
 "nbformat_minor": 2
}