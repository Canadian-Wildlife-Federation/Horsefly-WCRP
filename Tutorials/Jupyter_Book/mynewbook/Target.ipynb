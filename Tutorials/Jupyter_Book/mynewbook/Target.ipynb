{
    "cells": [
        {
            "cell_type": "markdown",
            "metadata": {},
            "source": [
                "# Target species"
            ]
        },
        {
            "cell_type": "markdown",
            "metadata": {},
            "source": [
                "Target species represent the ecologically and culturally important species for which habitat connectivity is being conserved and/or restored in the watershed. In the Horsefly River watershed, the planning team selected Anadromous Salmon as the target species group, which comprises Chinook Salmon, Coho Salmon, and Sockeye Salmon. The selection of these target species was driven primarily by the targets species of the primary fund supporting this planning work. "
            ]
        },
        {
            "cell_type": "markdown",
            "metadata": {},
            "source": [
                "### Anadromous Salmonids"
            ]
        },
        {
            "cell_type": "markdown",
            "metadata": {},
            "source": [
                "Anadromous salmon are cultural and ecological keystone species that contribute to productive ecosystems by contributing marine-derived nutrients to the watershed and forming an important food source for other species. Salmon species are sacred to the NStQ, having sustained life, trading economies, and culture since time immemorial (Williams Lake First Nation 2021, Xatśūll First Nation 2021, N. Singi pers. comm.). The stewardship of the resources and fisheries in their traditional territories are imbued in the spirit of the NStQ through a symbiotic relationship based on respect – the NStQ never take more salmon than is needed and there is no waste. The entirety of the salmon is used - smoked and dried to sustain the NStQ through the winter months, the roe harvested for consumption, salmon oil rendered to be stored and traded, and the skin used to store the oil (Wilson et al. 1998, Xatśūll First Nation 2021, N. Singi pers. comm.). The salmon runs begin to return to the Horsefly River watershed in early August, and the NStQ traditionally celebrate and feast at this time. The harvest of the salmon strengthens the cultural connection to the land and the waters, providing an important food source for communities and the opportunity to pass knowledge and ceremony to future generations through fishing and fish processing (Xatśūll First Nation 2021, Williams Lake First Nation 2021). \n",
                "\n",
                "Anadromous salmon populations in the Horsefly River watershed have declined significantly in the past few decades, with the populations of all three focal species being listed as Threatened or Endangered by the Committee On the Status of Endangered Wildlife In Canada (COSEWIC). This has been exacerbated by the Big Bar landslide on the Fraser River in 2019, leading the four NStQ communities to voluntarily close the salmon fishery from 2019-2022. The stewardship of their waters continues through the work of the NStQ member communities and the Northern Shuswap Tribal Council. See Appendix A for maps of modelled anadromous salmon habitat in the Horsefly River Watershed. "
            ]
        },
        {
            "cell_type": "markdown",
            "metadata": {},
            "source": [
                "### Chinook Salmon | Kekèsu | Oncorhynchus tshawytscha "
            ]
        },
        {
            "cell_type": "markdown",
            "metadata": {},
            "source": [
                "Table 4. Chinook Salmon population assessments in the Horsefly River watershed. Conservation Unit assessments were undertaken by the [Pacific Salmon Foundation](https://www.salmonexplorer.ca/#!/fraser/chinook/middle-fraser-river-spring-5-2) ([2020](https://salmonwatersheds.ca/libraryfiles/lib_459.pdf)). Designated Unit assessments were undertaken by [COSEWIC](https://www.canada.ca/en/environment-climate-change/services/species-risk-public-registry/cosewic-assessments-status-reports/chinook-salmon-2018.html) (2018)."
            ]
        },
        {
            "cell_type": "code",
            "execution_count": 1,
            "metadata": {
                "tags": [
                    "remove-input"
                ]
            },
            "outputs": [
                {
                    "data": {
                        "text/html": [
                            "<style type=\"text/css\">\n",
                            "</style>\n",
                            "<table id=\"T_0f8d6_\">\n",
                            "  <thead>\n",
                            "    <tr>\n",
                            "      <th class=\"col_heading level0 col0\" >Conservation Unit</th>\n",
                            "      <th class=\"col_heading level0 col1\" >Biological Status</th>\n",
                            "      <th class=\"col_heading level0 col2\" >Run timing</th>\n",
                            "      <th class=\"col_heading level0 col3\" >Trend in spawner abundance (all available data)</th>\n",
                            "      <th class=\"col_heading level0 col4\" >Trend in spawner abundance (last 3 generations)</th>\n",
                            "    </tr>\n",
                            "  </thead>\n",
                            "  <tbody>\n",
                            "    <tr>\n",
                            "      <td id=\"T_0f8d6_row0_col0\" class=\"data row0 col0\" >Middle Skeena – Mainstem Tributaries</td>\n",
                            "      <td id=\"T_0f8d6_row0_col1\" class=\"data row0 col1\" >Good</td>\n",
                            "      <td id=\"T_0f8d6_row0_col2\" class=\"data row0 col2\" >July-September</td>\n",
                            "      <td id=\"T_0f8d6_row0_col3\" class=\"data row0 col3\" >575%</td>\n",
                            "      <td id=\"T_0f8d6_row0_col4\" class=\"data row0 col4\" >-63%</td>\n",
                            "    </tr>\n",
                            "    <tr>\n",
                            "      <td id=\"T_0f8d6_row1_col0\" class=\"data row1 col0\" >Upper Bulkley River</td>\n",
                            "      <td id=\"T_0f8d6_row1_col1\" class=\"data row1 col1\" >Data Deficient</td>\n",
                            "      <td id=\"T_0f8d6_row1_col2\" class=\"data row1 col2\" >Data Deficient</td>\n",
                            "      <td id=\"T_0f8d6_row1_col3\" class=\"data row1 col3\" >Data Deficient</td>\n",
                            "      <td id=\"T_0f8d6_row1_col4\" class=\"data row1 col4\" >Data Deficient</td>\n",
                            "    </tr>\n",
                            "  </tbody>\n",
                            "</table>\n"
                        ],
                        "text/plain": [
                            "<pandas.io.formats.style.Styler at 0x1e758e44ec8>"
                        ]
                    },
                    "metadata": {},
                    "output_type": "display_data"
                }
            ],
            "source": [
                "\n",
                "\n",
                "from IPython.display import display, HTML\n",
                "import pandas as pd\n",
                "\n",
                "data = pd.read_csv('tables\\chinook.csv', index_col=False).style.hide_index()\n",
                "\n",
                "display(data)\n"
            ]
        }
    ],
    "metadata": {
        "kernelspec": {
            "display_name": "Python 3.9.12 ('base')",
            "language": "python",
            "name": "python3"
        },
        "language_info": {
            "codemirror_mode": {
                "name": "ipython",
                "version": 3
            },
            "file_extension": ".py",
            "mimetype": "text/x-python",
            "name": "python",
            "nbconvert_exporter": "python",
            "pygments_lexer": "ipython3",
            "version": "3.9.12"
        },
        "orig_nbformat": 4,
        "vscode": {
            "interpreter": {
                "hash": "1a691173e7a62553180679e561c07fad99f81da18576315296ff93022e033d3e"
            }
        }
    },
    "nbformat": 4,
    "nbformat_minor": 2
}
