{
 "cells": [
  {
   "cell_type": "markdown",
   "metadata": {},
   "source": [
    "# Key Ecological Attributes and Current Connectivity Status"
   ]
  },
  {
   "cell_type": "markdown",
   "metadata": {},
   "source": [
    "The planning team devised two Key Ecological Attributes (KEAs) and associated indicators to assess the current connectivity status of the watershed – Accessible Habitat and Accessible Overwintering Habitat (Table 7). KEAs are the key aspects of anadromous salmon ecology that are being targeted by this WCRP. The connectivity status of Anadromous Salmon was used to establish goals to improve habitat connectivity in the watershed and will be the baseline against which progress is tracked over time. \n",
    "\n",
    "The current connectivity status assessment relies on GIS analyses to map known and modelled barriers to fish passage, identify stream reaches that have potential spawning and rearing habitat, estimate the proportion of habitat that is currently accessible to target species, and prioritize barriers for field assessment that would provide the greatest gains in connectivity. To support a flexible prioritization framework to identify priority barriers in the watershed, two assumptions are made: 1) any modelled (i.e., passability status is unknown) or partial barriers are treated as complete barriers to passage and 2) the habitat modelling is binary, it does not assign any habitat quality values. As such, the current connectivity status will be refined over time as more data on habitat and barriers are collected. For more detail on how the connectivity status assessments were conducted, see Appendix B. "
   ]
  },
  {
   "cell_type": "markdown",
   "metadata": {},
   "source": [
    "Table 7. Connectivity status assessment for (a) linear habitat (spawning and rearing) and (b) overwintering habitat in the Horsefly River watershed. The Available Habitat KEA is evaluated by dividing the length of linear habitat that is currently accessible to target species by the total length of all linear habitat in the watershed. The Available Overwintering Habitat KEA is evaluated as the sum of all areal overwintering habitat that is accessible to target species. "
   ]
  },
  {
   "cell_type": "code",
   "execution_count": 18,
   "metadata": {},
   "outputs": [
    {
     "ename": "ValueError",
     "evalue": "If using all scalar values, you must pass an index",
     "output_type": "error",
     "traceback": [
      "\u001b[1;31m---------------------------------------------------------------------------\u001b[0m",
      "\u001b[1;31mValueError\u001b[0m                                Traceback (most recent call last)",
      "\u001b[1;32m~\\AppData\\Local\\Temp\\ipykernel_16196\\3849460010.py\u001b[0m in \u001b[0;36m<module>\u001b[1;34m\u001b[0m\n\u001b[0;32m      8\u001b[0m \u001b[1;33m\u001b[0m\u001b[0m\n\u001b[0;32m      9\u001b[0m df = pd.DataFrame({\"Barrier Types\": pd.DataFrame([[\"Road-Stream Crossings\",\"Lateral Barriers\"],[\"Road-Stream Crossings\",\"Lateral Barriers\"]]),\n\u001b[1;32m---> 10\u001b[1;33m                    \u001b[1;34m\"Extent\"\u001b[0m\u001b[1;33m:\u001b[0m \u001b[0mpd\u001b[0m\u001b[1;33m.\u001b[0m\u001b[0mDataFrame\u001b[0m\u001b[1;33m(\u001b[0m\u001b[1;33m[\u001b[0m\u001b[1;33m[\u001b[0m\u001b[1;34m'mew'\u001b[0m\u001b[1;33m,\u001b[0m\u001b[1;34m\"High\"\u001b[0m\u001b[1;33m,\u001b[0m\u001b[1;34m'mew'\u001b[0m\u001b[1;33m,\u001b[0m \u001b[1;34m\"Low\"\u001b[0m\u001b[1;33m,\u001b[0m \u001b[1;34m\"Medium\"\u001b[0m\u001b[1;33m]\u001b[0m\u001b[1;33m,\u001b[0m\u001b[1;33m[\u001b[0m\u001b[1;34m'mew'\u001b[0m\u001b[1;33m,\u001b[0m\u001b[1;34m\"High\"\u001b[0m\u001b[1;33m,\u001b[0m\u001b[1;34m'mew'\u001b[0m\u001b[1;33m,\u001b[0m \u001b[1;34m\"Low\"\u001b[0m\u001b[1;33m,\u001b[0m \u001b[1;34m\"Medium\"\u001b[0m\u001b[1;33m]\u001b[0m\u001b[1;33m]\u001b[0m\u001b[1;33m,\u001b[0m \u001b[0mcolumns\u001b[0m\u001b[1;33m=\u001b[0m\u001b[1;33m[\u001b[0m\u001b[1;34m'mew'\u001b[0m\u001b[1;33m,\u001b[0m\u001b[1;34m\"High\"\u001b[0m\u001b[1;33m,\u001b[0m\u001b[1;34m'mew'\u001b[0m\u001b[1;33m,\u001b[0m \u001b[1;34m\"Low\"\u001b[0m\u001b[1;33m,\u001b[0m \u001b[1;34m\"Medium\"\u001b[0m\u001b[1;33m]\u001b[0m\u001b[1;33m)\u001b[0m\u001b[1;33m\u001b[0m\u001b[0m\n\u001b[0m\u001b[0;32m     11\u001b[0m                    })\n\u001b[0;32m     12\u001b[0m \u001b[1;33m\u001b[0m\u001b[0m\n",
      "\u001b[1;32mc:\\Users\\TMillaKoch\\Anaconda3\\envs\\test\\lib\\site-packages\\pandas\\core\\frame.py\u001b[0m in \u001b[0;36m__init__\u001b[1;34m(self, data, index, columns, dtype, copy)\u001b[0m\n\u001b[0;32m    466\u001b[0m \u001b[1;33m\u001b[0m\u001b[0m\n\u001b[0;32m    467\u001b[0m         \u001b[1;32melif\u001b[0m \u001b[0misinstance\u001b[0m\u001b[1;33m(\u001b[0m\u001b[0mdata\u001b[0m\u001b[1;33m,\u001b[0m \u001b[0mdict\u001b[0m\u001b[1;33m)\u001b[0m\u001b[1;33m:\u001b[0m\u001b[1;33m\u001b[0m\u001b[0m\n\u001b[1;32m--> 468\u001b[1;33m             \u001b[0mmgr\u001b[0m \u001b[1;33m=\u001b[0m \u001b[0minit_dict\u001b[0m\u001b[1;33m(\u001b[0m\u001b[0mdata\u001b[0m\u001b[1;33m,\u001b[0m \u001b[0mindex\u001b[0m\u001b[1;33m,\u001b[0m \u001b[0mcolumns\u001b[0m\u001b[1;33m,\u001b[0m \u001b[0mdtype\u001b[0m\u001b[1;33m=\u001b[0m\u001b[0mdtype\u001b[0m\u001b[1;33m)\u001b[0m\u001b[1;33m\u001b[0m\u001b[0m\n\u001b[0m\u001b[0;32m    469\u001b[0m         \u001b[1;32melif\u001b[0m \u001b[0misinstance\u001b[0m\u001b[1;33m(\u001b[0m\u001b[0mdata\u001b[0m\u001b[1;33m,\u001b[0m \u001b[0mma\u001b[0m\u001b[1;33m.\u001b[0m\u001b[0mMaskedArray\u001b[0m\u001b[1;33m)\u001b[0m\u001b[1;33m:\u001b[0m\u001b[1;33m\u001b[0m\u001b[0m\n\u001b[0;32m    470\u001b[0m             \u001b[1;32mimport\u001b[0m \u001b[0mnumpy\u001b[0m\u001b[1;33m.\u001b[0m\u001b[0mma\u001b[0m\u001b[1;33m.\u001b[0m\u001b[0mmrecords\u001b[0m \u001b[1;32mas\u001b[0m \u001b[0mmrecords\u001b[0m\u001b[1;33m\u001b[0m\u001b[0m\n",
      "\u001b[1;32mc:\\Users\\TMillaKoch\\Anaconda3\\envs\\test\\lib\\site-packages\\pandas\\core\\internals\\construction.py\u001b[0m in \u001b[0;36minit_dict\u001b[1;34m(data, index, columns, dtype)\u001b[0m\n\u001b[0;32m    281\u001b[0m             \u001b[0marr\u001b[0m \u001b[1;32mif\u001b[0m \u001b[1;32mnot\u001b[0m \u001b[0mis_datetime64tz_dtype\u001b[0m\u001b[1;33m(\u001b[0m\u001b[0marr\u001b[0m\u001b[1;33m)\u001b[0m \u001b[1;32melse\u001b[0m \u001b[0marr\u001b[0m\u001b[1;33m.\u001b[0m\u001b[0mcopy\u001b[0m\u001b[1;33m(\u001b[0m\u001b[1;33m)\u001b[0m \u001b[1;32mfor\u001b[0m \u001b[0marr\u001b[0m \u001b[1;32min\u001b[0m \u001b[0marrays\u001b[0m\u001b[1;33m\u001b[0m\u001b[0m\n\u001b[0;32m    282\u001b[0m         ]\n\u001b[1;32m--> 283\u001b[1;33m     \u001b[1;32mreturn\u001b[0m \u001b[0marrays_to_mgr\u001b[0m\u001b[1;33m(\u001b[0m\u001b[0marrays\u001b[0m\u001b[1;33m,\u001b[0m \u001b[0mdata_names\u001b[0m\u001b[1;33m,\u001b[0m \u001b[0mindex\u001b[0m\u001b[1;33m,\u001b[0m \u001b[0mcolumns\u001b[0m\u001b[1;33m,\u001b[0m \u001b[0mdtype\u001b[0m\u001b[1;33m=\u001b[0m\u001b[0mdtype\u001b[0m\u001b[1;33m)\u001b[0m\u001b[1;33m\u001b[0m\u001b[0m\n\u001b[0m\u001b[0;32m    284\u001b[0m \u001b[1;33m\u001b[0m\u001b[0m\n\u001b[0;32m    285\u001b[0m \u001b[1;33m\u001b[0m\u001b[0m\n",
      "\u001b[1;32mc:\\Users\\TMillaKoch\\Anaconda3\\envs\\test\\lib\\site-packages\\pandas\\core\\internals\\construction.py\u001b[0m in \u001b[0;36marrays_to_mgr\u001b[1;34m(arrays, arr_names, index, columns, dtype, verify_integrity)\u001b[0m\n\u001b[0;32m     76\u001b[0m         \u001b[1;31m# figure out the index, if necessary\u001b[0m\u001b[1;33m\u001b[0m\u001b[1;33m\u001b[0m\u001b[0m\n\u001b[0;32m     77\u001b[0m         \u001b[1;32mif\u001b[0m \u001b[0mindex\u001b[0m \u001b[1;32mis\u001b[0m \u001b[1;32mNone\u001b[0m\u001b[1;33m:\u001b[0m\u001b[1;33m\u001b[0m\u001b[0m\n\u001b[1;32m---> 78\u001b[1;33m             \u001b[0mindex\u001b[0m \u001b[1;33m=\u001b[0m \u001b[0mextract_index\u001b[0m\u001b[1;33m(\u001b[0m\u001b[0marrays\u001b[0m\u001b[1;33m)\u001b[0m\u001b[1;33m\u001b[0m\u001b[0m\n\u001b[0m\u001b[0;32m     79\u001b[0m         \u001b[1;32melse\u001b[0m\u001b[1;33m:\u001b[0m\u001b[1;33m\u001b[0m\u001b[0m\n\u001b[0;32m     80\u001b[0m             \u001b[0mindex\u001b[0m \u001b[1;33m=\u001b[0m \u001b[0mensure_index\u001b[0m\u001b[1;33m(\u001b[0m\u001b[0mindex\u001b[0m\u001b[1;33m)\u001b[0m\u001b[1;33m\u001b[0m\u001b[0m\n",
      "\u001b[1;32mc:\\Users\\TMillaKoch\\Anaconda3\\envs\\test\\lib\\site-packages\\pandas\\core\\internals\\construction.py\u001b[0m in \u001b[0;36mextract_index\u001b[1;34m(data)\u001b[0m\n\u001b[0;32m    385\u001b[0m \u001b[1;33m\u001b[0m\u001b[0m\n\u001b[0;32m    386\u001b[0m         \u001b[1;32mif\u001b[0m \u001b[1;32mnot\u001b[0m \u001b[0mindexes\u001b[0m \u001b[1;32mand\u001b[0m \u001b[1;32mnot\u001b[0m \u001b[0mraw_lengths\u001b[0m\u001b[1;33m:\u001b[0m\u001b[1;33m\u001b[0m\u001b[0m\n\u001b[1;32m--> 387\u001b[1;33m             \u001b[1;32mraise\u001b[0m \u001b[0mValueError\u001b[0m\u001b[1;33m(\u001b[0m\u001b[1;34m\"If using all scalar values, you must pass an index\"\u001b[0m\u001b[1;33m)\u001b[0m\u001b[1;33m\u001b[0m\u001b[0m\n\u001b[0m\u001b[0;32m    388\u001b[0m \u001b[1;33m\u001b[0m\u001b[0m\n\u001b[0;32m    389\u001b[0m         \u001b[1;32mif\u001b[0m \u001b[0mhave_series\u001b[0m\u001b[1;33m:\u001b[0m\u001b[1;33m\u001b[0m\u001b[0m\n",
      "\u001b[1;31mValueError\u001b[0m: If using all scalar values, you must pass an index"
     ]
    }
   ],
   "source": [
    "#creating table 7\n",
    "import pandas as pd\n",
    "import numpy as np\n",
    "import matplotlib as mpl\n",
    "\n",
    "# df = pd.DataFrame([[\"Anadromous Salmon\", \"Available Habitat\", \"percantage of total linear habitat accessible\", \"<80%\", \"\", \"81-90%\", \">90%\", \"Anadromous Salmon\", \"Available Habitat\", \"percantage of total linear habitat accessible\", \"<80%\", \"\", \"81-90%\", \">90%\"]],\n",
    "#                   columns = pd.MultiIndex.from_product([['a', 'Indicator Ratings'],['target species', 'KEA', 'Indicator', 'Poor', 'Fair', 'Good', 'Very Good']]))\n",
    "\n",
    "df = pd.DataFrame({\"Barrier Types\": pd.DataFrame([[\"Road-Stream Crossings\",\"Lateral Barriers\"],[\"Road-Stream Crossings\",\"Lateral Barriers\"]]),\n",
    "                   \"Extent\": pd.DataFrame([['mew',\"High\",'mew', \"Low\", \"Medium\"],['mew',\"High\",'mew', \"Low\", \"Medium\"]], columns=['mew',\"High\",'mew', \"Low\", \"Medium\"])\n",
    "                   })\n",
    "\n",
    "df.style.hide_index()\n"
   ]
  },
  {
   "cell_type": "markdown",
   "metadata": {},
   "source": [
    "![Table7](Table7.png)"
   ]
  },
  {
   "cell_type": "markdown",
   "metadata": {},
   "source": [
    "# Barrier Types"
   ]
  },
  {
   "cell_type": "markdown",
   "metadata": {},
   "source": [
    "The following table highlights which barrier types pose the greatest threat to anadromous salmon in the watershed. The results of this assessment were used to inform the subsequent planning steps, as well as to identify knowledge gaps where there is little spatial data to inform the assessment for a specific barrier type. \n",
    "\n",
    "Table 8. Barrier Types in the Horsefly River watershed and barrier rating assessment results. For each barrier type listed, \"Extent refers to the proportion of anadromous salmon habitat that is being blocked by that barrier type, \"Severity\" is the proportion of structures for each barrier type that are known to block passage for target species based on field assessments, and \"Irreversibility\" is the degree to which the effects of a barrier type can be reversed and connectivity restored. The amount of habitat blocked used in this exercise is a representation of total amount of combined spawning and rearing habitat. All ratings in this table have been updated from version 1.0 to version 2.0 of the Horsefly River Watershed Connectivity Remediation Plan based on the most recent field assessments.\n",
    "\n",
    "![table8](Table8.png)"
   ]
  },
  {
   "cell_type": "code",
   "execution_count": 3,
   "metadata": {
    "tags": [
     "remove-input",
     "remove-output"
    ]
   },
   "outputs": [],
   "source": [
    "import requests\n",
    "import json\n",
    "import pandas\n",
    "\n",
    "def barrier_extent(barrier_type):\n",
    "\n",
    "    request = 'https://features.hillcrestgeo.ca/bcfishpass/functions/postgisftw.wcrp_barrier_extent/items.json?watershed_group_code=HORS&barrier_type=' + barrier_type\n",
    "\n",
    "    response_api = requests.get(request)\n",
    "    parse = response_api.text\n",
    "    result = json.loads(parse)\n",
    "\n",
    "    blocked_km = result[0]['all_habitat_blocked_km']\n",
    "    blocked_pct = result[0]['all_habitat_blocked_pct']\n",
    "\n",
    "    return blocked_km, blocked_pct\n",
    "\n",
    "def barrier_count(barrier_type):\n",
    "    request = 'https://features.hillcrestgeo.ca/bcfishpass/functions/postgisftw.wcrp_barrier_count/items.json?watershed_group_code=HORS&barrier_type=' + barrier_type\n",
    "\n",
    "    response_api = requests.get(request)\n",
    "    parse = response_api.text\n",
    "    result = json.loads(parse)\n",
    "\n",
    "    n_passable = result[0]['n_passable']\n",
    "    n_barrier = result[0]['n_barrier']\n",
    "    n_potential = result[0]['n_potential']\n",
    "    n_unknown = result[0]['n_unknown']\n",
    "\n",
    "    sum_bar = (n_passable, n_barrier, n_potential, n_unknown)\n",
    "\n",
    "    return n_passable, n_barrier, n_potential, n_unknown, sum(sum_bar)\n",
    "\n",
    "def barrier_severity(barrier_type):\n",
    "\n",
    "    request = 'https://features.hillcrestgeo.ca/bcfishpass/functions/postgisftw.wcrp_barrier_severity/items.json?watershed_group_code=HORS&barrier_type=' + barrier_type\n",
    "\n",
    "    response_api = requests.get(request)\n",
    "    parse = response_api.text\n",
    "    result = json.loads(parse)\n",
    "\n",
    "    n_assessed_barrier = result[0]['n_assessed_barrier']\n",
    "    n_assess_total = result[0]['n_assess_total']\n",
    "    pct_assessed_barrier = result[0]['pct_assessed_barrier']\n",
    "\n",
    "    return n_assessed_barrier, n_assess_total, pct_assessed_barrier"
   ]
  },
  {
   "cell_type": "code",
   "execution_count": 7,
   "metadata": {
    "tags": [
     "remove-input"
    ]
   },
   "outputs": [
    {
     "data": {
      "text/html": [
       "<style  type=\"text/css\" >\n",
       "#T_8baffd00_1362_11ed_a17d_d4548bb590b3row0_col0,#T_8baffd00_1362_11ed_a17d_d4548bb590b3row1_col0,#T_8baffd00_1362_11ed_a17d_d4548bb590b3row2_col0,#T_8baffd00_1362_11ed_a17d_d4548bb590b3row3_col0,#T_8baffd00_1362_11ed_a17d_d4548bb590b3row4_col0{\n",
       "            background-color:  white;\n",
       "        }#T_8baffd00_1362_11ed_a17d_d4548bb590b3row0_col1,#T_8baffd00_1362_11ed_a17d_d4548bb590b3row1_col1,#T_8baffd00_1362_11ed_a17d_d4548bb590b3row1_col3,#T_8baffd00_1362_11ed_a17d_d4548bb590b3row1_col4,#T_8baffd00_1362_11ed_a17d_d4548bb590b3row2_col2,#T_8baffd00_1362_11ed_a17d_d4548bb590b3row2_col3,#T_8baffd00_1362_11ed_a17d_d4548bb590b3row4_col2{\n",
       "            background-color:  #ffff00;\n",
       "        }#T_8baffd00_1362_11ed_a17d_d4548bb590b3row0_col2,#T_8baffd00_1362_11ed_a17d_d4548bb590b3row0_col4,#T_8baffd00_1362_11ed_a17d_d4548bb590b3row1_col2{\n",
       "            background-color:  #ff0000;\n",
       "        }#T_8baffd00_1362_11ed_a17d_d4548bb590b3row0_col3,#T_8baffd00_1362_11ed_a17d_d4548bb590b3row2_col1,#T_8baffd00_1362_11ed_a17d_d4548bb590b3row2_col4,#T_8baffd00_1362_11ed_a17d_d4548bb590b3row3_col3,#T_8baffd00_1362_11ed_a17d_d4548bb590b3row4_col1{\n",
       "            background-color:  #92d050;\n",
       "        }#T_8baffd00_1362_11ed_a17d_d4548bb590b3row3_col1,#T_8baffd00_1362_11ed_a17d_d4548bb590b3row3_col2,#T_8baffd00_1362_11ed_a17d_d4548bb590b3row3_col4,#T_8baffd00_1362_11ed_a17d_d4548bb590b3row4_col3,#T_8baffd00_1362_11ed_a17d_d4548bb590b3row4_col4{\n",
       "            background-color:  #03853e;\n",
       "        }</style><table id=\"T_8baffd00_1362_11ed_a17d_d4548bb590b3\" ><thead>    <tr>        <th class=\"col_heading level0 col0\" >Barrier Types</th>        <th class=\"col_heading level0 col1\" >Extent</th>        <th class=\"col_heading level0 col2\" >Severity</th>        <th class=\"col_heading level0 col3\" >Irreversibility</th>        <th class=\"col_heading level0 col4\" >Overall Threat Rating:</th>    </tr></thead><tbody>\n",
       "                <tr>\n",
       "                                <td id=\"T_8baffd00_1362_11ed_a17d_d4548bb590b3row0_col0\" class=\"data row0 col0\" >Road-Stream Crossings</td>\n",
       "                        <td id=\"T_8baffd00_1362_11ed_a17d_d4548bb590b3row0_col1\" class=\"data row0 col1\" >High</td>\n",
       "                        <td id=\"T_8baffd00_1362_11ed_a17d_d4548bb590b3row0_col2\" class=\"data row0 col2\" >Very High</td>\n",
       "                        <td id=\"T_8baffd00_1362_11ed_a17d_d4548bb590b3row0_col3\" class=\"data row0 col3\" >Medium</td>\n",
       "                        <td id=\"T_8baffd00_1362_11ed_a17d_d4548bb590b3row0_col4\" class=\"data row0 col4\" >Very High</td>\n",
       "            </tr>\n",
       "            <tr>\n",
       "                                <td id=\"T_8baffd00_1362_11ed_a17d_d4548bb590b3row1_col0\" class=\"data row1 col0\" >Lateral Barriers</td>\n",
       "                        <td id=\"T_8baffd00_1362_11ed_a17d_d4548bb590b3row1_col1\" class=\"data row1 col1\" >High</td>\n",
       "                        <td id=\"T_8baffd00_1362_11ed_a17d_d4548bb590b3row1_col2\" class=\"data row1 col2\" >Very High</td>\n",
       "                        <td id=\"T_8baffd00_1362_11ed_a17d_d4548bb590b3row1_col3\" class=\"data row1 col3\" >High</td>\n",
       "                        <td id=\"T_8baffd00_1362_11ed_a17d_d4548bb590b3row1_col4\" class=\"data row1 col4\" >High</td>\n",
       "            </tr>\n",
       "            <tr>\n",
       "                                <td id=\"T_8baffd00_1362_11ed_a17d_d4548bb590b3row2_col0\" class=\"data row2 col0\" >Small Dams(<3m height)</td>\n",
       "                        <td id=\"T_8baffd00_1362_11ed_a17d_d4548bb590b3row2_col1\" class=\"data row2 col1\" >Medium</td>\n",
       "                        <td id=\"T_8baffd00_1362_11ed_a17d_d4548bb590b3row2_col2\" class=\"data row2 col2\" >High</td>\n",
       "                        <td id=\"T_8baffd00_1362_11ed_a17d_d4548bb590b3row2_col3\" class=\"data row2 col3\" >High</td>\n",
       "                        <td id=\"T_8baffd00_1362_11ed_a17d_d4548bb590b3row2_col4\" class=\"data row2 col4\" >Medium</td>\n",
       "            </tr>\n",
       "            <tr>\n",
       "                                <td id=\"T_8baffd00_1362_11ed_a17d_d4548bb590b3row3_col0\" class=\"data row3 col0\" >Trail-stream Crossings</td>\n",
       "                        <td id=\"T_8baffd00_1362_11ed_a17d_d4548bb590b3row3_col1\" class=\"data row3 col1\" >Low</td>\n",
       "                        <td id=\"T_8baffd00_1362_11ed_a17d_d4548bb590b3row3_col2\" class=\"data row3 col2\" >Low</td>\n",
       "                        <td id=\"T_8baffd00_1362_11ed_a17d_d4548bb590b3row3_col3\" class=\"data row3 col3\" >Medium</td>\n",
       "                        <td id=\"T_8baffd00_1362_11ed_a17d_d4548bb590b3row3_col4\" class=\"data row3 col4\" >Low</td>\n",
       "            </tr>\n",
       "            <tr>\n",
       "                                <td id=\"T_8baffd00_1362_11ed_a17d_d4548bb590b3row4_col0\" class=\"data row4 col0\" >Natural Barriers</td>\n",
       "                        <td id=\"T_8baffd00_1362_11ed_a17d_d4548bb590b3row4_col1\" class=\"data row4 col1\" >Medium</td>\n",
       "                        <td id=\"T_8baffd00_1362_11ed_a17d_d4548bb590b3row4_col2\" class=\"data row4 col2\" >High</td>\n",
       "                        <td id=\"T_8baffd00_1362_11ed_a17d_d4548bb590b3row4_col3\" class=\"data row4 col3\" >Low</td>\n",
       "                        <td id=\"T_8baffd00_1362_11ed_a17d_d4548bb590b3row4_col4\" class=\"data row4 col4\" >Low</td>\n",
       "            </tr>\n",
       "    </tbody></table>"
      ],
      "text/plain": [
       "<pandas.io.formats.style.Styler at 0x21f8551ff60>"
      ]
     },
     "execution_count": 7,
     "metadata": {},
     "output_type": "execute_result"
    }
   ],
   "source": [
    "from ipywidgets import *\n",
    "import pandas as pd\n",
    "\n",
    "#condition\n",
    "def condition(pct):\n",
    "    rating = \"\"\n",
    "    if pct < 20 : rating = \"Low\"\n",
    "    elif (pct >= 20) and (pct < 50) : rating = \"Medium\"\n",
    "    elif (pct >= 50) and (pct < 80) : rating = \"High\"\n",
    "    else : rating = \"Very High\"\n",
    "    return rating\n",
    "\n",
    "#rating classifier\n",
    "def rating(threat, barrier):\n",
    "    if threat == \"extent\":\n",
    "        if barrier == \"DAM\":\n",
    "            pct = barrier_extent(barrier)[1]\n",
    "            rating = condition(pct)\n",
    "        elif barrier == \"ROAD\":\n",
    "            pct = barrier_extent('ROAD, RESOURCE/OTHER')[1] + barrier_extent('ROAD, DEMOGRAPHIC')[1]\n",
    "            rating = condition(pct)\n",
    "    elif threat == \"severity\":\n",
    "        if barrier == \"DAM\":\n",
    "            pct = barrier_severity(barrier)[2]\n",
    "            rating = condition(pct)\n",
    "        elif barrier == \"ROAD\":\n",
    "            pct = barrier_severity('ROAD, RESOURCE/OTHER')[2] + barrier_severity('ROAD, DEMOGRAPHIC')[2]\n",
    "            rating = condition(pct)\n",
    "            \n",
    "    return rating\n",
    "            \n",
    "\n",
    "        \n",
    "\n",
    "\n",
    "\n",
    "\n",
    "df = pd.DataFrame({\"Barrier Types\":[\"Road-Stream Crossings\",\"Lateral Barriers\",\"Small Dams(<3m height)\",\"Trail-stream Crossings\", \"Natural Barriers\"],\n",
    "                   \"Extent\":[rating(\"extent\", \"ROAD\"),\"High\",rating(\"extent\", \"DAM\"), \"Low\", \"Medium\"],\n",
    "                   \"Severity\":[rating(\"severity\", \"ROAD\"),\"Very High\",rating(\"severity\", \"DAM\"), \"Low\", \"High\"],\n",
    "                   \"Irreversibility\":[\"Medium\",\"High\",\"High\", \"Medium\", \"Low\"],\n",
    "                   \"Overall Threat Rating:\":[\"Very High\",\"High\",\"Medium\", \"Low\", \"Low\"]\n",
    "                   })\n",
    "\n",
    "def highlight(val):\n",
    "    red = '#ff0000;'\n",
    "    yellow = '#ffff00;'\n",
    "    lgreen = '#92d050;'\n",
    "    dgreen = '#03853e;'\n",
    "\n",
    "    if val==\"Very High\": color = red\n",
    "    elif val==\"High\": color = yellow\n",
    "    elif val==\"Medium\": color = lgreen\n",
    "    elif val ==\"Low\": color = dgreen\n",
    "    else: color = 'white'\n",
    "    return 'background-color: %s' % color\n",
    "\n",
    "df.style.applymap(highlight).hide_index()"
   ]
  },
  {
   "cell_type": "code",
   "execution_count": 5,
   "metadata": {
    "tags": [
     "remove-input",
     "remove-output"
    ]
   },
   "outputs": [
    {
     "data": {
      "text/plain": [
       "8.09"
      ]
     },
     "metadata": {
      "scrapbook": {
       "mime_prefix": "",
       "name": "dam_km"
      }
     },
     "output_type": "display_data"
    },
    {
     "data": {
      "text/plain": [
       "23"
      ]
     },
     "metadata": {
      "scrapbook": {
       "mime_prefix": "",
       "name": "dam_pct"
      }
     },
     "output_type": "display_data"
    },
    {
     "data": {
      "text/plain": [
       "9"
      ]
     },
     "metadata": {
      "scrapbook": {
       "mime_prefix": "",
       "name": "total_barrier"
      }
     },
     "output_type": "display_data"
    }
   ],
   "source": [
    "import requests\n",
    "import json\n",
    "import pandas\n",
    "from myst_nb import glue\n",
    "\n",
    "\n",
    "\n",
    "#glue class for variables to allow embedding in markdown\n",
    "glue(\"dam_km\", barrier_extent('DAM')[0])\n",
    "glue(\"dam_pct\", round(barrier_extent('DAM')[1]))\n",
    "glue(\"total_barrier\", barrier_severity('DAM')[1])\n",
    "\n"
   ]
  },
  {
   "cell_type": "markdown",
   "metadata": {},
   "source": [
    "### Small Dams (<3 m height)\n",
    "\n",
    "There are {glue:text}`total_barrier` mapped small dams on “potentially accessible” stream segments in the watershed, blocking a total of {glue:text}`dam_km` km (~{glue:text}`dam_pct`% of the total blocked habitat) of modelled spawning and rearing habitat for anadromous salmon, resulting in a medium extent. The extent rating of these structures was confirmed by the planning team. There are two known fish-passage structures in the watershed, including on the dam at the outlet of McKinley Lake. The remaining dams likely block passage for anadromous salmon and would require significant resources to remediate. However, due to the limited extent of dams in the watershed, a final pressure rating of Medium was assigned. Four small dams were identified on the priority barrier list (see Appendix C). Three of the dams require further assessment and confirmation of upstream habitat quality, and the dam observed at the outlet of Kwun Lake does not exist. "
   ]
  },
  {
   "cell_type": "code",
   "execution_count": 6,
   "metadata": {
    "tags": [
     "remove-input",
     "remove-output"
    ]
   },
   "outputs": [
    {
     "data": {
      "text/plain": [
       "19.57"
      ]
     },
     "metadata": {
      "scrapbook": {
       "mime_prefix": "",
       "name": "resource_km"
      }
     },
     "output_type": "display_data"
    },
    {
     "data": {
      "text/plain": [
       "56"
      ]
     },
     "metadata": {
      "scrapbook": {
       "mime_prefix": "",
       "name": "resource_pct"
      }
     },
     "output_type": "display_data"
    },
    {
     "data": {
      "text/plain": [
       "7.31"
      ]
     },
     "metadata": {
      "scrapbook": {
       "mime_prefix": "",
       "name": "demo_km"
      }
     },
     "output_type": "display_data"
    },
    {
     "data": {
      "text/plain": [
       "21"
      ]
     },
     "metadata": {
      "scrapbook": {
       "mime_prefix": "",
       "name": "demo_pct"
      }
     },
     "output_type": "display_data"
    },
    {
     "data": {
      "text/plain": [
       "60"
      ]
     },
     "metadata": {
      "scrapbook": {
       "mime_prefix": "",
       "name": "resource_sev"
      }
     },
     "output_type": "display_data"
    },
    {
     "data": {
      "text/plain": [
       "73"
      ]
     },
     "metadata": {
      "scrapbook": {
       "mime_prefix": "",
       "name": "demo_sev"
      }
     },
     "output_type": "display_data"
    },
    {
     "data": {
      "text/plain": [
       "244"
      ]
     },
     "metadata": {
      "scrapbook": {
       "mime_prefix": "",
       "name": "sum"
      }
     },
     "output_type": "display_data"
    }
   ],
   "source": [
    "#glue class for variables to allow embedding in markdown\n",
    "glue(\"resource_km\", barrier_extent('ROAD, RESOURCE/OTHER')[0])\n",
    "glue(\"resource_pct\", round(barrier_extent('ROAD, RESOURCE/OTHER')[1]))\n",
    "glue(\"demo_km\", barrier_extent('ROAD, DEMOGRAPHIC')[0])\n",
    "glue(\"demo_pct\", round(barrier_extent('ROAD, DEMOGRAPHIC')[1]))\n",
    "glue(\"resource_sev\", round(barrier_severity('ROAD, RESOURCE/OTHER')[2]))\n",
    "glue(\"demo_sev\", round(barrier_severity('ROAD, DEMOGRAPHIC')[2]))\n",
    "\n",
    "sum_road = (barrier_severity('ROAD, RESOURCE/OTHER')[1], barrier_severity('ROAD, DEMOGRAPHIC')[1])\n",
    "\n",
    "\n",
    "glue(\"sum\", sum(sum_road))"
   ]
  },
  {
   "cell_type": "markdown",
   "metadata": {},
   "source": [
    "### Road-stream Crossings\n",
    "\n",
    "Road-stream crossings are the most abundant barrier type in the watershed, with {glue:text}`sum` assessed and modelled crossings located on stream segments with modelled habitat. Demographic road crossings (highways, municipal, and paved roads) block {glue:text}`demo_km` km of habitat (~{glue:text}`demo_pct`% of the total blocked habitat), with {glue:text}`demo_sev`% of assessed crossings having been identified as barriers to fish passage. Resource roads block {glue:text}`resource_km` km of habitat (~{glue:text}`resource_pct`%), with {glue:text}`resource_sev`% of assessed crossings having been identified as barriers. The planning team felt that the data was underestimating the severity of road-stream crossing barriers in the watershed, and therefore decided to update the rating from High to Very High. The planning team also felt that an irreversibility rating of Medium was appropriate due to the technical complexity and resources required to remediate road-stream crossings. "
   ]
  },
  {
   "cell_type": "markdown",
   "metadata": {},
   "source": [
    "### Trail-stream crossings \n",
    "\n",
    "There is very little spatial data available on trail-stream crossings in the watershed, so the planning team was unable to quantify the true Extent and Severity of this barrier type. However, the planning team felt that trail-stream crossings are not prevalent within the watershed and that, where they do exist, they do not significantly impact passage for anadromous salmon. As most crossings will be fords or similar structures, remediation may not be required, or remediation costs associated with these barriers would be quite low. Overall, the planning team felt that the pressure rating for trail-stream crossings was likely Low; however, the lack of ground-truthed evidence to support this rating was identified as a knowledge gap within this plan. "
   ]
  },
  {
   "cell_type": "markdown",
   "metadata": {},
   "source": [
    "### Lateral Barriers \n",
    "\n",
    "There are numerous types of lateral barriers that potentially occur in the watershed, including dykes, berms, and linear development (i.e., road and rail lines), all of which can restrict the ability of anadromous salmon to move into floodplains, riparian wetlands, and other off-channel habitats. No comprehensive lateral barrier data exists within the watershed, so pressure ratings were based on qualitative local knowledge. Lateral barriers are not thought to be as prevalent as road- or rail-stream crossings but are likely very severe where they do exist. Significant lateral barriers are known to occur along the mainstem of the Horsefly River, which disconnect the mainstem river from historic floodplain and off-channel habitat. Overall, the planning team decided that a High pressure rating adequately captured the effect that lateral barriers are having on connectivity in the watershed. Work to begin quantifying and mapping lateral habitat will begin in 2022-23, as described in the Operational Plan under Strategy 2: Lateral barrier remediation.  "
   ]
  },
  {
   "cell_type": "markdown",
   "metadata": {},
   "source": [
    "### Natural Barriers \n",
    "\n",
    "Natural barriers to fish passage can include debris flows, log jams, sediment deposits, etc., but natural features that have always restricted fish passage (e.g., waterfalls) are not considered under this barrier type. Natural barriers are difficult to include in a spatial prioritization framework due to their transient nature. The planning team identified known natural barriers that occur throughout the watershed, such as beaver dams and log jams. Generally, these natural barriers are only severe impediments to fish passage during low-flow years, but reduced baseflows have become more common in recent years. Based on this, the planning team felt that natural barriers will be severe most years where they exist, but are mostly reversible, resulting in an overall pressure rating of Low. "
   ]
  }
 ],
 "metadata": {
  "kernelspec": {
   "display_name": "Python 3.7.0 ('test')",
   "language": "python",
   "name": "python3"
  },
  "language_info": {
   "codemirror_mode": {
    "name": "ipython",
    "version": 3
   },
   "file_extension": ".py",
   "mimetype": "text/x-python",
   "name": "python",
   "nbconvert_exporter": "python",
   "pygments_lexer": "ipython3",
   "version": "3.7.0"
  },
  "orig_nbformat": 4,
  "vscode": {
   "interpreter": {
    "hash": "4d32f471e4c787df35246a436d6b5da50fcc80632abe0dd119be69a8b3537624"
   }
  }
 },
 "nbformat": 4,
 "nbformat_minor": 2
}
