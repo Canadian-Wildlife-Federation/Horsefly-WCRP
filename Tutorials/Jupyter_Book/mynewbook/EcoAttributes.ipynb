{
 "cells": [
  {
   "cell_type": "markdown",
   "metadata": {},
   "source": [
    "# Key Ecological Attributes and Current Connectivity Status"
   ]
  },
  {
   "cell_type": "code",
   "execution_count": 2,
   "metadata": {
    "tags": [
     "remove-input",
     "remove-output"
    ]
   },
   "outputs": [],
   "source": [
    "import requests\n",
    "import json\n",
    "import pandas\n",
    "\n",
    "def barrier_extent(barrier_type):\n",
    "\n",
    "    request = 'https://features.hillcrestgeo.ca/bcfishpass/functions/postgisftw.wcrp_barrier_extent/items.json?watershed_group_code=HORS&barrier_type=' + barrier_type\n",
    "\n",
    "    response_api = requests.get(request)\n",
    "    parse = response_api.text\n",
    "    result = json.loads(parse)\n",
    "\n",
    "    blocked_km = result[0]['all_habitat_blocked_km']\n",
    "    blocked_pct = result[0]['all_habitat_blocked_pct']\n",
    "\n",
    "    return blocked_km, blocked_pct\n",
    "\n",
    "def barrier_count(barrier_type):\n",
    "    request = 'https://features.hillcrestgeo.ca/bcfishpass/functions/postgisftw.wcrp_barrier_count/items.json?watershed_group_code=HORS&barrier_type=' + barrier_type\n",
    "\n",
    "    response_api = requests.get(request)\n",
    "    parse = response_api.text\n",
    "    result = json.loads(parse)\n",
    "\n",
    "    n_passable = result[0]['n_passable']\n",
    "    n_barrier = result[0]['n_barrier']\n",
    "    n_potential = result[0]['n_potential']\n",
    "    n_unknown = result[0]['n_unknown']\n",
    "\n",
    "    sum_bar = (n_passable, n_barrier, n_potential, n_unknown)\n",
    "\n",
    "    return n_passable, n_barrier, n_potential, n_unknown, sum(sum_bar)\n",
    "\n",
    "def barrier_severity(barrier_type):\n",
    "\n",
    "    request = 'https://features.hillcrestgeo.ca/bcfishpass/functions/postgisftw.wcrp_barrier_severity/items.json?watershed_group_code=HORS&barrier_type=' + barrier_type\n",
    "\n",
    "    response_api = requests.get(request)\n",
    "    parse = response_api.text\n",
    "    result = json.loads(parse)\n",
    "\n",
    "    n_assessed_barrier = result[0]['n_assessed_barrier']\n",
    "    n_assess_total = result[0]['n_assess_total']\n",
    "    pct_assessed_barrier = result[0]['pct_assessed_barrier']\n",
    "\n",
    "    return n_assessed_barrier, n_assess_total, pct_assessed_barrier\n",
    "\n",
    "def watershed_connectivity(habitat_type):\n",
    "\n",
    "    request = 'https://features.hillcrestgeo.ca/bcfishpass/functions/postgisftw.wcrp_watershed_connectivity_status/items.json?watershed_group_code=HORS&barrier_type=' + habitat_type\n",
    "\n",
    "    response_api = requests.get(request)\n",
    "    parse = response_api.text\n",
    "    result = json.loads(parse)\n",
    "\n",
    "    connect_stat = result[0]['connectivity_status']\n",
    "\n",
    "    return str(round(connect_stat))"
   ]
  },
  {
   "cell_type": "markdown",
   "metadata": {},
   "source": [
    "The planning team devised two Key Ecological Attributes (KEAs) and associated indicators to assess the current connectivity status of the watershed – Accessible Habitat and Accessible Overwintering Habitat (Table 7). KEAs are the key aspects of anadromous salmon ecology that are being targeted by this WCRP. The connectivity status of Anadromous Salmon was used to establish goals to improve habitat connectivity in the watershed and will be the baseline against which progress is tracked over time. \n",
    "\n",
    "The current connectivity status assessment relies on GIS analyses to map known and modelled barriers to fish passage, identify stream reaches that have potential spawning and rearing habitat, estimate the proportion of habitat that is currently accessible to target species, and prioritize barriers for field assessment that would provide the greatest gains in connectivity. To support a flexible prioritization framework to identify priority barriers in the watershed, two assumptions are made: 1) any modelled (i.e., passability status is unknown) or partial barriers are treated as complete barriers to passage and 2) the habitat modelling is binary, it does not assign any habitat quality values. As such, the current connectivity status will be refined over time as more data on habitat and barriers are collected. For more detail on how the connectivity status assessments were conducted, see Appendix B. "
   ]
  },
  {
   "cell_type": "markdown",
   "metadata": {},
   "source": [
    "Table 7. Connectivity status assessment for (a) linear habitat (spawning and rearing) and (b) overwintering habitat in the Horsefly River watershed. The Available Habitat KEA is evaluated by dividing the length of linear habitat that is currently accessible to target species by the total length of all linear habitat in the watershed. The Available Overwintering Habitat KEA is evaluated as the sum of all areal overwintering habitat that is accessible to target species. "
   ]
  },
  {
   "cell_type": "code",
   "execution_count": 5,
   "metadata": {
    "tags": [
     "remove-input"
    ]
   },
   "outputs": [
    {
     "data": {
      "text/html": [
       "<style  type=\"text/css\" >\n",
       "#T_cac72b3a_2f7b_11ed_b02a_b445066bfd9brow0_col0,#T_cac72b3a_2f7b_11ed_b02a_b445066bfd9brow0_col1,#T_cac72b3a_2f7b_11ed_b02a_b445066bfd9brow0_col2,#T_cac72b3a_2f7b_11ed_b02a_b445066bfd9brow1_col0,#T_cac72b3a_2f7b_11ed_b02a_b445066bfd9brow1_col1,#T_cac72b3a_2f7b_11ed_b02a_b445066bfd9brow1_col3,#T_cac72b3a_2f7b_11ed_b02a_b445066bfd9brow1_col4,#T_cac72b3a_2f7b_11ed_b02a_b445066bfd9brow1_col5{\n",
       "            background-color:  white;\n",
       "        }#T_cac72b3a_2f7b_11ed_b02a_b445066bfd9brow0_col3{\n",
       "            background-color:  #ff0000;\n",
       "        }#T_cac72b3a_2f7b_11ed_b02a_b445066bfd9brow0_col4{\n",
       "            background-color:  #ffff00;\n",
       "        }#T_cac72b3a_2f7b_11ed_b02a_b445066bfd9brow0_col5{\n",
       "            background-color:  #92d050;\n",
       "        }#T_cac72b3a_2f7b_11ed_b02a_b445066bfd9brow0_col6,#T_cac72b3a_2f7b_11ed_b02a_b445066bfd9brow1_col6{\n",
       "            background-color:  #03853e;\n",
       "        }#T_cac72b3a_2f7b_11ed_b02a_b445066bfd9brow1_col2{\n",
       "            font-weight:  bold;\n",
       "        }</style><table id=\"T_cac72b3a_2f7b_11ed_b02a_b445066bfd9b\" ><thead>    <tr>        <th class=\"col_heading level0 col0\" >Target Species</th>        <th class=\"col_heading level0 col1\" >KEA</th>        <th class=\"col_heading level0 col2\" >Indicator</th>        <th class=\"col_heading level0 col3\" >Poor</th>        <th class=\"col_heading level0 col4\" >Fair</th>        <th class=\"col_heading level0 col5\" >Good</th>        <th class=\"col_heading level0 col6\" >Very Good</th>    </tr></thead><tbody>\n",
       "                <tr>\n",
       "                                <td id=\"T_cac72b3a_2f7b_11ed_b02a_b445066bfd9brow0_col0\" class=\"data row0 col0\" >Andromous Salmon</td>\n",
       "                        <td id=\"T_cac72b3a_2f7b_11ed_b02a_b445066bfd9brow0_col1\" class=\"data row0 col1\" >Available Habitat</td>\n",
       "                        <td id=\"T_cac72b3a_2f7b_11ed_b02a_b445066bfd9brow0_col2\" class=\"data row0 col2\" >% of total linear habitat</td>\n",
       "                        <td id=\"T_cac72b3a_2f7b_11ed_b02a_b445066bfd9brow0_col3\" class=\"data row0 col3\" ><80%</td>\n",
       "                        <td id=\"T_cac72b3a_2f7b_11ed_b02a_b445066bfd9brow0_col4\" class=\"data row0 col4\" >  </td>\n",
       "                        <td id=\"T_cac72b3a_2f7b_11ed_b02a_b445066bfd9brow0_col5\" class=\"data row0 col5\" >81-90%</td>\n",
       "                        <td id=\"T_cac72b3a_2f7b_11ed_b02a_b445066bfd9brow0_col6\" class=\"data row0 col6\" >>90%</td>\n",
       "            </tr>\n",
       "            <tr>\n",
       "                                <td id=\"T_cac72b3a_2f7b_11ed_b02a_b445066bfd9brow1_col0\" class=\"data row1 col0\" > </td>\n",
       "                        <td id=\"T_cac72b3a_2f7b_11ed_b02a_b445066bfd9brow1_col1\" class=\"data row1 col1\" > </td>\n",
       "                        <td id=\"T_cac72b3a_2f7b_11ed_b02a_b445066bfd9brow1_col2\" class=\"data row1 col2\" >Current Status:</td>\n",
       "                        <td id=\"T_cac72b3a_2f7b_11ed_b02a_b445066bfd9brow1_col3\" class=\"data row1 col3\" > </td>\n",
       "                        <td id=\"T_cac72b3a_2f7b_11ed_b02a_b445066bfd9brow1_col4\" class=\"data row1 col4\" > </td>\n",
       "                        <td id=\"T_cac72b3a_2f7b_11ed_b02a_b445066bfd9brow1_col5\" class=\"data row1 col5\" > </td>\n",
       "                        <td id=\"T_cac72b3a_2f7b_11ed_b02a_b445066bfd9brow1_col6\" class=\"data row1 col6\" >93</td>\n",
       "            </tr>\n",
       "    </tbody></table>"
      ],
      "text/plain": [
       "<pandas.io.formats.style.Styler at 0x1f2cb299ef0>"
      ]
     },
     "execution_count": 5,
     "metadata": {},
     "output_type": "execute_result"
    }
   ],
   "source": [
    "#creating table 7\n",
    "import pandas as pd\n",
    "import numpy as np\n",
    "import matplotlib as mpl\n",
    "\n",
    "df = pd.DataFrame({\"Target Species\":[\"Andromous Salmon\",\" \"],\n",
    "                   \"KEA\":[\"Available Habitat\",\" \"],\n",
    "                   \"Indicator\":[\"% of total linear habitat\",\"Current Status:\"],\n",
    "                   \"Poor\":[\"<80%\",\" \"],\n",
    "                   \"Fair\":[\"  \",\" \"],\n",
    "                   \"Good\":[\"81-90%\",\" \"],\n",
    "                   \"Very Good\":[\">90%\", watershed_connectivity(\"ALL\")]\n",
    "                   })\n",
    "\n",
    "\n",
    "def highlighttab7(val):\n",
    "    red = '#ff0000;'\n",
    "    yellow = '#ffff00;'\n",
    "    lgreen = '#92d050;'\n",
    "    dgreen = '#03853e;'\n",
    "\n",
    "    if val==\"<80%\" : color = red\n",
    "    elif val[0:].isdigit() and int(val) < 80 : color = red\n",
    "    elif val==\"  \": color = yellow\n",
    "    elif val==\"81-90%\"  : color = lgreen\n",
    "    elif val[0:].isdigit() and (int(val) >= 80 and int(val) < 90) : color = lgreen \n",
    "    elif val ==\">90%\": color = dgreen\n",
    "    elif val[0:].isdigit() and int(val) >= 90 : color = dgreen \n",
    "    elif val == \"Current Status:\" : return \"font-weight: bold\"\n",
    "    else: color = 'white'\n",
    "    return 'background-color: %s' % color\n",
    "\n",
    "df.style.applymap(highlighttab7).hide_index()\n",
    "\n"
   ]
  },
  {
   "cell_type": "markdown",
   "metadata": {},
   "source": [
    "**Comments**: Indicator rating definitions are based on the consensus decisions of the planning team, including the decision not to define Fair. The current status is based on the CWF Barrier Prioritization Model output, which is current as of March 2022."
   ]
  },
  {
   "cell_type": "code",
   "execution_count": null,
   "metadata": {
    "tags": [
     "remove-input"
    ]
   },
   "outputs": [
    {
     "data": {
      "text/html": [
       "<style  type=\"text/css\" >\n",
       "#T_2fcde7b4_2e08_11ed_b75d_b445066bfd9brow0_col0,#T_2fcde7b4_2e08_11ed_b75d_b445066bfd9brow0_col1,#T_2fcde7b4_2e08_11ed_b75d_b445066bfd9brow0_col2,#T_2fcde7b4_2e08_11ed_b75d_b445066bfd9brow0_col7{\n",
       "            background-color:  white;\n",
       "        }#T_2fcde7b4_2e08_11ed_b75d_b445066bfd9brow0_col3{\n",
       "            background-color:  #ff0000;\n",
       "        }#T_2fcde7b4_2e08_11ed_b75d_b445066bfd9brow0_col4{\n",
       "            background-color:  #ffff00;\n",
       "        }#T_2fcde7b4_2e08_11ed_b75d_b445066bfd9brow0_col5{\n",
       "            background-color:  #92d050;\n",
       "        }#T_2fcde7b4_2e08_11ed_b75d_b445066bfd9brow0_col6{\n",
       "            background-color:  #03853e;\n",
       "        }</style><table id=\"T_2fcde7b4_2e08_11ed_b75d_b445066bfd9b\" ><thead>    <tr>        <th class=\"col_heading level0 col0\" >Target Species</th>        <th class=\"col_heading level0 col1\" >KEA</th>        <th class=\"col_heading level0 col2\" >Indicator</th>        <th class=\"col_heading level0 col3\" >Poor</th>        <th class=\"col_heading level0 col4\" >Fair</th>        <th class=\"col_heading level0 col5\" >Good</th>        <th class=\"col_heading level0 col6\" >Very Good</th>        <th class=\"col_heading level0 col7\" >Current Status</th>    </tr></thead><tbody>\n",
       "                <tr>\n",
       "                                <td id=\"T_2fcde7b4_2e08_11ed_b75d_b445066bfd9brow0_col0\" class=\"data row0 col0\" >Andromous Salmon</td>\n",
       "                        <td id=\"T_2fcde7b4_2e08_11ed_b75d_b445066bfd9brow0_col1\" class=\"data row0 col1\" >Available Overwintering Habitat</td>\n",
       "                        <td id=\"T_2fcde7b4_2e08_11ed_b75d_b445066bfd9brow0_col2\" class=\"data row0 col2\" >Total Area (m2) of overwintering habitat accessible</td>\n",
       "                        <td id=\"T_2fcde7b4_2e08_11ed_b75d_b445066bfd9brow0_col3\" class=\"data row0 col3\" >?</td>\n",
       "                        <td id=\"T_2fcde7b4_2e08_11ed_b75d_b445066bfd9brow0_col4\" class=\"data row0 col4\" > ?</td>\n",
       "                        <td id=\"T_2fcde7b4_2e08_11ed_b75d_b445066bfd9brow0_col5\" class=\"data row0 col5\" >? </td>\n",
       "                        <td id=\"T_2fcde7b4_2e08_11ed_b75d_b445066bfd9brow0_col6\" class=\"data row0 col6\" > ? </td>\n",
       "                        <td id=\"T_2fcde7b4_2e08_11ed_b75d_b445066bfd9brow0_col7\" class=\"data row0 col7\" ></td>\n",
       "            </tr>\n",
       "    </tbody></table>"
      ],
      "text/plain": [
       "<pandas.io.formats.style.Styler at 0x229068ecc50>"
      ]
     },
     "execution_count": 4,
     "metadata": {},
     "output_type": "execute_result"
    }
   ],
   "source": [
    "#creating table 7\n",
    "import pandas as pd\n",
    "import numpy as np\n",
    "import matplotlib as mpl\n",
    "\n",
    "df = pd.DataFrame({\"Target Species\":[\"Andromous Salmon\"],\n",
    "                   \"KEA\":[\"Available Overwintering Habitat\"],\n",
    "                   \"Indicator\":[\"Total Area (m2) of overwintering habitat accessible\"],\n",
    "                   \"Poor\":[\"?\"],\n",
    "                   \"Fair\":[\" ?\"],\n",
    "                   \"Good\":[\"? \"],\n",
    "                   \"Very Good\":[\" ? \"],\n",
    "                   \"Current Status\":[\"\"]\n",
    "                   })\n",
    "\n",
    "def highlighttab7b(val):\n",
    "    red = '#ff0000;'\n",
    "    yellow = '#ffff00;'\n",
    "    lgreen = '#92d050;'\n",
    "    dgreen = '#03853e;'\n",
    "\n",
    "    if val==\"?\" : color = red\n",
    "    elif val[0:].isdigit() and int(val) < 80 : color = red\n",
    "    elif val==\" ?\": color = yellow\n",
    "    elif val==\"? \"  : color = lgreen\n",
    "    elif val[0:].isdigit() and (int(val) >= 80 and int(val) < 90) : color = lgreen \n",
    "    elif val ==\" ? \": color = dgreen\n",
    "    elif val[0:].isdigit() and int(val) >= 90 : color = dgreen \n",
    "    else: color = 'white'\n",
    "    return 'background-color: %s' % color\n",
    "\n",
    "df.style.applymap(highlighttab7b).hide_index()\n"
   ]
  },
  {
   "cell_type": "markdown",
   "metadata": {},
   "source": [
    "**Comments:** No baseline data exists on the extent of overwintering habitat in the watershed. A priority action is included in the Operational Plan (strategy 2.3) to develop a habitat layer, and this will be used to inform this connectivity status assessment in the future."
   ]
  },
  {
   "cell_type": "markdown",
   "metadata": {},
   "source": [
    "# Barrier Types"
   ]
  },
  {
   "cell_type": "markdown",
   "metadata": {},
   "source": [
    "The following table highlights which barrier types pose the greatest threat to anadromous salmon in the watershed. The results of this assessment were used to inform the subsequent planning steps, as well as to identify knowledge gaps where there is little spatial data to inform the assessment for a specific barrier type. \n",
    "\n",
    "Table 8. Barrier Types in the Horsefly River watershed and barrier rating assessment results. For each barrier type listed, \"Extent refers to the proportion of anadromous salmon habitat that is being blocked by that barrier type, \"Severity\" is the proportion of structures for each barrier type that are known to block passage for target species based on field assessments, and \"Irreversibility\" is the degree to which the effects of a barrier type can be reversed and connectivity restored. The amount of habitat blocked used in this exercise is a representation of total amount of combined spawning and rearing habitat. All ratings in this table have been updated from version 1.0 to version 2.0 of the Horsefly River Watershed Connectivity Remediation Plan based on the most recent field assessments.\n"
   ]
  },
  {
   "cell_type": "code",
   "execution_count": null,
   "metadata": {
    "tags": [
     "remove-input"
    ]
   },
   "outputs": [
    {
     "data": {
      "text/html": [
       "<style  type=\"text/css\" >\n",
       "#T_9676a1cc_2e08_11ed_9f99_b445066bfd9brow0_col0,#T_9676a1cc_2e08_11ed_9f99_b445066bfd9brow1_col0,#T_9676a1cc_2e08_11ed_9f99_b445066bfd9brow2_col0,#T_9676a1cc_2e08_11ed_9f99_b445066bfd9brow3_col0,#T_9676a1cc_2e08_11ed_9f99_b445066bfd9brow4_col0{\n",
       "            background-color:  white;\n",
       "        }#T_9676a1cc_2e08_11ed_9f99_b445066bfd9brow0_col1,#T_9676a1cc_2e08_11ed_9f99_b445066bfd9brow1_col1,#T_9676a1cc_2e08_11ed_9f99_b445066bfd9brow1_col3,#T_9676a1cc_2e08_11ed_9f99_b445066bfd9brow1_col4,#T_9676a1cc_2e08_11ed_9f99_b445066bfd9brow2_col3,#T_9676a1cc_2e08_11ed_9f99_b445066bfd9brow4_col2{\n",
       "            background-color:  #ffff00;\n",
       "        }#T_9676a1cc_2e08_11ed_9f99_b445066bfd9brow0_col2,#T_9676a1cc_2e08_11ed_9f99_b445066bfd9brow0_col4,#T_9676a1cc_2e08_11ed_9f99_b445066bfd9brow1_col2{\n",
       "            background-color:  #ff0000;\n",
       "        }#T_9676a1cc_2e08_11ed_9f99_b445066bfd9brow0_col3,#T_9676a1cc_2e08_11ed_9f99_b445066bfd9brow2_col2,#T_9676a1cc_2e08_11ed_9f99_b445066bfd9brow2_col4,#T_9676a1cc_2e08_11ed_9f99_b445066bfd9brow3_col3,#T_9676a1cc_2e08_11ed_9f99_b445066bfd9brow4_col1{\n",
       "            background-color:  #92d050;\n",
       "        }#T_9676a1cc_2e08_11ed_9f99_b445066bfd9brow2_col1,#T_9676a1cc_2e08_11ed_9f99_b445066bfd9brow3_col1,#T_9676a1cc_2e08_11ed_9f99_b445066bfd9brow3_col2,#T_9676a1cc_2e08_11ed_9f99_b445066bfd9brow3_col4,#T_9676a1cc_2e08_11ed_9f99_b445066bfd9brow4_col3,#T_9676a1cc_2e08_11ed_9f99_b445066bfd9brow4_col4{\n",
       "            background-color:  #03853e;\n",
       "        }</style><table id=\"T_9676a1cc_2e08_11ed_9f99_b445066bfd9b\" ><thead>    <tr>        <th class=\"col_heading level0 col0\" >Barrier Types</th>        <th class=\"col_heading level0 col1\" >Extent</th>        <th class=\"col_heading level0 col2\" >Severity</th>        <th class=\"col_heading level0 col3\" >Irreversibility</th>        <th class=\"col_heading level0 col4\" >Overall Threat Rating:</th>    </tr></thead><tbody>\n",
       "                <tr>\n",
       "                                <td id=\"T_9676a1cc_2e08_11ed_9f99_b445066bfd9brow0_col0\" class=\"data row0 col0\" >Road-Stream Crossings</td>\n",
       "                        <td id=\"T_9676a1cc_2e08_11ed_9f99_b445066bfd9brow0_col1\" class=\"data row0 col1\" >High</td>\n",
       "                        <td id=\"T_9676a1cc_2e08_11ed_9f99_b445066bfd9brow0_col2\" class=\"data row0 col2\" >Very High</td>\n",
       "                        <td id=\"T_9676a1cc_2e08_11ed_9f99_b445066bfd9brow0_col3\" class=\"data row0 col3\" >Medium</td>\n",
       "                        <td id=\"T_9676a1cc_2e08_11ed_9f99_b445066bfd9brow0_col4\" class=\"data row0 col4\" >Very High</td>\n",
       "            </tr>\n",
       "            <tr>\n",
       "                                <td id=\"T_9676a1cc_2e08_11ed_9f99_b445066bfd9brow1_col0\" class=\"data row1 col0\" >Lateral Barriers</td>\n",
       "                        <td id=\"T_9676a1cc_2e08_11ed_9f99_b445066bfd9brow1_col1\" class=\"data row1 col1\" >High</td>\n",
       "                        <td id=\"T_9676a1cc_2e08_11ed_9f99_b445066bfd9brow1_col2\" class=\"data row1 col2\" >Very High</td>\n",
       "                        <td id=\"T_9676a1cc_2e08_11ed_9f99_b445066bfd9brow1_col3\" class=\"data row1 col3\" >High</td>\n",
       "                        <td id=\"T_9676a1cc_2e08_11ed_9f99_b445066bfd9brow1_col4\" class=\"data row1 col4\" >High</td>\n",
       "            </tr>\n",
       "            <tr>\n",
       "                                <td id=\"T_9676a1cc_2e08_11ed_9f99_b445066bfd9brow2_col0\" class=\"data row2 col0\" >Small Dams(<3m height)</td>\n",
       "                        <td id=\"T_9676a1cc_2e08_11ed_9f99_b445066bfd9brow2_col1\" class=\"data row2 col1\" >Low</td>\n",
       "                        <td id=\"T_9676a1cc_2e08_11ed_9f99_b445066bfd9brow2_col2\" class=\"data row2 col2\" >Medium</td>\n",
       "                        <td id=\"T_9676a1cc_2e08_11ed_9f99_b445066bfd9brow2_col3\" class=\"data row2 col3\" >High</td>\n",
       "                        <td id=\"T_9676a1cc_2e08_11ed_9f99_b445066bfd9brow2_col4\" class=\"data row2 col4\" >Medium</td>\n",
       "            </tr>\n",
       "            <tr>\n",
       "                                <td id=\"T_9676a1cc_2e08_11ed_9f99_b445066bfd9brow3_col0\" class=\"data row3 col0\" >Trail-stream Crossings</td>\n",
       "                        <td id=\"T_9676a1cc_2e08_11ed_9f99_b445066bfd9brow3_col1\" class=\"data row3 col1\" >Low</td>\n",
       "                        <td id=\"T_9676a1cc_2e08_11ed_9f99_b445066bfd9brow3_col2\" class=\"data row3 col2\" >Low</td>\n",
       "                        <td id=\"T_9676a1cc_2e08_11ed_9f99_b445066bfd9brow3_col3\" class=\"data row3 col3\" >Medium</td>\n",
       "                        <td id=\"T_9676a1cc_2e08_11ed_9f99_b445066bfd9brow3_col4\" class=\"data row3 col4\" >Low</td>\n",
       "            </tr>\n",
       "            <tr>\n",
       "                                <td id=\"T_9676a1cc_2e08_11ed_9f99_b445066bfd9brow4_col0\" class=\"data row4 col0\" >Natural Barriers</td>\n",
       "                        <td id=\"T_9676a1cc_2e08_11ed_9f99_b445066bfd9brow4_col1\" class=\"data row4 col1\" >Medium</td>\n",
       "                        <td id=\"T_9676a1cc_2e08_11ed_9f99_b445066bfd9brow4_col2\" class=\"data row4 col2\" >High</td>\n",
       "                        <td id=\"T_9676a1cc_2e08_11ed_9f99_b445066bfd9brow4_col3\" class=\"data row4 col3\" >Low</td>\n",
       "                        <td id=\"T_9676a1cc_2e08_11ed_9f99_b445066bfd9brow4_col4\" class=\"data row4 col4\" >Low</td>\n",
       "            </tr>\n",
       "    </tbody></table>"
      ],
      "text/plain": [
       "<pandas.io.formats.style.Styler at 0x22909187fd0>"
      ]
     },
     "execution_count": 8,
     "metadata": {},
     "output_type": "execute_result"
    }
   ],
   "source": [
    "from ipywidgets import *\n",
    "import pandas as pd\n",
    "\n",
    "#condition\n",
    "def condition(pct):\n",
    "    rating = \"\"\n",
    "    if pct < 30 : rating = \"Low\"\n",
    "    elif (pct >= 30) and (pct < 71) : rating = \"Medium\"\n",
    "    elif (pct >= 71) and (pct < 90) : rating = \"High\"\n",
    "    else : rating = \"Very High\"\n",
    "    return rating\n",
    "\n",
    "#rating classifier\n",
    "def rating(threat, barrier):\n",
    "    if threat == \"extent\":\n",
    "        if barrier == \"DAM\":\n",
    "            pct = barrier_extent(barrier)[1]\n",
    "            rating = condition(pct)\n",
    "        elif barrier == \"ROAD\":\n",
    "            pct = barrier_extent('ROAD, RESOURCE/OTHER')[1] + barrier_extent('ROAD, DEMOGRAPHIC')[1]\n",
    "            rating = condition(pct)\n",
    "    elif threat == \"severity\":\n",
    "        if barrier == \"DAM\":\n",
    "            pct = barrier_severity(barrier)[2]\n",
    "            rating = condition(pct)\n",
    "        elif barrier == \"ROAD\":\n",
    "            pct = barrier_severity('ROAD, RESOURCE/OTHER')[2] + barrier_severity('ROAD, DEMOGRAPHIC')[2]\n",
    "            rating = condition(pct)\n",
    "            \n",
    "    return rating\n",
    "            \n",
    "\n",
    "        \n",
    "\n",
    "\n",
    "\n",
    "\n",
    "df = pd.DataFrame({\"Barrier Types\":[\"Road-Stream Crossings\",\"Lateral Barriers\",\"Small Dams(<3m height)\",\"Trail-stream Crossings\", \"Natural Barriers\"],\n",
    "                   \"Extent\":[rating(\"extent\", \"ROAD\"),\"High\",rating(\"extent\", \"DAM\"), \"Low\", \"Medium\"],\n",
    "                   \"Severity\":[rating(\"severity\", \"ROAD\"),\"Very High\",rating(\"severity\", \"DAM\"), \"Low\", \"High\"],\n",
    "                   \"Irreversibility\":[\"Medium\",\"High\",\"High\", \"Medium\", \"Low\"],\n",
    "                   \"Overall Threat Rating:\":[\"Very High\",\"High\",\"Medium\", \"Low\", \"Low\"]\n",
    "                   })\n",
    "\n",
    "def highlight(val):\n",
    "    red = '#ff0000;'\n",
    "    yellow = '#ffff00;'\n",
    "    lgreen = '#92d050;'\n",
    "    dgreen = '#03853e;'\n",
    "\n",
    "    if val==\"Very High\": color = red\n",
    "    elif val==\"High\": color = yellow\n",
    "    elif val==\"Medium\": color = lgreen\n",
    "    elif val ==\"Low\": color = dgreen\n",
    "    else: color = 'white'\n",
    "    return 'background-color: %s' % color\n",
    "\n",
    "df.style.applymap(highlight).hide_index()"
   ]
  },
  {
   "cell_type": "code",
   "execution_count": null,
   "metadata": {
    "tags": [
     "remove-input",
     "remove-output"
    ]
   },
   "outputs": [
    {
     "data": {
      "text/plain": [
       "8.09"
      ]
     },
     "metadata": {
      "scrapbook": {
       "mime_prefix": "",
       "name": "dam_km"
      }
     },
     "output_type": "display_data"
    },
    {
     "data": {
      "text/plain": [
       "23"
      ]
     },
     "metadata": {
      "scrapbook": {
       "mime_prefix": "",
       "name": "dam_pct"
      }
     },
     "output_type": "display_data"
    },
    {
     "data": {
      "text/plain": [
       "9"
      ]
     },
     "metadata": {
      "scrapbook": {
       "mime_prefix": "",
       "name": "total_barrier"
      }
     },
     "output_type": "display_data"
    }
   ],
   "source": [
    "import requests\n",
    "import json\n",
    "import pandas\n",
    "from myst_nb import glue\n",
    "\n",
    "\n",
    "\n",
    "#glue class for variables to allow embedding in markdown\n",
    "glue(\"dam_km\", barrier_extent('DAM')[0])\n",
    "glue(\"dam_pct\", round(barrier_extent('DAM')[1]))\n",
    "glue(\"total_barrier\", barrier_severity('DAM')[1])\n",
    "\n"
   ]
  },
  {
   "cell_type": "markdown",
   "metadata": {},
   "source": [
    "### Small Dams (<3 m height)\n",
    "\n",
    "There are {glue:text}`total_barrier` mapped small dams on “potentially accessible” stream segments in the watershed, blocking a total of {glue:text}`dam_km` km (~{glue:text}`dam_pct`% of the total blocked habitat) of modelled spawning and rearing habitat for anadromous salmon, resulting in a medium extent. The extent rating of these structures was confirmed by the planning team. There are two known fish-passage structures in the watershed, including on the dam at the outlet of McKinley Lake. The remaining dams likely block passage for anadromous salmon and would require significant resources to remediate. However, due to the limited extent of dams in the watershed, a final pressure rating of Medium was assigned. Four small dams were identified on the priority barrier list (see Appendix C). Three of the dams require further assessment and confirmation of upstream habitat quality, and the dam observed at the outlet of Kwun Lake does not exist. "
   ]
  },
  {
   "cell_type": "code",
   "execution_count": null,
   "metadata": {
    "tags": [
     "remove-input",
     "remove-output"
    ]
   },
   "outputs": [
    {
     "data": {
      "text/plain": [
       "19.57"
      ]
     },
     "metadata": {
      "scrapbook": {
       "mime_prefix": "",
       "name": "resource_km"
      }
     },
     "output_type": "display_data"
    },
    {
     "data": {
      "text/plain": [
       "56"
      ]
     },
     "metadata": {
      "scrapbook": {
       "mime_prefix": "",
       "name": "resource_pct"
      }
     },
     "output_type": "display_data"
    },
    {
     "data": {
      "text/plain": [
       "7.31"
      ]
     },
     "metadata": {
      "scrapbook": {
       "mime_prefix": "",
       "name": "demo_km"
      }
     },
     "output_type": "display_data"
    },
    {
     "data": {
      "text/plain": [
       "21"
      ]
     },
     "metadata": {
      "scrapbook": {
       "mime_prefix": "",
       "name": "demo_pct"
      }
     },
     "output_type": "display_data"
    },
    {
     "data": {
      "text/plain": [
       "60"
      ]
     },
     "metadata": {
      "scrapbook": {
       "mime_prefix": "",
       "name": "resource_sev"
      }
     },
     "output_type": "display_data"
    },
    {
     "data": {
      "text/plain": [
       "73"
      ]
     },
     "metadata": {
      "scrapbook": {
       "mime_prefix": "",
       "name": "demo_sev"
      }
     },
     "output_type": "display_data"
    },
    {
     "data": {
      "text/plain": [
       "244"
      ]
     },
     "metadata": {
      "scrapbook": {
       "mime_prefix": "",
       "name": "sum"
      }
     },
     "output_type": "display_data"
    }
   ],
   "source": [
    "#glue class for variables to allow embedding in markdown\n",
    "glue(\"resource_km\", barrier_extent('ROAD, RESOURCE/OTHER')[0])\n",
    "glue(\"resource_pct\", round(barrier_extent('ROAD, RESOURCE/OTHER')[1]))\n",
    "glue(\"demo_km\", barrier_extent('ROAD, DEMOGRAPHIC')[0])\n",
    "glue(\"demo_pct\", round(barrier_extent('ROAD, DEMOGRAPHIC')[1]))\n",
    "glue(\"resource_sev\", round(barrier_severity('ROAD, RESOURCE/OTHER')[2]))\n",
    "glue(\"demo_sev\", round(barrier_severity('ROAD, DEMOGRAPHIC')[2]))\n",
    "\n",
    "sum_road = (barrier_severity('ROAD, RESOURCE/OTHER')[1], barrier_severity('ROAD, DEMOGRAPHIC')[1])\n",
    "\n",
    "\n",
    "glue(\"sum\", sum(sum_road))"
   ]
  },
  {
   "cell_type": "markdown",
   "metadata": {},
   "source": [
    "### Road-stream Crossings\n",
    "\n",
    "Road-stream crossings are the most abundant barrier type in the watershed, with {glue:text}`sum` assessed and modelled crossings located on stream segments with modelled habitat. Demographic road crossings (highways, municipal, and paved roads) block {glue:text}`demo_km` km of habitat (~{glue:text}`demo_pct`% of the total blocked habitat), with {glue:text}`demo_sev`% of assessed crossings having been identified as barriers to fish passage. Resource roads block {glue:text}`resource_km` km of habitat (~{glue:text}`resource_pct`%), with {glue:text}`resource_sev`% of assessed crossings having been identified as barriers. The planning team felt that the data was underestimating the severity of road-stream crossing barriers in the watershed, and therefore decided to update the rating from High to Very High. The planning team also felt that an irreversibility rating of Medium was appropriate due to the technical complexity and resources required to remediate road-stream crossings. "
   ]
  },
  {
   "cell_type": "markdown",
   "metadata": {},
   "source": [
    "### Trail-stream crossings \n",
    "\n",
    "There is very little spatial data available on trail-stream crossings in the watershed, so the planning team was unable to quantify the true Extent and Severity of this barrier type. However, the planning team felt that trail-stream crossings are not prevalent within the watershed and that, where they do exist, they do not significantly impact passage for anadromous salmon. As most crossings will be fords or similar structures, remediation may not be required, or remediation costs associated with these barriers would be quite low. Overall, the planning team felt that the pressure rating for trail-stream crossings was likely Low; however, the lack of ground-truthed evidence to support this rating was identified as a knowledge gap within this plan. "
   ]
  },
  {
   "cell_type": "markdown",
   "metadata": {},
   "source": [
    "### Lateral Barriers \n",
    "\n",
    "There are numerous types of lateral barriers that potentially occur in the watershed, including dykes, berms, and linear development (i.e., road and rail lines), all of which can restrict the ability of anadromous salmon to move into floodplains, riparian wetlands, and other off-channel habitats. No comprehensive lateral barrier data exists within the watershed, so pressure ratings were based on qualitative local knowledge. Lateral barriers are not thought to be as prevalent as road- or rail-stream crossings but are likely very severe where they do exist. Significant lateral barriers are known to occur along the mainstem of the Horsefly River, which disconnect the mainstem river from historic floodplain and off-channel habitat. Overall, the planning team decided that a High pressure rating adequately captured the effect that lateral barriers are having on connectivity in the watershed. Work to begin quantifying and mapping lateral habitat will begin in 2022-23, as described in the Operational Plan under Strategy 2: Lateral barrier remediation.  "
   ]
  },
  {
   "cell_type": "markdown",
   "metadata": {},
   "source": [
    "### Natural Barriers \n",
    "\n",
    "Natural barriers to fish passage can include debris flows, log jams, sediment deposits, etc., but natural features that have always restricted fish passage (e.g., waterfalls) are not considered under this barrier type. Natural barriers are difficult to include in a spatial prioritization framework due to their transient nature. The planning team identified known natural barriers that occur throughout the watershed, such as beaver dams and log jams. Generally, these natural barriers are only severe impediments to fish passage during low-flow years, but reduced baseflows have become more common in recent years. Based on this, the planning team felt that natural barriers will be severe most years where they exist, but are mostly reversible, resulting in an overall pressure rating of Low. "
   ]
  }
 ],
 "metadata": {
  "kernelspec": {
   "display_name": "Python 3.7.0 ('test')",
   "language": "python",
   "name": "python3"
  },
  "language_info": {
   "codemirror_mode": {
    "name": "ipython",
    "version": 3
   },
   "file_extension": ".py",
   "mimetype": "text/x-python",
   "name": "python",
   "nbconvert_exporter": "python",
   "pygments_lexer": "ipython3",
   "version": "3.7.0"
  },
  "orig_nbformat": 4,
  "vscode": {
   "interpreter": {
    "hash": "4d32f471e4c787df35246a436d6b5da50fcc80632abe0dd119be69a8b3537624"
   }
  }
 },
 "nbformat": 4,
 "nbformat_minor": 2
}
