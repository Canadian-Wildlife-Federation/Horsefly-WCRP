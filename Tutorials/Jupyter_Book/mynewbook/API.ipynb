{
 "cells": [
  {
   "cell_type": "markdown",
   "metadata": {},
   "source": [
    "# API practice"
   ]
  },
  {
   "cell_type": "markdown",
   "metadata": {},
   "source": [
    "This is where I will be practice producing API called maps."
   ]
  },
  {
   "cell_type": "code",
   "execution_count": 1,
   "metadata": {},
   "outputs": [
    {
     "data": {
      "application/vnd.jupyter.widget-view+json": {
       "model_id": "8dafc4818e6b4b66b3eb236192dfffe1",
       "version_major": 2,
       "version_minor": 0
      },
      "text/plain": [
       "Map(center=[60, -120], controls=(ZoomControl(options=['position', 'zoom_in_text', 'zoom_in_title', 'zoom_out_t…"
      ]
     },
     "metadata": {},
     "output_type": "display_data"
    }
   ],
   "source": [
    "from ipyleaflet import *\n",
    "import json\n",
    "\n",
    "\n",
    "#make the map\n",
    "m = Map(center=(60,-120), zoom=5, basemap = basemaps.Esri.DeLorme)\n",
    "\n",
    "#add the layers\n",
    "with open('test1.geojson') as f:\n",
    "    data = json.load(f)\n",
    "\n",
    "geo = GeoJSON(data=data,\n",
    "              style = {\n",
    "                'color': 'blue'\n",
    "              })\n",
    "\n",
    "m.add_layer(geo)\n",
    "\n",
    "#attempt at querying data from pg_featureserv API for bcfishpass\n",
    "\n",
    "import requests\n",
    "import json\n",
    "\n",
    "query = '?watershed_group_code=BULK'\n",
    "\n",
    "response_API = requests.get('https://features.hillcrestgeo.ca/bcfishpass/collections/bcfishpass.barriers_bt/items.json'+query)\n",
    "\n",
    "parse = response_API.text\n",
    "gjson = json.loads(parse)\n",
    "\n",
    "geo1 = GeoJSON(data=gjson,\n",
    "              style = {\n",
    "                'color': 'black'\n",
    "              })\n",
    "\n",
    "m.add_layer(geo1)\n",
    "\n",
    "\n",
    "m\n"
   ]
  }
 ],
 "metadata": {
  "kernelspec": {
   "display_name": "Python 3.7.13 ('test')",
   "language": "python",
   "name": "python3"
  },
  "language_info": {
   "codemirror_mode": {
    "name": "ipython",
    "version": 3
   },
   "file_extension": ".py",
   "mimetype": "text/x-python",
   "name": "python",
   "nbconvert_exporter": "python",
   "pygments_lexer": "ipython3",
   "version": "3.7.13"
  },
  "orig_nbformat": 4,
  "vscode": {
   "interpreter": {
    "hash": "02285759289a2a234a5d4c85046e9439b3e176e044a7b90299f5d098441e6d04"
   }
  }
 },
 "nbformat": 4,
 "nbformat_minor": 2
}
