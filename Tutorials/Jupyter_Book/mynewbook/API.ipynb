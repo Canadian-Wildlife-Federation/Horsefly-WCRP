{
 "cells": [
  {
   "cell_type": "markdown",
   "metadata": {},
   "source": [
    "# API practice"
   ]
  },
  {
   "cell_type": "markdown",
   "metadata": {},
   "source": [
    "This is where I will be practice producing API called maps."
   ]
  },
  {
   "cell_type": "code",
   "execution_count": 62,
   "metadata": {},
   "outputs": [
    {
     "ename": "OSError",
     "evalue": "[Errno 22] Invalid argument: 'test1.geojson'",
     "output_type": "error",
     "traceback": [
      "\u001b[1;31m---------------------------------------------------------------------------\u001b[0m",
      "\u001b[1;31mOSError\u001b[0m                                   Traceback (most recent call last)",
      "\u001b[1;32m~\\AppData\\Local\\Temp\\ipykernel_5932\\3262554946.py\u001b[0m in \u001b[0;36m<module>\u001b[1;34m\u001b[0m\n\u001b[0;32m      7\u001b[0m \u001b[1;33m\u001b[0m\u001b[0m\n\u001b[0;32m      8\u001b[0m \u001b[1;31m#add the layers\u001b[0m\u001b[1;33m\u001b[0m\u001b[1;33m\u001b[0m\u001b[1;33m\u001b[0m\u001b[0m\n\u001b[1;32m----> 9\u001b[1;33m \u001b[1;32mwith\u001b[0m \u001b[0mopen\u001b[0m\u001b[1;33m(\u001b[0m\u001b[1;34m'test1.geojson'\u001b[0m\u001b[1;33m)\u001b[0m \u001b[1;32mas\u001b[0m \u001b[0mf\u001b[0m\u001b[1;33m:\u001b[0m\u001b[1;33m\u001b[0m\u001b[1;33m\u001b[0m\u001b[0m\n\u001b[0m\u001b[0;32m     10\u001b[0m     \u001b[0mdata\u001b[0m \u001b[1;33m=\u001b[0m \u001b[0mjson\u001b[0m\u001b[1;33m.\u001b[0m\u001b[0mload\u001b[0m\u001b[1;33m(\u001b[0m\u001b[0mf\u001b[0m\u001b[1;33m)\u001b[0m\u001b[1;33m\u001b[0m\u001b[1;33m\u001b[0m\u001b[0m\n\u001b[0;32m     11\u001b[0m \u001b[1;33m\u001b[0m\u001b[0m\n",
      "\u001b[1;31mOSError\u001b[0m: [Errno 22] Invalid argument: 'test1.geojson'"
     ]
    }
   ],
   "source": [
    "from ipyleaflet import *\n",
    "import json\n",
    "\n",
    "\n",
    "#make the map\n",
    "m = Map(center=(50,-120), zoom=6, basemap = basemaps.Esri.DeLorme)\n",
    "\n",
    "#add the layers\n",
    "with open('test1.geojson') as f:\n",
    "    data = json.load(f)\n",
    "\n",
    "geo = GeoJSON(data=data,\n",
    "              style = {\n",
    "                'color': 'blue'\n",
    "              })\n",
    "\n",
    "m.add_layer(geo)\n",
    "\n",
    "# #attempt at querying data from pg_featureserv API for bcfishpass\n",
    "\n",
    "# import requests\n",
    "# import json\n",
    "\n",
    "# response_API = requests.get('https://features.hillcrestgeo.ca/bcfishpass/collections/bcfishpass.streams/items.json')\n",
    "# print(response_API.status_code)\n",
    "\n",
    "# parse = response_API.text\n",
    "# gjson = json.loads(parse)\n",
    "\n",
    "# geo1 = GeoJSON(data=gjson,\n",
    "#               style = {\n",
    "#                 'color': 'blue'\n",
    "#               })\n",
    "\n",
    "# m.add_layer(geo1)\n",
    "\n",
    "\n",
    "m\n"
   ]
  }
 ],
 "metadata": {
  "kernelspec": {
   "display_name": "Python 3.7.13 ('test')",
   "language": "python",
   "name": "python3"
  },
  "language_info": {
   "codemirror_mode": {
    "name": "ipython",
    "version": 3
   },
   "file_extension": ".py",
   "mimetype": "text/x-python",
   "name": "python",
   "nbconvert_exporter": "python",
   "pygments_lexer": "ipython3",
   "version": "3.7.13"
  },
  "orig_nbformat": 4,
  "vscode": {
   "interpreter": {
    "hash": "02285759289a2a234a5d4c85046e9439b3e176e044a7b90299f5d098441e6d04"
   }
  }
 },
 "nbformat": 4,
 "nbformat_minor": 2
}
