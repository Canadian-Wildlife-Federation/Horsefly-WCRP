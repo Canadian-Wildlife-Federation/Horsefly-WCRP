{
 "cells": [
  {
   "cell_type": "markdown",
   "metadata": {},
   "source": [
    "# API practice"
   ]
  },
  {
   "cell_type": "markdown",
   "metadata": {},
   "source": [
    "This is where I will be practice producing API called maps."
   ]
  },
  {
   "cell_type": "code",
   "execution_count": 3,
   "metadata": {
    "tags": [
        "remove-input"
    ]
   },
   "outputs": [
    {
     "data": {
      "application/vnd.jupyter.widget-view+json": {
       "model_id": "7c2b1d13ac1a41a78d50945b1727eed7",
       "version_major": 2,
       "version_minor": 0
      },
      "text/plain": [
       "Map(center=[52.6, -120.5], controls=(ZoomControl(options=['position', 'zoom_in_text', 'zoom_in_title', 'zoom_o…"
      ]
     },
     "metadata": {},
     "output_type": "display_data"
    }
   ],
   "source": [
    "from ipyleaflet import *\n",
    "from ipywidgets import HTML\n",
    "import requests\n",
    "import json\n",
    "import pandas\n",
    "from pandas import json_normalize\n",
    "\n",
    "\n",
    "#setting the map to center and zoom\n",
    "m = Map(center=(52.6,-120.5), zoom=8)\n",
    "\n",
    "#alternate basemap tile\n",
    "dm_layer = basemap_to_tiles(basemaps.CartoDB.DarkMatter)\n",
    "m.add_layer(dm_layer)\n",
    "\n",
    "#caching\n",
    "#querying data from pg_featureserv API for bcfishpass\n",
    "request = 'https://features.hillcrestgeo.ca/bcfishpass/collections/bcfishpass.streams/items.json'\n",
    "query = '?properties=watershed_group_code&filter=watershed_group_code%20=%20%27HORS%27' #this query slows things down for some reason\n",
    "\n",
    "request1 = 'https://features.hillcrestgeo.ca/bcfishpass/collections/bcfishpass.crossings/items.json'\n",
    "query1 = '?filter=watershed_group_code%20=%20%27HORS%27%20AND%20all_spawningrearing_km%3e0'\n",
    "\n",
    "response_API = requests.get(request+query)\n",
    "response_API1 = requests.get(request1+query1)\n",
    "\n",
    "parse = response_API.text\n",
    "stream = json.loads(parse)\n",
    "\n",
    "parse1 = response_API1.text\n",
    "gjson = json.loads(parse1)\n",
    "  \n",
    "\n",
    "\n",
    "#converting json to geojson\n",
    "geo = GeoJSON(data = stream,\n",
    "              name = \"stream\")\n",
    "m.add_layer(geo)\n",
    "\n",
    "geo1 = GeoJSON(data=gjson,\n",
    "               name=\"layer\")\n",
    "\n",
    "#m.add_layer(geo1)\n",
    "\n",
    "#adding controls to map\n",
    "control = LayersControl(position='topright')\n",
    "\n",
    "#popup & marker cluster\n",
    "markers = ()\n",
    "\n",
    "#style for marker https://fontawesome.com/v4/icons/\n",
    "icon = AwesomeIcon(\n",
    "  name='wrench',\n",
    "  marker_color='blue',\n",
    "  icon_color='blue'\n",
    ")\n",
    "\n",
    "#https://carpentries-incubator.github.io/jupyter_maps/03-vector/index.html\n",
    "\n",
    "features = gjson['features']\n",
    "for i in range(len(features)):\n",
    "    location=(features[i]['geometry']['coordinates'][1],features[i]['geometry']['coordinates'][0])\n",
    "    instructors = (features[i]['id'])\n",
    "    html = \"\"\"\n",
    "    <p>\n",
    "      <h4>Table:        \"\"\" + \" \".join(instructors) + \"\"\"</h4>\n",
    "    </p>\n",
    "    \"\"\"\n",
    "    marker = Marker(icon = icon, location = location)\n",
    "\n",
    "    # Popup associated to a layer\n",
    "    marker.popup = HTML(html)\n",
    "    #m.add_layer(marker)\n",
    "\n",
    "    #marker cluster markers\n",
    "    markers = markers + (marker,)\n",
    "\n",
    "m.add_layer(MarkerCluster(markers = markers, name=\"Crossings\"))\n",
    "    \n",
    "\n",
    "\n",
    "\n",
    "\n",
    "m.add_control(control)\n",
    "\n",
    "\n",
    "#displaying map inline\n",
    "display(m, metadata={\"tags\":[\"hide-input\"]})\n"
   ]
  }
 ],
 "metadata": {
  "kernelspec": {
   "display_name": "Python 3.7.13 ('test')",
   "language": "python",
   "name": "python3"
  },
  "language_info": {
   "codemirror_mode": {
    "name": "ipython",
    "version": 3
   },
   "file_extension": ".py",
   "mimetype": "text/x-python",
   "name": "python",
   "nbconvert_exporter": "python",
   "pygments_lexer": "ipython3",
   "version": "3.7.13"
  },
  "orig_nbformat": 4,
  "vscode": {
   "interpreter": {
    "hash": "02285759289a2a234a5d4c85046e9439b3e176e044a7b90299f5d098441e6d04"
   }
  }
 },
 "nbformat": 4,
 "nbformat_minor": 2
}
