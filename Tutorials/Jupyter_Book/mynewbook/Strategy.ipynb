{
 "cells": [
  {
   "cell_type": "markdown",
   "metadata": {},
   "source": [
    "# Goals\n",
    "\n",
    "Table 9. Goals to improve (1) spawning and rearing and (2) overwintering habitat connectivity for target species in the Horsefly River watershed over the lifespan of the WCRP (2021-2040). The goals were established through discussions with the planning team and represent the resulting desired state of connectivity in the watershed. The goals are subject to change as more information and data are collected over the course of the plan timeline (e.g., the current connectivity status is updated based on barrier field assessments). "
   ]
  },
  {
   "cell_type": "code",
   "execution_count": 16,
   "metadata": {
    "tags": [
     "remove-input"
    ]
   },
   "outputs": [
    {
     "data": {
      "text/html": [
       "<style  type=\"text/css\" >\n",
       "#T_dff3fe64_2f77_11ed_9f36_b445066bfd9brow0_col0,#T_dff3fe64_2f77_11ed_9f36_b445066bfd9brow0_col1,#T_dff3fe64_2f77_11ed_9f36_b445066bfd9brow1_col0,#T_dff3fe64_2f77_11ed_9f36_b445066bfd9brow1_col1{\n",
       "            text-align:  left;\n",
       "        }</style><table id=\"T_dff3fe64_2f77_11ed_9f36_b445066bfd9b\" ><thead>    <tr>        <th class=\"col_heading level0 col0\" >Goal #</th>        <th class=\"col_heading level0 col1\" >Goal</th>    </tr></thead><tbody>\n",
       "                <tr>\n",
       "                                <td id=\"T_dff3fe64_2f77_11ed_9f36_b445066bfd9brow0_col0\" class=\"data row0 col0\" >1</td>\n",
       "                        <td id=\"T_dff3fe64_2f77_11ed_9f36_b445066bfd9brow0_col1\" class=\"data row0 col1\" >By 2040, the percent (%) of total linear habitat accessible to anadromous salmon will increase from 94% to 96% within the Horsefly River watershed (i.e., reconnect at least 11.7 km of habitat).</td>\n",
       "            </tr>\n",
       "            <tr>\n",
       "                                <td id=\"T_dff3fe64_2f77_11ed_9f36_b445066bfd9brow1_col0\" class=\"data row1 col0\" >2</td>\n",
       "                        <td id=\"T_dff3fe64_2f77_11ed_9f36_b445066bfd9brow1_col1\" class=\"data row1 col1\" >By 2024, the total area of overwintering habitat accessible to Anadromous Salmon will increase by 1,500 m2 within the Horsefly River watershed. </td>\n",
       "            </tr>\n",
       "    </tbody></table>"
      ],
      "text/plain": [
       "<pandas.io.formats.style.Styler at 0x2070dfbc908>"
      ]
     },
     "execution_count": 16,
     "metadata": {},
     "output_type": "execute_result"
    }
   ],
   "source": [
    "#creating table 7\n",
    "import pandas as pd\n",
    "import numpy as np\n",
    "\n",
    "df = pd.DataFrame({\"Goal #\": [1,2],\n",
    "                   \"Goal\": [\"By 2040, the percent (%) of total linear habitat accessible to anadromous salmon will increase from 94% to 96% within the Horsefly River watershed (i.e., reconnect at least 11.7 km of habitat).\",\n",
    "                            \"By 2024, the total area of overwintering habitat accessible to Anadromous Salmon will increase by 1,500 m2 within the Horsefly River watershed. \"]\n",
    "                    })\n",
    "\n",
    "df.style.hide_index().set_properties(**{'text-align': 'left'})"
   ]
  },
  {
   "cell_type": "markdown",
   "metadata": {},
   "source": [
    "# Strategies & Actions\n",
    "\n",
    "Table 10. Effectiveness evaluation of identified conservation strategies and associated actions to improve connectivity for target species in the Horsefly River watershed. The planning team identified five broad strategies to implement through this WCRP, 1) crossing remediation, 2) lateral barrier remediation, 3) dam remediation, 4) barrier prevention, and 5) communication and education. Individual actions were qualitatively evaluated based on the anticipated effect each action will have on realizing on-the-ground gains in connectivity. Effectiveness ratings are based on a combination of \"Feasibility and \"Impact\", Feasibility is defined as the degree to which the project team can implement the action within realistic constraints (financial, time, ethical, etc.) and Impact is the degree to which the action is likely to contribute to achieving one or more of the goals established in this plan.\n",
    "\n",
    "## Strategy 1: Crossing Remediation"
   ]
  },
  {
   "cell_type": "code",
   "execution_count": 4,
   "metadata": {
    "tags": [
     "remove-input"
    ]
   },
   "outputs": [
    {
     "data": {
      "text/html": [
       "<style  type=\"text/css\" >\n",
       "#T_9cdca06e_3902_11ed_b32f_b445066bfd9brow0_col0,#T_9cdca06e_3902_11ed_b32f_b445066bfd9brow0_col1,#T_9cdca06e_3902_11ed_b32f_b445066bfd9brow0_col2,#T_9cdca06e_3902_11ed_b32f_b445066bfd9brow1_col0,#T_9cdca06e_3902_11ed_b32f_b445066bfd9brow1_col1,#T_9cdca06e_3902_11ed_b32f_b445066bfd9brow1_col2,#T_9cdca06e_3902_11ed_b32f_b445066bfd9brow2_col0,#T_9cdca06e_3902_11ed_b32f_b445066bfd9brow2_col1,#T_9cdca06e_3902_11ed_b32f_b445066bfd9brow2_col2,#T_9cdca06e_3902_11ed_b32f_b445066bfd9brow3_col0,#T_9cdca06e_3902_11ed_b32f_b445066bfd9brow3_col1,#T_9cdca06e_3902_11ed_b32f_b445066bfd9brow3_col2,#T_9cdca06e_3902_11ed_b32f_b445066bfd9brow4_col0,#T_9cdca06e_3902_11ed_b32f_b445066bfd9brow4_col1,#T_9cdca06e_3902_11ed_b32f_b445066bfd9brow4_col2,#T_9cdca06e_3902_11ed_b32f_b445066bfd9brow5_col0,#T_9cdca06e_3902_11ed_b32f_b445066bfd9brow5_col1,#T_9cdca06e_3902_11ed_b32f_b445066bfd9brow5_col2,#T_9cdca06e_3902_11ed_b32f_b445066bfd9brow5_col3,#T_9cdca06e_3902_11ed_b32f_b445066bfd9brow5_col4,#T_9cdca06e_3902_11ed_b32f_b445066bfd9brow5_col5,#T_9cdca06e_3902_11ed_b32f_b445066bfd9brow6_col0,#T_9cdca06e_3902_11ed_b32f_b445066bfd9brow6_col1,#T_9cdca06e_3902_11ed_b32f_b445066bfd9brow6_col2,#T_9cdca06e_3902_11ed_b32f_b445066bfd9brow7_col0,#T_9cdca06e_3902_11ed_b32f_b445066bfd9brow7_col1,#T_9cdca06e_3902_11ed_b32f_b445066bfd9brow7_col2,#T_9cdca06e_3902_11ed_b32f_b445066bfd9brow8_col0,#T_9cdca06e_3902_11ed_b32f_b445066bfd9brow8_col1,#T_9cdca06e_3902_11ed_b32f_b445066bfd9brow8_col2{\n",
       "            background-color:  white;\n",
       "            text-align:  left;\n",
       "        }#T_9cdca06e_3902_11ed_b32f_b445066bfd9brow0_col3,#T_9cdca06e_3902_11ed_b32f_b445066bfd9brow0_col5,#T_9cdca06e_3902_11ed_b32f_b445066bfd9brow1_col4,#T_9cdca06e_3902_11ed_b32f_b445066bfd9brow1_col5,#T_9cdca06e_3902_11ed_b32f_b445066bfd9brow3_col4,#T_9cdca06e_3902_11ed_b32f_b445066bfd9brow3_col5,#T_9cdca06e_3902_11ed_b32f_b445066bfd9brow7_col3,#T_9cdca06e_3902_11ed_b32f_b445066bfd9brow7_col4,#T_9cdca06e_3902_11ed_b32f_b445066bfd9brow7_col5{\n",
       "            background-color:  #03853e;\n",
       "            text-align:  left;\n",
       "        }#T_9cdca06e_3902_11ed_b32f_b445066bfd9brow0_col4,#T_9cdca06e_3902_11ed_b32f_b445066bfd9brow1_col3,#T_9cdca06e_3902_11ed_b32f_b445066bfd9brow2_col3,#T_9cdca06e_3902_11ed_b32f_b445066bfd9brow2_col4,#T_9cdca06e_3902_11ed_b32f_b445066bfd9brow2_col5,#T_9cdca06e_3902_11ed_b32f_b445066bfd9brow3_col3,#T_9cdca06e_3902_11ed_b32f_b445066bfd9brow4_col3,#T_9cdca06e_3902_11ed_b32f_b445066bfd9brow4_col4,#T_9cdca06e_3902_11ed_b32f_b445066bfd9brow4_col5,#T_9cdca06e_3902_11ed_b32f_b445066bfd9brow6_col3,#T_9cdca06e_3902_11ed_b32f_b445066bfd9brow6_col4,#T_9cdca06e_3902_11ed_b32f_b445066bfd9brow6_col5,#T_9cdca06e_3902_11ed_b32f_b445066bfd9brow8_col3{\n",
       "            background-color:  #92d050;\n",
       "            text-align:  left;\n",
       "        }#T_9cdca06e_3902_11ed_b32f_b445066bfd9brow8_col4,#T_9cdca06e_3902_11ed_b32f_b445066bfd9brow8_col5{\n",
       "            background-color:  #ffff00;\n",
       "            text-align:  left;\n",
       "        }</style><table id=\"T_9cdca06e_3902_11ed_b32f_b445066bfd9b\" ><thead>    <tr>        <th class=\"col_heading level0 col0\" >ID</th>        <th class=\"col_heading level0 col1\" >Actions</th>        <th class=\"col_heading level0 col2\" >Details</th>        <th class=\"col_heading level0 col3\" >Feasibility</th>        <th class=\"col_heading level0 col4\" >Impact</th>        <th class=\"col_heading level0 col5\" >Effectiveness</th>    </tr></thead><tbody>\n",
       "                <tr>\n",
       "                                <td id=\"T_9cdca06e_3902_11ed_b32f_b445066bfd9brow0_col0\" class=\"data row0 col0\" >1.1</td>\n",
       "                        <td id=\"T_9cdca06e_3902_11ed_b32f_b445066bfd9brow0_col1\" class=\"data row0 col1\" >Remediate crossings that are acting as barriers</td>\n",
       "                        <td id=\"T_9cdca06e_3902_11ed_b32f_b445066bfd9brow0_col2\" class=\"data row0 col2\" >This action represents some projects that would be led by the planning team with conservation funds (e.g., orphaned barriers or those owned by individuals), while other remediation projects would be the responsibility of the barrier owner. Industry will have to be engaged to successfully implement this intervention. \n",
       "\n",
       "PSC Southern Boundary Restoration and Enhancement Fund proposal:\n",
       "\n",
       "- Complete remediation of one priority barrier, including engineering designs\n",
       "\n",
       "HCTF proposal:\n",
       "\n",
       "- Complete remediation of one priority barrier\n",
       "\n",
       "CNFASAR proposal (2022-26):\n",
       "\n",
       "- Complete remediation of one priority barrier per year for four years\n",
       "\n",
       "HRR Can help with finding local people to implement remediation projects.\n",
       "</td>\n",
       "                        <td id=\"T_9cdca06e_3902_11ed_b32f_b445066bfd9brow0_col3\" class=\"data row0 col3\" >High</td>\n",
       "                        <td id=\"T_9cdca06e_3902_11ed_b32f_b445066bfd9brow0_col4\" class=\"data row0 col4\" >Very high</td>\n",
       "                        <td id=\"T_9cdca06e_3902_11ed_b32f_b445066bfd9brow0_col5\" class=\"data row0 col5\" >Effective</td>\n",
       "            </tr>\n",
       "            <tr>\n",
       "                                <td id=\"T_9cdca06e_3902_11ed_b32f_b445066bfd9brow1_col0\" class=\"data row1 col0\" >1.2</td>\n",
       "                        <td id=\"T_9cdca06e_3902_11ed_b32f_b445066bfd9brow1_col1\" class=\"data row1 col1\" >Lobby that the government enforce their regulations</td>\n",
       "                        <td id=\"T_9cdca06e_3902_11ed_b32f_b445066bfd9brow1_col2\" class=\"data row1 col2\" >This can apply to both provincial and federal governments. For example, advocating for increased discretionary decisions to remove barriers to fish. One action could be to submit barrier assessment data to show proof that regulations are not being followed.</td>\n",
       "                        <td id=\"T_9cdca06e_3902_11ed_b32f_b445066bfd9brow1_col3\" class=\"data row1 col3\" >Very high</td>\n",
       "                        <td id=\"T_9cdca06e_3902_11ed_b32f_b445066bfd9brow1_col4\" class=\"data row1 col4\" >High</td>\n",
       "                        <td id=\"T_9cdca06e_3902_11ed_b32f_b445066bfd9brow1_col5\" class=\"data row1 col5\" >Effective</td>\n",
       "            </tr>\n",
       "            <tr>\n",
       "                                <td id=\"T_9cdca06e_3902_11ed_b32f_b445066bfd9brow2_col0\" class=\"data row2 col0\" >1.3</td>\n",
       "                        <td id=\"T_9cdca06e_3902_11ed_b32f_b445066bfd9brow2_col1\" class=\"data row2 col1\" >Initiate a barrier owner outreach program for locations on the barrier remediation shortlist</td>\n",
       "                        <td id=\"T_9cdca06e_3902_11ed_b32f_b445066bfd9brow2_col2\" class=\"data row2 col2\" >Work with landowners / users (e.g., ATV groups) to identify and remediate their aquatic barriers. Education component can help prevent barriers in the first place. HRR to reach out to owners of confirmed barriers to discuss remediation options; CWF to reach out to provincial representatives.</td>\n",
       "                        <td id=\"T_9cdca06e_3902_11ed_b32f_b445066bfd9brow2_col3\" class=\"data row2 col3\" >Very high</td>\n",
       "                        <td id=\"T_9cdca06e_3902_11ed_b32f_b445066bfd9brow2_col4\" class=\"data row2 col4\" >Very high</td>\n",
       "                        <td id=\"T_9cdca06e_3902_11ed_b32f_b445066bfd9brow2_col5\" class=\"data row2 col5\" >Very effective</td>\n",
       "            </tr>\n",
       "            <tr>\n",
       "                                <td id=\"T_9cdca06e_3902_11ed_b32f_b445066bfd9brow3_col0\" class=\"data row3 col0\" >1.4</td>\n",
       "                        <td id=\"T_9cdca06e_3902_11ed_b32f_b445066bfd9brow3_col1\" class=\"data row3 col1\" >Knowledge Gap: Continue updating the barrier prioritization model</td>\n",
       "                        <td id=\"T_9cdca06e_3902_11ed_b32f_b445066bfd9brow3_col2\" class=\"data row3 col2\" >The model has been updated to reflect 2021 field assessments and intermediate barrier review.</td>\n",
       "                        <td id=\"T_9cdca06e_3902_11ed_b32f_b445066bfd9brow3_col3\" class=\"data row3 col3\" >Very high</td>\n",
       "                        <td id=\"T_9cdca06e_3902_11ed_b32f_b445066bfd9brow3_col4\" class=\"data row3 col4\" >High</td>\n",
       "                        <td id=\"T_9cdca06e_3902_11ed_b32f_b445066bfd9brow3_col5\" class=\"data row3 col5\" >Effective</td>\n",
       "            </tr>\n",
       "            <tr>\n",
       "                                <td id=\"T_9cdca06e_3902_11ed_b32f_b445066bfd9brow4_col0\" class=\"data row4 col0\" >1.5</td>\n",
       "                        <td id=\"T_9cdca06e_3902_11ed_b32f_b445066bfd9brow4_col1\" class=\"data row4 col1\" >Knowledge Gap: conduct field assessments on updated preliminary barrier list using the provincial fish passage framework and update connectivity goal if additional barriers are added to the barrier remediation shortlist</td>\n",
       "                        <td id=\"T_9cdca06e_3902_11ed_b32f_b445066bfd9brow4_col2\" class=\"data row4 col2\" >Twenty-six field assessments performed in 2021.</td>\n",
       "                        <td id=\"T_9cdca06e_3902_11ed_b32f_b445066bfd9brow4_col3\" class=\"data row4 col3\" >Very high</td>\n",
       "                        <td id=\"T_9cdca06e_3902_11ed_b32f_b445066bfd9brow4_col4\" class=\"data row4 col4\" >Very high</td>\n",
       "                        <td id=\"T_9cdca06e_3902_11ed_b32f_b445066bfd9brow4_col5\" class=\"data row4 col5\" >Very effective</td>\n",
       "            </tr>\n",
       "            <tr>\n",
       "                                <td id=\"T_9cdca06e_3902_11ed_b32f_b445066bfd9brow5_col0\" class=\"data row5 col0\" >1.6</td>\n",
       "                        <td id=\"T_9cdca06e_3902_11ed_b32f_b445066bfd9brow5_col1\" class=\"data row5 col1\" >Update longitudinal connectivity goal if additional barriers are added to the barrier remediation shortlist</td>\n",
       "                        <td id=\"T_9cdca06e_3902_11ed_b32f_b445066bfd9brow5_col2\" class=\"data row5 col2\" ></td>\n",
       "                        <td id=\"T_9cdca06e_3902_11ed_b32f_b445066bfd9brow5_col3\" class=\"data row5 col3\" ></td>\n",
       "                        <td id=\"T_9cdca06e_3902_11ed_b32f_b445066bfd9brow5_col4\" class=\"data row5 col4\" ></td>\n",
       "                        <td id=\"T_9cdca06e_3902_11ed_b32f_b445066bfd9brow5_col5\" class=\"data row5 col5\" ></td>\n",
       "            </tr>\n",
       "            <tr>\n",
       "                                <td id=\"T_9cdca06e_3902_11ed_b32f_b445066bfd9brow6_col0\" class=\"data row6 col0\" >1.7</td>\n",
       "                        <td id=\"T_9cdca06e_3902_11ed_b32f_b445066bfd9brow6_col1\" class=\"data row6 col1\" >Knowledge Gap: Identify and map crossing ownership</td>\n",
       "                        <td id=\"T_9cdca06e_3902_11ed_b32f_b445066bfd9brow6_col2\" class=\"data row6 col2\" >For barriers on the barrier remediation shortlist.</td>\n",
       "                        <td id=\"T_9cdca06e_3902_11ed_b32f_b445066bfd9brow6_col3\" class=\"data row6 col3\" >Very high</td>\n",
       "                        <td id=\"T_9cdca06e_3902_11ed_b32f_b445066bfd9brow6_col4\" class=\"data row6 col4\" >Very high</td>\n",
       "                        <td id=\"T_9cdca06e_3902_11ed_b32f_b445066bfd9brow6_col5\" class=\"data row6 col5\" >Very effective</td>\n",
       "            </tr>\n",
       "            <tr>\n",
       "                                <td id=\"T_9cdca06e_3902_11ed_b32f_b445066bfd9brow7_col0\" class=\"data row7 col0\" >1.8</td>\n",
       "                        <td id=\"T_9cdca06e_3902_11ed_b32f_b445066bfd9brow7_col1\" class=\"data row7 col1\" >Knowledge Gap: Compile road maintenance schedules</td>\n",
       "                        <td id=\"T_9cdca06e_3902_11ed_b32f_b445066bfd9brow7_col2\" class=\"data row7 col2\" >Ground-truthing is important, as the schedules do not always reflect what happens in the field.</td>\n",
       "                        <td id=\"T_9cdca06e_3902_11ed_b32f_b445066bfd9brow7_col3\" class=\"data row7 col3\" >High</td>\n",
       "                        <td id=\"T_9cdca06e_3902_11ed_b32f_b445066bfd9brow7_col4\" class=\"data row7 col4\" >High</td>\n",
       "                        <td id=\"T_9cdca06e_3902_11ed_b32f_b445066bfd9brow7_col5\" class=\"data row7 col5\" >Effective</td>\n",
       "            </tr>\n",
       "            <tr>\n",
       "                                <td id=\"T_9cdca06e_3902_11ed_b32f_b445066bfd9brow8_col0\" class=\"data row8 col0\" >1.9</td>\n",
       "                        <td id=\"T_9cdca06e_3902_11ed_b32f_b445066bfd9brow8_col1\" class=\"data row8 col1\" >Knowledge Gap: Survey trail-stream crossings to confirm low pressure rating values</td>\n",
       "                        <td id=\"T_9cdca06e_3902_11ed_b32f_b445066bfd9brow8_col2\" class=\"data row8 col2\" >Need to access detailed trail maps in the watershed to prioritize our time and resources. This should be accomplished as people are out surveying for other reasons rather than spending time and resources specifically to fill this knowledge gap.\n",
       "CNFASAR proposal:\n",
       "Collaborate with WLFN to:\n",
       "- Develop field assessment protocols for whether ATV trail stream crossings pass fish, and for assessing other effects on fish habitat \n",
       "- Map potential trail-stream crossings on salmon habitat that could be assessed \n",
       "- Assess 30-50 trail stream crossings, record measurements, and take pictures</td>\n",
       "                        <td id=\"T_9cdca06e_3902_11ed_b32f_b445066bfd9brow8_col3\" class=\"data row8 col3\" >Very high</td>\n",
       "                        <td id=\"T_9cdca06e_3902_11ed_b32f_b445066bfd9brow8_col4\" class=\"data row8 col4\" >Medium</td>\n",
       "                        <td id=\"T_9cdca06e_3902_11ed_b32f_b445066bfd9brow8_col5\" class=\"data row8 col5\" >Need more information</td>\n",
       "            </tr>\n",
       "    </tbody></table>"
      ],
      "text/plain": [
       "<pandas.io.formats.style.Styler at 0x205a7ae6d88>"
      ]
     },
     "execution_count": 4,
     "metadata": {},
     "output_type": "execute_result"
    }
   ],
   "source": [
    "import numpy as np\n",
    "from IPython.display import display\n",
    "import pandas as pd\n",
    "\n",
    "data = pd.read_csv('tables\\Strategy1.csv', index_col=False)\n",
    "\n",
    "def fix_table(val):\n",
    "    return str(val)\n",
    "\n",
    "def highlighttab7(val):\n",
    "    red = '#ff0000;'\n",
    "    yellow = '#ffff00;'\n",
    "    lgreen = '#92d050;'\n",
    "    dgreen = '#03853e;'\n",
    "\n",
    "    if val==\"Medium\" or val==\"Need more information\": color = yellow\n",
    "    elif val==\"Very high\" or val==\"Very effective\" : color = lgreen\n",
    "    elif val ==\"High\" or val==\"Effective\": color = dgreen\n",
    "    else: color = 'white'\n",
    "    return 'background-color: %s' % color\n",
    "\n",
    "data = data.replace(np.nan, '', regex=True)\n",
    "\n",
    "data = data.applymap(fix_table)\n",
    "\n",
    "data.style.applymap(highlighttab7).hide_index().set_properties(**{'text-align': 'left'})\n"
   ]
  },
  {
   "cell_type": "markdown",
   "metadata": {},
   "source": [
    "## Strategy 2: Lateral Barrier Remediation\t"
   ]
  },
  {
   "cell_type": "code",
   "execution_count": 18,
   "metadata": {
    "tags": [
     "remove-input"
    ]
   },
   "outputs": [
    {
     "data": {
      "text/html": [
       "<style  type=\"text/css\" >\n",
       "#T_e0253540_2f77_11ed_af34_b445066bfd9brow0_col0,#T_e0253540_2f77_11ed_af34_b445066bfd9brow0_col1,#T_e0253540_2f77_11ed_af34_b445066bfd9brow0_col2,#T_e0253540_2f77_11ed_af34_b445066bfd9brow1_col0,#T_e0253540_2f77_11ed_af34_b445066bfd9brow1_col1,#T_e0253540_2f77_11ed_af34_b445066bfd9brow1_col2,#T_e0253540_2f77_11ed_af34_b445066bfd9brow2_col0,#T_e0253540_2f77_11ed_af34_b445066bfd9brow2_col1,#T_e0253540_2f77_11ed_af34_b445066bfd9brow2_col2,#T_e0253540_2f77_11ed_af34_b445066bfd9brow3_col0,#T_e0253540_2f77_11ed_af34_b445066bfd9brow3_col1,#T_e0253540_2f77_11ed_af34_b445066bfd9brow3_col2,#T_e0253540_2f77_11ed_af34_b445066bfd9brow4_col0,#T_e0253540_2f77_11ed_af34_b445066bfd9brow4_col1,#T_e0253540_2f77_11ed_af34_b445066bfd9brow4_col2{\n",
       "            background-color:  white;\n",
       "            text-align:  left;\n",
       "        }#T_e0253540_2f77_11ed_af34_b445066bfd9brow0_col3,#T_e0253540_2f77_11ed_af34_b445066bfd9brow0_col5{\n",
       "            background-color:  #03853e;\n",
       "            text-align:  left;\n",
       "        }#T_e0253540_2f77_11ed_af34_b445066bfd9brow0_col4,#T_e0253540_2f77_11ed_af34_b445066bfd9brow1_col3,#T_e0253540_2f77_11ed_af34_b445066bfd9brow1_col4,#T_e0253540_2f77_11ed_af34_b445066bfd9brow1_col5,#T_e0253540_2f77_11ed_af34_b445066bfd9brow2_col3,#T_e0253540_2f77_11ed_af34_b445066bfd9brow2_col4,#T_e0253540_2f77_11ed_af34_b445066bfd9brow2_col5,#T_e0253540_2f77_11ed_af34_b445066bfd9brow3_col3,#T_e0253540_2f77_11ed_af34_b445066bfd9brow3_col4,#T_e0253540_2f77_11ed_af34_b445066bfd9brow3_col5,#T_e0253540_2f77_11ed_af34_b445066bfd9brow4_col3,#T_e0253540_2f77_11ed_af34_b445066bfd9brow4_col4,#T_e0253540_2f77_11ed_af34_b445066bfd9brow4_col5{\n",
       "            background-color:  #92d050;\n",
       "            text-align:  left;\n",
       "        }</style><table id=\"T_e0253540_2f77_11ed_af34_b445066bfd9b\" ><thead>    <tr>        <th class=\"col_heading level0 col0\" >ID</th>        <th class=\"col_heading level0 col1\" >Actions</th>        <th class=\"col_heading level0 col2\" >Details</th>        <th class=\"col_heading level0 col3\" >Feasibility</th>        <th class=\"col_heading level0 col4\" >Impact</th>        <th class=\"col_heading level0 col5\" >Effectiveness</th>    </tr></thead><tbody>\n",
       "                <tr>\n",
       "                                <td id=\"T_e0253540_2f77_11ed_af34_b445066bfd9brow0_col0\" class=\"data row0 col0\" >2.1</td>\n",
       "                        <td id=\"T_e0253540_2f77_11ed_af34_b445066bfd9brow0_col1\" class=\"data row0 col1\" >Remediate dikes / berms / other lateral barriers</td>\n",
       "                        <td id=\"T_e0253540_2f77_11ed_af34_b445066bfd9brow0_col2\" class=\"data row0 col2\" ></td>\n",
       "                        <td id=\"T_e0253540_2f77_11ed_af34_b445066bfd9brow0_col3\" class=\"data row0 col3\" >High</td>\n",
       "                        <td id=\"T_e0253540_2f77_11ed_af34_b445066bfd9brow0_col4\" class=\"data row0 col4\" >Very high</td>\n",
       "                        <td id=\"T_e0253540_2f77_11ed_af34_b445066bfd9brow0_col5\" class=\"data row0 col5\" >Effective</td>\n",
       "            </tr>\n",
       "            <tr>\n",
       "                                <td id=\"T_e0253540_2f77_11ed_af34_b445066bfd9brow1_col0\" class=\"data row1 col0\" >2.2</td>\n",
       "                        <td id=\"T_e0253540_2f77_11ed_af34_b445066bfd9brow1_col1\" class=\"data row1 col1\" >Initiate a barrier owner outreach program</td>\n",
       "                        <td id=\"T_e0253540_2f77_11ed_af34_b445066bfd9brow1_col2\" class=\"data row1 col2\" ></td>\n",
       "                        <td id=\"T_e0253540_2f77_11ed_af34_b445066bfd9brow1_col3\" class=\"data row1 col3\" >Very high</td>\n",
       "                        <td id=\"T_e0253540_2f77_11ed_af34_b445066bfd9brow1_col4\" class=\"data row1 col4\" >Very high</td>\n",
       "                        <td id=\"T_e0253540_2f77_11ed_af34_b445066bfd9brow1_col5\" class=\"data row1 col5\" >Very effective</td>\n",
       "            </tr>\n",
       "            <tr>\n",
       "                                <td id=\"T_e0253540_2f77_11ed_af34_b445066bfd9brow2_col0\" class=\"data row2 col0\" >2.3</td>\n",
       "                        <td id=\"T_e0253540_2f77_11ed_af34_b445066bfd9brow2_col1\" class=\"data row2 col1\" >Knowledge Gap: Identify and map year-round lateral habitat, as well as overwintering habitat</td>\n",
       "                        <td id=\"T_e0253540_2f77_11ed_af34_b445066bfd9brow2_col2\" class=\"data row2 col2\" >Explore the use of a drone to identify lateral habitat.  \r\r- Volunteers from the HRR will conduct field habitat assessments following modules in the Pacific Streamkeepers Handbook to assess disconnected lateral and overwintering salmon habitats in the Horsefly watershed \r\rCNFASAR proposal:\r\r\r -Funding for equipment in 2022-2023, and for field transportation in 2022-2023, 2023-2024</td>\n",
       "                        <td id=\"T_e0253540_2f77_11ed_af34_b445066bfd9brow2_col3\" class=\"data row2 col3\" >Very high</td>\n",
       "                        <td id=\"T_e0253540_2f77_11ed_af34_b445066bfd9brow2_col4\" class=\"data row2 col4\" >Very high</td>\n",
       "                        <td id=\"T_e0253540_2f77_11ed_af34_b445066bfd9brow2_col5\" class=\"data row2 col5\" >Very effective</td>\n",
       "            </tr>\n",
       "            <tr>\n",
       "                                <td id=\"T_e0253540_2f77_11ed_af34_b445066bfd9brow3_col0\" class=\"data row3 col0\" >2.4</td>\n",
       "                        <td id=\"T_e0253540_2f77_11ed_af34_b445066bfd9brow3_col1\" class=\"data row3 col1\" >Knowledge Gap: Map lateral barriers and barrier ownership</td>\n",
       "                        <td id=\"T_e0253540_2f77_11ed_af34_b445066bfd9brow3_col2\" class=\"data row3 col2\" >Focus on identifying ownership of priority lateral barriers that we want to remediate in the short-term.</td>\n",
       "                        <td id=\"T_e0253540_2f77_11ed_af34_b445066bfd9brow3_col3\" class=\"data row3 col3\" >Very high</td>\n",
       "                        <td id=\"T_e0253540_2f77_11ed_af34_b445066bfd9brow3_col4\" class=\"data row3 col4\" >Very high</td>\n",
       "                        <td id=\"T_e0253540_2f77_11ed_af34_b445066bfd9brow3_col5\" class=\"data row3 col5\" >Very effective</td>\n",
       "            </tr>\n",
       "            <tr>\n",
       "                                <td id=\"T_e0253540_2f77_11ed_af34_b445066bfd9brow4_col0\" class=\"data row4 col0\" >2.5</td>\n",
       "                        <td id=\"T_e0253540_2f77_11ed_af34_b445066bfd9brow4_col1\" class=\"data row4 col1\" >Knowledge Gap: Develop a framework to assess and prioritize between different lateral barrier remediation projects</td>\n",
       "                        <td id=\"T_e0253540_2f77_11ed_af34_b445066bfd9brow4_col2\" class=\"data row4 col2\" >CWF is leading a provincial-scale analysis of the effect of rail lines on connectivity for Anadromous Salmonids, as part of this project lateral habitat and barrier assessments and prioritization methods will be developed.</td>\n",
       "                        <td id=\"T_e0253540_2f77_11ed_af34_b445066bfd9brow4_col3\" class=\"data row4 col3\" >Very high</td>\n",
       "                        <td id=\"T_e0253540_2f77_11ed_af34_b445066bfd9brow4_col4\" class=\"data row4 col4\" >Very high</td>\n",
       "                        <td id=\"T_e0253540_2f77_11ed_af34_b445066bfd9brow4_col5\" class=\"data row4 col5\" >Very effective</td>\n",
       "            </tr>\n",
       "    </tbody></table>"
      ],
      "text/plain": [
       "<pandas.io.formats.style.Styler at 0x2070dfbc940>"
      ]
     },
     "metadata": {},
     "output_type": "display_data"
    }
   ],
   "source": [
    "data = pd.read_csv('tables\\Strategy2.csv', escapechar='\\n', index_col=False)\n",
    "\n",
    "data = data.replace(np.nan, '', regex=True)\n",
    "\n",
    "data = data.applymap(fix_table)\n",
    "\n",
    "data = data.style.applymap(highlighttab7).hide_index().set_properties(**{'text-align': 'left'})\n",
    "\n",
    "display(data)"
   ]
  },
  {
   "cell_type": "markdown",
   "metadata": {},
   "source": [
    "## Strategy 3: Dam Remediation"
   ]
  },
  {
   "cell_type": "code",
   "execution_count": 19,
   "metadata": {
    "tags": [
     "remove-input"
    ]
   },
   "outputs": [
    {
     "data": {
      "text/html": [
       "<style  type=\"text/css\" >\n",
       "#T_e0790fc6_2f77_11ed_838c_b445066bfd9brow0_col0,#T_e0790fc6_2f77_11ed_838c_b445066bfd9brow0_col1,#T_e0790fc6_2f77_11ed_838c_b445066bfd9brow0_col2,#T_e0790fc6_2f77_11ed_838c_b445066bfd9brow1_col0,#T_e0790fc6_2f77_11ed_838c_b445066bfd9brow1_col1,#T_e0790fc6_2f77_11ed_838c_b445066bfd9brow1_col2,#T_e0790fc6_2f77_11ed_838c_b445066bfd9brow2_col0,#T_e0790fc6_2f77_11ed_838c_b445066bfd9brow2_col1,#T_e0790fc6_2f77_11ed_838c_b445066bfd9brow2_col2,#T_e0790fc6_2f77_11ed_838c_b445066bfd9brow3_col0,#T_e0790fc6_2f77_11ed_838c_b445066bfd9brow3_col1,#T_e0790fc6_2f77_11ed_838c_b445066bfd9brow3_col2,#T_e0790fc6_2f77_11ed_838c_b445066bfd9brow4_col0,#T_e0790fc6_2f77_11ed_838c_b445066bfd9brow4_col1,#T_e0790fc6_2f77_11ed_838c_b445066bfd9brow4_col2,#T_e0790fc6_2f77_11ed_838c_b445066bfd9brow5_col0,#T_e0790fc6_2f77_11ed_838c_b445066bfd9brow5_col1,#T_e0790fc6_2f77_11ed_838c_b445066bfd9brow5_col2{\n",
       "            background-color:  white;\n",
       "            text-align:  left;\n",
       "        }#T_e0790fc6_2f77_11ed_838c_b445066bfd9brow0_col3,#T_e0790fc6_2f77_11ed_838c_b445066bfd9brow0_col5,#T_e0790fc6_2f77_11ed_838c_b445066bfd9brow1_col3,#T_e0790fc6_2f77_11ed_838c_b445066bfd9brow1_col5,#T_e0790fc6_2f77_11ed_838c_b445066bfd9brow2_col4,#T_e0790fc6_2f77_11ed_838c_b445066bfd9brow2_col5{\n",
       "            background-color:  #ffff00;\n",
       "            text-align:  left;\n",
       "        }#T_e0790fc6_2f77_11ed_838c_b445066bfd9brow0_col4,#T_e0790fc6_2f77_11ed_838c_b445066bfd9brow3_col3,#T_e0790fc6_2f77_11ed_838c_b445066bfd9brow4_col3,#T_e0790fc6_2f77_11ed_838c_b445066bfd9brow5_col3,#T_e0790fc6_2f77_11ed_838c_b445066bfd9brow5_col4,#T_e0790fc6_2f77_11ed_838c_b445066bfd9brow5_col5{\n",
       "            background-color:  #92d050;\n",
       "            text-align:  left;\n",
       "        }#T_e0790fc6_2f77_11ed_838c_b445066bfd9brow1_col4,#T_e0790fc6_2f77_11ed_838c_b445066bfd9brow2_col3,#T_e0790fc6_2f77_11ed_838c_b445066bfd9brow3_col4,#T_e0790fc6_2f77_11ed_838c_b445066bfd9brow3_col5,#T_e0790fc6_2f77_11ed_838c_b445066bfd9brow4_col4,#T_e0790fc6_2f77_11ed_838c_b445066bfd9brow4_col5{\n",
       "            background-color:  #03853e;\n",
       "            text-align:  left;\n",
       "        }</style><table id=\"T_e0790fc6_2f77_11ed_838c_b445066bfd9b\" ><thead>    <tr>        <th class=\"col_heading level0 col0\" >ID</th>        <th class=\"col_heading level0 col1\" >Actions</th>        <th class=\"col_heading level0 col2\" >Details</th>        <th class=\"col_heading level0 col3\" >Feasibility</th>        <th class=\"col_heading level0 col4\" >Impact</th>        <th class=\"col_heading level0 col5\" >Effectiveness</th>    </tr></thead><tbody>\n",
       "                <tr>\n",
       "                                <td id=\"T_e0790fc6_2f77_11ed_838c_b445066bfd9brow0_col0\" class=\"data row0 col0\" >3.1</td>\n",
       "                        <td id=\"T_e0790fc6_2f77_11ed_838c_b445066bfd9brow0_col1\" class=\"data row0 col1\" >Remediate Dams</td>\n",
       "                        <td id=\"T_e0790fc6_2f77_11ed_838c_b445066bfd9brow0_col2\" class=\"data row0 col2\" ></td>\n",
       "                        <td id=\"T_e0790fc6_2f77_11ed_838c_b445066bfd9brow0_col3\" class=\"data row0 col3\" >Medium</td>\n",
       "                        <td id=\"T_e0790fc6_2f77_11ed_838c_b445066bfd9brow0_col4\" class=\"data row0 col4\" >Very high</td>\n",
       "                        <td id=\"T_e0790fc6_2f77_11ed_838c_b445066bfd9brow0_col5\" class=\"data row0 col5\" >Need more information</td>\n",
       "            </tr>\n",
       "            <tr>\n",
       "                                <td id=\"T_e0790fc6_2f77_11ed_838c_b445066bfd9brow1_col0\" class=\"data row1 col0\" >3.2</td>\n",
       "                        <td id=\"T_e0790fc6_2f77_11ed_838c_b445066bfd9brow1_col1\" class=\"data row1 col1\" >Install Fish Passage</td>\n",
       "                        <td id=\"T_e0790fc6_2f77_11ed_838c_b445066bfd9brow1_col2\" class=\"data row1 col2\" ></td>\n",
       "                        <td id=\"T_e0790fc6_2f77_11ed_838c_b445066bfd9brow1_col3\" class=\"data row1 col3\" >Medium</td>\n",
       "                        <td id=\"T_e0790fc6_2f77_11ed_838c_b445066bfd9brow1_col4\" class=\"data row1 col4\" >High</td>\n",
       "                        <td id=\"T_e0790fc6_2f77_11ed_838c_b445066bfd9brow1_col5\" class=\"data row1 col5\" >Need more information</td>\n",
       "            </tr>\n",
       "            <tr>\n",
       "                                <td id=\"T_e0790fc6_2f77_11ed_838c_b445066bfd9brow2_col0\" class=\"data row2 col0\" >3.3</td>\n",
       "                        <td id=\"T_e0790fc6_2f77_11ed_838c_b445066bfd9brow2_col1\" class=\"data row2 col1\" >Connect with Cattleman's Association to explore a partnership to remediate dams</td>\n",
       "                        <td id=\"T_e0790fc6_2f77_11ed_838c_b445066bfd9brow2_col2\" class=\"data row2 col2\" >This may involve exploring alternative water management actions that would allow for the remediation of irrigation dams.</td>\n",
       "                        <td id=\"T_e0790fc6_2f77_11ed_838c_b445066bfd9brow2_col3\" class=\"data row2 col3\" >High</td>\n",
       "                        <td id=\"T_e0790fc6_2f77_11ed_838c_b445066bfd9brow2_col4\" class=\"data row2 col4\" >Medium</td>\n",
       "                        <td id=\"T_e0790fc6_2f77_11ed_838c_b445066bfd9brow2_col5\" class=\"data row2 col5\" >Need more information</td>\n",
       "            </tr>\n",
       "            <tr>\n",
       "                                <td id=\"T_e0790fc6_2f77_11ed_838c_b445066bfd9brow3_col0\" class=\"data row3 col0\" >3.4</td>\n",
       "                        <td id=\"T_e0790fc6_2f77_11ed_838c_b445066bfd9brow3_col1\" class=\"data row3 col1\" >Knowledge Gap: Continue updating the barrier prioritization model</td>\n",
       "                        <td id=\"T_e0790fc6_2f77_11ed_838c_b445066bfd9brow3_col2\" class=\"data row3 col2\" >The model has been updated to reflect 2021 field assessments and intermediate barrier review.</td>\n",
       "                        <td id=\"T_e0790fc6_2f77_11ed_838c_b445066bfd9brow3_col3\" class=\"data row3 col3\" >Very high</td>\n",
       "                        <td id=\"T_e0790fc6_2f77_11ed_838c_b445066bfd9brow3_col4\" class=\"data row3 col4\" >High</td>\n",
       "                        <td id=\"T_e0790fc6_2f77_11ed_838c_b445066bfd9brow3_col5\" class=\"data row3 col5\" >Effective</td>\n",
       "            </tr>\n",
       "            <tr>\n",
       "                                <td id=\"T_e0790fc6_2f77_11ed_838c_b445066bfd9brow4_col0\" class=\"data row4 col0\" >3.5</td>\n",
       "                        <td id=\"T_e0790fc6_2f77_11ed_838c_b445066bfd9brow4_col1\" class=\"data row4 col1\" >Knowledge Gap: Assess dams to determine whether they exist and are truly blocking fish habitat</td>\n",
       "                        <td id=\"T_e0790fc6_2f77_11ed_838c_b445066bfd9brow4_col2\" class=\"data row4 col2\" >Four dams were assessed during 2021 field season; additional field assessment needed.</td>\n",
       "                        <td id=\"T_e0790fc6_2f77_11ed_838c_b445066bfd9brow4_col3\" class=\"data row4 col3\" >Very high</td>\n",
       "                        <td id=\"T_e0790fc6_2f77_11ed_838c_b445066bfd9brow4_col4\" class=\"data row4 col4\" >High</td>\n",
       "                        <td id=\"T_e0790fc6_2f77_11ed_838c_b445066bfd9brow4_col5\" class=\"data row4 col5\" >Effective</td>\n",
       "            </tr>\n",
       "            <tr>\n",
       "                                <td id=\"T_e0790fc6_2f77_11ed_838c_b445066bfd9brow5_col0\" class=\"data row5 col0\" >3.6</td>\n",
       "                        <td id=\"T_e0790fc6_2f77_11ed_838c_b445066bfd9brow5_col1\" class=\"data row5 col1\" >Knowledge Gap: Identify and map dam ownership</td>\n",
       "                        <td id=\"T_e0790fc6_2f77_11ed_838c_b445066bfd9brow5_col2\" class=\"data row5 col2\" ></td>\n",
       "                        <td id=\"T_e0790fc6_2f77_11ed_838c_b445066bfd9brow5_col3\" class=\"data row5 col3\" >Very high</td>\n",
       "                        <td id=\"T_e0790fc6_2f77_11ed_838c_b445066bfd9brow5_col4\" class=\"data row5 col4\" >Very high</td>\n",
       "                        <td id=\"T_e0790fc6_2f77_11ed_838c_b445066bfd9brow5_col5\" class=\"data row5 col5\" >Very effective</td>\n",
       "            </tr>\n",
       "    </tbody></table>"
      ],
      "text/plain": [
       "<pandas.io.formats.style.Styler at 0x2070dfd4d30>"
      ]
     },
     "execution_count": 19,
     "metadata": {},
     "output_type": "execute_result"
    }
   ],
   "source": [
    "data = pd.read_csv('tables\\Strategy3.csv', index_col=False)\n",
    "\n",
    "data = data.replace(np.nan, '', regex=True)\n",
    "\n",
    "data = data.applymap(fix_table)\n",
    "\n",
    "data.style.applymap(highlighttab7).hide_index().set_properties(**{'text-align': 'left'})"
   ]
  },
  {
   "cell_type": "markdown",
   "metadata": {},
   "source": [
    "## Strategy 4: Barrier Prevention"
   ]
  },
  {
   "cell_type": "code",
   "execution_count": 20,
   "metadata": {
    "tags": [
     "remove-input"
    ]
   },
   "outputs": [
    {
     "data": {
      "text/html": [
       "<style  type=\"text/css\" >\n",
       "#T_e0af5f6c_2f77_11ed_b31e_b445066bfd9brow0_col0,#T_e0af5f6c_2f77_11ed_b31e_b445066bfd9brow0_col1,#T_e0af5f6c_2f77_11ed_b31e_b445066bfd9brow0_col2,#T_e0af5f6c_2f77_11ed_b31e_b445066bfd9brow1_col0,#T_e0af5f6c_2f77_11ed_b31e_b445066bfd9brow1_col1,#T_e0af5f6c_2f77_11ed_b31e_b445066bfd9brow1_col2{\n",
       "            background-color:  white;\n",
       "            text-align:  left;\n",
       "        }#T_e0af5f6c_2f77_11ed_b31e_b445066bfd9brow0_col3,#T_e0af5f6c_2f77_11ed_b31e_b445066bfd9brow1_col3{\n",
       "            background-color:  #92d050;\n",
       "            text-align:  left;\n",
       "        }#T_e0af5f6c_2f77_11ed_b31e_b445066bfd9brow0_col4,#T_e0af5f6c_2f77_11ed_b31e_b445066bfd9brow0_col5{\n",
       "            background-color:  #03853e;\n",
       "            text-align:  left;\n",
       "        }#T_e0af5f6c_2f77_11ed_b31e_b445066bfd9brow1_col4,#T_e0af5f6c_2f77_11ed_b31e_b445066bfd9brow1_col5{\n",
       "            background-color:  #ffff00;\n",
       "            text-align:  left;\n",
       "        }</style><table id=\"T_e0af5f6c_2f77_11ed_b31e_b445066bfd9b\" ><thead>    <tr>        <th class=\"col_heading level0 col0\" >ID</th>        <th class=\"col_heading level0 col1\" >Actions</th>        <th class=\"col_heading level0 col2\" >Details</th>        <th class=\"col_heading level0 col3\" >Feasibility</th>        <th class=\"col_heading level0 col4\" >Impact</th>        <th class=\"col_heading level0 col5\" >Effectiveness</th>    </tr></thead><tbody>\n",
       "                <tr>\n",
       "                                <td id=\"T_e0af5f6c_2f77_11ed_b31e_b445066bfd9brow0_col0\" class=\"data row0 col0\" >4.1</td>\n",
       "                        <td id=\"T_e0af5f6c_2f77_11ed_b31e_b445066bfd9brow0_col1\" class=\"data row0 col1\" >Explore potential partnerships with industrial companies</td>\n",
       "                        <td id=\"T_e0af5f6c_2f77_11ed_b31e_b445066bfd9brow0_col2\" class=\"data row0 col2\" >Invite industrial players to a workshop on how to apply crossing / lateral barrier BMPs. BMPs could include those that minimize the need for road-stream crossings.</td>\n",
       "                        <td id=\"T_e0af5f6c_2f77_11ed_b31e_b445066bfd9brow0_col3\" class=\"data row0 col3\" >Very high</td>\n",
       "                        <td id=\"T_e0af5f6c_2f77_11ed_b31e_b445066bfd9brow0_col4\" class=\"data row0 col4\" >High</td>\n",
       "                        <td id=\"T_e0af5f6c_2f77_11ed_b31e_b445066bfd9brow0_col5\" class=\"data row0 col5\" >Effective</td>\n",
       "            </tr>\n",
       "            <tr>\n",
       "                                <td id=\"T_e0af5f6c_2f77_11ed_b31e_b445066bfd9brow1_col0\" class=\"data row1 col0\" >4.2</td>\n",
       "                        <td id=\"T_e0af5f6c_2f77_11ed_b31e_b445066bfd9brow1_col1\" class=\"data row1 col1\" >Stabilize sediment sources that are explicitly linked to sediment wedges or erosion that are acting as barriers</td>\n",
       "                        <td id=\"T_e0af5f6c_2f77_11ed_b31e_b445066bfd9brow1_col2\" class=\"data row1 col2\" >This could include numerous bank stabilization techniques, including restoring riparian vegetation. This applies to some tributaries that have altered confluence areas - the link needs to be made between confluence alterations and timing of movement for juvenile fish. Local ranchers and Cattleman's association could be engaged, as well as forestry licensees.</td>\n",
       "                        <td id=\"T_e0af5f6c_2f77_11ed_b31e_b445066bfd9brow1_col3\" class=\"data row1 col3\" >Very high</td>\n",
       "                        <td id=\"T_e0af5f6c_2f77_11ed_b31e_b445066bfd9brow1_col4\" class=\"data row1 col4\" >Medium</td>\n",
       "                        <td id=\"T_e0af5f6c_2f77_11ed_b31e_b445066bfd9brow1_col5\" class=\"data row1 col5\" >Need more information</td>\n",
       "            </tr>\n",
       "    </tbody></table>"
      ],
      "text/plain": [
       "<pandas.io.formats.style.Styler at 0x2070dfd4eb8>"
      ]
     },
     "execution_count": 20,
     "metadata": {},
     "output_type": "execute_result"
    }
   ],
   "source": [
    "import pandas as pd\n",
    "\n",
    "data = pd.read_csv('tables\\Strategy4.csv', index_col=False)\n",
    "\n",
    "\n",
    "\n",
    "\n",
    "data = data.applymap(fix_table)\n",
    "\n",
    "data.style.applymap(highlighttab7).hide_index().set_properties(**{'text-align': 'left'})\n",
    "\n",
    "#display(data)"
   ]
  },
  {
   "cell_type": "markdown",
   "metadata": {},
   "source": [
    "## Strategy 5: Communication and Education"
   ]
  },
  {
   "cell_type": "code",
   "execution_count": 21,
   "metadata": {
    "tags": [
     "remove-input"
    ]
   },
   "outputs": [
    {
     "data": {
      "text/html": [
       "<style  type=\"text/css\" >\n",
       "#T_e0d2bb14_2f77_11ed_9eed_b445066bfd9brow0_col0,#T_e0d2bb14_2f77_11ed_9eed_b445066bfd9brow0_col1,#T_e0d2bb14_2f77_11ed_9eed_b445066bfd9brow0_col2,#T_e0d2bb14_2f77_11ed_9eed_b445066bfd9brow1_col0,#T_e0d2bb14_2f77_11ed_9eed_b445066bfd9brow1_col1,#T_e0d2bb14_2f77_11ed_9eed_b445066bfd9brow1_col2{\n",
       "            background-color:  white;\n",
       "            text-align:  left;\n",
       "        }</style><table id=\"T_e0d2bb14_2f77_11ed_9eed_b445066bfd9b\" ><thead>    <tr>        <th class=\"col_heading level0 col0\" >ID</th>        <th class=\"col_heading level0 col1\" >Actions</th>        <th class=\"col_heading level0 col2\" >Details</th>    </tr></thead><tbody>\n",
       "                <tr>\n",
       "                                <td id=\"T_e0d2bb14_2f77_11ed_9eed_b445066bfd9brow0_col0\" class=\"data row0 col0\" >5.1</td>\n",
       "                        <td id=\"T_e0d2bb14_2f77_11ed_9eed_b445066bfd9brow0_col1\" class=\"data row0 col1\" >Implement the WCRP Progress Tracking Plan</td>\n",
       "                        <td id=\"T_e0d2bb14_2f77_11ed_9eed_b445066bfd9brow0_col2\" class=\"data row0 col2\" >The WCRP Progress Tracking Plan will help the team determine if we are achieving our goals and objectives.</td>\n",
       "            </tr>\n",
       "            <tr>\n",
       "                                <td id=\"T_e0d2bb14_2f77_11ed_9eed_b445066bfd9brow1_col0\" class=\"data row1 col0\" >5.2</td>\n",
       "                        <td id=\"T_e0d2bb14_2f77_11ed_9eed_b445066bfd9brow1_col1\" class=\"data row1 col1\" >Develop a communication strategy to raise awareness and support for this WCRP</td>\n",
       "                        <td id=\"T_e0d2bb14_2f77_11ed_9eed_b445066bfd9brow1_col2\" class=\"data row1 col2\" >This intervention includes communicating both the WCRP and the collaborative process in developing it, as well as communicating outcomes (e.g., barrier remediations). CNFASAR proposal:\r\n",
       "- HRR will work with CWF to develop outreach and communications materials, including press releases, social media content, a video, and content for their website\r\n",
       "- With HRR, CWF will present on fish passage issues and solutions at the annual Horsefly River Salmon Festival</td>\n",
       "            </tr>\n",
       "    </tbody></table>"
      ],
      "text/plain": [
       "<pandas.io.formats.style.Styler at 0x2070dfd1550>"
      ]
     },
     "execution_count": 21,
     "metadata": {},
     "output_type": "execute_result"
    }
   ],
   "source": [
    "data = pd.read_csv('tables\\Strategy5.csv', index_col=False)\n",
    "\n",
    "data = data.replace(np.nan, '', regex=True)\n",
    "\n",
    "data = data.applymap(fix_table)\n",
    "\n",
    "data.style.applymap(highlighttab7).hide_index().set_properties(**{'text-align': 'left'})"
   ]
  }
 ],
 "metadata": {
  "kernelspec": {
   "display_name": "Python 3.7.0 ('test')",
   "language": "python",
   "name": "python3"
  },
  "language_info": {
   "codemirror_mode": {
    "name": "ipython",
    "version": 3
   },
   "file_extension": ".py",
   "mimetype": "text/x-python",
   "name": "python",
   "nbconvert_exporter": "python",
   "pygments_lexer": "ipython3",
   "version": "3.7.12"
  },
  "orig_nbformat": 4,
  "vscode": {
   "interpreter": {
    "hash": "4d32f471e4c787df35246a436d6b5da50fcc80632abe0dd119be69a8b3537624"
   }
  }
 },
 "nbformat": 4,
 "nbformat_minor": 2
}
