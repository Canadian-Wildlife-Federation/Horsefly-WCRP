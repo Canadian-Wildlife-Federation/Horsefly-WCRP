{
    "cells": [
        {
            "cell_type": "markdown",
            "metadata": {},
            "source": [
                "# Dash App using Dash-leaflet"
            ]
        },
        {
            "cell_type": "markdown",
            "metadata": {},
            "source": [
                "This is a basic app using data called from the api as well as some interactivity."
            ]
        },
        {
            "cell_type": "code",
            "execution_count": 1,
            "metadata": {
                "tags": [
                    "remove-input"
                ]
            },
            "outputs": [],
            "source": [
                "import dash\n",
                "from dash import Dash, dcc, html, Input, Output, dash_table #pip install dash\n",
                "import jupyter_dash #integrated in jupyter notebooks\n",
                "from jupyter_dash import JupyterDash as JD\n",
                "import dash_leaflet as dl\n",
                "import dash_leaflet.express as dlx\n",
                "import requests\n",
                "import json\n",
                "from dash_extensions.javascript import assign\n",
                "import pandas as pd\n",
                "import geopandas as gpd\n",
                "import numpy as np"
            ]
        },
        {
            "cell_type": "code",
            "execution_count": 5,
            "metadata": {
                "tags": [
                    "remove-input"
                ]
            },
            "outputs": [],
            "source": [
                "#querying data from pg_featureserv API for bcfishpass\n",
                "request = 'https://features.hillcrestgeo.ca/bcfishpass/collections/bcfishpass.streams/items.json'\n",
                "query = '?properties=watershed_group_code,segmented_stream_id&filter=watershed_group_code%20=%20%27HORS%27' #this query slows things down for some reason\n",
                "\n",
                "request1 = 'https://features.hillcrestgeo.ca/bcfishpass/collections/bcfishpass.crossings/items.json'\n",
                "query1 = '?properties=aggregated_crossings_id,pscis_status,barrier_status,access_model_ch_co_sk,all_spawningrearing_per_barrier,all_spawningrearing_km&filter=watershed_group_code%20=%20%27HORS%27%20AND%20all_spawningrearing_km%3e0'\n",
                "\n",
                "response_API = requests.get(request+query)\n",
                "response_API1 = requests.get(request1+query1)\n",
                "\n",
                "parse = response_API.text\n",
                "stream = json.loads(parse)\n",
                "\n",
                "parse1 = response_API1.text\n",
                "gjson = json.loads(parse1)"
            ]
        },
        {
            "cell_type": "code",
            "execution_count": 6,
            "metadata": {
                "tags": [
                    "remove-input"
                ]
            },
            "outputs": [
                {
                    "data": {
                        "text/html": [
                            "\n",
                            "        <iframe\n",
                            "            width=\"100%\"\n",
                            "            height=\"650\"\n",
                            "            src=\"http://127.0.0.1:8050/\"\n",
                            "            frameborder=\"0\"\n",
                            "            allowfullscreen\n",
                            "            \n",
                            "        ></iframe>\n",
                            "        "
                        ],
                        "text/plain": [
                            "<IPython.lib.display.IFrame at 0x2ef392e1b48>"
                        ]
                    },
                    "metadata": {},
                    "output_type": "display_data"
                }
            ],
            "source": [
                "#configuring the app\n",
                "#useful resources include:\n",
                "#https://github.com/Coding-with-Adam/Dash-by-Plotly/blob/master/Other/Dash_Introduction/intro.py\n",
                "#https://dash-leaflet.herokuapp.com/\n",
                "#https://github.com/plotly/jupyter-dash/blob/master/notebooks/getting_started.ipynb\n",
                "\n",
                "app =JD(__name__)\n",
                "\n",
                "#making dropdown option based on property in data table\n",
                "id_list = []\n",
                "\n",
                "#priority vs intermediate barrier list\n",
                "priority = pd.read_csv('tables\\priority_barriers.csv', index_col=False)\n",
                "\n",
                "#seperate GeoJSOn for selected filtering\n",
                "\n",
                "\n",
                "features = gjson['features']\n",
                "for i in range(len(features)):\n",
                "    pscis=features[i]['properties']['pscis_status']\n",
                "    barr=features[i]['properties']['barrier_status']\n",
                "    acc=features[i]['properties']['access_model_ch_co_sk']\n",
                "    all=features[i]['properties']['all_spawningrearing_per_barrier']\n",
                "    cross_id = str(features[i]['properties']['aggregated_crossings_id'])\n",
                "\n",
                "    temp = dict(id = cross_id, pscis_status=pscis, barrier_status=barr, access_model_ch_co_sk=acc, all_spawningrearing_per_barrier=all)\n",
                "\n",
                "    id_list = id_list + [temp,]\n",
                "\n",
                "# ------------------------------------------------------------------------------\n",
                "# App layout\n",
                "app.layout = html.Div([\n",
                "\n",
                "    html.H1(\"Web Application Dashboard for Fish Passage BC\", style={'text-align': 'left'}),\n",
                "\n",
                "    dcc.Dropdown(\n",
                "        options=[\n",
                "            {'label': 'Priority Barrier List', 'value': 'priority'},\n",
                "            {'label': 'Intermediate Barrier List', 'value': 'intermediate'}\n",
                "        ],\n",
                "        id='dd',\n",
                "        style={'width': '1000px'}\n",
                "    ),\n",
                "\n",
                "    html.Br(),\n",
                "\n",
                "    dash_table.DataTable(data=[],\n",
                "                        style_data={\n",
                "                            'color': 'white',\n",
                "                            'backgroundColor': 'black'\n",
                "                        },\n",
                "                        style_table={'float':'left','width': '1000px'},\n",
                "                        id='table2',\n",
                "                        active_cell= None\n",
                "                        ),\n",
                "    \n",
                "    \n",
                "\n",
                "    dl.Map(center=[52.6,-120.5], zoom=8, children=[\n",
                "        dl.TileLayer(),\n",
                "        dl.GeoJSON(data=stream, id=\"streams\"),\n",
                "        dl.GeoJSON(data=gjson, zoomToBounds=True, zoomToBoundsOnClick=True, id=\"cross\", cluster=True)\n",
                "        ]\n",
                "        ,style={'width': '1000px', 'height': '500px'} #style is key as map will not show up without it\n",
                "    ),\n",
                "\n",
                "    dash_table.DataTable(data=[],\n",
                "                        style_data={\n",
                "                            'color': 'white',\n",
                "                            'backgroundColor': 'black'\n",
                "                        },\n",
                "                        style_table={'float':'left','width': '1000px'},\n",
                "                        id='table'\n",
                "                        ),\n",
                "\n",
                "    html.Div(id='test')\n",
                "\n",
                "\n",
                "\n",
                "])\n",
                "\n",
                "\n",
                "\n",
                "# ------------------------------------------------------------------------------\n",
                "# Connect Leaflet Map to Dash Components\n",
                "@app.callback(\n",
                "   Output('table', 'data'),\n",
                "    [Input('cross', 'click_feature')]\n",
                ")\n",
                "def update_table(feature):\n",
                "    if feature is not None:\n",
                "        id_index = dict((p['id'],i) for i,p in enumerate(id_list))\n",
                "        index = id_index.get(feature['id'], -1)\n",
                "        data = [id_list[index]]\n",
                "        return data\n",
                "    return dash.no_update\n",
                "\n",
                "@app.callback(\n",
                "   Output('table2', 'data'),\n",
                "    [Input('dd', 'value')]\n",
                ")\n",
                "def update_table2(table_value):\n",
                "    data = []\n",
                "    if table_value == 'priority':\n",
                "        for i in range(0, len(priority.iloc[:,1])):\n",
                "            id_index = dict((p['id'],j) for j,p in enumerate(id_list))\n",
                "            index1 = id_index.get(str(priority.iloc[:,1][i]), -1)\n",
                "            data = data + [id_list[index1],]\n",
                "    elif table_value == 'intermediate':\n",
                "        for i in range(0, len(priority.iloc[:,0])):\n",
                "            id_index = dict((p['id'],j) for j,p in enumerate(id_list))\n",
                "            index1 = id_index.get(str(priority.iloc[:,0][i]), -1)\n",
                "            data = data + [id_list[index1],]\n",
                "    \n",
                "    return data\n",
                "\n",
                "@app.callback(\n",
                "    Output('cross', 'data'), [Input('table2', 'active_cell'), Input('dd', 'value')]\n",
                ")\n",
                "def marker(cell, value):\n",
                "    if value == 'intermediate':\n",
                "        if cell['column_id'] == \"id\":\n",
                "            geojson = gjson\n",
                "            features = geojson.pop('features')\n",
                "            geojson['features'] = []\n",
                "            for i in features:\n",
                "                if str(i['properties']['aggregated_crossings_id']) == cell['row_id']:\n",
                "                    geojson['features'].append(i)\n",
                "                    return geojson\n",
                "    elif value == 'priority':\n",
                "        if cell['column_id'] == \"id\":\n",
                "            return f\"{cell['row_id']}\"\n",
                "    else:\n",
                "        return gjson\n",
                "\n",
                "# ------------------------------------------------------------------------------\n",
                "if __name__ == '__main__':\n",
                "    app.run_server(mode='inline')"
            ]
        }
    ],
    "metadata": {
        "kernelspec": {
            "display_name": "Python 3.7.13 ('test')",
            "language": "python",
            "name": "python3"
        },
        "language_info": {
            "codemirror_mode": {
                "name": "ipython",
                "version": 3
            },
            "file_extension": ".py",
            "mimetype": "text/x-python",
            "name": "python",
            "nbconvert_exporter": "python",
            "pygments_lexer": "ipython3",
            "version": "3.7.13"
        },
        "orig_nbformat": 4,
        "vscode": {
            "interpreter": {
                "hash": "02285759289a2a234a5d4c85046e9439b3e176e044a7b90299f5d098441e6d04"
            }
        }
    },
    "nbformat": 4,
    "nbformat_minor": 2
}
